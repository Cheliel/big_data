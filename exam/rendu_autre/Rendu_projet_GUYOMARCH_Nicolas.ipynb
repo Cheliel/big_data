{
 "cells": [
  {
   "cell_type": "markdown",
   "id": "bfcef98f-9f11-4219-90ea-7faa6bd7cd2d",
   "metadata": {},
   "source": [
    "# Projet OList"
   ]
  },
  {
   "cell_type": "markdown",
   "id": "47895c6c-7036-4d58-9b41-8dbae857af99",
   "metadata": {},
   "source": [
    "## Préparation et imports"
   ]
  },
  {
   "cell_type": "code",
   "execution_count": null,
   "id": "63c9207e-1d73-4ce5-80fe-21f555a44d0e",
   "metadata": {},
   "outputs": [],
   "source": [
    "import time\n",
    "\n",
    "start_time = time.time()"
   ]
  },
  {
   "cell_type": "code",
   "execution_count": null,
   "id": "180919b2-b118-412c-b944-1a403fecd103",
   "metadata": {},
   "outputs": [],
   "source": [
    "import pandas as pd, numpy as np, os, warnings, seaborn as sns, scipy.stats as st\n",
    "from datetime import datetime as dt\n",
    "import matplotlib.pyplot as plt\n",
    "import matplotlib.font_manager as fm\n",
    "font1 = fm.FontProperties(size=20)\n",
    "font2 = fm.FontProperties(size=24)\n",
    "\n",
    "# %matplotlib inline\n",
    "# %pylab inline\n",
    "\n",
    "if int(str(sns.__version__).split('.')[1]) > 8 : \n",
    "    plt.style.use('seaborn-v0_8-darkgrid')\n",
    "else:\n",
    "    plt.style.use('seaborn-darkgrid')\n",
    "    \n",
    "sns.set(font_scale=2)\n",
    "warnings.filterwarnings(action=\"ignore\")"
   ]
  },
  {
   "cell_type": "code",
   "execution_count": null,
   "id": "8eb343b3-6a4b-4463-b479-bda8b131bda1",
   "metadata": {},
   "outputs": [],
   "source": [
    "palette_large = [ \"#030aa7\", \"#e50000\", \"#d8863b\", \"#005f6a\", \"#6b7c85\", \"#751973\", \n",
    "            \"#0485d1\", \"#ff7855\", \"#fbeeac\", \"#0cb577\", \"#95a3a6\", \"#c071fe\", \n",
    "            \"#d1e5f0\", \"#fddbc7\", \"#ffffcb\", \"#12e193\", \"#d8dcd6\", \"#dfc5fe\", \n",
    "          ]\n",
    "palette = ['#b2182b','#008827','#053061','#ffa500', '#34495e', '#e74c3c', \n",
    "          '#9b59b6', '#0165fc','#2ecc71', '#cb7723', '#89a0b0']\n",
    "sns.palplot(sns.color_palette(palette))\n",
    "sns.palplot(sns.color_palette(palette_large))\n",
    "plt.show()"
   ]
  },
  {
   "cell_type": "code",
   "execution_count": null,
   "id": "abc39444-b51b-441f-9953-e3b7d9a1b773",
   "metadata": {},
   "outputs": [],
   "source": [
    "def formatPct(pct, allvals):\n",
    "    total = int(round(pct/100. * np.sum(allvals)))\n",
    "    return \"{:.2f}%\\n({:d})\".format(pct, total) "
   ]
  },
  {
   "cell_type": "code",
   "execution_count": null,
   "id": "fcd3245c-3e53-4255-bcaa-72c65b99435c",
   "metadata": {},
   "outputs": [],
   "source": [
    "donneesVente = pd.read_parquet('ecommerce/analyse_ventes.parquet', engine='pyarrow')\n",
    "donneesAchat = pd.read_parquet('ecommerce/analyse_achat.parquet', engine='pyarrow')"
   ]
  },
  {
   "cell_type": "markdown",
   "id": "0305d158-6f45-41a5-aa9e-c3e0d6dbc35c",
   "metadata": {},
   "source": [
    "#### Petite correction pour le parquet vente"
   ]
  },
  {
   "cell_type": "code",
   "execution_count": null,
   "id": "9f99a1f2-8dc1-44e1-943d-183c83a8b5b8",
   "metadata": {
    "jupyter": {
     "source_hidden": true
    }
   },
   "outputs": [],
   "source": [
    "donneesVente[\"score\"] = donneesVente.score_1+\\\n",
    "                          donneesVente.score_2*2+\\\n",
    "                          donneesVente.score_3*3+\\\n",
    "                          donneesVente.score_4*4+\\\n",
    "                          donneesVente.score_5*5"
   ]
  },
  {
   "cell_type": "code",
   "execution_count": null,
   "id": "a7f12597-d4ed-457e-bfac-65747eaa0172",
   "metadata": {},
   "outputs": [],
   "source": [
    "donneesVente.set_index('order_id')"
   ]
  },
  {
   "cell_type": "code",
   "execution_count": null,
   "id": "b6686aa1-4fdb-494f-addb-7c5ca179374a",
   "metadata": {},
   "outputs": [],
   "source": [
    "donneesAchat.set_index('order_id')"
   ]
  },
  {
   "cell_type": "code",
   "execution_count": null,
   "id": "c0eec420-533e-44fd-82b4-2ed42db7e47c",
   "metadata": {},
   "outputs": [],
   "source": [
    "donneesAchat.columns"
   ]
  },
  {
   "cell_type": "code",
   "execution_count": null,
   "id": "552d1dce-1454-4c9a-a2ae-c6c25f9fdd10",
   "metadata": {
    "scrolled": true
   },
   "outputs": [],
   "source": [
    "donneesVente.columns"
   ]
  },
  {
   "cell_type": "markdown",
   "id": "794af9bc-6532-4e1c-9ee9-47eed3b4d23a",
   "metadata": {
    "jp-MarkdownHeadingCollapsed": true
   },
   "source": [
    "## Constitution des modèles"
   ]
  },
  {
   "cell_type": "markdown",
   "id": "6cf9c4b7-4554-451a-a4cb-049ffc6dcc31",
   "metadata": {
    "jp-MarkdownHeadingCollapsed": true
   },
   "source": [
    "### Modèle Vente"
   ]
  },
  {
   "cell_type": "markdown",
   "id": "8bab8659-1504-4208-ae81-ac4cafa2368d",
   "metadata": {
    "jp-MarkdownHeadingCollapsed": true
   },
   "source": [
    "#### Métriques"
   ]
  },
  {
   "cell_type": "markdown",
   "id": "539384f7-5bf8-426f-a275-3f6ed907d42a",
   "metadata": {},
   "source": [
    "Les métriques sont:\n",
    "\n",
    "- Prix: Prix du produit\n",
    "    - value_ : Valeur  avec la méthode de payement\n",
    "    - int_ : Nombre d'objet payé avec la méthode\n",
    "- Satisfaction: Satisfaction du client sur le produit\n",
    "    - score_: Note du produit\n",
    "- Position des clients: Coordonnées géographiques\n",
    "    - lat: Latitude\n",
    "    - lng: Longitude\n",
    "- Nombre de commande\n",
    "    - order_id\n",
    "- Temps de livraison\n",
    "    - estimated_delivery - purchase_timestamp\n",
    "    - delivered_customer - purchase_timestamp"
   ]
  },
  {
   "cell_type": "markdown",
   "id": "b1e87757-1fc1-4ba8-83d0-3699058a16e9",
   "metadata": {},
   "source": [
    "#### Dimensions"
   ]
  },
  {
   "cell_type": "markdown",
   "id": "15555ea0-9905-493d-afcc-6dba6dd3aca4",
   "metadata": {},
   "source": [
    "Les dimensions sont: \n",
    "\n",
    "- Temporelle\n",
    "    - Date: ``annee``, ``trimestre``, ``mois``, ``semaine``, ``jour``, ``annee_mois``, ``annee_jour``, ``jour_semaine``, ``annee_trimestre``, ``annee_semaine``\n",
    "    - Suivi: ``purchase_timestamp``, ``approved_at``, ``delivered_carrier``, ``delivered_customer``, ``estimated_delivery``\n",
    "- Type de payement: ``int_boleto``, ``int_credit_card``, ``int_debit__card``, ``int_not_defined``, ``int_voucher``\n",
    "- Géographiques: ``zip_code``, ``city``, ``state``, ``state_name``, ``lat_min``, ``lat_max``, ``lat``, ``lng_min``, ``lng_max``, ``lng``\n",
    "- Statut: ``status``, ``approuvee``, ``envoyee``, ``livree``, ``estimee``\n",
    "- Satisfaction: ``score_1``, ``score_2``, ``score_3``, ``score_4``, ``score_5``, ``score``"
   ]
  },
  {
   "cell_type": "markdown",
   "id": "b62d6a40-a6c8-456a-8cb6-70c29d6a07fa",
   "metadata": {},
   "source": [
    "#### Hiérarchies"
   ]
  },
  {
   "cell_type": "markdown",
   "id": "4252c8b0-dae6-4131-b551-26103cf26a33",
   "metadata": {},
   "source": [
    "Les hiérarchies sont:\n",
    "\n",
    "- Temporelle:\n",
    "    - Entonnoir: ``annee``, ``mois``, ``semaine``, ``jour``, ``heure``\n",
    "    - Trimestrielle: ``anne``, ``trimestre``\n",
    "\n",
    "- Geographique: ``city``, ``state``, ``zip_code``, ``state_name``, ``lat``, ``lng``\n",
    "\n",
    "- Temporelle 2: ``purchase_timestamp``, ``approved_at``, ``delivered_carrier``, ``delivered_customer``, ``estimated_delivery``"
   ]
  },
  {
   "cell_type": "markdown",
   "id": "3915b449-1b05-47a1-b006-883ab479aba1",
   "metadata": {},
   "source": [
    "### Modèle Achat"
   ]
  },
  {
   "cell_type": "markdown",
   "id": "56e66072-c0ea-4c9d-bf6e-c2364a72bebb",
   "metadata": {},
   "source": [
    "#### Métriques"
   ]
  },
  {
   "cell_type": "markdown",
   "id": "ba79008a-e9e2-449a-932b-1a542fc59470",
   "metadata": {},
   "source": [
    "Les métriques sont:\n",
    "- Prix et coûts\n",
    "  - ```price``` : prix de l'article\n",
    "  - ```freight_value``` : coût de livraison\n",
    "  - ```limit``` : valeur limite associée\n",
    "- Caractéristiques des produits\n",
    "  - ```name_lenght``` : longueur du nom du produit\n",
    "  - ```description_lenght``` : longueur de la description\n",
    "  - ```photos_qty``` : nombre de photos associées\n",
    "- Dimensions physiques\n",
    "  - ```weight_g``` : poids du produit en grammes\n",
    "  - ```length_cm``` : longueur du produit en cm\n",
    "  - ```height_cm``` : hauteur du produit en cm\n",
    "  - ```width_cm``` : largeur du produit en cm\n",
    "- Performances et délais\n",
    "  - ```approuvee```, ```envoyee```, ```livree```, ```estimee``` : délais ou performances liés aux étapes de commande\n",
    "- Coordonnées géographiques\n",
    "  - ```cust_lat```, ```cust_lng```, ```sell_lat```, ```sell_lng``` : coordonnées géographiques des clients et vendeurs"
   ]
  },
  {
   "cell_type": "markdown",
   "id": "af14771a-334d-4656-ab38-ede12a16cc21",
   "metadata": {},
   "source": [
    "#### Dimensions"
   ]
  },
  {
   "cell_type": "markdown",
   "id": "c0e8f02a-9cdb-4f57-a4f6-43b48b36226c",
   "metadata": {},
   "source": [
    "Les dimensions sont:\n",
    "- Identifiants\n",
    "  - ```order_id```, ```order_item_id```, ```product_id```, ```seller_id```, ```customer_id```, ```customer_unique_id``` : identifiants uniques\n",
    "- Catégorisation\n",
    "  - ```category_name``` : catégorie du produit\n",
    "  - ```status``` : état de la commande\n",
    "- Localisation\n",
    "  - Client : ```cust_zip_code```, ```cust_city```, ```cust_state```, ```cust_name_state```\n",
    "  - Vendeur : ```sell_zip_code```, ```sell_city```, ```sell_state```, ```sell_name_state```\n",
    "- Date et heure\n",
    "  - ```shipping_limit```, ```purchase_timestamp```, ```approved_at```, ```delivered_carrier```, ```delivered_customer```, ```estimated_delivery```\n",
    "- Temporelle:\n",
    "    - ``annee``, ``mois``, ``anne_mois``, ``jour``, ``annee_jour``, ``jour_semaine``, ``trimestre``, ``annee_trimestre``, ``semaine``, ``annee_semaine``, ``heure``"
   ]
  },
  {
   "cell_type": "markdown",
   "id": "b2b624e8-3b0a-4d12-ab4f-d7867933e62d",
   "metadata": {},
   "source": [
    "#### Hiérarchies"
   ]
  },
  {
   "cell_type": "markdown",
   "id": "ee478004-19c2-4519-a054-67ca23c108ca",
   "metadata": {},
   "source": [
    "Les hiérarchies sont:\n",
    "- Géographique\n",
    "  - Client : ```cust_zip_code```, ```cust_city```, ```cust_state```,  ```cust_name_state```\n",
    "  - Vendeur : ```sell_zip_code```, ```sell_city```, ```sell_state```,  ```sell_name_state```\n",
    "- Temporelle:\n",
    "    - Entonnoir: ``annee``, ``mois``, ``semaine``, ``jour``, ``heure``\n",
    "    - Trimestrielle: ``anne``, ``trimestre``\n"
   ]
  },
  {
   "cell_type": "markdown",
   "id": "c724695c-63a7-41f3-a81f-d68a4aeb73da",
   "metadata": {},
   "source": [
    "# Problématiques"
   ]
  },
  {
   "cell_type": "markdown",
   "id": "ead7d551-d64a-4c6b-84c5-7399e3e8af8c",
   "metadata": {},
   "source": [
    "## Ventes"
   ]
  },
  {
   "cell_type": "markdown",
   "id": "29ee10a9-22d5-4fec-810a-aad8b72de0af",
   "metadata": {},
   "source": [
    "Nous allons regarder l'évolution de la satisfaction globale.\n",
    "Cette problèmatique est intéressante, car celle-ci permet d'avoir une meilleure vue de comment les clients aiment nos services\n",
    "\n",
    "Afin de faire cette analyse, nous allons utiliser 3 dimensions:\n",
    "\n",
    "    1. Temporelle\n",
    "    2. Géographique\n",
    "    3. Satisfaction\n",
    "\n",
    "La raison du choix de la dimension temporelle, est de voir comment ce produit a évolué dans le temps, si les ventes ont augmentés ou diminués.\n",
    "La raison de la dimension géographique est que certains produits peuvent avoir un attrait plus important dans certaines régions ou villes.\n",
    "Et enfin, le score va permettre de savoir si un produit a été apprécié ou non.\n",
    "\n",
    "\\\n",
    "\\\n",
    "\\\n",
    "Une autre analyse qui sera effectué sera celle de l'évolution des ventes à travers le temps.\n",
    "Cette analyse est intéressante, car celle-ci permets de se faire une idée plus générale de l'implémentation de l'entreprise dans le pays, savoir dans quelle zone elle est plus active que d'autre.\n",
    "Savoir quelles sont les moments les plus actifs, et quels sont les moyens de payements les plus utilisés\n",
    "\n",
    "Afin de répondre à cette analyse, nous allons utiliser les 3 dimensions suivantes:\n",
    "\n",
    "    1. Temporelle\n",
    "    2. Géographique\n",
    "    3. Type de payement\n",
    "\n",
    "\\\n",
    "\\\n",
    "\\\n",
    "Une dernière analyse que nous allons effectuer sera celle d'une analyse de l'évolution des notes en fonction du temps et de la région.\n",
    "\n",
    "Pour effectuer cette analyse, nous allons utiliser les 3 dimensions suivantes:\n",
    "\n",
    "    1. Temporelle\n",
    "    2. Géographique\n",
    "    3. Satisfaction"
   ]
  },
  {
   "cell_type": "markdown",
   "id": "266a3644-a5a3-4c75-9334-92b127090e22",
   "metadata": {},
   "source": [
    "## Achats"
   ]
  },
  {
   "cell_type": "markdown",
   "id": "e90d50e0-8f7e-4f52-a6f4-050d95396ecd",
   "metadata": {},
   "source": [
    "Notre première analyse portera sur l'évolution du rendement à travers le pays, afin de savoir où l'on perds de l'argent, et où l'on en gagne.\n",
    "\n",
    "Les dimensions utilisés pour l'analyse: \n",
    "\n",
    "    1. Temporelle\n",
    "    2. Géographique\n",
    "    3. Catégorie\n",
    "\n",
    "\\\n",
    "\\\n",
    "\\\n",
    "Notre deuxième analyse portera sur la localisation des vendeurs et clients\n",
    "\n",
    "Les dimensions utilisés pour l'analyse: \n",
    "\n",
    "    1. Temporelle\n",
    "    2. Géographique\n",
    "    3. Catégorie\n",
    "\n",
    "\\\n",
    "\\\n",
    "\\\n",
    "Notre dernière analyse sera sur l'évolution du comportement des clients\n",
    "\n",
    "Les dimensions utilisés pour l'analyse: \n",
    "\n",
    "    1. Temporelle\n",
    "    2. Géographique"
   ]
  },
  {
   "cell_type": "code",
   "execution_count": null,
   "id": "f215268e-7132-4465-827e-9fef07b8ebde",
   "metadata": {},
   "outputs": [],
   "source": [
    "num_graph = 1"
   ]
  },
  {
   "cell_type": "markdown",
   "id": "8c3999c9-f6a7-47b5-b4e5-1b2aae976b9b",
   "metadata": {},
   "source": [
    "# Graphs"
   ]
  },
  {
   "cell_type": "markdown",
   "id": "c49d0d25-c876-4ee4-8ba3-ef7685933e8c",
   "metadata": {},
   "source": [
    "## Ventes"
   ]
  },
  {
   "cell_type": "code",
   "execution_count": null,
   "id": "5fda044b-302d-40f5-85b3-e3453d51f584",
   "metadata": {},
   "outputs": [],
   "source": [
    "dPayementBoleto = donneesVente['int_boleto'] * donneesVente['value_boleto']\n",
    "dPayementCredit = donneesVente['int_credit_card'] * donneesVente['value_credit_card']\n",
    "dPayementDebit = donneesVente['int_debit_card'] * donneesVente['value_debit_card']\n",
    "dPayementVoucher = donneesVente['int_voucher'] * donneesVente['value_voucher']\n",
    "\n",
    "donneesVente['Vente'] = dPayementBoleto + dPayementCredit + dPayementDebit + dPayementVoucher"
   ]
  },
  {
   "cell_type": "markdown",
   "id": "ffaf1655-c0ba-4bec-81e0-200f395f5945",
   "metadata": {},
   "source": [
    "### Analyse 1"
   ]
  },
  {
   "cell_type": "code",
   "execution_count": null,
   "id": "288e8d02-3c94-4f9b-b243-e87cd3fe88de",
   "metadata": {
    "scrolled": true
   },
   "outputs": [],
   "source": [
    "plt.figure(figsize=(36,12))\n",
    "\n",
    "monthly_satisfaction = donneesVente.groupby('annee')['score'].sum().reset_index()\n",
    "\n",
    "annee_unique = monthly_satisfaction['annee'].unique()\n",
    "counter = 0\n",
    "\n",
    "for month in annee_unique:\n",
    "    subdf = donneesVente[donneesVente['annee'] == month]\n",
    "    sns.histplot(subdf['mois'], kde=True, label=str(month), bins=20, color=palette[counter])\n",
    "    counter+=1\n",
    "\n",
    "del subdf\n",
    "del monthly_satisfaction\n",
    "del annee_unique\n",
    "\n",
    "plt.xlabel(\"Mois\", fontsize=12)\n",
    "plt.ylabel(\"Nombre de satisfaction\", fontsize=12)\n",
    "\n",
    "plt.title(f\"Figure {num_graph}: Evolution de la satifactions par mois\")\n",
    "plt.legend()\n",
    "num_graph+=1"
   ]
  },
  {
   "cell_type": "code",
   "execution_count": null,
   "id": "6876a47d-2c62-4ebc-a84e-c813c7e2b6ec",
   "metadata": {
    "scrolled": true
   },
   "outputs": [],
   "source": [
    "radius,size=0.8,0.3\n",
    "fig,ax = plt.subplots(ncols=1,figsize=(24,24), subplot_kw=dict(aspect=\"equal\"))\n",
    "\n",
    "affichage = donneesVente.groupby('state').city.count().reset_index().rename(columns={'city':'nombre'})\n",
    "affichage['%'] = affichage.nombre * 100 / affichage.nombre.sum()\n",
    "\n",
    "wedges, texts, autotexts =  ax.pie(\n",
    "         affichage['nombre'],\n",
    "         autopct=lambda pct: formatPct(pct, affichage.nombre.values),\n",
    "         labels=affichage.state,\n",
    "         counterclock=False,\n",
    "         startangle=0 ,\n",
    "         colors = palette,\n",
    "         labeldistance=1.1, \n",
    "         textprops=dict(color=\"#030aa7\")\n",
    "      );\n",
    "\n",
    "plt.title(f\"Figure {num_graph}: Répartition des origines des scores\")\n",
    "plt.setp(autotexts, size=24, weight=\"bold\",color=\"w\")\n",
    "plt.setp(texts, size=32, weight=\"bold\");\n",
    "num_graph+=1"
   ]
  },
  {
   "cell_type": "code",
   "execution_count": null,
   "id": "8eb84dba-88eb-467e-a7d1-37ec090b6915",
   "metadata": {},
   "outputs": [],
   "source": [
    "plt.figure(figsize=(36,12))\n",
    "donneesVenteState = donneesVente.groupby(\"state\").agg({\n",
    "    \"score\" : \"mean\"\n",
    "})\n",
    "\n",
    "sns.barplot(\n",
    "    donneesVenteState,\n",
    "    x=\"state\", \n",
    "    y=\"score\",\n",
    "    hue = \"state\"\n",
    ")\n",
    "plt.xlabel(\"Région\", fontsize=12)\n",
    "plt.ylabel(\"Moyenne de satisfaction globale\", fontsize=12)\n",
    "\n",
    "plt.title(f\"Figure {num_graph}: Moyenne de la satisfaction par état\")\n",
    "plt.legend()\n",
    "num_graph+=1"
   ]
  },
  {
   "cell_type": "code",
   "execution_count": null,
   "id": "34c1d3e8-7435-48ab-84e0-1abd1682a650",
   "metadata": {
    "scrolled": true
   },
   "outputs": [],
   "source": [
    "satisfaction_by_state_time = donneesVente.groupby(['annee', 'state'])['score'].mean().reset_index()\n",
    "\n",
    "plt.figure(figsize=(14, 8))\n",
    "sns.lineplot(data=satisfaction_by_state_time, x='annee', y='score', hue='state', marker='o', palette='tab10')\n",
    "\n",
    "plt.title(f\"Figure {num_graph}: Satisfaction des clients par région par ans\", fontsize=16)\n",
    "plt.xlabel(\"Année\", fontsize=12)\n",
    "plt.ylabel(\"Moyenne du score de satisfaction\", fontsize=12)\n",
    "plt.legend(title=\"State\", bbox_to_anchor=(1.05, 1), loc='upper left')\n",
    "plt.grid(True)\n",
    "\n",
    "num_graph+=1"
   ]
  },
  {
   "cell_type": "code",
   "execution_count": null,
   "id": "81228e0d-1f78-4de5-9e91-5ad573dede1b",
   "metadata": {},
   "outputs": [],
   "source": [
    "satisfaction_by_state_time = donneesVente.groupby(['annee_mois', 'state'])['score'].mean().reset_index()\n",
    "\n",
    "plt.figure(figsize=(12, 6))\n",
    "sns.lineplot(data=satisfaction_by_state_time, x='annee_mois', y='score', hue='state', marker='o', palette='tab10')\n",
    "\n",
    "\n",
    "plt.title(f\"Figure {num_graph}: Satisfaction des clients à travers les mois\", fontsize=16)\n",
    "plt.xlabel(\"Année-Mois\", fontsize=12)\n",
    "plt.ylabel(\"Moyenne du score de satisfaction\", fontsize=12)\n",
    "plt.legend(title=\"State\", bbox_to_anchor=(1.05, 1), loc='upper left')\n",
    "plt.grid(True)\n",
    "num_graph+=1"
   ]
  },
  {
   "cell_type": "code",
   "execution_count": null,
   "id": "aba622d7-bab9-4726-a4ce-69f2747e1104",
   "metadata": {},
   "outputs": [],
   "source": [
    "satisfaction_by_state_time_month = donneesVente.groupby(['mois', 'state'])['score'].mean().reset_index()\n",
    "\n",
    "plt.figure(figsize=(12, 6))\n",
    "sns.lineplot(data=satisfaction_by_state_time_month, x='mois', y='score', hue='state', marker='o', palette='tab10')\n",
    "\n",
    "\n",
    "plt.title(f\"Figure {num_graph}: Satisfaction des clients à travers les mois\", fontsize=16)\n",
    "plt.xlabel(\"Mois\", fontsize=12)\n",
    "plt.ylabel(\"Moyenne du score de satisfaction\", fontsize=12)\n",
    "plt.legend(title=\"State\", bbox_to_anchor=(1.05, 1), loc='upper left')\n",
    "plt.grid(True)\n",
    "num_graph+=1\n",
    "del satisfaction_by_state_time_month"
   ]
  },
  {
   "cell_type": "code",
   "execution_count": null,
   "id": "2cad629a-a399-471c-93f2-38b7d7b5486f",
   "metadata": {
    "scrolled": true
   },
   "outputs": [],
   "source": [
    "satisfaction_by_state_time_semaine = donneesVente.groupby(['semaine', 'state'])['score'].mean().reset_index()\n",
    "\n",
    "plt.figure(figsize=(12, 6))\n",
    "sns.lineplot(data=satisfaction_by_state_time_semaine, x='semaine', y='score', hue='state', marker='o', palette='tab10')\n",
    "\n",
    "\n",
    "plt.title(f\"Figure {num_graph}: Satisfaction des clients à travers les semaines\", fontsize=16)\n",
    "plt.xlabel(\"Semaine\", fontsize=12)\n",
    "plt.ylabel(\"Moyenne du score de satisfaction\", fontsize=12)\n",
    "plt.legend(title=\"State\", bbox_to_anchor=(1.05, 1), loc='upper left')\n",
    "plt.grid(True)\n",
    "num_graph+=1\n",
    "del satisfaction_by_state_time_semaine"
   ]
  },
  {
   "cell_type": "code",
   "execution_count": null,
   "id": "51521563-9187-4ded-b0e7-4bcb54395d12",
   "metadata": {},
   "outputs": [],
   "source": [
    "satisfaction_over_time = donneesVente.groupby('annee_mois')['score'].mean().reset_index()\n",
    "\n",
    "plt.figure(figsize=(12, 6))\n",
    "sns.lineplot(data=satisfaction_over_time, x='annee_mois', y='score', marker='o', color='green', label='Average Score')\n",
    "\n",
    "\n",
    "plt.title(f\"Figure {num_graph}: Satisfaction globale des clients à travers les années\", fontsize=16)\n",
    "plt.xlabel(\"Année-mois\", fontsize=12)\n",
    "plt.ylabel(\"Moyenne du score de satisfaction\", fontsize=12)\n",
    "plt.grid(True)\n",
    "num_graph+=1"
   ]
  },
  {
   "cell_type": "markdown",
   "id": "617ab09a-a0ba-47a4-9715-99540be52f37",
   "metadata": {},
   "source": [
    "### Analyse 2"
   ]
  },
  {
   "cell_type": "code",
   "execution_count": null,
   "id": "ee2a8d0e-ca3c-4892-823a-7b767c111516",
   "metadata": {},
   "outputs": [],
   "source": [
    "plt.figure(figsize=(36,12))\n",
    "\n",
    "monthly_sales = donneesVente.groupby('annee')['Vente'].sum().reset_index()\n",
    "\n",
    "annee_unique = monthly_sales['annee'].unique()\n",
    "counter = 0\n",
    "\n",
    "for month in annee_unique:\n",
    "    subdf = donneesVente[donneesVente['annee'] == month]\n",
    "    sns.histplot(subdf['mois'], kde=True, label=str(month), bins=20, color=palette[counter])\n",
    "    counter+=1\n",
    "\n",
    "plt.legend();\n",
    "plt.title(f\"Figure {num_graph}: Evolution des ventes à travers le temps\")\n",
    "num_graph+=1"
   ]
  },
  {
   "cell_type": "code",
   "execution_count": null,
   "id": "c83640c2-dc85-41ae-a07d-27513d3672db",
   "metadata": {},
   "outputs": [],
   "source": [
    "graph = sns.catplot(x=\"state\", \n",
    "                    y=\"Vente\", \n",
    "                    hue=donneesVente['annee'].astype(str),\n",
    "                    data=donneesVente,\n",
    "                    height=12, \n",
    "                    kind=\"bar\", \n",
    "                    aspect=2,\n",
    "                    palette=palette,\n",
    "                    legend=False);\n",
    "\n",
    "graph.despine(left=True);\n",
    "graph.set_xticklabels(rotation=90);\n",
    "graph.set_xlabels('');\n",
    "graph.set_ylabels('');\n",
    "plt.legend(loc='upper right', title_fontsize=20, fontsize=20);\n",
    "plt.title(f\"Figure {num_graph}: Vente à travers le temps par région\")\n",
    "num_graph+=1"
   ]
  },
  {
   "cell_type": "code",
   "execution_count": null,
   "id": "633d2ebc-8761-49b0-a91e-54b41d1dc9dd",
   "metadata": {
    "scrolled": true
   },
   "outputs": [],
   "source": [
    "sales_by_state_year = donneesVente.groupby(['state', 'annee'])['Vente'].sum().reset_index()\n",
    "\n",
    "heatmap_data = sales_by_state_year.pivot(index='state', columns='annee', values='Vente')\n",
    "\n",
    "plt.figure(figsize=(14, 10))\n",
    "sns.set(font_scale=1.1)\n",
    "sns.heatmap(heatmap_data, cmap=\"YlGnBu\", annot=True, fmt=\".0f\", linewidths=0.5, cbar_kws={'label': 'Total de vente (En Real)'})\n",
    "\n",
    "plt.title(f\"Figure {num_graph}: Total de vente par région par année\", fontsize=16)\n",
    "plt.xlabel(\"Année\", fontsize=12)\n",
    "plt.ylabel(\"Région\", fontsize=12)\n",
    "num_graph+=1\n"
   ]
  },
  {
   "cell_type": "code",
   "execution_count": null,
   "id": "a5f83ccd-2f70-4106-896f-586668546a23",
   "metadata": {},
   "outputs": [],
   "source": [
    "sales_by_trimester_method = donneesVente.groupby(['trimestre', 'state'])['Vente'].sum().unstack(fill_value=0)\n",
    "\n",
    "sales_by_trimester_method.plot(kind='bar', stacked=True, figsize=(12, 8), colormap='tab10')\n",
    "\n",
    "\n",
    "plt.title(f\"Figure {num_graph}:  Vente par état par trimestre\", fontsize=16)\n",
    "plt.xlabel(\"Trimeste\", fontsize=12)\n",
    "plt.ylabel(\"Total Sales (Vente)\", fontsize=12)\n",
    "plt.legend(title=\"State\", bbox_to_anchor=(1.05, 1), loc='upper left')\n",
    "num_graph+=1"
   ]
  },
  {
   "cell_type": "code",
   "execution_count": null,
   "id": "f8c71687-ae94-4640-85b6-8f0e16cc417c",
   "metadata": {},
   "outputs": [],
   "source": [
    "payment_columns = ['int_boleto', 'int_credit_card', 'int_debit_card', 'int_voucher', 'int_not_defined']\n",
    "\n",
    "plt.figure(figsize=(12, 8))\n",
    "for column in payment_columns:\n",
    "    sns.histplot(\n",
    "        data=donneesVente,\n",
    "        x='annee',\n",
    "        weights=column,\n",
    "        kde=True,\n",
    "        label=column,\n",
    "        multiple='stack'\n",
    "    )\n",
    "\n",
    "plt.title(f\"Figure {num_graph}: Evolution des moyens de payments à travers les années\")\n",
    "plt.xlabel('Année')\n",
    "plt.ylabel('Number of d\\'articles payés')\n",
    "plt.legend(title='Méthode de payement')\n",
    "plt.xticks(rotation=45)\n",
    "num_graph+=1"
   ]
  },
  {
   "cell_type": "code",
   "execution_count": null,
   "id": "4ce6f504-7d8e-4658-8709-71e89a5320d9",
   "metadata": {},
   "outputs": [],
   "source": [
    "value_columns = ['value_boleto', 'value_credit_card', 'value_debit_card', 'value_voucher', 'value_not_defined']\n",
    "\n",
    "payment_methods = [col.replace('value_', '').replace('_', ' ').capitalize() for col in value_columns]\n",
    "\n",
    "\n",
    "plt.figure(figsize=(12, 8))\n",
    "\n",
    "for i, column in enumerate(value_columns):\n",
    "    \n",
    "    x_values = [i] * len(donneesVente)\n",
    "    plt.scatter(\n",
    "        x_values, \n",
    "        donneesVente[column], \n",
    "        label=payment_methods[i], \n",
    "        alpha=0.7\n",
    "    )\n",
    "\n",
    "\n",
    "plt.title(f\"Figure {num_graph}: Correlation entre les méthodes de payemnet et la quantité d\\'argent\", fontsize=16)\n",
    "plt.xlabel('Méthode de payement', fontsize=14)\n",
    "plt.ylabel('Quantité d\\'argent', fontsize=14)\n",
    "plt.xticks(range(len(value_columns)), payment_methods, rotation=45)\n",
    "plt.legend(title='Méthode de payement', fontsize=12)\n",
    "plt.grid(True, linestyle='--', alpha=0.6)\n",
    "num_graph+=1"
   ]
  },
  {
   "cell_type": "code",
   "execution_count": null,
   "id": "de86c2bf-5359-4cb9-ac41-70ba7ff4fedf",
   "metadata": {},
   "outputs": [],
   "source": [
    "usage_columns = ['value_boleto', 'value_credit_card', 'value_debit_card', 'value_voucher', 'value_not_defined']\n",
    "\n",
    "usage_by_state = donneesVente.groupby('state')[usage_columns].sum()\n",
    "\n",
    "plt.figure(figsize=(14, 8))\n",
    "usage_by_state.plot(kind='bar', stacked=True, alpha=0.85, figsize=(14, 8), colormap='viridis')\n",
    "\n",
    "plt.title(f\"Figure {num_graph}: Correlation entre les moyens de payements et les régions\", fontsize=16)\n",
    "plt.xlabel('Régions', fontsize=14)\n",
    "plt.ylabel('Nombre d\\'achat', fontsize=14)\n",
    "plt.legend(title='Méthode de payement', fontsize=12)\n",
    "num_graph+=1"
   ]
  },
  {
   "cell_type": "code",
   "execution_count": null,
   "id": "ebb1cd9b-0a2b-4b3c-90a5-c0ca46f24498",
   "metadata": {},
   "outputs": [],
   "source": [
    "amount_by_state = donneesVente.groupby('state')[usage_columns].sum()\n",
    "\n",
    "plt.figure(figsize=(14, 8))\n",
    "bar_width = 0.15\n",
    "x = range(len(amount_by_state))\n",
    "\n",
    "for i, column in enumerate(usage_columns):\n",
    "    plt.bar(\n",
    "        [pos + i * bar_width for pos in x], \n",
    "        amount_by_state[column], \n",
    "        width=bar_width, \n",
    "        label=column.replace('value_', '').capitalize()\n",
    "    )\n",
    "\n",
    "plt.title(f\"Figure {num_graph}: Correlation entre l\\'argent dépensé par chaque méthode de payement et les régions\", fontsize=16)\n",
    "plt.xlabel('Régions', fontsize=14)\n",
    "plt.ylabel('Quantité d\\'argent dépensée', fontsize=14)\n",
    "plt.xticks([pos + bar_width * 2 for pos in x], amount_by_state.index, rotation=45)\n",
    "plt.legend(title='Méthode de payement', fontsize=12)\n",
    "plt.tight_layout()\n",
    "num_graph+=1"
   ]
  },
  {
   "cell_type": "code",
   "execution_count": null,
   "id": "636bf323-a3e4-429f-a6cc-1f2c43027416",
   "metadata": {
    "scrolled": true
   },
   "outputs": [],
   "source": [
    "average_usage_by_state = donneesVente.groupby('state')[usage_columns].mean()\n",
    "\n",
    "plt.figure(figsize=(14, 8))\n",
    "sns.heatmap(average_usage_by_state, annot=True, fmt=\".1f\", cmap='viridis', cbar_kws={'label': 'Average Usage'})\n",
    "\n",
    "plt.title(f\"Figure {num_graph}: Moyenne d\\'utilisation de chaque moyen de payment par région\", fontsize=16)\n",
    "plt.xlabel('Méthode de payment', fontsize=14)\n",
    "plt.ylabel('Région', fontsize=14)\n",
    "plt.tight_layout()\n",
    "num_graph+=1"
   ]
  },
  {
   "cell_type": "markdown",
   "id": "31555715-08d5-4bbc-a80b-0fbdb6eb548b",
   "metadata": {},
   "source": [
    "### Analyse 3"
   ]
  },
  {
   "cell_type": "code",
   "execution_count": null,
   "id": "3133cc13-c935-40b0-a524-a5c3fc5c248c",
   "metadata": {},
   "outputs": [],
   "source": [
    "plt.figure(figsize=(12, 6))\n",
    "sns.boxplot(data=donneesVente, x='annee_mois', y='score', hue='state')\n",
    "plt.xticks(rotation=45)\n",
    "plt.title(f\"Figure {num_graph}: Distribution des scores par mois et par région\")\n",
    "plt.xlabel(\"Date (année-mois)\")\n",
    "plt.ylabel(\"Score\")\n",
    "plt.legend(title='Région')\n",
    "plt.tight_layout()\n",
    "plt.show()\n",
    "num_graph+=1"
   ]
  },
  {
   "cell_type": "code",
   "execution_count": null,
   "id": "29b0fa16-1108-4fb7-8c41-d609203677d2",
   "metadata": {},
   "outputs": [],
   "source": [
    "donnees_2017 = donneesVente[donneesVente['purchase_timestamp'].dt.year >= 2017].copy()\n",
    "\n",
    "donnees_2017['annee_mois'] = donnees_2017['purchase_timestamp'].dt.to_period('M').astype(str)\n",
    "\n",
    "comment_cols = ['comment_1', 'comment_2', 'comment_3', 'comment_4', 'comment_5']\n",
    "\n",
    "donnees_2017['avg_comment_length'] = donnees_2017[comment_cols].mean(axis=1)\n",
    "\n",
    "df_evolution = donnees_2017.groupby(['annee_mois', 'state']).agg(\n",
    "    score_moyen=('score', 'mean'),\n",
    "    comment_length_moyen=('avg_comment_length', 'mean')\n",
    ").reset_index()\n",
    "\n",
    "plt.figure(figsize=(12, 6))\n",
    "sns.lineplot(data=df_evolution, x='annee_mois', y='comment_length_moyen', hue='state', marker='o')\n",
    "plt.xticks(rotation=45)\n",
    "plt.title(f\"Figure {num_graph}: Évolution de la longueur moyenne des commentaires (depuis 2017) par mois et par région\")\n",
    "plt.xlabel(\"Date (année-mois)\")\n",
    "plt.ylabel(\"Longueur moyenne des commentaires\")\n",
    "plt.legend(title='Région')\n",
    "plt.tight_layout()\n",
    "plt.show()\n",
    "num_graph+=1"
   ]
  },
  {
   "cell_type": "code",
   "execution_count": null,
   "id": "ffe99eae-627a-4578-98f7-b01bcd5250c9",
   "metadata": {},
   "outputs": [],
   "source": [
    "plt.figure(figsize=(10, 6))\n",
    "sns.scatterplot(data=df_evolution, x='comment_length_moyen', y='score_moyen', hue='state', s=100)\n",
    "plt.title(f\"Figure {num_graph}: Relation entre score moyen et longueur moyenne des commentaires (depuis 2017)\")\n",
    "plt.xlabel(\"Longueur moyenne des commentaires\")\n",
    "plt.ylabel(\"Score moyen\")\n",
    "plt.legend(title='Région', bbox_to_anchor=(1.05, 1), loc='upper left')\n",
    "plt.tight_layout()\n",
    "plt.show()\n",
    "num_graph+=1"
   ]
  },
  {
   "cell_type": "code",
   "execution_count": null,
   "id": "cb43deea-136f-4b23-a7cd-7f3b8ee2efb2",
   "metadata": {
    "scrolled": true
   },
   "outputs": [],
   "source": [
    "donneesVente['purchase_timestamp'] = pd.to_datetime(donneesVente['purchase_timestamp'])\n",
    "\n",
    "donnees_2017 = donneesVente[donneesVente['purchase_timestamp'].dt.year >= 2017].copy()\n",
    "\n",
    "donnees_2017['annee_mois'] = donnees_2017['purchase_timestamp'].dt.to_period('M').astype(str)\n",
    "\n",
    "df_scores = donnees_2017.groupby(['annee_mois', 'state'])['score'].mean().reset_index()\n",
    "\n",
    "plt.figure(figsize=(12, 6))\n",
    "sns.lineplot(data=df_scores, x='annee_mois', y='score', hue='state', marker='o')\n",
    "plt.xticks(rotation=45)\n",
    "plt.title(f\"Figure {num_graph}: Évolution des scores moyens par mois et par région (depuis 2017)\")\n",
    "plt.xlabel(\"Date (année-mois)\")\n",
    "plt.ylabel(\"Score moyen\")\n",
    "plt.legend(title='Région')\n",
    "num_graph+=1"
   ]
  },
  {
   "cell_type": "code",
   "execution_count": null,
   "id": "1be871e2-c359-47fa-8eec-a2461a662906",
   "metadata": {
    "scrolled": true
   },
   "outputs": [],
   "source": [
    "plt.figure(figsize=(12, 6))\n",
    "sns.violinplot(data=donnees_2017, x='state', y='score', inner='quartile')\n",
    "plt.title(f\"Figure {num_graph}: Distribution des scores par région (depuis 2017)\")\n",
    "plt.xlabel(\"Région\")\n",
    "plt.ylabel(\"Score\")\n",
    "num_graph+=1"
   ]
  },
  {
   "cell_type": "code",
   "execution_count": null,
   "id": "f69c1355-42a4-468e-9034-a4a407a9909f",
   "metadata": {
    "scrolled": true
   },
   "outputs": [],
   "source": [
    "g = sns.FacetGrid(donnees_2017, col=\"state\", col_wrap=4, height=4, sharey=False)\n",
    "g.map_dataframe(sns.lineplot, x='annee_mois', y='score', marker='o')\n",
    "g.set_titles(f\"Figure {num_graph}: Région \" + \"{col_name}\")\n",
    "for ax in g.axes.flatten():\n",
    "    ax.tick_params(axis='x', rotation=45)\n",
    "    \n",
    "num_graph+=1"
   ]
  },
  {
   "cell_type": "code",
   "execution_count": null,
   "id": "e6597a05-0bff-4beb-bd00-23869424d224",
   "metadata": {},
   "outputs": [],
   "source": [
    "df_heat = donnees_2017.groupby(['state', 'annee_mois'])['score'].mean().reset_index()\n",
    "\n",
    "heat_data = df_heat.pivot(index=\"state\", columns=\"annee_mois\", values=\"score\")\n",
    "\n",
    "plt.figure(figsize=(12, 8))\n",
    "sns.heatmap(heat_data, annot=True, fmt=\".1f\", cmap=\"coolwarm\")\n",
    "plt.title(f\"Figure {num_graph}: Heatmap des scores moyens par mois et par région (depuis 2017)\")\n",
    "plt.xlabel(\"Année-Mois\")\n",
    "plt.ylabel(\"Région\")\n",
    "num_graph+=1"
   ]
  },
  {
   "cell_type": "code",
   "execution_count": null,
   "id": "6294d42d-ecb9-48eb-b6b9-e312b99a279e",
   "metadata": {},
   "outputs": [],
   "source": [
    "donneesVente['annee_mois'] = donneesVente['purchase_timestamp'].dt.to_period('M').astype(str)\n",
    "\n",
    "df_grouped = donneesVente.groupby(['annee_mois', 'state']).agg(\n",
    "    score_moyen=('score', 'mean'),\n",
    "    nb_commandes=('order_id', 'count')\n",
    ").reset_index()\n",
    "\n",
    "df_grouped = df_grouped.sort_values(by='annee_mois')\n",
    "\n",
    "plt.figure(figsize=(12, 6))\n",
    "\n",
    "regions = df_grouped['state'].unique()\n",
    "for region in regions:\n",
    "    df_region = df_grouped[df_grouped['state'] == region]\n",
    "    \n",
    "    plt.plot(df_region['annee_mois'], df_region['score_moyen'], marker='o', label=region)\n",
    "    \n",
    "    plt.scatter(df_region['annee_mois'], df_region['score_moyen'], s=df_region['nb_commandes']*2, alpha=0.6)\n",
    "\n",
    "plt.xticks(rotation=45)\n",
    "plt.title(f\"Figure {num_graph}: Évolution de la moyenne de score par mois par région\\n(taille des points proportionnelle au nombre de commandes)\")\n",
    "plt.xlabel(\"Date (année-mois)\")\n",
    "plt.ylabel(\"Score moyen\")\n",
    "plt.legend(title=\"Région\")\n",
    "num_graph+=1"
   ]
  },
  {
   "cell_type": "code",
   "execution_count": null,
   "id": "476eda9e-3b0c-4540-b82a-681eed610ffa",
   "metadata": {},
   "outputs": [],
   "source": [
    "score_cols = ['score_1', 'score_2', 'score_3', 'score_4', 'score_5']\n",
    "\n",
    "fig, axs = plt.subplots(2, 3, figsize=(18, 10))\n",
    "axs = axs.flatten()\n",
    "\n",
    "for i, col in enumerate(score_cols):\n",
    "    region_counts = donneesVente.groupby('state')[col].count()\n",
    "    \n",
    "    axs[i].pie(region_counts, labels=region_counts.index, autopct='%1.1f%%', startangle=90)\n",
    "    axs[i].set_title(f\"Répartition régionale pour {col}\")\n",
    "\n",
    "\n",
    "axs[-1].axis('off')\n",
    "\n",
    "plt.suptitle(f\"Figure {num_graph}: Camembert de la provenance (région) des notes par score\", fontsize=16)\n",
    "num_graph+=1"
   ]
  },
  {
   "cell_type": "code",
   "execution_count": null,
   "id": "0e69b061-fdbf-470a-9b6f-ae17417de665",
   "metadata": {},
   "outputs": [],
   "source": [
    "score_cols = ['score_1', 'score_2', 'score_3', 'score_4', 'score_5']\n",
    "years = [2016, 2017, 2018]\n",
    "\n",
    "fig, axs = plt.subplots(nrows=5, ncols=3, figsize=(18, 25))\n",
    "\n",
    "for i, score in enumerate(score_cols):\n",
    "    for j, year in enumerate(years):\n",
    "        data_year = donneesVente[donneesVente['purchase_timestamp'].dt.year == year]\n",
    "        \n",
    "        region_counts = data_year.groupby('state')[score].count()\n",
    "        \n",
    "        axs[i, j].pie(region_counts, labels=region_counts.index, autopct='%1.1f%%', startangle=90)\n",
    "        axs[i, j].set_title(f\"{score} - {year}\")\n",
    "\n",
    "plt.suptitle(f\"Figure {num_graph}: Répartition régionale des scores par année\", fontsize=16)\n",
    "num_graph+=1"
   ]
  },
  {
   "cell_type": "code",
   "execution_count": null,
   "id": "8712f213-064f-4643-be63-5997904c16d2",
   "metadata": {},
   "outputs": [],
   "source": [
    "donneesVente['month'] = donneesVente['purchase_timestamp'].dt.month\n",
    "\n",
    "df_count = donneesVente.groupby(['month', 'state'])['score'].count().reset_index(name='note_count')\n",
    "\n",
    "pivot_count = df_count.pivot(index='state', columns='month', values='note_count')\n",
    "\n",
    "plt.figure(figsize=(12, 8))\n",
    "sns.heatmap(pivot_count, annot=True, fmt=\".0f\", cmap=\"YlGnBu\")\n",
    "plt.title(f\"Figure {num_graph}: Nombre de notes par mois par région\")\n",
    "plt.xlabel(\"Mois\")\n",
    "plt.ylabel(\"Région\")\n",
    "num_graph+=1"
   ]
  },
  {
   "cell_type": "code",
   "execution_count": null,
   "id": "9b199fba-266b-4cd2-b975-a4264bba268c",
   "metadata": {},
   "outputs": [],
   "source": [
    "comment_cols = ['comment_1', 'comment_2', 'comment_3', 'comment_4', 'comment_5']\n",
    "\n",
    "donneesVente['avg_comment_length'] = donneesVente[comment_cols].mean(axis=1)\n",
    "\n",
    "df_chars = donneesVente.groupby(['month', 'state'])['avg_comment_length'].mean().reset_index()\n",
    "\n",
    "pivot_chars = df_chars.pivot(index='state', columns='month', values='avg_comment_length')\n",
    "\n",
    "plt.figure(figsize=(12, 8))\n",
    "sns.heatmap(pivot_chars, annot=True, fmt=\".1f\", cmap=\"YlOrRd\")\n",
    "plt.title(f\"Figure {num_graph}: Longueur moyenne des commentaires par mois par région\")\n",
    "plt.xlabel(\"Mois\")\n",
    "plt.ylabel(\"Région\")\n",
    "num_graph+=1"
   ]
  },
  {
   "cell_type": "code",
   "execution_count": null,
   "id": "d15f2dfd-ab3e-4594-8fc4-55d59e54bdc7",
   "metadata": {},
   "outputs": [],
   "source": [
    "score_columns = ['score_1', 'score_2', 'score_3', 'score_4', 'score_5']\n",
    "comment_columns = ['comment_1', 'comment_2', 'comment_3', 'comment_4', 'comment_5']\n",
    "\n",
    "all_scores = []\n",
    "all_comments = []\n",
    "\n",
    "for i in range(5):\n",
    "    all_scores.extend(donneesVente[score_columns[i]].dropna().tolist())\n",
    "    all_comments.extend(donneesVente[comment_columns[i]].dropna().tolist())\n",
    "\n",
    "df_combined = pd.DataFrame({'score': all_scores, 'comment_length': all_comments})\n",
    "\n",
    "df_combined = df_combined[df_combined['score'].between(1, 5)]\n",
    "\n",
    "grouped_df = df_combined.groupby('score')['comment_length'].mean().reset_index()\n",
    "\n",
    "plt.figure(figsize=(12, 6))\n",
    "sns.lineplot(x='score', y='comment_length', data=grouped_df, marker='o')\n",
    "\n",
    "plt.title(\"Relation entre la longueur moyenne des commentaires et les scores\")\n",
    "plt.xlabel(\"Score attribué\")\n",
    "plt.ylabel(\"Longueur moyenne du commentaire (nombre de caractères)\")"
   ]
  },
  {
   "cell_type": "markdown",
   "id": "10b7eac1-b4ac-404b-a00a-065b4bab0b38",
   "metadata": {},
   "source": [
    "## Achat"
   ]
  },
  {
   "cell_type": "code",
   "execution_count": null,
   "id": "b96a737e-8030-448a-b1eb-759b402c8a85",
   "metadata": {},
   "outputs": [],
   "source": [
    "plt.figure(figsize=(14, 8))\n",
    "sns.histplot(data=donneesAchat, x='price', hue='cust_state', bins=30, kde=True, alpha=0.6)\n",
    "\n",
    "\n",
    "plt.title(f\"Figure {num_graph}: Histogramme du revenu par région\", fontsize=16)\n",
    "plt.xlabel('Revenu', fontsize=14)\n",
    "plt.ylabel('Fréquence d\\'achat', fontsize=14)\n",
    "plt.legend(title='Région', fontsize=10, bbox_to_anchor=(1.05, 1), loc='upper left')\n",
    "plt.grid(True, linestyle='--', alpha=0.6)\n",
    "num_graph+=1"
   ]
  },
  {
   "cell_type": "code",
   "execution_count": null,
   "id": "23c11a51-f22f-4551-a54d-19927c642a48",
   "metadata": {},
   "outputs": [],
   "source": [
    "plt.figure(figsize=(14, 8))\n",
    "sns.boxplot(\n",
    "    data=donneesAchat,\n",
    "    x='cust_state', \n",
    "    y='price',\n",
    "    palette='Set3'\n",
    ")\n",
    "\n",
    "\n",
    "plt.title(f\"Figure {num_graph}: Box Plot de la distribution de revenu par région\", fontsize=16)\n",
    "plt.xlabel('Région', fontsize=14)\n",
    "plt.ylabel('Revenue', fontsize=14)\n",
    "plt.xticks(rotation=45)\n",
    "plt.grid(axis='y', linestyle='--', alpha=0.6)\n",
    "num_graph+=1"
   ]
  },
  {
   "cell_type": "code",
   "execution_count": null,
   "id": "a53508a6-3f50-4bf4-b04e-6a03cee21d86",
   "metadata": {},
   "outputs": [],
   "source": [
    "donneesAchat['rendement'] = donneesAchat['price'] - donneesAchat['freight_value']\n",
    "rendement_moyen = donneesAchat.groupby(['cust_state', 'annee'])['rendement'].mean().unstack()\n",
    "\n",
    "\n",
    "plt.figure(figsize=(12, 8))\n",
    "sns.heatmap(rendement_moyen, cmap='YlGnBu', annot=True, fmt=\".1f\", linewidths=0.5, cbar_kws={'label': 'Moyenne de rendement'})\n",
    "\n",
    "\n",
    "plt.title(f\"Figure {num_graph}: Heatmap du rendement moyen par région par année\", fontsize=16)\n",
    "plt.xlabel('Année', fontsize=14)\n",
    "plt.ylabel('Région', fontsize=14)\n",
    "plt.xticks(rotation=45)\n",
    "num_graph+=1"
   ]
  },
  {
   "cell_type": "code",
   "execution_count": null,
   "id": "b703c742-4c47-4ff3-8f43-4ee06a488fef",
   "metadata": {},
   "outputs": [],
   "source": [
    "yearly_trends = donneesAchat.groupby(['cust_state', 'annee']).agg({\n",
    "    'price': 'mean',\n",
    "    'freight_value': 'mean'\n",
    "}).reset_index()\n",
    "\n",
    "g = sns.FacetGrid(yearly_trends, col='cust_state', col_wrap=5, height=4, sharey=False)\n",
    "g.map(sns.lineplot, 'annee', 'price', label='Avg Revenue', color='blue')\n",
    "g.map(sns.lineplot, 'annee', 'freight_value', label='Avg Freight', color='orange')\n",
    "\n",
    "g.set_titles('{col_name}')\n",
    "g.set_axis_labels('Année', 'Valeurs')\n",
    "g.add_legend(title='Metrics')\n",
    "\n",
    "plt.subplots_adjust(top=0.9)\n",
    "g.fig.suptitle(f\"Figure {num_graph}: Tendance annuel du revenu et des coûts de transports par régions\", fontsize=16)\n",
    "num_graph+=1"
   ]
  },
  {
   "cell_type": "code",
   "execution_count": null,
   "id": "6e6579b9-5be8-4c12-9286-4dc82cf81112",
   "metadata": {},
   "outputs": [],
   "source": [
    "donneesAchat['profitability'] = donneesAchat['price'] - donneesAchat['freight_value']\n",
    "profit_mensuel = donneesAchat.groupby(['cust_state', 'mois'])['profitability'].mean().unstack()\n",
    "\n",
    "\n",
    "plt.figure(figsize=(14, 8))\n",
    "sns.heatmap(\n",
    "    profit_mensuel, \n",
    "    cmap='coolwarm', \n",
    "    annot=True, \n",
    "    fmt=\".1f\", \n",
    "    linewidths=0.5, \n",
    "    cbar_kws={'label': 'Average Profitability'}\n",
    ")\n",
    "\n",
    "\n",
    "plt.title(f\"Figure {num_graph}: Heatmap de la profibabilité des régions par mois\", fontsize=16)\n",
    "plt.xlabel('Mois', fontsize=14)\n",
    "plt.ylabel('Régions', fontsize=14)\n",
    "num_graph+=1"
   ]
  },
  {
   "cell_type": "code",
   "execution_count": null,
   "id": "9599230f-1567-47e3-8bb9-83ee931cd264",
   "metadata": {},
   "outputs": [],
   "source": [
    "valeurs_moyennes = donneesAchat.groupby(['cust_state', 'annee'])[['freight_value', 'price']].mean().reset_index()\n",
    "\n",
    "plt.figure(figsize=(16, 10))\n",
    "\n",
    "sns.barplot(data=valeurs_moyennes, x='annee', y='freight_value', hue='cust_state', ci=None, palette='Blues')\n",
    "\n",
    "sns.barplot(data=valeurs_moyennes, x='annee', y='price', hue='cust_state', ci=None, palette='Reds', alpha=0.6)\n",
    "\n",
    "plt.title(f\"Figure {num_graph}: Coût transport moyen et prix moyen par région par année\", fontsize=16)\n",
    "plt.xlabel('Année', fontsize=14)\n",
    "plt.ylabel('Valeur moyenne', fontsize=14)\n",
    "plt.legend(title='State', bbox_to_anchor=(1.05, 1), loc='upper left')\n",
    "num_graph+=1"
   ]
  },
  {
   "cell_type": "code",
   "execution_count": null,
   "id": "7215c5c1-7e43-43b1-a34a-a4456a4909e6",
   "metadata": {},
   "outputs": [],
   "source": [
    "valeurs_moyennes = donneesAchat.groupby(['cust_state', 'mois'])[['freight_value', 'price']].mean().reset_index()\n",
    "\n",
    "plt.figure(figsize=(16, 10))\n",
    "\n",
    "sns.barplot(data=valeurs_moyennes, x='mois', y='freight_value', hue='cust_state', ci=None, palette='Blues')\n",
    "\n",
    "sns.barplot(data=valeurs_moyennes, x='mois', y='price', hue='cust_state', ci=None, palette='Reds', alpha=0.6)\n",
    "\n",
    "plt.title(f\"Figure {num_graph}: Coût moyen du transport et prix moyen par région par mois\", fontsize=16)\n",
    "plt.xlabel('Mois', fontsize=14)\n",
    "plt.ylabel('Valeur moyenne', fontsize=14)\n",
    "plt.legend(title='State', bbox_to_anchor=(1.05, 1), loc='upper left')\n",
    "num_graph+=1"
   ]
  },
  {
   "cell_type": "code",
   "execution_count": null,
   "id": "0c480ba6-ac02-45fd-91cd-74d1f2f4d11d",
   "metadata": {
    "scrolled": true
   },
   "outputs": [],
   "source": [
    "donneesAchat_filtered = donneesAchat[donneesAchat['annee'] >= 2017]\n",
    "\n",
    "\n",
    "evolution_prix_categorie = donneesAchat_filtered.groupby(['category_name', 'annee_mois'])['price'].mean().reset_index()\n",
    "\n",
    "\n",
    "plt.figure(figsize=(16, 10))\n",
    "\n",
    "\n",
    "sns.lineplot(data=evolution_prix_categorie, x='annee_mois', y='price', hue='category_name', marker='o')\n",
    "\n",
    "\n",
    "plt.title(f\"Figure {num_graph}: Evolution du prix moyen pour chaque categorie de produit\", fontsize=16)\n",
    "plt.xlabel('Année-Mois', fontsize=14)\n",
    "plt.ylabel('Prix moyen', fontsize=14)\n",
    "plt.xticks(rotation=45)\n",
    "plt.legend(title='Categorie de produit', bbox_to_anchor=(1.05, 1), loc='upper left')\n",
    "num_graph+=1"
   ]
  },
  {
   "cell_type": "code",
   "execution_count": null,
   "id": "cac324f5-c975-4cd8-bca4-6acd0c84516f",
   "metadata": {
    "scrolled": true
   },
   "outputs": [],
   "source": [
    "donneesAchat_filtered = donneesAchat[donneesAchat['annee'] >= 2017]\n",
    "\n",
    "evolution_commande_temps = donneesAchat_filtered.groupby(['category_name', 'annee_mois'])['order_id'].nunique().reset_index()\n",
    "\n",
    "plt.figure(figsize=(16, 10))\n",
    "\n",
    "sns.lineplot(data=evolution_commande_temps, x='annee_mois', y='order_id', hue='category_name', marker='o')\n",
    "\n",
    "plt.title(f\"Figure {num_graph}: Evolution des commandes de chaque catégorie de produit\", fontsize=16)\n",
    "plt.xlabel('Année-Mois', fontsize=14)\n",
    "plt.ylabel('Nombre de commande', fontsize=14)\n",
    "plt.xticks(rotation=45)\n",
    "plt.legend(title='Catégorie de produit', bbox_to_anchor=(1.05, 1), loc='upper left')\n",
    "num_graph+=1"
   ]
  },
  {
   "cell_type": "code",
   "execution_count": null,
   "id": "c7527b8a-a338-4ada-97d3-db4d0e95ef0e",
   "metadata": {},
   "outputs": [],
   "source": [
    "state_data = donneesAchat.groupby('cust_state').agg({\n",
    "    'price': 'mean',\n",
    "    'freight_value': 'mean',\n",
    "    'order_id': 'count'\n",
    "}).reset_index()\n",
    "\n",
    "\n",
    "state_data.columns = ['Région', 'Prix moyen', 'Moyenne du prix du transport', 'Nombre de commande']\n",
    "\n",
    "\n",
    "plt.figure(figsize=(14, 8))\n",
    "bubble = plt.scatter(\n",
    "    state_data['Prix moyen'], state_data['Moyenne du prix du transport'], \n",
    "    s=state_data['Nombre de commande'] * 10,\n",
    "    c=state_data['Nombre de commande'], cmap='viridis', alpha=0.7, edgecolor='k'\n",
    ")\n",
    "\n",
    "for i, row in state_data.iterrows():\n",
    "    plt.text(row['Prix moyen'], row['Moyenne du prix du transport'], row['Région'], fontsize=9, ha='center')\n",
    "\n",
    "\n",
    "plt.title(f\"Figure {num_graph}: Potentiel d\\'investissement par région\", fontsize=16)\n",
    "plt.xlabel('Revenu moyen', fontsize=14)\n",
    "plt.ylabel('Moyenne du prix du transport', fontsize=14)\n",
    "plt.colorbar(bubble, label='Nombre de commande')\n",
    "plt.grid(True, linestyle='--', alpha=0.6)\n",
    "num_graph+=1"
   ]
  },
  {
   "cell_type": "markdown",
   "id": "815806dd-bd04-4c29-be91-54ec69da866b",
   "metadata": {},
   "source": [
    "### Analyse 2"
   ]
  },
  {
   "cell_type": "code",
   "execution_count": null,
   "id": "218de4cf-98fa-4bc4-ba29-3b6b568ecb01",
   "metadata": {},
   "outputs": [],
   "source": [
    "def haversine(lat1, lon1, lat2, lon2):\n",
    "    R = 6371\n",
    "    phi1 = np.radians(lat1)\n",
    "    phi2 = np.radians(lat2)\n",
    "    delta_phi = np.radians(lat2 - lat1)\n",
    "    delta_lambda = np.radians(lon2 - lon1)\n",
    "    a = np.sin(delta_phi/2.0)**2 + np.cos(phi1) * np.cos(phi2) * np.sin(delta_lambda/2.0)**2\n",
    "    c = 2 * np.arctan2(np.sqrt(a), np.sqrt(1 - a))\n",
    "    return R * c"
   ]
  },
  {
   "cell_type": "code",
   "execution_count": null,
   "id": "9b08298d-f5b8-4ee3-a5dd-0bc850cddb6a",
   "metadata": {},
   "outputs": [],
   "source": [
    "plt.figure(figsize=(12, 8))\n",
    "sns.scatterplot(\n",
    "    x='cust_lng', y='cust_lat', data=donneesAchat, \n",
    "    color='blue', alpha=0.5, label='Customers'\n",
    ")\n",
    "sns.scatterplot(\n",
    "    x='sell_lng', y='sell_lat', data=donneesAchat, \n",
    "    color='red', alpha=0.5, label='Sellers'\n",
    ")\n",
    "\n",
    "\n",
    "plt.title(f\"Figure {num_graph}: Seller and Customer Positions\", fontsize=16)\n",
    "plt.xlabel('Longitude', fontsize=14)\n",
    "plt.ylabel('Latitude', fontsize=14)\n",
    "plt.legend(loc='upper right', fontsize=12)\n",
    "plt.grid(True, linestyle='--', alpha=0.6)\n",
    "num_graph+=1"
   ]
  },
  {
   "cell_type": "code",
   "execution_count": null,
   "id": "46e0f53c-3608-4644-80e6-0b17ee6105f8",
   "metadata": {
    "scrolled": true
   },
   "outputs": [],
   "source": [
    "donneesAchat['delivery_time'] = (donneesAchat['delivered_customer'] - donneesAchat['estimated_delivery']).dt.days\n",
    "\n",
    "donneesAchat = donneesAchat.dropna(subset=['delivery_time'])\n",
    "\n",
    "delivery_performance = donneesAchat.groupby('cust_state')['delivery_time'].mean().reset_index()\n",
    "\n",
    "plt.figure(figsize=(12, 8))\n",
    "sns.boxplot(data=donneesAchat, x='cust_state', y='delivery_time')\n",
    "\n",
    "plt.xticks(rotation=90)\n",
    "plt.title(f\"Figure {num_graph}: Delivery Time Performance by State\")\n",
    "plt.xlabel('Customer State')\n",
    "plt.ylabel('Delivery Time (days)')\n",
    "num_graph+=1"
   ]
  },
  {
   "cell_type": "code",
   "execution_count": null,
   "id": "95e9831b-1cf9-4358-abd0-9da0a48861dd",
   "metadata": {},
   "outputs": [],
   "source": [
    "customer_counts = donneesAchat.groupby('cust_state')['customer_unique_id'].nunique()\n",
    "seller_counts = donneesAchat.groupby('sell_state')['seller_id'].nunique()\n",
    "\n",
    "state_counts = pd.DataFrame({\n",
    "    'Customers': customer_counts,\n",
    "    'Sellers': seller_counts\n",
    "}).fillna(0)\n",
    "\n",
    "plt.figure(figsize=(14, 8))\n",
    "state_counts.plot(kind='bar', figsize=(14, 8), alpha=0.8, width=0.7)\n",
    "\n",
    "plt.title(f\"Figure {num_graph}: Number of Customers and Sellers by State\", fontsize=16)\n",
    "plt.xlabel('State', fontsize=14)\n",
    "plt.ylabel('Count', fontsize=14)\n",
    "plt.xticks(rotation=45)\n",
    "plt.legend(title='Category', fontsize=12)\n",
    "plt.grid(axis='y', linestyle='--', alpha=0.6)\n",
    "plt.tight_layout()\n",
    "num_graph+=1"
   ]
  },
  {
   "cell_type": "code",
   "execution_count": null,
   "id": "c697c181-2364-4513-a5b0-f99ada6d4a95",
   "metadata": {},
   "outputs": [],
   "source": [
    "donneesAchat['distance_km'] = haversine(donneesAchat['sell_lat'], donneesAchat['sell_lng'],\n",
    "                                        donneesAchat['cust_lat'], donneesAchat['cust_lng'])\n",
    "\n",
    "donneesAchat['time_delivery_hrs'] = (donneesAchat['delivered_customer'] - donneesAchat['approved_at']).dt.total_seconds() / 3600\n",
    "\n",
    "plt.figure(figsize=(12,6))\n",
    "sns.scatterplot(data=donneesAchat, x='distance_km', y='time_delivery_hrs', alpha=0.5)\n",
    "plt.title(f\"Figure {num_graph}: Distance vs Temps de livraison\")\n",
    "plt.xlabel(\"Distance (km)\")\n",
    "plt.ylabel(\"Temps de livraison (heures)\")\n",
    "num_graph+=1"
   ]
  },
  {
   "cell_type": "code",
   "execution_count": null,
   "id": "fdd5bdd9-a6f4-48ef-939e-db1fdeb007ce",
   "metadata": {},
   "outputs": [],
   "source": [
    "df_orders = donneesAchat.groupby(['seller_id', 'annee_mois'])['order_id'].nunique().reset_index(name='order_count')\n",
    "\n",
    "top_sellers = df_orders.groupby('seller_id')['order_count'].sum().nlargest(5).index\n",
    "df_top = df_orders[df_orders['seller_id'].isin(top_sellers)]\n",
    "\n",
    "plt.figure(figsize=(14, 8))\n",
    "sns.lineplot(data=df_top, x='annee_mois', y='order_count', hue='seller_id', marker='o')\n",
    "plt.title(f\"Figure {num_graph}: Evolution du nombre de commandes par vendeur (Top 5) à travers le temps\")\n",
    "plt.xlabel(\"Mois\")\n",
    "plt.ylabel(\"Nombre de commandes\")\n",
    "plt.xticks(rotation=45)\n",
    "plt.legend(title=\"Vendeur\")\n",
    "num_graph+=1"
   ]
  },
  {
   "cell_type": "code",
   "execution_count": null,
   "id": "f62a54ec-ebb6-4ac9-9711-46c8c9950c39",
   "metadata": {},
   "outputs": [],
   "source": [
    "df_heat = donneesAchat.groupby(['cust_state', 'mois'])['time_delivery_hrs'].mean().reset_index()\n",
    "\n",
    "pivot_heat = df_heat.pivot(index='cust_state', columns='mois', values='time_delivery_hrs')\n",
    "\n",
    "plt.figure(figsize=(12, 8))\n",
    "sns.heatmap(pivot_heat, annot=True, fmt=\".1f\", cmap=\"YlOrRd\")\n",
    "plt.title(f\"Figure {num_graph}: Temps de livraison moyen (heures) par région selon les mois\")\n",
    "plt.xlabel(\"Mois\")\n",
    "plt.ylabel(\"Région (cust_state)\")\n",
    "num_graph+=1"
   ]
  },
  {
   "cell_type": "code",
   "execution_count": null,
   "id": "a7cb59ae-c0f4-41c6-863f-ce0b238f1542",
   "metadata": {},
   "outputs": [],
   "source": [
    "donneesAchat['approved_at'] = pd.to_datetime(donneesAchat['approved_at'])\n",
    "donneesAchat['delivered_customer'] = pd.to_datetime(donneesAchat['delivered_customer'])\n",
    "donneesAchat['purchase_timestamp'] = pd.to_datetime(donneesAchat['purchase_timestamp'])\n",
    "\n",
    "donneesAchat2017 = donneesAchat[donneesAchat['annee'] >= 2017]\n",
    "\n",
    "donneesAchat2017['time_delivery_hrs'] = (\n",
    "    donneesAchat2017['delivered_customer'] - donneesAchat2017['approved_at']\n",
    ").dt.total_seconds() / 3600\n",
    "\n",
    "df_graph1 = donneesAchat2017.groupby('annee_mois')['time_delivery_hrs'].mean().reset_index()\n",
    "\n",
    "plt.figure(figsize=(12, 6))\n",
    "sns.lineplot(data=df_graph1, x='annee_mois', y='time_delivery_hrs', marker='o')\n",
    "plt.title(f\"Figure {num_graph}: Évolution du temps de livraison moyen par mois\")\n",
    "plt.xlabel(\"Année-Mois\")\n",
    "plt.ylabel(\"Temps de livraison moyen (heures)\")\n",
    "plt.xticks(rotation=45)\n",
    "num_graph+=1"
   ]
  },
  {
   "cell_type": "code",
   "execution_count": null,
   "id": "281394f6-9f75-4097-8d17-9e7a3259b848",
   "metadata": {},
   "outputs": [],
   "source": [
    "df_graph2 = donneesAchat2017.groupby(['annee_mois', 'cust_state'])['time_delivery_hrs'].mean().reset_index()\n",
    "\n",
    "plt.figure(figsize=(12, 6))\n",
    "sns.lineplot(data=df_graph2, x='annee_mois', y='time_delivery_hrs', hue='cust_state', marker='o')\n",
    "plt.title(f\"Figure {num_graph}: Évolution du temps de livraison moyen par mois selon la région\")\n",
    "plt.xlabel(\"Année-Mois\")\n",
    "plt.ylabel(\"Temps de livraison moyen (heures)\")\n",
    "plt.xticks(rotation=45)\n",
    "plt.legend(title=\"Région\", bbox_to_anchor=(1.05, 1), loc='upper left')\n",
    "num_graph+=1"
   ]
  },
  {
   "cell_type": "code",
   "execution_count": null,
   "id": "74d856c4-edad-4811-a68b-46d2eaa15e10",
   "metadata": {},
   "outputs": [],
   "source": [
    "donneesAchat2017['distance_km'] = haversine(\n",
    "    donneesAchat['sell_lat'], donneesAchat['sell_lng'],\n",
    "    donneesAchat['cust_lat'], donneesAchat['cust_lng']\n",
    ")\n",
    "\n",
    "df_graph5 = donneesAchat2017.groupby('annee_mois')['distance_km'].mean().reset_index()\n",
    "\n",
    "plt.figure(figsize=(12, 6))\n",
    "sns.lineplot(data=df_graph5, x='annee_mois', y='distance_km', marker='o')\n",
    "plt.title(f\"Figure {num_graph}: Évolution de la distance moyenne entre vendeur et client par mois\")\n",
    "plt.xlabel(\"Année-Mois\")\n",
    "plt.ylabel(\"Distance moyenne (km)\")\n",
    "plt.xticks(rotation=45)\n",
    "num_graph+=1"
   ]
  },
  {
   "cell_type": "markdown",
   "id": "d83db49e-3322-41fe-a654-abc52e26af4a",
   "metadata": {},
   "source": [
    "## Analyse 3"
   ]
  },
  {
   "cell_type": "code",
   "execution_count": null,
   "id": "e4dec301-c0c3-4556-b69d-8e01769c1c91",
   "metadata": {},
   "outputs": [],
   "source": [
    "df_orders = donneesAchat.drop_duplicates(subset=['order_id'])"
   ]
  },
  {
   "cell_type": "code",
   "execution_count": null,
   "id": "e28519ea-9e07-40fd-ac6c-a1cf7f60917e",
   "metadata": {},
   "outputs": [],
   "source": [
    "orders_per_month = df_orders.groupby('annee_mois').size()"
   ]
  },
  {
   "cell_type": "code",
   "execution_count": null,
   "id": "4c82ed10-3821-41de-8772-4e7e43e839bf",
   "metadata": {},
   "outputs": [],
   "source": [
    "plt.figure(figsize=(12, 6))\n",
    "orders_per_month.plot(kind='line', marker='o', linestyle='-', color='blue')\n",
    "plt.title(f\"Figure {num_graph}: Évolution temporelle des commandes\")\n",
    "plt.xlabel(\"Année-Mois\")\n",
    "plt.ylabel(\"Nombre de commandes\")\n",
    "plt.xticks(rotation=45)\n",
    "num_graph+=1"
   ]
  },
  {
   "cell_type": "code",
   "execution_count": null,
   "id": "9c072ac4-0170-4b24-bbfd-866c21e65d02",
   "metadata": {},
   "outputs": [],
   "source": [
    "top20_categories = donneesAchat['category_name'].value_counts().head(20)\n",
    "\n",
    "plt.figure(figsize=(10, 6))\n",
    "sns.barplot(x=top20_categories.values, y=top20_categories.index, palette=\"viridis\")\n",
    "plt.title(f\"Figure {num_graph}: Top 20 catégories avec le plus de ventes\")\n",
    "plt.xlabel(\"Nombre de commandes\")\n",
    "plt.ylabel(\"Catégorie\")\n",
    "num_graph+=1"
   ]
  },
  {
   "cell_type": "code",
   "execution_count": null,
   "id": "213b0cb3-ea6b-4476-bd2d-b4d81b3d223b",
   "metadata": {},
   "outputs": [],
   "source": [
    "day_mapping = {1: 'Lundi', 2: 'Mardi', 3: 'Mercredi', 4: 'Jeudi',\n",
    "               5: 'Vendredi', 6: 'Samedi', 7: 'Dimanche'}\n",
    "\n",
    "donneesAchat['jour_semaine_nom'] = donneesAchat['jour_semaine'].map(day_mapping)\n",
    "\n",
    "pivot_heatmap = donneesAchat.pivot_table(index='jour_semaine_nom', columns='heure', \n",
    "                               values='order_id', aggfunc='count')\n",
    "\n",
    "ordre_jours = ['Lundi', 'Mardi', 'Mercredi', 'Jeudi', 'Vendredi', 'Samedi', 'Dimanche']\n",
    "pivot_heatmap = pivot_heatmap.reindex(ordre_jours)\n",
    "\n",
    "plt.figure(figsize=(12, 6))\n",
    "sns.heatmap(pivot_heatmap, annot=True, fmt=\".0f\", cmap=\"YlGnBu\")\n",
    "plt.title(f\"Figure {num_graph}: Volume des commandes par jour de semaine et heure\")\n",
    "plt.xlabel(\"Heure\")\n",
    "plt.ylabel(\"Jour de la semaine\")\n",
    "num_graph+=1"
   ]
  },
  {
   "cell_type": "code",
   "execution_count": null,
   "id": "ac324c67-d6f8-439b-9fd7-821af14ad9e7",
   "metadata": {},
   "outputs": [],
   "source": [
    "df_returns = donneesAchat[donneesAchat['status'] == 'canceled']\n",
    "\n",
    "day_mapping = {1: 'Lundi', 2: 'Mardi', 3: 'Mercredi', 4: 'Jeudi', 5: 'Vendredi', 6: 'Samedi', 7: 'Dimanche'}\n",
    "df_returns['jour_semaine_nom'] = df_returns['jour_semaine'].map(day_mapping)\n",
    "\n",
    "pivot_returns = df_returns.pivot_table(index='jour_semaine_nom', columns='heure', values='order_id', aggfunc='count')\n",
    "\n",
    "ordre_jours = ['Lundi', 'Mardi', 'Mercredi', 'Jeudi', 'Vendredi', 'Samedi', 'Dimanche']\n",
    "pivot_returns = pivot_returns.reindex(ordre_jours)\n",
    "\n",
    "plt.figure(figsize=(12, 6))\n",
    "sns.heatmap(pivot_returns, annot=True, fmt=\".0f\", cmap=\"YlOrRd\")\n",
    "plt.title(f\"Figure {num_graph}: Activité horaire des retours/reclamations (statut 'canceled')\")\n",
    "plt.xlabel(\"Heure\")\n",
    "plt.ylabel(\"Jour de la semaine\")\n",
    "num_graph+=1"
   ]
  },
  {
   "cell_type": "code",
   "execution_count": null,
   "id": "c9f4857b-a5ac-4cba-86bc-f97b1735328a",
   "metadata": {},
   "outputs": [],
   "source": [
    "pivot_heatmap = donneesAchat.pivot_table(index='mois', columns='heure', values='order_id', aggfunc='count')\n",
    "\n",
    "pivot_heatmap = pivot_heatmap.sort_index()\n",
    "\n",
    "plt.figure(figsize=(12, 6))\n",
    "sns.heatmap(pivot_heatmap, annot=True, fmt=\".0f\", cmap=\"YlGnBu\")\n",
    "plt.title(f\"Figure {num_graph}: Volume des commandes par mois et heure\")\n",
    "plt.xlabel(\"Heure\")\n",
    "plt.ylabel(\"Mois\")\n",
    "num_graph+=1"
   ]
  },
  {
   "cell_type": "code",
   "execution_count": null,
   "id": "45fe8325-d8d3-4ab3-aa71-d96cfbd5547a",
   "metadata": {},
   "outputs": [],
   "source": [
    "donneesAchat['mois'] = donneesAchat['purchase_timestamp'].dt.month\n",
    "donneesAchat['jour_semaine'] = donneesAchat['purchase_timestamp'].dt.dayofweek\n",
    "\n",
    "jours_semaine = {0: \"Lundi\", 1: \"Mardi\", 2: \"Mercredi\", 3: \"Jeudi\", 4: \"Vendredi\", 5: \"Samedi\", 6: \"Dimanche\"}\n",
    "donneesAchat['jour_semaine'] = donneesAchat['jour_semaine'].map(jours_semaine)\n",
    "\n",
    "df_grouped = donneesAchat.groupby(['mois', 'jour_semaine'])['order_id'].count().reset_index()\n",
    "\n",
    "plt.figure(figsize=(12, 6))\n",
    "sns.barplot(data=df_grouped, x=\"jour_semaine\", y=\"order_id\", hue=\"mois\", palette=\"viridis\")\n",
    "plt.xlabel(\"Jour de la semaine\")\n",
    "plt.ylabel(\"Nombre de commandes\")\n",
    "plt.title(f\"Figure {num_graph}: Nombre de commandes par jour de la semaine et par mois\")\n",
    "plt.xticks(rotation=45)\n",
    "plt.legend(title=\"Mois\")\n",
    "num_graph+=1"
   ]
  },
  {
   "cell_type": "code",
   "execution_count": null,
   "id": "de872ff6-a6ac-4b5c-8a02-f4d62bc9dafd",
   "metadata": {},
   "outputs": [],
   "source": [
    "df_client_orders = donneesAchat.groupby('customer_unique_id')['order_id'].nunique().reset_index()\n",
    "df_client_orders['type_client'] = df_client_orders['order_id'].apply(lambda x: 'Nouveau' if x == 1 else 'Récurrent')\n",
    "\n",
    "df_panier_moyen = donneesAchat.merge(df_client_orders[['customer_unique_id', 'type_client']], on='customer_unique_id')\n",
    "df_panier_moyen = df_panier_moyen.groupby('type_client')['price'].mean().reset_index()\n",
    "\n",
    "plt.figure(figsize=(8, 5))\n",
    "sns.barplot(data=df_panier_moyen, x='type_client', y='price', palette=[\"#FF9999\", \"#66B3FF\"])\n",
    "plt.xlabel(\"Type de client\")\n",
    "plt.ylabel(\"Panier moyen (€)\")\n",
    "plt.title(f\"Figure {num_graph}: Panier moyen par type de client\")\n",
    "num_graph+=1"
   ]
  },
  {
   "cell_type": "code",
   "execution_count": null,
   "id": "5b15154e-7b98-4954-9439-c955ed08445b",
   "metadata": {},
   "outputs": [],
   "source": [
    "df_filtered = donneesAchat[donneesAchat['purchase_timestamp'].dt.year >= 2017]\n",
    "\n",
    "df_filtered['annee_mois'] = df_filtered['purchase_timestamp'].dt.to_period('M')\n",
    "df_panier_moyen = df_filtered.groupby('annee_mois')['price'].mean().reset_index()\n",
    "\n",
    "df_panier_moyen['annee_mois'] = df_panier_moyen['annee_mois'].astype(str)\n",
    "\n",
    "plt.figure(figsize=(12, 6))\n",
    "plt.plot(df_panier_moyen['annee_mois'], df_panier_moyen['price'], marker='o', linestyle='-', color='b', label='Panier Moyen')\n",
    "plt.xticks(rotation=45, ha='right')\n",
    "plt.xlabel(\"Temps (Année-Mois)\")\n",
    "plt.ylabel(\"Panier Moyen (€)\")\n",
    "plt.title(f\"Figure {num_graph}: Évolution du panier moyen à travers le temps (à partir de 2017)\")\n",
    "plt.legend()\n",
    "num_graph+=1"
   ]
  },
  {
   "cell_type": "code",
   "execution_count": null,
   "id": "a21aeb17-bc11-450f-b2c3-d2dada082582",
   "metadata": {},
   "outputs": [],
   "source": [
    "df_interactions = donneesAchat.groupby(['customer_unique_id', 'seller_id'])['order_id'].count().reset_index()\n",
    "df_interactions.columns = ['customer_unique_id', 'seller_id', 'nombre_commandes']\n",
    "\n",
    "df_prob = df_interactions.groupby('customer_unique_id')['nombre_commandes'].max().reset_index()\n",
    "df_prob['recommande'] = df_prob['nombre_commandes'].apply(lambda x: 'Oui' if x > 1 else 'Non')\n",
    "\n",
    "proportions = df_prob['recommande'].value_counts(normalize=True) * 100\n",
    "\n",
    "plt.figure(figsize=(6, 6))\n",
    "plt.pie(proportions, labels=proportions.index, autopct='%1.1f%%', colors=[\"#66B3FF\", \"#FF9999\"], startangle=90)\n",
    "plt.title(f\"Figure {num_graph}: Probabilité qu'un client commande chez le même vendeur\")\n",
    "num_graph+=1"
   ]
  },
  {
   "cell_type": "code",
   "execution_count": null,
   "id": "feff382c-cdd5-4331-8cb4-849a2a7fa96f",
   "metadata": {},
   "outputs": [],
   "source": [
    "end_time = time.time()\n",
    "\n",
    "execution_time = end_time - start_time\n",
    "\n",
    "print(f\"Total execution time: {execution_time:.2f} seconds\")"
   ]
  },
  {
   "cell_type": "code",
   "execution_count": null,
   "id": "5916b0de-fd6d-45f8-8d1c-91c01b901b02",
   "metadata": {},
   "outputs": [],
   "source": []
  }
 ],
 "metadata": {
  "kernelspec": {
   "display_name": "cours",
   "language": "python",
   "name": "python3"
  },
  "language_info": {
   "codemirror_mode": {
    "name": "ipython",
    "version": 3
   },
   "file_extension": ".py",
   "mimetype": "text/x-python",
   "name": "python",
   "nbconvert_exporter": "python",
   "pygments_lexer": "ipython3",
   "version": "3.10.16"
  }
 },
 "nbformat": 4,
 "nbformat_minor": 5
}
