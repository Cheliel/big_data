{
 "cells": [
  {
   "cell_type": "markdown",
   "metadata": {
    "toc": true
   },
   "source": [
    "<h1>Table of Contents<span class=\"tocSkip\"></span></h1>\n",
    "<div class=\"toc\"><ul class=\"toc-item\"><li><span><a href=\"#Les-imports-et-configuration-du-document\" data-toc-modified-id=\"Les-imports-et-configuration-du-document-1\"><span class=\"toc-item-num\">1&nbsp;&nbsp;</span>Les imports et configuration du document</a></span><ul class=\"toc-item\"><li><span><a href=\"#La-lecture-des-fichiers-d'un-répértoire\" data-toc-modified-id=\"La-lecture-des-fichiers-d'un-répértoire-1.1\"><span class=\"toc-item-num\">1.1&nbsp;&nbsp;</span>La lecture des fichiers d'un répértoire</a></span></li></ul></li><li><span><a href=\"#La-temperature-mensuelle\" data-toc-modified-id=\"La-temperature-mensuelle-2\"><span class=\"toc-item-num\">2&nbsp;&nbsp;</span>La temperature mensuelle</a></span></li><li><span><a href=\"#La-météo-mensuelle\" data-toc-modified-id=\"La-météo-mensuelle-3\"><span class=\"toc-item-num\">3&nbsp;&nbsp;</span>La météo mensuelle</a></span></li><li><span><a href=\"#La-météo-----hebdomadaire\" data-toc-modified-id=\"La-météo-----hebdomadaire-4\"><span class=\"toc-item-num\">4&nbsp;&nbsp;</span>La météo     hebdomadaire</a></span></li><li><span><a href=\"#La-météo-----journalière\" data-toc-modified-id=\"La-météo-----journalière-5\"><span class=\"toc-item-num\">5&nbsp;&nbsp;</span>La météo     journalière</a></span></li></ul></div>"
   ]
  },
  {
   "cell_type": "markdown",
   "metadata": {},
   "source": [
    "# Les imports et configuration du document"
   ]
  },
  {
   "cell_type": "code",
   "execution_count": 21,
   "metadata": {
    "ExecuteTime": {
     "end_time": "2021-12-12T09:07:05.707331Z",
     "start_time": "2021-12-12T09:07:04.648661Z"
    }
   },
   "outputs": [],
   "source": [
    "import pandas as pd \n",
    "import seaborn as sns\n",
    "import warnings \n",
    "import os\n",
    "import time\n",
    "from datetime import datetime\n",
    "from matplotlib import pyplot as plt\n",
    "\n",
    "warnings.filterwarnings(action=\"ignore\")\n",
    "\n",
    "%matplotlib inline\n",
    "if int(str(sns.__version__).split('.')[1]) > 8 : \n",
    "    plt.style.use('seaborn-v0_8-darkgrid')\n",
    "else:\n",
    "    plt.style.use('seaborn-darkgrid')\n",
    "    \n",
    "sns.set(font_scale=3)\n",
    "\n",
    "# os.chdir(\"donnees\")"
   ]
  },
  {
   "cell_type": "code",
   "execution_count": 22,
   "metadata": {},
   "outputs": [],
   "source": [
    "def tempsExecution(func):\n",
    "    def chronometrerExécution(*_args, **_kwargs): \n",
    "        t0 = time.perf_counter()\n",
    "        result = func(*_args, **_kwargs) \n",
    "        elapsed = time.perf_counter() - t0\n",
    "        name = func.__name__\n",
    "        args = ', '.join(repr(arg) for arg in _args) \\\n",
    "               if len(_args) == 1 \\\n",
    "               else ', '.join(arg+'='+repr(_kwargs[arg]) for arg in _kwargs)\n",
    "        print(f'exécution {elapsed:0.8f}s\\nfonction {name}({args})')\n",
    "        return result\n",
    "    return chronometrerExécution"
   ]
  },
  {
   "cell_type": "code",
   "execution_count": 24,
   "metadata": {
    "ExecuteTime": {
     "end_time": "2021-12-09T12:35:46.937921Z",
     "start_time": "2021-12-09T12:34:34.639809Z"
    }
   },
   "outputs": [],
   "source": [
    "@tempsExecution\n",
    "def lectureFichiersMeteo(repertoire='../donnees/meteo_test'):\n",
    "    meteo = pd.DataFrame()\n",
    "\n",
    "    for dirname, _, filenames in os.walk(repertoire):\n",
    "        for filename in filenames:\n",
    "            # if filename.rfind('synop') >= 0 :\n",
    "            meteo = pd.concat([meteo,\n",
    "                               pd.read_csv(os.path.join(dirname, filename),\n",
    "                                           sep=';',\n",
    "                                           usecols=['numer_sta','date','dd','ff','t','u','vv',\n",
    "                                                    'pres','rr1','rr3','rr6','rr12','rr24'],\n",
    "                                           na_values='mq',\n",
    "                                           dtype={'numer_sta':str,'date':str},\n",
    "                                          ).rename( columns={'numer_sta':'Station',\n",
    "                                                              'date':'DateHeure',\n",
    "                                                              'dd':'DirectionVent',\n",
    "                                                              'ff':'VitesseVent',\n",
    "                                                              't':'Temperature',\n",
    "                                                              'u':'Humidite',\n",
    "                                                              'vv':'Visibilite',\n",
    "                                                              'pres':'Pression',\n",
    "                                                              'rr1' :'Precipitation01',\n",
    "                                                              'rr3' :'Precipitation03',\n",
    "                                                              'rr6' :'Precipitation06',\n",
    "                                                              'rr12':'Precipitation12',\n",
    "                                                              'rr24':'Precipitation24'})],axis=0)\n",
    "    meteo.reset_index().drop(columns='index',inplace=True)\n",
    "    meteo[\"DateHeure\"] = pd.to_datetime(meteo[\"DateHeure\"], format='%Y%m%d%H%M%S')\n",
    "    meteo.Temperature  = meteo.Temperature - 273.15\n",
    "    meteo.Pression     = meteo.Pression / 100\n",
    "    meteo.Visibilite   = meteo.Visibilite / 1000\n",
    "    meteo['Mois']      = meteo.DateHeure.dt.month\n",
    "    meteo['Annee']     = meteo.DateHeure.dt.year\n",
    "    meteo['AnneeMois'] = meteo.DateHeure.dt.year*100 + meteo.DateHeure.dt.month\n",
    "    meteo['Semaine']   = meteo.DateHeure.dt.isocalendar().week\n",
    "    meteo['MoisJour']  = meteo.DateHeure.dt.month*100 + meteo.DateHeure.dt.day\n",
    "    meteo['JourA']     = meteo.DateHeure.dt.dayofyear\n",
    "    return meteo"
   ]
  },
  {
   "cell_type": "code",
   "execution_count": 25,
   "metadata": {},
   "outputs": [
    {
     "name": "stdout",
     "output_type": "stream",
     "text": [
      "exécution 3.53778200s\n",
      "fonction lectureFichiersMeteo(repertoire='../donnees/meteo')\n"
     ]
    }
   ],
   "source": [
    "_ = lectureFichiersMeteo(repertoire='../donnees/meteo')"
   ]
  },
  {
   "cell_type": "code",
   "execution_count": 26,
   "metadata": {},
   "outputs": [],
   "source": [
    "@tempsExecution\n",
    "def lectureFichiersMeteo(repertoire='../donnees/meteo_test'):\n",
    "    listeFichiers = []\n",
    "    for dirname, dirnames, filenames in os.walk(repertoire):\n",
    "        for filename in filenames:\n",
    "            listeFichiers.append(os.path.join(dirname, filename))\n",
    "        \n",
    "    meteo = pd.concat([ pd.read_csv(fichier,\n",
    "                           sep=';',\n",
    "                           usecols=['numer_sta','date','dd','ff','t','u','vv',\n",
    "                                    'pres','rr1','rr3','rr6','rr12','rr24'],\n",
    "                           na_values='mq',\n",
    "                           dtype={'numer_sta':str,'date':str},\n",
    "                          ).rename( columns={'numer_sta':'Station',\n",
    "                                              'date':'DateHeure',\n",
    "                                              'dd':'DirectionVent',\n",
    "                                              'ff':'VitesseVent',\n",
    "                                              't':'Temperature',\n",
    "                                              'u':'Humidite',\n",
    "                                              'vv':'Visibilite',\n",
    "                                              'pres':'Pression',\n",
    "                                              'rr1' :'Precipitation01',\n",
    "                                              'rr3' :'Precipitation03',\n",
    "                                              'rr6' :'Precipitation06',\n",
    "                                              'rr12':'Precipitation12',\n",
    "                                              'rr24':'Precipitation24'}) \n",
    "                         for fichier in listeFichiers])\n",
    "    meteo.reset_index().drop(columns='index',inplace=True)\n",
    "    meteo[\"DateHeure\"] = pd.to_datetime(meteo[\"DateHeure\"], format='%Y%m%d%H%M%S')\n",
    "    meteo.Temperature  = meteo.Temperature - 273.15\n",
    "    meteo.Pression     = meteo.Pression / 100\n",
    "    meteo.Visibilite   = meteo.Visibilite / 1000\n",
    "    meteo['Mois']      = meteo.DateHeure.dt.month\n",
    "    meteo['Annee']     = meteo.DateHeure.dt.year\n",
    "    meteo['AnneeMois'] = meteo.DateHeure.dt.year*100 + meteo.DateHeure.dt.month\n",
    "    meteo['Semaine']   = meteo.DateHeure.dt.isocalendar().week\n",
    "    meteo['MoisJour']  = meteo.DateHeure.dt.month*100 + meteo.DateHeure.dt.day\n",
    "    meteo['JourA']     = meteo.DateHeure.dt.dayofyear\n",
    "    return meteo\n",
    "    "
   ]
  },
  {
   "cell_type": "code",
   "execution_count": 27,
   "metadata": {},
   "outputs": [
    {
     "name": "stdout",
     "output_type": "stream",
     "text": [
      "exécution 2.84314090s\n",
      "fonction lectureFichiersMeteo(repertoire='../donnees/meteo')\n"
     ]
    }
   ],
   "source": [
    "_ = lectureFichiersMeteo(repertoire='../donnees/meteo')"
   ]
  },
  {
   "cell_type": "code",
   "execution_count": 28,
   "metadata": {},
   "outputs": [],
   "source": [
    "@tempsExecution\n",
    "def lectureFichiersMeteo(repertoire='../donnees/meteo_test'):\n",
    "    meteo = pd.concat([ pd.read_csv(fichier,\n",
    "                           sep=';',\n",
    "                           usecols=['numer_sta','date','dd','ff','t','u','vv',\n",
    "                                    'pres','rr1','rr3','rr6','rr12','rr24'],\n",
    "                           na_values='mq',\n",
    "                           dtype={'numer_sta':str,'date':str},\n",
    "                          ).rename( columns={'numer_sta':'Station',\n",
    "                                              'date':'DateHeure',\n",
    "                                              'dd':'DirectionVent',\n",
    "                                              'ff':'VitesseVent',\n",
    "                                              't':'Temperature',\n",
    "                                              'u':'Humidite',\n",
    "                                              'vv':'Visibilite',\n",
    "                                              'pres':'Pression',\n",
    "                                              'rr1' :'Precipitation01',\n",
    "                                              'rr3' :'Precipitation03',\n",
    "                                              'rr6' :'Precipitation06',\n",
    "                                              'rr12':'Precipitation12',\n",
    "                                              'rr24':'Precipitation24'}) \n",
    "                         for fichier in [ f'{dirname}{os.sep}{filename}' for dirname, dirnames, filenames in os.walk(repertoire) \n",
    "                                                                         for filename in filenames]])\n",
    "    meteo.reset_index().drop(columns='index',inplace=True)\n",
    "    meteo[\"DateHeure\"] = pd.to_datetime(meteo[\"DateHeure\"], format='%Y%m%d%H%M%S')\n",
    "    meteo.Temperature  = meteo.Temperature - 273.15\n",
    "    meteo.Pression     = meteo.Pression / 100\n",
    "    meteo.Visibilite   = meteo.Visibilite / 1000\n",
    "    meteo['Mois']      = meteo.DateHeure.dt.month\n",
    "    meteo['Annee']     = meteo.DateHeure.dt.year\n",
    "    meteo['AnneeMois'] = meteo.DateHeure.dt.year*100 + meteo.DateHeure.dt.month\n",
    "    meteo['Semaine']   = meteo.DateHeure.dt.isocalendar().week\n",
    "    meteo['MoisJour']  = meteo.DateHeure.dt.month*100 + meteo.DateHeure.dt.day\n",
    "    meteo['JourA']     = meteo.DateHeure.dt.dayofyear\n",
    "    return meteo\n",
    "    "
   ]
  },
  {
   "cell_type": "code",
   "execution_count": 29,
   "metadata": {},
   "outputs": [
    {
     "name": "stdout",
     "output_type": "stream",
     "text": [
      "exécution 2.64951950s\n",
      "fonction lectureFichiersMeteo(repertoire='../donnees/meteo')\n"
     ]
    }
   ],
   "source": [
    "_ = lectureFichiersMeteo(repertoire='../donnees/meteo')"
   ]
  },
  {
   "cell_type": "markdown",
   "metadata": {},
   "source": [
    "## La lecture des fichiers d'un répértoire "
   ]
  },
  {
   "cell_type": "code",
   "execution_count": 30,
   "metadata": {},
   "outputs": [
    {
     "name": "stdout",
     "output_type": "stream",
     "text": [
      "exécution 2.80561460s\n",
      "fonction lectureFichiersMeteo(repertoire='../donnees/meteo')\n",
      "CPU times: total: 2.72 s\n",
      "Wall time: 2.81 s\n"
     ]
    }
   ],
   "source": [
    "%%time\n",
    "meteo = lectureFichiersMeteo(repertoire='../donnees/meteo')"
   ]
  },
  {
   "cell_type": "code",
   "execution_count": 31,
   "metadata": {},
   "outputs": [
    {
     "data": {
      "text/html": [
       "<div>\n",
       "<style scoped>\n",
       "    .dataframe tbody tr th:only-of-type {\n",
       "        vertical-align: middle;\n",
       "    }\n",
       "\n",
       "    .dataframe tbody tr th {\n",
       "        vertical-align: top;\n",
       "    }\n",
       "\n",
       "    .dataframe thead th {\n",
       "        text-align: right;\n",
       "    }\n",
       "</style>\n",
       "<table border=\"1\" class=\"dataframe\">\n",
       "  <thead>\n",
       "    <tr style=\"text-align: right;\">\n",
       "      <th></th>\n",
       "      <th>Station</th>\n",
       "      <th>DateHeure</th>\n",
       "      <th>DirectionVent</th>\n",
       "      <th>VitesseVent</th>\n",
       "      <th>Temperature</th>\n",
       "      <th>Humidite</th>\n",
       "      <th>Visibilite</th>\n",
       "      <th>Pression</th>\n",
       "      <th>Precipitation01</th>\n",
       "      <th>Precipitation03</th>\n",
       "      <th>Precipitation06</th>\n",
       "      <th>Precipitation12</th>\n",
       "      <th>Precipitation24</th>\n",
       "      <th>Mois</th>\n",
       "      <th>Annee</th>\n",
       "      <th>AnneeMois</th>\n",
       "      <th>Semaine</th>\n",
       "      <th>MoisJour</th>\n",
       "      <th>JourA</th>\n",
       "    </tr>\n",
       "  </thead>\n",
       "  <tbody>\n",
       "    <tr>\n",
       "      <th>14754</th>\n",
       "      <td>81401</td>\n",
       "      <td>2023-10-31 21:00:00</td>\n",
       "      <td>40.0</td>\n",
       "      <td>1.3</td>\n",
       "      <td>30.1</td>\n",
       "      <td>69.0</td>\n",
       "      <td>NaN</td>\n",
       "      <td>1007.2</td>\n",
       "      <td>0.0</td>\n",
       "      <td>0.0</td>\n",
       "      <td>0.0</td>\n",
       "      <td>0.2</td>\n",
       "      <td>0.2</td>\n",
       "      <td>10</td>\n",
       "      <td>2023</td>\n",
       "      <td>202310</td>\n",
       "      <td>44</td>\n",
       "      <td>1031</td>\n",
       "      <td>304</td>\n",
       "    </tr>\n",
       "    <tr>\n",
       "      <th>14755</th>\n",
       "      <td>81405</td>\n",
       "      <td>2023-10-31 21:00:00</td>\n",
       "      <td>80.0</td>\n",
       "      <td>4.5</td>\n",
       "      <td>29.8</td>\n",
       "      <td>75.0</td>\n",
       "      <td>48.32</td>\n",
       "      <td>1007.5</td>\n",
       "      <td>0.0</td>\n",
       "      <td>0.0</td>\n",
       "      <td>0.0</td>\n",
       "      <td>0.0</td>\n",
       "      <td>0.4</td>\n",
       "      <td>10</td>\n",
       "      <td>2023</td>\n",
       "      <td>202310</td>\n",
       "      <td>44</td>\n",
       "      <td>1031</td>\n",
       "      <td>304</td>\n",
       "    </tr>\n",
       "    <tr>\n",
       "      <th>14756</th>\n",
       "      <td>81408</td>\n",
       "      <td>2023-10-31 21:00:00</td>\n",
       "      <td>60.0</td>\n",
       "      <td>3.0</td>\n",
       "      <td>30.5</td>\n",
       "      <td>67.0</td>\n",
       "      <td>NaN</td>\n",
       "      <td>1006.9</td>\n",
       "      <td>0.0</td>\n",
       "      <td>0.0</td>\n",
       "      <td>0.0</td>\n",
       "      <td>0.0</td>\n",
       "      <td>0.0</td>\n",
       "      <td>10</td>\n",
       "      <td>2023</td>\n",
       "      <td>202310</td>\n",
       "      <td>44</td>\n",
       "      <td>1031</td>\n",
       "      <td>304</td>\n",
       "    </tr>\n",
       "    <tr>\n",
       "      <th>14757</th>\n",
       "      <td>81415</td>\n",
       "      <td>2023-10-31 21:00:00</td>\n",
       "      <td>50.0</td>\n",
       "      <td>2.8</td>\n",
       "      <td>32.5</td>\n",
       "      <td>57.0</td>\n",
       "      <td>NaN</td>\n",
       "      <td>NaN</td>\n",
       "      <td>0.0</td>\n",
       "      <td>0.0</td>\n",
       "      <td>0.0</td>\n",
       "      <td>0.0</td>\n",
       "      <td>0.0</td>\n",
       "      <td>10</td>\n",
       "      <td>2023</td>\n",
       "      <td>202310</td>\n",
       "      <td>44</td>\n",
       "      <td>1031</td>\n",
       "      <td>304</td>\n",
       "    </tr>\n",
       "    <tr>\n",
       "      <th>14758</th>\n",
       "      <td>89642</td>\n",
       "      <td>2023-10-31 21:00:00</td>\n",
       "      <td>90.0</td>\n",
       "      <td>3.1</td>\n",
       "      <td>-7.5</td>\n",
       "      <td>60.0</td>\n",
       "      <td>NaN</td>\n",
       "      <td>949.0</td>\n",
       "      <td>NaN</td>\n",
       "      <td>NaN</td>\n",
       "      <td>NaN</td>\n",
       "      <td>NaN</td>\n",
       "      <td>NaN</td>\n",
       "      <td>10</td>\n",
       "      <td>2023</td>\n",
       "      <td>202310</td>\n",
       "      <td>44</td>\n",
       "      <td>1031</td>\n",
       "      <td>304</td>\n",
       "    </tr>\n",
       "  </tbody>\n",
       "</table>\n",
       "</div>"
      ],
      "text/plain": [
       "      Station           DateHeure  DirectionVent  VitesseVent  Temperature  \\\n",
       "14754   81401 2023-10-31 21:00:00           40.0          1.3         30.1   \n",
       "14755   81405 2023-10-31 21:00:00           80.0          4.5         29.8   \n",
       "14756   81408 2023-10-31 21:00:00           60.0          3.0         30.5   \n",
       "14757   81415 2023-10-31 21:00:00           50.0          2.8         32.5   \n",
       "14758   89642 2023-10-31 21:00:00           90.0          3.1         -7.5   \n",
       "\n",
       "       Humidite  Visibilite  Pression  Precipitation01  Precipitation03  \\\n",
       "14754      69.0         NaN    1007.2              0.0              0.0   \n",
       "14755      75.0       48.32    1007.5              0.0              0.0   \n",
       "14756      67.0         NaN    1006.9              0.0              0.0   \n",
       "14757      57.0         NaN       NaN              0.0              0.0   \n",
       "14758      60.0         NaN     949.0              NaN              NaN   \n",
       "\n",
       "       Precipitation06  Precipitation12  Precipitation24  Mois  Annee  \\\n",
       "14754              0.0              0.2              0.2    10   2023   \n",
       "14755              0.0              0.0              0.4    10   2023   \n",
       "14756              0.0              0.0              0.0    10   2023   \n",
       "14757              0.0              0.0              0.0    10   2023   \n",
       "14758              NaN              NaN              NaN    10   2023   \n",
       "\n",
       "       AnneeMois  Semaine  MoisJour  JourA  \n",
       "14754     202310       44      1031    304  \n",
       "14755     202310       44      1031    304  \n",
       "14756     202310       44      1031    304  \n",
       "14757     202310       44      1031    304  \n",
       "14758     202310       44      1031    304  "
      ]
     },
     "execution_count": 31,
     "metadata": {},
     "output_type": "execute_result"
    }
   ],
   "source": [
    "meteo.tail()"
   ]
  },
  {
   "cell_type": "code",
   "execution_count": 32,
   "metadata": {
    "ExecuteTime": {
     "end_time": "2021-12-09T12:35:46.952839Z",
     "start_time": "2021-12-09T12:35:46.938876Z"
    }
   },
   "outputs": [
    {
     "data": {
      "text/plain": [
       "(1172478, 19)"
      ]
     },
     "execution_count": 32,
     "metadata": {},
     "output_type": "execute_result"
    }
   ],
   "source": [
    "meteo.shape"
   ]
  },
  {
   "cell_type": "code",
   "execution_count": 33,
   "metadata": {
    "ExecuteTime": {
     "end_time": "2021-12-09T12:35:46.967798Z",
     "start_time": "2021-12-09T12:35:46.954835Z"
    }
   },
   "outputs": [],
   "source": [
    "postes = pd.read_csv('../donnees/postesSynop.csv',sep=';',dtype={'ID':str})\n",
    "postes.Nom =postes.Nom.apply(lambda x : x if x in ['CLERMONT-FD','MONT-DE-MARSAN',\n",
    "                                       'ST-PIERRE','ST-BARTHELEMY METEO'] \n",
    "                               else x[0:x.find('-')] \n",
    "                                    if x.find('-') != -1 else x).apply(lambda x : str(x).title())\n",
    "postes.Altitude = postes.Altitude.astype('int16')\n",
    "postes = postes[postes.ID < '08000']"
   ]
  },
  {
   "cell_type": "code",
   "execution_count": 34,
   "metadata": {
    "ExecuteTime": {
     "end_time": "2021-12-09T12:35:46.997868Z",
     "start_time": "2021-12-09T12:35:46.968796Z"
    }
   },
   "outputs": [],
   "source": [
    "postes.loc[postes.Latitude  < postes.Latitude.mean(),'Zone'] = 'S'\n",
    "postes.loc[postes.Latitude  > postes.Latitude.mean(),'Zone'] = 'N'\n",
    "postes.loc[postes.Longitude < postes.Longitude.mean(),'Zone'] += 'O'\n",
    "postes.loc[postes.Longitude > postes.Longitude.mean(),'Zone'] += 'E'"
   ]
  },
  {
   "cell_type": "code",
   "execution_count": 37,
   "metadata": {
    "ExecuteTime": {
     "end_time": "2021-12-09T12:35:47.029302Z",
     "start_time": "2021-12-09T12:35:46.999863Z"
    }
   },
   "outputs": [
    {
     "data": {
      "text/html": [
       "<div>\n",
       "<style scoped>\n",
       "    .dataframe tbody tr th:only-of-type {\n",
       "        vertical-align: middle;\n",
       "    }\n",
       "\n",
       "    .dataframe tbody tr th {\n",
       "        vertical-align: top;\n",
       "    }\n",
       "\n",
       "    .dataframe thead th {\n",
       "        text-align: right;\n",
       "    }\n",
       "</style>\n",
       "<table border=\"1\" class=\"dataframe\">\n",
       "  <thead>\n",
       "    <tr style=\"text-align: right;\">\n",
       "      <th></th>\n",
       "      <th>ID</th>\n",
       "      <th>Nom</th>\n",
       "      <th>Latitude</th>\n",
       "      <th>Longitude</th>\n",
       "      <th>Altitude</th>\n",
       "      <th>Zone</th>\n",
       "    </tr>\n",
       "  </thead>\n",
       "  <tbody>\n",
       "    <tr>\n",
       "      <th>0</th>\n",
       "      <td>07005</td>\n",
       "      <td>Abbeville</td>\n",
       "      <td>50.136000</td>\n",
       "      <td>1.834000</td>\n",
       "      <td>69</td>\n",
       "      <td>NO</td>\n",
       "    </tr>\n",
       "    <tr>\n",
       "      <th>1</th>\n",
       "      <td>07015</td>\n",
       "      <td>Lille</td>\n",
       "      <td>50.570000</td>\n",
       "      <td>3.097500</td>\n",
       "      <td>47</td>\n",
       "      <td>NE</td>\n",
       "    </tr>\n",
       "    <tr>\n",
       "      <th>2</th>\n",
       "      <td>07020</td>\n",
       "      <td>Pte De La Hague</td>\n",
       "      <td>49.725167</td>\n",
       "      <td>-1.939833</td>\n",
       "      <td>6</td>\n",
       "      <td>NO</td>\n",
       "    </tr>\n",
       "    <tr>\n",
       "      <th>3</th>\n",
       "      <td>07027</td>\n",
       "      <td>Caen</td>\n",
       "      <td>49.180000</td>\n",
       "      <td>-0.456167</td>\n",
       "      <td>67</td>\n",
       "      <td>NO</td>\n",
       "    </tr>\n",
       "    <tr>\n",
       "      <th>4</th>\n",
       "      <td>07037</td>\n",
       "      <td>Rouen</td>\n",
       "      <td>49.383000</td>\n",
       "      <td>1.181667</td>\n",
       "      <td>151</td>\n",
       "      <td>NO</td>\n",
       "    </tr>\n",
       "  </tbody>\n",
       "</table>\n",
       "</div>"
      ],
      "text/plain": [
       "      ID              Nom   Latitude  Longitude  Altitude Zone\n",
       "0  07005        Abbeville  50.136000   1.834000        69   NO\n",
       "1  07015            Lille  50.570000   3.097500        47   NE\n",
       "2  07020  Pte De La Hague  49.725167  -1.939833         6   NO\n",
       "3  07027             Caen  49.180000  -0.456167        67   NO\n",
       "4  07037            Rouen  49.383000   1.181667       151   NO"
      ]
     },
     "execution_count": 37,
     "metadata": {},
     "output_type": "execute_result"
    }
   ],
   "source": [
    "postes.head()"
   ]
  },
  {
   "cell_type": "code",
   "execution_count": 38,
   "metadata": {
    "ExecuteTime": {
     "end_time": "2021-12-09T12:35:48.618195Z",
     "start_time": "2021-12-09T12:35:47.030650Z"
    }
   },
   "outputs": [],
   "source": [
    "meteo = postes.merge(meteo, how = \"inner\", \n",
    "                     left_on = \"ID\", right_on = \"Station\").drop([\"ID\",\"Station\"], axis = \"columns\")"
   ]
  },
  {
   "cell_type": "code",
   "execution_count": 39,
   "metadata": {
    "ExecuteTime": {
     "end_time": "2021-12-09T12:35:48.792726Z",
     "start_time": "2021-12-09T12:35:48.620159Z"
    }
   },
   "outputs": [],
   "source": [
    "meteo['Precipitation'] =  meteo['Precipitation03'].combine_first(meteo['Precipitation06']/2)\\\n",
    "                                                  .combine_first(meteo['Precipitation12']/4)\\\n",
    "                                                  .combine_first(meteo['Precipitation24']/8)\\\n",
    "                                                  .combine_first(meteo['Precipitation01']*3)"
   ]
  },
  {
   "cell_type": "code",
   "execution_count": 40,
   "metadata": {
    "ExecuteTime": {
     "end_time": "2021-12-09T12:35:49.108281Z",
     "start_time": "2021-12-09T12:35:48.793797Z"
    }
   },
   "outputs": [],
   "source": [
    "meteo.drop(columns=['Precipitation06',\n",
    "                    'Precipitation12',\n",
    "                    'Precipitation24',\n",
    "                    'Precipitation01',\n",
    "                    'Precipitation03'], inplace=True)"
   ]
  },
  {
   "cell_type": "code",
   "execution_count": 42,
   "metadata": {
    "ExecuteTime": {
     "end_time": "2021-12-09T12:35:53.905508Z",
     "start_time": "2021-12-09T12:35:49.110275Z"
    }
   },
   "outputs": [],
   "source": [
    "meteo.to_parquet('../donnees/meteo.gzip',compression='gzip', engine='pyarrow')"
   ]
  },
  {
   "cell_type": "code",
   "execution_count": 43,
   "metadata": {
    "ExecuteTime": {
     "end_time": "2021-12-12T09:07:59.175806Z",
     "start_time": "2021-12-12T09:07:59.128874Z"
    },
    "scrolled": true
   },
   "outputs": [
    {
     "name": "stderr",
     "output_type": "stream",
     "text": [
      "'ls' n’est pas reconnu en tant que commande interne\n",
      "ou externe, un programme exécutable ou un fichier de commandes.\n"
     ]
    }
   ],
   "source": [
    "!ls -al ../donnees/meteo.gzip"
   ]
  },
  {
   "cell_type": "code",
   "execution_count": 44,
   "metadata": {
    "ExecuteTime": {
     "end_time": "2021-12-09T12:36:19.640222Z",
     "start_time": "2021-12-09T12:35:55.106694Z"
    }
   },
   "outputs": [],
   "source": [
    "meteo.to_csv('../donnees/meteo.csv')"
   ]
  },
  {
   "cell_type": "code",
   "execution_count": 45,
   "metadata": {
    "ExecuteTime": {
     "end_time": "2021-12-09T12:36:20.693200Z",
     "start_time": "2021-12-09T12:36:19.641219Z"
    }
   },
   "outputs": [
    {
     "name": "stdout",
     "output_type": "stream",
     "text": [
      "CPU times: total: 328 ms\n",
      "Wall time: 3.1 s\n"
     ]
    },
    {
     "data": {
      "text/plain": [
       "Nom                      object\n",
       "Latitude                float64\n",
       "Longitude               float64\n",
       "Altitude                  int16\n",
       "Zone                     object\n",
       "DateHeure        datetime64[ns]\n",
       "DirectionVent           float64\n",
       "VitesseVent             float64\n",
       "Temperature             float64\n",
       "Humidite                float64\n",
       "Visibilite              float64\n",
       "Pression                float64\n",
       "Mois                      int32\n",
       "Annee                     int32\n",
       "AnneeMois                 int32\n",
       "Semaine                  UInt32\n",
       "MoisJour                  int32\n",
       "JourA                     int32\n",
       "Precipitation           float64\n",
       "dtype: object"
      ]
     },
     "execution_count": 45,
     "metadata": {},
     "output_type": "execute_result"
    }
   ],
   "source": [
    "%%time\n",
    "meteo = pd.read_parquet('../donnees/meteo.gzip', engine='pyarrow')\n",
    "meteo.dtypes"
   ]
  },
  {
   "cell_type": "code",
   "execution_count": null,
   "metadata": {
    "ExecuteTime": {
     "end_time": "2021-12-09T12:36:26.047196Z",
     "start_time": "2021-12-09T12:36:20.694197Z"
    }
   },
   "outputs": [],
   "source": [
    "%%time\n",
    "pd.read_csv('../donnees/meteo.csv').dtypes"
   ]
  },
  {
   "cell_type": "code",
   "execution_count": 46,
   "metadata": {
    "ExecuteTime": {
     "end_time": "2021-12-09T12:36:26.267430Z",
     "start_time": "2021-12-09T12:36:26.048196Z"
    }
   },
   "outputs": [
    {
     "data": {
      "text/plain": [
       "Nom                  0\n",
       "Latitude             0\n",
       "Longitude            0\n",
       "Altitude             0\n",
       "Zone                 0\n",
       "DateHeure            0\n",
       "DirectionVent     2698\n",
       "VitesseVent       2600\n",
       "Temperature      11888\n",
       "Humidite         12486\n",
       "Visibilite       47161\n",
       "Pression         10886\n",
       "Mois                 0\n",
       "Annee                0\n",
       "AnneeMois            0\n",
       "Semaine              0\n",
       "MoisJour             0\n",
       "JourA                0\n",
       "Precipitation    13016\n",
       "dtype: int64"
      ]
     },
     "execution_count": 46,
     "metadata": {},
     "output_type": "execute_result"
    }
   ],
   "source": [
    "meteo.isna().sum()"
   ]
  },
  {
   "cell_type": "code",
   "execution_count": 47,
   "metadata": {
    "ExecuteTime": {
     "end_time": "2021-12-09T12:36:26.298239Z",
     "start_time": "2021-12-09T12:36:26.268290Z"
    }
   },
   "outputs": [
    {
     "data": {
      "text/html": [
       "<div>\n",
       "<style scoped>\n",
       "    .dataframe tbody tr th:only-of-type {\n",
       "        vertical-align: middle;\n",
       "    }\n",
       "\n",
       "    .dataframe tbody tr th {\n",
       "        vertical-align: top;\n",
       "    }\n",
       "\n",
       "    .dataframe thead th {\n",
       "        text-align: right;\n",
       "    }\n",
       "</style>\n",
       "<table border=\"1\" class=\"dataframe\">\n",
       "  <thead>\n",
       "    <tr style=\"text-align: right;\">\n",
       "      <th></th>\n",
       "      <th>Nom</th>\n",
       "      <th>Latitude</th>\n",
       "      <th>Longitude</th>\n",
       "      <th>Altitude</th>\n",
       "      <th>Zone</th>\n",
       "      <th>DateHeure</th>\n",
       "      <th>DirectionVent</th>\n",
       "      <th>VitesseVent</th>\n",
       "      <th>Temperature</th>\n",
       "      <th>Humidite</th>\n",
       "      <th>Visibilite</th>\n",
       "      <th>Pression</th>\n",
       "      <th>Mois</th>\n",
       "      <th>Annee</th>\n",
       "      <th>AnneeMois</th>\n",
       "      <th>Semaine</th>\n",
       "      <th>MoisJour</th>\n",
       "      <th>JourA</th>\n",
       "      <th>Precipitation</th>\n",
       "    </tr>\n",
       "  </thead>\n",
       "  <tbody>\n",
       "    <tr>\n",
       "      <th>0</th>\n",
       "      <td>Abbeville</td>\n",
       "      <td>50.136</td>\n",
       "      <td>1.834</td>\n",
       "      <td>69</td>\n",
       "      <td>NO</td>\n",
       "      <td>2017-01-01 00:00:00</td>\n",
       "      <td>0.0</td>\n",
       "      <td>0.0</td>\n",
       "      <td>-3.9</td>\n",
       "      <td>96.0</td>\n",
       "      <td>1.74</td>\n",
       "      <td>1018.0</td>\n",
       "      <td>1</td>\n",
       "      <td>2017</td>\n",
       "      <td>201701</td>\n",
       "      <td>52</td>\n",
       "      <td>101</td>\n",
       "      <td>1</td>\n",
       "      <td>0.0</td>\n",
       "    </tr>\n",
       "    <tr>\n",
       "      <th>1</th>\n",
       "      <td>Abbeville</td>\n",
       "      <td>50.136</td>\n",
       "      <td>1.834</td>\n",
       "      <td>69</td>\n",
       "      <td>NO</td>\n",
       "      <td>2017-01-01 03:00:00</td>\n",
       "      <td>0.0</td>\n",
       "      <td>0.0</td>\n",
       "      <td>-5.1</td>\n",
       "      <td>94.0</td>\n",
       "      <td>7.36</td>\n",
       "      <td>1015.8</td>\n",
       "      <td>1</td>\n",
       "      <td>2017</td>\n",
       "      <td>201701</td>\n",
       "      <td>52</td>\n",
       "      <td>101</td>\n",
       "      <td>1</td>\n",
       "      <td>0.0</td>\n",
       "    </tr>\n",
       "    <tr>\n",
       "      <th>2</th>\n",
       "      <td>Abbeville</td>\n",
       "      <td>50.136</td>\n",
       "      <td>1.834</td>\n",
       "      <td>69</td>\n",
       "      <td>NO</td>\n",
       "      <td>2017-01-01 06:00:00</td>\n",
       "      <td>0.0</td>\n",
       "      <td>0.0</td>\n",
       "      <td>-4.1</td>\n",
       "      <td>96.0</td>\n",
       "      <td>3.50</td>\n",
       "      <td>1013.1</td>\n",
       "      <td>1</td>\n",
       "      <td>2017</td>\n",
       "      <td>201701</td>\n",
       "      <td>52</td>\n",
       "      <td>101</td>\n",
       "      <td>1</td>\n",
       "      <td>0.0</td>\n",
       "    </tr>\n",
       "    <tr>\n",
       "      <th>3</th>\n",
       "      <td>Abbeville</td>\n",
       "      <td>50.136</td>\n",
       "      <td>1.834</td>\n",
       "      <td>69</td>\n",
       "      <td>NO</td>\n",
       "      <td>2017-01-01 09:00:00</td>\n",
       "      <td>0.0</td>\n",
       "      <td>0.0</td>\n",
       "      <td>-2.2</td>\n",
       "      <td>97.0</td>\n",
       "      <td>4.00</td>\n",
       "      <td>1011.7</td>\n",
       "      <td>1</td>\n",
       "      <td>2017</td>\n",
       "      <td>201701</td>\n",
       "      <td>52</td>\n",
       "      <td>101</td>\n",
       "      <td>1</td>\n",
       "      <td>0.0</td>\n",
       "    </tr>\n",
       "    <tr>\n",
       "      <th>4</th>\n",
       "      <td>Abbeville</td>\n",
       "      <td>50.136</td>\n",
       "      <td>1.834</td>\n",
       "      <td>69</td>\n",
       "      <td>NO</td>\n",
       "      <td>2017-01-01 12:00:00</td>\n",
       "      <td>0.0</td>\n",
       "      <td>0.0</td>\n",
       "      <td>-0.9</td>\n",
       "      <td>98.0</td>\n",
       "      <td>4.00</td>\n",
       "      <td>1010.3</td>\n",
       "      <td>1</td>\n",
       "      <td>2017</td>\n",
       "      <td>201701</td>\n",
       "      <td>52</td>\n",
       "      <td>101</td>\n",
       "      <td>1</td>\n",
       "      <td>0.0</td>\n",
       "    </tr>\n",
       "  </tbody>\n",
       "</table>\n",
       "</div>"
      ],
      "text/plain": [
       "         Nom  Latitude  Longitude  Altitude Zone           DateHeure  \\\n",
       "0  Abbeville    50.136      1.834        69   NO 2017-01-01 00:00:00   \n",
       "1  Abbeville    50.136      1.834        69   NO 2017-01-01 03:00:00   \n",
       "2  Abbeville    50.136      1.834        69   NO 2017-01-01 06:00:00   \n",
       "3  Abbeville    50.136      1.834        69   NO 2017-01-01 09:00:00   \n",
       "4  Abbeville    50.136      1.834        69   NO 2017-01-01 12:00:00   \n",
       "\n",
       "   DirectionVent  VitesseVent  Temperature  Humidite  Visibilite  Pression  \\\n",
       "0            0.0          0.0         -3.9      96.0        1.74    1018.0   \n",
       "1            0.0          0.0         -5.1      94.0        7.36    1015.8   \n",
       "2            0.0          0.0         -4.1      96.0        3.50    1013.1   \n",
       "3            0.0          0.0         -2.2      97.0        4.00    1011.7   \n",
       "4            0.0          0.0         -0.9      98.0        4.00    1010.3   \n",
       "\n",
       "   Mois  Annee  AnneeMois  Semaine  MoisJour  JourA  Precipitation  \n",
       "0     1   2017     201701       52       101      1            0.0  \n",
       "1     1   2017     201701       52       101      1            0.0  \n",
       "2     1   2017     201701       52       101      1            0.0  \n",
       "3     1   2017     201701       52       101      1            0.0  \n",
       "4     1   2017     201701       52       101      1            0.0  "
      ]
     },
     "execution_count": 47,
     "metadata": {},
     "output_type": "execute_result"
    }
   ],
   "source": [
    "meteo.head()"
   ]
  },
  {
   "cell_type": "code",
   "execution_count": 48,
   "metadata": {
    "ExecuteTime": {
     "end_time": "2021-12-09T12:36:26.314323Z",
     "start_time": "2021-12-09T12:36:26.299208Z"
    }
   },
   "outputs": [
    {
     "data": {
      "text/plain": [
       "Index(['Nom', 'Latitude', 'Longitude', 'Altitude', 'Zone', 'DateHeure',\n",
       "       'DirectionVent', 'VitesseVent', 'Temperature', 'Humidite', 'Visibilite',\n",
       "       'Pression', 'Mois', 'Annee', 'AnneeMois', 'Semaine', 'MoisJour',\n",
       "       'JourA', 'Precipitation'],\n",
       "      dtype='object')"
      ]
     },
     "execution_count": 48,
     "metadata": {},
     "output_type": "execute_result"
    }
   ],
   "source": [
    "meteo.columns"
   ]
  },
  {
   "cell_type": "markdown",
   "metadata": {},
   "source": [
    "# La temperature mensuelle"
   ]
  },
  {
   "cell_type": "code",
   "execution_count": null,
   "metadata": {
    "ExecuteTime": {
     "end_time": "2021-12-09T12:36:38.167977Z",
     "start_time": "2021-12-09T12:36:37.578376Z"
    }
   },
   "outputs": [],
   "source": [
    "temperatures = meteo[['Nom', 'Latitude', 'Longitude', 'Altitude','Zone', \n",
    "                'Temperature','Mois']].pivot_table(index=['Nom', 'Latitude', 'Longitude', 'Altitude','Zone'],\n",
    "                           columns='Mois')\n",
    "temperatures.columns = ['janv.','févr.','mars','avr.','mai','juin','juill.','août','sept.','oct.','nov.','déc.']\n",
    "temperatures.head()"
   ]
  },
  {
   "cell_type": "code",
   "execution_count": null,
   "metadata": {
    "ExecuteTime": {
     "end_time": "2021-12-09T12:36:42.704116Z",
     "start_time": "2021-12-09T12:36:42.694144Z"
    }
   },
   "outputs": [],
   "source": [
    "temperatures.to_parquet('../donnees/temperatures.gzip',compression='gzip', engine='pyarrow')"
   ]
  },
  {
   "cell_type": "code",
   "execution_count": null,
   "metadata": {
    "ExecuteTime": {
     "end_time": "2021-12-09T12:36:42.887483Z",
     "start_time": "2021-12-09T12:36:42.878506Z"
    }
   },
   "outputs": [],
   "source": [
    "temperatures.to_csv('../donnees/temperatures.csv')"
   ]
  },
  {
   "cell_type": "code",
   "execution_count": null,
   "metadata": {
    "ExecuteTime": {
     "end_time": "2021-12-09T12:36:43.745099Z",
     "start_time": "2021-12-09T12:36:43.730141Z"
    }
   },
   "outputs": [],
   "source": [
    "%%time\n",
    "temperatures = pd.read_parquet('../donnees/temperatures.gzip', engine='pyarrow')\n",
    "temperatures.dtypes"
   ]
  },
  {
   "cell_type": "code",
   "execution_count": null,
   "metadata": {
    "ExecuteTime": {
     "end_time": "2021-12-09T12:36:46.927228Z",
     "start_time": "2021-12-09T12:36:46.910274Z"
    }
   },
   "outputs": [],
   "source": [
    "temperatures.head()"
   ]
  },
  {
   "cell_type": "markdown",
   "metadata": {},
   "source": [
    "# La météo mensuelle"
   ]
  },
  {
   "cell_type": "code",
   "execution_count": null,
   "metadata": {
    "ExecuteTime": {
     "end_time": "2021-12-09T12:36:59.431940Z",
     "start_time": "2021-12-09T12:36:58.754565Z"
    }
   },
   "outputs": [],
   "source": [
    "meteoM = meteo[['Nom', 'Latitude', 'Longitude', 'Altitude','Zone', \n",
    "                'VitesseVent', 'Temperature', 'Humidite', \n",
    "                'Visibilite','Pression','Precipitation', \n",
    "                'Mois']].pivot_table(index=['Nom', 'Latitude', 'Longitude', 'Altitude','Zone'],\n",
    "                           columns='Mois')\n",
    "meteoM.columns = [f'{x[1]:02d}{x[0]}' for x in meteoM.columns]\n",
    "meteoM.head()"
   ]
  },
  {
   "cell_type": "code",
   "execution_count": null,
   "metadata": {
    "ExecuteTime": {
     "end_time": "2021-12-09T12:37:01.981943Z",
     "start_time": "2021-12-09T12:37:01.953801Z"
    }
   },
   "outputs": [],
   "source": [
    "meteoM.to_parquet('../donnees/meteoM.gzip',compression='gzip', engine='pyarrow')"
   ]
  },
  {
   "cell_type": "code",
   "execution_count": null,
   "metadata": {
    "ExecuteTime": {
     "end_time": "2021-12-09T12:37:02.665675Z",
     "start_time": "2021-12-09T12:37:02.642736Z"
    }
   },
   "outputs": [],
   "source": [
    "%%time\n",
    "meteoM = pd.read_parquet('../donnees/meteoM.gzip', engine='pyarrow')\n",
    "meteoM.dtypes"
   ]
  },
  {
   "cell_type": "code",
   "execution_count": null,
   "metadata": {
    "ExecuteTime": {
     "end_time": "2021-12-09T12:37:05.187833Z",
     "start_time": "2021-12-09T12:37:05.162926Z"
    }
   },
   "outputs": [],
   "source": [
    "meteoM.head()"
   ]
  },
  {
   "cell_type": "markdown",
   "metadata": {},
   "source": [
    "# La météo \thebdomadaire"
   ]
  },
  {
   "cell_type": "code",
   "execution_count": null,
   "metadata": {
    "ExecuteTime": {
     "end_time": "2021-12-09T12:37:16.404744Z",
     "start_time": "2021-12-09T12:37:15.706876Z"
    }
   },
   "outputs": [],
   "source": [
    "meteoH = meteo[['Nom', 'Latitude', 'Longitude', 'Altitude','Zone', \n",
    "                'VitesseVent', 'Temperature', 'Humidite', \n",
    "                'Visibilite','Pression','Precipitation', \n",
    "                'Semaine']].pivot_table(index=['Nom', 'Latitude', 'Longitude', 'Altitude','Zone'],\n",
    "                           columns='Semaine')\n",
    "meteoH.columns = [f'{x[1]:02d}{x[0]}' for x in meteoH.columns]\n",
    "meteoH.head()"
   ]
  },
  {
   "cell_type": "code",
   "execution_count": null,
   "metadata": {
    "ExecuteTime": {
     "end_time": "2021-12-09T12:37:18.743909Z",
     "start_time": "2021-12-09T12:37:18.722309Z"
    }
   },
   "outputs": [],
   "source": [
    "meteoH.isna().sum()[meteoH.isna().sum() > 0]"
   ]
  },
  {
   "cell_type": "code",
   "execution_count": null,
   "metadata": {
    "ExecuteTime": {
     "end_time": "2021-12-09T12:37:19.427344Z",
     "start_time": "2021-12-09T12:37:19.369970Z"
    }
   },
   "outputs": [],
   "source": [
    "meteoH.to_parquet('../donnees/meteoH.gzip',compression='gzip', engine='pyarrow')"
   ]
  },
  {
   "cell_type": "code",
   "execution_count": null,
   "metadata": {
    "ExecuteTime": {
     "end_time": "2021-12-09T12:37:20.001525Z",
     "start_time": "2021-12-09T12:37:19.954650Z"
    }
   },
   "outputs": [],
   "source": [
    "%%time\n",
    "meteoH = pd.read_parquet('../donnees/meteoH.gzip', engine='pyarrow')\n",
    "meteoH.dtypes"
   ]
  },
  {
   "cell_type": "code",
   "execution_count": null,
   "metadata": {
    "ExecuteTime": {
     "end_time": "2021-12-09T12:37:22.009636Z",
     "start_time": "2021-12-09T12:37:21.986673Z"
    }
   },
   "outputs": [],
   "source": [
    "meteoH.head()"
   ]
  },
  {
   "cell_type": "markdown",
   "metadata": {},
   "source": [
    "# La météo \tjournalière"
   ]
  },
  {
   "cell_type": "code",
   "execution_count": null,
   "metadata": {
    "ExecuteTime": {
     "end_time": "2021-12-09T12:37:29.570605Z",
     "start_time": "2021-12-09T12:37:28.858340Z"
    }
   },
   "outputs": [],
   "source": [
    "meteoJ = meteo[['Nom', 'Latitude', 'Longitude', 'Altitude','Zone', \n",
    "                'VitesseVent', 'Temperature', 'Humidite', \n",
    "                'Visibilite','Pression','Precipitation', \n",
    "                'MoisJour']].pivot_table(index=['Nom', 'Latitude', 'Longitude', 'Altitude','Zone'],\n",
    "                           columns='MoisJour')\n",
    "meteoJ.columns = [f'{x[1]:04d}{x[0]}' for x in meteoJ.columns]\n",
    "meteoJ.head()"
   ]
  },
  {
   "cell_type": "code",
   "execution_count": null,
   "metadata": {
    "ExecuteTime": {
     "end_time": "2021-12-09T12:37:32.097285Z",
     "start_time": "2021-12-09T12:37:31.762594Z"
    }
   },
   "outputs": [],
   "source": [
    "meteoJ.to_parquet('../donnees/meteoJ.gzip',compression='gzip', engine='pyarrow')"
   ]
  },
  {
   "cell_type": "code",
   "execution_count": null,
   "metadata": {
    "ExecuteTime": {
     "end_time": "2021-12-09T12:37:32.771498Z",
     "start_time": "2021-12-09T12:37:32.482304Z"
    }
   },
   "outputs": [],
   "source": [
    "%%time\n",
    "meteoJ = pd.read_parquet('../donnees/meteoJ.gzip', engine='pyarrow')\n",
    "meteoJ.dtypes"
   ]
  },
  {
   "cell_type": "code",
   "execution_count": null,
   "metadata": {
    "ExecuteTime": {
     "end_time": "2021-12-09T12:37:35.716566Z",
     "start_time": "2021-12-09T12:37:35.682657Z"
    }
   },
   "outputs": [],
   "source": [
    "meteoJ.head()"
   ]
  },
  {
   "cell_type": "code",
   "execution_count": null,
   "metadata": {
    "ExecuteTime": {
     "end_time": "2021-12-09T12:37:37.241991Z",
     "start_time": "2021-12-09T12:37:37.217831Z"
    }
   },
   "outputs": [],
   "source": [
    "meteoJ.isna().sum()[meteoJ.isna().sum() > 0]"
   ]
  },
  {
   "cell_type": "code",
   "execution_count": null,
   "metadata": {},
   "outputs": [],
   "source": []
  },
  {
   "cell_type": "code",
   "execution_count": null,
   "metadata": {},
   "outputs": [],
   "source": []
  }
 ],
 "metadata": {
  "kernelspec": {
   "display_name": "Python 3 (ipykernel)",
   "language": "python",
   "name": "python3"
  },
  "language_info": {
   "codemirror_mode": {
    "name": "ipython",
    "version": 3
   },
   "file_extension": ".py",
   "mimetype": "text/x-python",
   "name": "python",
   "nbconvert_exporter": "python",
   "pygments_lexer": "ipython3",
   "version": "3.10.0"
  },
  "toc": {
   "base_numbering": 1,
   "nav_menu": {},
   "number_sections": true,
   "sideBar": true,
   "skip_h1_title": false,
   "title_cell": "Table of Contents",
   "title_sidebar": "Contents",
   "toc_cell": true,
   "toc_position": {},
   "toc_section_display": true,
   "toc_window_display": false
  }
 },
 "nbformat": 4,
 "nbformat_minor": 4
}
