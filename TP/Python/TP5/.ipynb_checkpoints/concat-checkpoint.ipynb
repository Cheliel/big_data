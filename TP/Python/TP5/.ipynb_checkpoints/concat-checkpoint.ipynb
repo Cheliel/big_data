{
 "cells": [
  {
   "cell_type": "code",
   "execution_count": 24,
   "id": "21de99d3-aedb-477b-8dab-585ff6a5a5c5",
   "metadata": {},
   "outputs": [
    {
     "name": "stdout",
     "output_type": "stream",
     "text": [
      "../../_git/donnees/meteo/2023\\synop.202301.csv\n",
      "../../_git/donnees/meteo/2023\\synop.202301.csv\n",
      "../../_git/donnees/meteo/2023\\synop.202302.csv\n",
      "../../_git/donnees/meteo/2023\\synop.202302.csv\n"
     ]
    },
    {
     "ename": "IndexError",
     "evalue": "list assignment index out of range",
     "output_type": "error",
     "traceback": [
      "\u001b[1;31m---------------------------------------------------------------------------\u001b[0m",
      "\u001b[1;31mIndexError\u001b[0m                                Traceback (most recent call last)",
      "Cell \u001b[1;32mIn[24], line 21\u001b[0m\n\u001b[0;32m     18\u001b[0m     \u001b[38;5;28mprint\u001b[39m(path)\n\u001b[0;32m     19\u001b[0m     \u001b[38;5;28;01mreturn\u001b[39;00m pd\u001b[38;5;241m.\u001b[39mread_csv(path, sep\u001b[38;5;241m=\u001b[39m\u001b[38;5;124m'\u001b[39m\u001b[38;5;124m;\u001b[39m\u001b[38;5;124m'\u001b[39m, dtype\u001b[38;5;241m=\u001b[39m{\u001b[38;5;124m'\u001b[39m\u001b[38;5;124mdate\u001b[39m\u001b[38;5;124m'\u001b[39m:\u001b[38;5;124m'\u001b[39m\u001b[38;5;124mstr\u001b[39m\u001b[38;5;124m'\u001b[39m}, na_values\u001b[38;5;241m=\u001b[39m\u001b[38;5;124m'\u001b[39m\u001b[38;5;124mmq\u001b[39m\u001b[38;5;124m'\u001b[39m)\n\u001b[1;32m---> 21\u001b[0m \u001b[43mgetDataFrames\u001b[49m\u001b[43m(\u001b[49m\u001b[43m)\u001b[49m\n",
      "Cell \u001b[1;32mIn[24], line 14\u001b[0m, in \u001b[0;36mgetDataFrames\u001b[1;34m(path)\u001b[0m\n\u001b[0;32m     12\u001b[0m \u001b[38;5;28;01mfor\u001b[39;00m i \u001b[38;5;129;01min\u001b[39;00m \u001b[38;5;28mrange\u001b[39m((\u001b[38;5;28mlen\u001b[39m(filesPath))):\n\u001b[0;32m     13\u001b[0m     \u001b[38;5;28mprint\u001b[39m(filesPath[i])\n\u001b[1;32m---> 14\u001b[0m     DFlist[i] \u001b[38;5;241m=\u001b[39m getDF(filesPath[i])\n\u001b[0;32m     16\u001b[0m \u001b[38;5;28mprint\u001b[39m(DFlist)\n",
      "\u001b[1;31mIndexError\u001b[0m: list assignment index out of range"
     ]
    }
   ],
   "source": [
    "import pandas as pd\n",
    "from os import listdir\n",
    "import glob\n",
    "\n",
    "\n",
    "def getDirectoryList(directoryPath=\"../../_git/donnees/meteo/2023\"):\n",
    "    return glob.glob(glob.escape(directoryPath) + \"/*.csv\")\n",
    "\n",
    "def getDataFrames(path=\"../../_git/donnees/meteo/2023\"):\n",
    "    filesPath = getDirectoryList()\n",
    "    DFlist = []\n",
    "    for i in range((len(filesPath))):\n",
    "        print(filesPath[i])\n",
    "        DFlist.append(getDF(filesPath[i]))\n",
    "\n",
    "    print(DFlist)\n",
    "def getDF(path):\n",
    "    print(path)\n",
    "    return pd.read_csv(path, sep=';', dtype={'date':'str'}, na_values='mq')\n",
    "\n",
    "getDataFrames()\n",
    "#data = pd.read_csv('../../_git/donnees/meteo/2023/synop.202309.csv', sep=';', dtype={'date':'str'}, na_values='mq')\n",
    "\n"
   ]
  }
 ],
 "metadata": {
  "kernelspec": {
   "display_name": "Python 3 (ipykernel)",
   "language": "python",
   "name": "python3"
  },
  "language_info": {
   "codemirror_mode": {
    "name": "ipython",
    "version": 3
   },
   "file_extension": ".py",
   "mimetype": "text/x-python",
   "name": "python",
   "nbconvert_exporter": "python",
   "pygments_lexer": "ipython3",
   "version": "3.10.0"
  }
 },
 "nbformat": 4,
 "nbformat_minor": 5
}
