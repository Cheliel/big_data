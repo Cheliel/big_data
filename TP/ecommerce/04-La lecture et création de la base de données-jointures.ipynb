{
 "cells": [
  {
   "cell_type": "markdown",
   "metadata": {
    "ExecuteTime": {
     "end_time": "2020-10-24T12:16:35.438079Z",
     "start_time": "2020-10-24T12:16:35.433094Z"
    }
   },
   "source": [
    "<img src=\"https://raw.githubusercontent.com/rbizoi/PythonFormation/main/images/e-brasil.png\" width=\"850\">"
   ]
  },
  {
   "cell_type": "markdown",
   "metadata": {},
   "source": [
    "# Les imports et initialisations des variables"
   ]
  },
  {
   "cell_type": "code",
   "execution_count": 1,
   "metadata": {
    "ExecuteTime": {
     "end_time": "2020-10-24T18:39:25.948711Z",
     "start_time": "2020-10-24T18:39:24.506560Z"
    }
   },
   "outputs": [],
   "source": [
    "from datetime import datetime\n",
    "import pandas as pd, numpy as np, os, warnings, seaborn as sns, pickle, re, unicodedata\n",
    "from datetime import datetime as dt\n",
    "import matplotlib.pyplot as plt\n",
    "import matplotlib.font_manager as fm\n",
    "\n",
    "\n",
    "os.chdir(\"C:/Users/etien/Documents/CCI/_HUB/cours/2024-2025/big_data/_git/donnees\")\n",
    "\n",
    "\n",
    "font1 = fm.FontProperties(size=20)\n",
    "font2 = fm.FontProperties(size=24)\n",
    "\n",
    "%matplotlib inline\n",
    "\n",
    "if int(str(sns.__version__).split('.')[1]) > 8 : \n",
    "    plt.style.use('seaborn-v0_8-darkgrid')\n",
    "else:\n",
    "    plt.style.use('seaborn-darkgrid')\n",
    "    \n",
    "sns.set(font_scale=2)\n",
    "warnings.filterwarnings(action=\"ignore\")"
   ]
  },
  {
   "cell_type": "markdown",
   "metadata": {},
   "source": [
    "## Liste fichiers de données "
   ]
  },
  {
   "cell_type": "code",
   "execution_count": 2,
   "metadata": {},
   "outputs": [
    {
     "name": "stdout",
     "output_type": "stream",
     "text": [
      " Le volume dans le lecteur C s’appelle Windows-SSD\n",
      " Le numéro de série du volume est 84DC-AF7F\n",
      "\n",
      " Répertoire de C:\\Users\\etien\\Documents\\CCI\\_HUB\\cours\\2024-2025\\big_data\\_git\\donnees\\ebrasil\n",
      "\n",
      "20/11/2024  16:30    <DIR>          .\n",
      "20/11/2024  15:02    <DIR>          ..\n",
      "06/10/2019  21:27         9 033 957 olist_customers_dataset.csv\n",
      "06/10/2019  21:27        61 273 883 olist_geolocation_dataset.csv\n",
      "06/10/2019  21:27        17 654 914 olist_orders_dataset.csv\n",
      "06/10/2019  21:27        15 438 671 olist_order_items_dataset.csv\n",
      "06/10/2019  21:27         5 777 138 olist_order_payments_dataset.csv\n",
      "06/10/2019  21:27        14 409 007 olist_order_reviews_dataset.csv\n",
      "06/10/2019  21:27         2 379 446 olist_products_dataset.csv\n",
      "28/09/2020  08:52           177 799 olist_sellers_dataset.csv\n",
      "12/11/2024  14:11             2 613 product_category_name_translation.csv\n",
      "               9 fichier(s)      126 147 428 octets\n",
      "               2 Rép(s)  710 575 874 048 octets libres\n"
     ]
    }
   ],
   "source": [
    "!dir ..\\donnees\\ebrasil"
   ]
  },
  {
   "cell_type": "markdown",
   "metadata": {},
   "source": [
    "## Changement de répertoire"
   ]
  },
  {
   "cell_type": "code",
   "execution_count": 3,
   "metadata": {},
   "outputs": [],
   "source": [
    "os.chdir(r\"../donnees\")"
   ]
  },
  {
   "cell_type": "markdown",
   "metadata": {},
   "source": [
    "# DataFrame $items$"
   ]
  },
  {
   "cell_type": "code",
   "execution_count": 4,
   "metadata": {},
   "outputs": [],
   "source": [
    "orders   = pd.read_parquet('./ecommerce/orders.parquet')\n",
    "items    = pd.read_parquet('./ecommerce/items.parquet')\n",
    "payments = pd.read_parquet('./ecommerce/paymentsI.parquet')"
   ]
  },
  {
   "cell_type": "code",
   "execution_count": 5,
   "metadata": {},
   "outputs": [
    {
     "data": {
      "text/html": [
       "<div>\n",
       "<style scoped>\n",
       "    .dataframe tbody tr th:only-of-type {\n",
       "        vertical-align: middle;\n",
       "    }\n",
       "\n",
       "    .dataframe tbody tr th {\n",
       "        vertical-align: top;\n",
       "    }\n",
       "\n",
       "    .dataframe thead th {\n",
       "        text-align: right;\n",
       "    }\n",
       "</style>\n",
       "<table border=\"1\" class=\"dataframe\">\n",
       "  <thead>\n",
       "    <tr style=\"text-align: right;\">\n",
       "      <th></th>\n",
       "      <th>order_id</th>\n",
       "      <th>customer_id</th>\n",
       "      <th>purchase_timestamp</th>\n",
       "      <th>approved_at</th>\n",
       "      <th>delivered_carrier</th>\n",
       "      <th>delivered_customer</th>\n",
       "      <th>estimated_delivery</th>\n",
       "      <th>status</th>\n",
       "      <th>annee</th>\n",
       "      <th>mois</th>\n",
       "      <th>...</th>\n",
       "      <th>jour_semaine</th>\n",
       "      <th>trimestre</th>\n",
       "      <th>annee_trimestre</th>\n",
       "      <th>semaine</th>\n",
       "      <th>annee_semaine</th>\n",
       "      <th>heure</th>\n",
       "      <th>approuvee</th>\n",
       "      <th>envoyee</th>\n",
       "      <th>livree</th>\n",
       "      <th>estimee</th>\n",
       "    </tr>\n",
       "  </thead>\n",
       "  <tbody>\n",
       "    <tr>\n",
       "      <th>0</th>\n",
       "      <td>e481f51cbdc54678b7cc49136f2d6af7</td>\n",
       "      <td>9ef432eb6251297304e76186b10a928d</td>\n",
       "      <td>2017-10-02 10:56:33</td>\n",
       "      <td>2017-10-02 11:07:15</td>\n",
       "      <td>2017-10-04 19:55:00</td>\n",
       "      <td>2017-10-10 21:25:13</td>\n",
       "      <td>2017-10-18</td>\n",
       "      <td>delivered</td>\n",
       "      <td>2017</td>\n",
       "      <td>10</td>\n",
       "      <td>...</td>\n",
       "      <td>0</td>\n",
       "      <td>4</td>\n",
       "      <td>20174</td>\n",
       "      <td>40</td>\n",
       "      <td>201740</td>\n",
       "      <td>10</td>\n",
       "      <td>0.178333</td>\n",
       "      <td>8.974167</td>\n",
       "      <td>10.477778</td>\n",
       "      <td>13.057500</td>\n",
       "    </tr>\n",
       "    <tr>\n",
       "      <th>1</th>\n",
       "      <td>53cdb2fc8bc7dce0b6741e2150273451</td>\n",
       "      <td>b0830fb4747a6c6d20dea0b8c802d7ef</td>\n",
       "      <td>2018-07-24 20:41:37</td>\n",
       "      <td>2018-07-26 03:24:27</td>\n",
       "      <td>2018-07-26 14:31:00</td>\n",
       "      <td>2018-08-07 15:27:45</td>\n",
       "      <td>2018-08-13</td>\n",
       "      <td>delivered</td>\n",
       "      <td>2018</td>\n",
       "      <td>7</td>\n",
       "      <td>...</td>\n",
       "      <td>1</td>\n",
       "      <td>3</td>\n",
       "      <td>20183</td>\n",
       "      <td>30</td>\n",
       "      <td>201830</td>\n",
       "      <td>20</td>\n",
       "      <td>6.713889</td>\n",
       "      <td>17.823056</td>\n",
       "      <td>18.768889</td>\n",
       "      <td>3.306389</td>\n",
       "    </tr>\n",
       "    <tr>\n",
       "      <th>2</th>\n",
       "      <td>47770eb9100c2d0c44946d9cf07ec65d</td>\n",
       "      <td>41ce2a54c0b03bf3443c3d931a367089</td>\n",
       "      <td>2018-08-08 08:38:49</td>\n",
       "      <td>2018-08-08 08:55:23</td>\n",
       "      <td>2018-08-08 13:50:00</td>\n",
       "      <td>2018-08-17 18:06:29</td>\n",
       "      <td>2018-09-04</td>\n",
       "      <td>delivered</td>\n",
       "      <td>2018</td>\n",
       "      <td>8</td>\n",
       "      <td>...</td>\n",
       "      <td>2</td>\n",
       "      <td>3</td>\n",
       "      <td>20183</td>\n",
       "      <td>32</td>\n",
       "      <td>201832</td>\n",
       "      <td>8</td>\n",
       "      <td>0.276111</td>\n",
       "      <td>5.186389</td>\n",
       "      <td>9.461111</td>\n",
       "      <td>15.353056</td>\n",
       "    </tr>\n",
       "    <tr>\n",
       "      <th>3</th>\n",
       "      <td>949d5b44dbf5de918fe9c16f97b45f8a</td>\n",
       "      <td>f88197465ea7920adcdbec7375364d82</td>\n",
       "      <td>2017-11-18 19:28:06</td>\n",
       "      <td>2017-11-18 19:45:59</td>\n",
       "      <td>2017-11-22 13:39:59</td>\n",
       "      <td>2017-12-02 00:28:42</td>\n",
       "      <td>2017-12-15</td>\n",
       "      <td>delivered</td>\n",
       "      <td>2017</td>\n",
       "      <td>11</td>\n",
       "      <td>...</td>\n",
       "      <td>5</td>\n",
       "      <td>4</td>\n",
       "      <td>20174</td>\n",
       "      <td>46</td>\n",
       "      <td>201746</td>\n",
       "      <td>19</td>\n",
       "      <td>0.298056</td>\n",
       "      <td>18.198056</td>\n",
       "      <td>5.010000</td>\n",
       "      <td>4.531667</td>\n",
       "    </tr>\n",
       "    <tr>\n",
       "      <th>4</th>\n",
       "      <td>ad21c59c0840e6cb83a9ceb5573f8159</td>\n",
       "      <td>8ab97904e6daea8866dbdbc4fb7aad2c</td>\n",
       "      <td>2018-02-13 21:18:39</td>\n",
       "      <td>2018-02-13 22:20:29</td>\n",
       "      <td>2018-02-14 19:46:34</td>\n",
       "      <td>2018-02-16 18:17:02</td>\n",
       "      <td>2018-02-26</td>\n",
       "      <td>delivered</td>\n",
       "      <td>2018</td>\n",
       "      <td>2</td>\n",
       "      <td>...</td>\n",
       "      <td>1</td>\n",
       "      <td>1</td>\n",
       "      <td>20181</td>\n",
       "      <td>7</td>\n",
       "      <td>201807</td>\n",
       "      <td>21</td>\n",
       "      <td>1.030556</td>\n",
       "      <td>22.465278</td>\n",
       "      <td>20.973056</td>\n",
       "      <td>2.689167</td>\n",
       "    </tr>\n",
       "  </tbody>\n",
       "</table>\n",
       "<p>5 rows × 23 columns</p>\n",
       "</div>"
      ],
      "text/plain": [
       "                           order_id                       customer_id  \\\n",
       "0  e481f51cbdc54678b7cc49136f2d6af7  9ef432eb6251297304e76186b10a928d   \n",
       "1  53cdb2fc8bc7dce0b6741e2150273451  b0830fb4747a6c6d20dea0b8c802d7ef   \n",
       "2  47770eb9100c2d0c44946d9cf07ec65d  41ce2a54c0b03bf3443c3d931a367089   \n",
       "3  949d5b44dbf5de918fe9c16f97b45f8a  f88197465ea7920adcdbec7375364d82   \n",
       "4  ad21c59c0840e6cb83a9ceb5573f8159  8ab97904e6daea8866dbdbc4fb7aad2c   \n",
       "\n",
       "   purchase_timestamp         approved_at   delivered_carrier  \\\n",
       "0 2017-10-02 10:56:33 2017-10-02 11:07:15 2017-10-04 19:55:00   \n",
       "1 2018-07-24 20:41:37 2018-07-26 03:24:27 2018-07-26 14:31:00   \n",
       "2 2018-08-08 08:38:49 2018-08-08 08:55:23 2018-08-08 13:50:00   \n",
       "3 2017-11-18 19:28:06 2017-11-18 19:45:59 2017-11-22 13:39:59   \n",
       "4 2018-02-13 21:18:39 2018-02-13 22:20:29 2018-02-14 19:46:34   \n",
       "\n",
       "   delivered_customer estimated_delivery     status  annee  mois  ...  \\\n",
       "0 2017-10-10 21:25:13         2017-10-18  delivered   2017    10  ...   \n",
       "1 2018-08-07 15:27:45         2018-08-13  delivered   2018     7  ...   \n",
       "2 2018-08-17 18:06:29         2018-09-04  delivered   2018     8  ...   \n",
       "3 2017-12-02 00:28:42         2017-12-15  delivered   2017    11  ...   \n",
       "4 2018-02-16 18:17:02         2018-02-26  delivered   2018     2  ...   \n",
       "\n",
       "   jour_semaine  trimestre  annee_trimestre  semaine  annee_semaine  heure  \\\n",
       "0             0          4            20174       40         201740     10   \n",
       "1             1          3            20183       30         201830     20   \n",
       "2             2          3            20183       32         201832      8   \n",
       "3             5          4            20174       46         201746     19   \n",
       "4             1          1            20181        7         201807     21   \n",
       "\n",
       "   approuvee    envoyee     livree    estimee  \n",
       "0   0.178333   8.974167  10.477778  13.057500  \n",
       "1   6.713889  17.823056  18.768889   3.306389  \n",
       "2   0.276111   5.186389   9.461111  15.353056  \n",
       "3   0.298056  18.198056   5.010000   4.531667  \n",
       "4   1.030556  22.465278  20.973056   2.689167  \n",
       "\n",
       "[5 rows x 23 columns]"
      ]
     },
     "execution_count": 5,
     "metadata": {},
     "output_type": "execute_result"
    }
   ],
   "source": [
    "orders.head()"
   ]
  },
  {
   "cell_type": "code",
   "execution_count": 6,
   "metadata": {},
   "outputs": [
    {
     "data": {
      "text/html": [
       "<div>\n",
       "<style scoped>\n",
       "    .dataframe tbody tr th:only-of-type {\n",
       "        vertical-align: middle;\n",
       "    }\n",
       "\n",
       "    .dataframe tbody tr th {\n",
       "        vertical-align: top;\n",
       "    }\n",
       "\n",
       "    .dataframe thead th {\n",
       "        text-align: right;\n",
       "    }\n",
       "</style>\n",
       "<table border=\"1\" class=\"dataframe\">\n",
       "  <thead>\n",
       "    <tr style=\"text-align: right;\">\n",
       "      <th></th>\n",
       "      <th>order_id</th>\n",
       "      <th>order_item_id</th>\n",
       "      <th>product_id</th>\n",
       "      <th>seller_id</th>\n",
       "      <th>price</th>\n",
       "      <th>freight_value</th>\n",
       "      <th>shipping_limit</th>\n",
       "      <th>limit</th>\n",
       "    </tr>\n",
       "  </thead>\n",
       "  <tbody>\n",
       "    <tr>\n",
       "      <th>0</th>\n",
       "      <td>00010242fe8c5a6d1ba2dd792cb16214</td>\n",
       "      <td>1</td>\n",
       "      <td>4244733e06e7ecb4970a6e2683c13e61</td>\n",
       "      <td>48436dade18ac8b2bce089ec2a041202</td>\n",
       "      <td>58.90</td>\n",
       "      <td>13.29</td>\n",
       "      <td>2017-09-19 09:45:35</td>\n",
       "      <td>0.775833</td>\n",
       "    </tr>\n",
       "    <tr>\n",
       "      <th>1</th>\n",
       "      <td>00018f77f2f0320c557190d7a144bdd3</td>\n",
       "      <td>1</td>\n",
       "      <td>e5f2d52b802189ee658865ca93d83a8f</td>\n",
       "      <td>dd7ddc04e1b6c2c614352b383efe2d36</td>\n",
       "      <td>239.90</td>\n",
       "      <td>19.93</td>\n",
       "      <td>2017-05-03 11:05:13</td>\n",
       "      <td>0.201944</td>\n",
       "    </tr>\n",
       "    <tr>\n",
       "      <th>2</th>\n",
       "      <td>000229ec398224ef6ca0657da4fc703e</td>\n",
       "      <td>1</td>\n",
       "      <td>c777355d18b72b67abbeef9df44fd0fd</td>\n",
       "      <td>5b51032eddd242adc84c38acab88f23d</td>\n",
       "      <td>199.00</td>\n",
       "      <td>17.87</td>\n",
       "      <td>2018-01-18 14:48:30</td>\n",
       "      <td>0.249722</td>\n",
       "    </tr>\n",
       "    <tr>\n",
       "      <th>3</th>\n",
       "      <td>00024acbcdf0a6daa1e931b038114c75</td>\n",
       "      <td>1</td>\n",
       "      <td>7634da152a4610f1595efa32f14722fc</td>\n",
       "      <td>9d7a1d34a5052409006425275ba1c2b4</td>\n",
       "      <td>12.99</td>\n",
       "      <td>12.79</td>\n",
       "      <td>2018-08-15 10:10:18</td>\n",
       "      <td>0.161944</td>\n",
       "    </tr>\n",
       "    <tr>\n",
       "      <th>4</th>\n",
       "      <td>00042b26cf59d7ce69dfabb4e55b4fd9</td>\n",
       "      <td>1</td>\n",
       "      <td>ac6c3623068f30de03045865e4e10089</td>\n",
       "      <td>df560393f3a51e74553ab94004ba5c87</td>\n",
       "      <td>199.90</td>\n",
       "      <td>18.14</td>\n",
       "      <td>2017-02-13 13:57:51</td>\n",
       "      <td>0.000000</td>\n",
       "    </tr>\n",
       "  </tbody>\n",
       "</table>\n",
       "</div>"
      ],
      "text/plain": [
       "                           order_id  order_item_id  \\\n",
       "0  00010242fe8c5a6d1ba2dd792cb16214              1   \n",
       "1  00018f77f2f0320c557190d7a144bdd3              1   \n",
       "2  000229ec398224ef6ca0657da4fc703e              1   \n",
       "3  00024acbcdf0a6daa1e931b038114c75              1   \n",
       "4  00042b26cf59d7ce69dfabb4e55b4fd9              1   \n",
       "\n",
       "                         product_id                         seller_id   price  \\\n",
       "0  4244733e06e7ecb4970a6e2683c13e61  48436dade18ac8b2bce089ec2a041202   58.90   \n",
       "1  e5f2d52b802189ee658865ca93d83a8f  dd7ddc04e1b6c2c614352b383efe2d36  239.90   \n",
       "2  c777355d18b72b67abbeef9df44fd0fd  5b51032eddd242adc84c38acab88f23d  199.00   \n",
       "3  7634da152a4610f1595efa32f14722fc  9d7a1d34a5052409006425275ba1c2b4   12.99   \n",
       "4  ac6c3623068f30de03045865e4e10089  df560393f3a51e74553ab94004ba5c87  199.90   \n",
       "\n",
       "   freight_value      shipping_limit     limit  \n",
       "0          13.29 2017-09-19 09:45:35  0.775833  \n",
       "1          19.93 2017-05-03 11:05:13  0.201944  \n",
       "2          17.87 2018-01-18 14:48:30  0.249722  \n",
       "3          12.79 2018-08-15 10:10:18  0.161944  \n",
       "4          18.14 2017-02-13 13:57:51  0.000000  "
      ]
     },
     "execution_count": 6,
     "metadata": {},
     "output_type": "execute_result"
    }
   ],
   "source": [
    "items.head()"
   ]
  },
  {
   "cell_type": "code",
   "execution_count": 7,
   "metadata": {},
   "outputs": [
    {
     "data": {
      "text/html": [
       "<div>\n",
       "<style scoped>\n",
       "    .dataframe tbody tr th:only-of-type {\n",
       "        vertical-align: middle;\n",
       "    }\n",
       "\n",
       "    .dataframe tbody tr th {\n",
       "        vertical-align: top;\n",
       "    }\n",
       "\n",
       "    .dataframe thead th {\n",
       "        text-align: right;\n",
       "    }\n",
       "</style>\n",
       "<table border=\"1\" class=\"dataframe\">\n",
       "  <thead>\n",
       "    <tr style=\"text-align: right;\">\n",
       "      <th></th>\n",
       "      <th>order_id</th>\n",
       "      <th>sequential</th>\n",
       "      <th>type</th>\n",
       "      <th>installments</th>\n",
       "      <th>value</th>\n",
       "    </tr>\n",
       "  </thead>\n",
       "  <tbody>\n",
       "    <tr>\n",
       "      <th>0</th>\n",
       "      <td>b81ef226f3fe1789b1e8b2acac839d17</td>\n",
       "      <td>1</td>\n",
       "      <td>credit_card</td>\n",
       "      <td>8</td>\n",
       "      <td>99.33</td>\n",
       "    </tr>\n",
       "    <tr>\n",
       "      <th>1</th>\n",
       "      <td>a9810da82917af2d9aefd1278f1dcfa0</td>\n",
       "      <td>1</td>\n",
       "      <td>credit_card</td>\n",
       "      <td>1</td>\n",
       "      <td>24.39</td>\n",
       "    </tr>\n",
       "    <tr>\n",
       "      <th>2</th>\n",
       "      <td>25e8ea4e93396b6fa0d3dd708e76c1bd</td>\n",
       "      <td>1</td>\n",
       "      <td>credit_card</td>\n",
       "      <td>1</td>\n",
       "      <td>65.71</td>\n",
       "    </tr>\n",
       "    <tr>\n",
       "      <th>3</th>\n",
       "      <td>ba78997921bbcdc1373bb41e913ab953</td>\n",
       "      <td>1</td>\n",
       "      <td>credit_card</td>\n",
       "      <td>8</td>\n",
       "      <td>107.78</td>\n",
       "    </tr>\n",
       "    <tr>\n",
       "      <th>4</th>\n",
       "      <td>42fdf880ba16b47b59251dd489d4441a</td>\n",
       "      <td>1</td>\n",
       "      <td>credit_card</td>\n",
       "      <td>2</td>\n",
       "      <td>128.45</td>\n",
       "    </tr>\n",
       "  </tbody>\n",
       "</table>\n",
       "</div>"
      ],
      "text/plain": [
       "                           order_id  sequential         type  installments  \\\n",
       "0  b81ef226f3fe1789b1e8b2acac839d17           1  credit_card             8   \n",
       "1  a9810da82917af2d9aefd1278f1dcfa0           1  credit_card             1   \n",
       "2  25e8ea4e93396b6fa0d3dd708e76c1bd           1  credit_card             1   \n",
       "3  ba78997921bbcdc1373bb41e913ab953           1  credit_card             8   \n",
       "4  42fdf880ba16b47b59251dd489d4441a           1  credit_card             2   \n",
       "\n",
       "    value  \n",
       "0   99.33  \n",
       "1   24.39  \n",
       "2   65.71  \n",
       "3  107.78  \n",
       "4  128.45  "
      ]
     },
     "execution_count": 7,
     "metadata": {},
     "output_type": "execute_result"
    }
   ],
   "source": [
    "payments.head()"
   ]
  },
  {
   "cell_type": "code",
   "execution_count": 8,
   "metadata": {},
   "outputs": [],
   "source": [
    "paymentsT = payments.pivot_table(index='order_id',columns='type',values=['installments','value'],fill_value=0).reset_index()"
   ]
  },
  {
   "cell_type": "code",
   "execution_count": 9,
   "metadata": {},
   "outputs": [],
   "source": [
    "paymentsT.columns = [col[0].replace('installments','int')+'_'+col[1] if len(col[1]) > 0 else col[0] for col in paymentsT.columns]"
   ]
  },
  {
   "cell_type": "code",
   "execution_count": 10,
   "metadata": {},
   "outputs": [
    {
     "data": {
      "text/html": [
       "<div>\n",
       "<style scoped>\n",
       "    .dataframe tbody tr th:only-of-type {\n",
       "        vertical-align: middle;\n",
       "    }\n",
       "\n",
       "    .dataframe tbody tr th {\n",
       "        vertical-align: top;\n",
       "    }\n",
       "\n",
       "    .dataframe thead th {\n",
       "        text-align: right;\n",
       "    }\n",
       "</style>\n",
       "<table border=\"1\" class=\"dataframe\">\n",
       "  <thead>\n",
       "    <tr style=\"text-align: right;\">\n",
       "      <th></th>\n",
       "      <th>order_id</th>\n",
       "      <th>int_boleto</th>\n",
       "      <th>int_credit_card</th>\n",
       "      <th>int_debit_card</th>\n",
       "      <th>int_not_defined</th>\n",
       "      <th>int_voucher</th>\n",
       "      <th>value_boleto</th>\n",
       "      <th>value_credit_card</th>\n",
       "      <th>value_debit_card</th>\n",
       "      <th>value_not_defined</th>\n",
       "      <th>value_voucher</th>\n",
       "    </tr>\n",
       "  </thead>\n",
       "  <tbody>\n",
       "    <tr>\n",
       "      <th>0</th>\n",
       "      <td>00010242fe8c5a6d1ba2dd792cb16214</td>\n",
       "      <td>0.0</td>\n",
       "      <td>2.0</td>\n",
       "      <td>0.0</td>\n",
       "      <td>0.0</td>\n",
       "      <td>0.0</td>\n",
       "      <td>0.0</td>\n",
       "      <td>72.19</td>\n",
       "      <td>0.0</td>\n",
       "      <td>0.0</td>\n",
       "      <td>0.0</td>\n",
       "    </tr>\n",
       "    <tr>\n",
       "      <th>1</th>\n",
       "      <td>00018f77f2f0320c557190d7a144bdd3</td>\n",
       "      <td>0.0</td>\n",
       "      <td>3.0</td>\n",
       "      <td>0.0</td>\n",
       "      <td>0.0</td>\n",
       "      <td>0.0</td>\n",
       "      <td>0.0</td>\n",
       "      <td>259.83</td>\n",
       "      <td>0.0</td>\n",
       "      <td>0.0</td>\n",
       "      <td>0.0</td>\n",
       "    </tr>\n",
       "    <tr>\n",
       "      <th>2</th>\n",
       "      <td>000229ec398224ef6ca0657da4fc703e</td>\n",
       "      <td>0.0</td>\n",
       "      <td>5.0</td>\n",
       "      <td>0.0</td>\n",
       "      <td>0.0</td>\n",
       "      <td>0.0</td>\n",
       "      <td>0.0</td>\n",
       "      <td>216.87</td>\n",
       "      <td>0.0</td>\n",
       "      <td>0.0</td>\n",
       "      <td>0.0</td>\n",
       "    </tr>\n",
       "    <tr>\n",
       "      <th>3</th>\n",
       "      <td>00024acbcdf0a6daa1e931b038114c75</td>\n",
       "      <td>0.0</td>\n",
       "      <td>2.0</td>\n",
       "      <td>0.0</td>\n",
       "      <td>0.0</td>\n",
       "      <td>0.0</td>\n",
       "      <td>0.0</td>\n",
       "      <td>25.78</td>\n",
       "      <td>0.0</td>\n",
       "      <td>0.0</td>\n",
       "      <td>0.0</td>\n",
       "    </tr>\n",
       "    <tr>\n",
       "      <th>4</th>\n",
       "      <td>00042b26cf59d7ce69dfabb4e55b4fd9</td>\n",
       "      <td>0.0</td>\n",
       "      <td>3.0</td>\n",
       "      <td>0.0</td>\n",
       "      <td>0.0</td>\n",
       "      <td>0.0</td>\n",
       "      <td>0.0</td>\n",
       "      <td>218.04</td>\n",
       "      <td>0.0</td>\n",
       "      <td>0.0</td>\n",
       "      <td>0.0</td>\n",
       "    </tr>\n",
       "  </tbody>\n",
       "</table>\n",
       "</div>"
      ],
      "text/plain": [
       "                           order_id  int_boleto  int_credit_card  \\\n",
       "0  00010242fe8c5a6d1ba2dd792cb16214         0.0              2.0   \n",
       "1  00018f77f2f0320c557190d7a144bdd3         0.0              3.0   \n",
       "2  000229ec398224ef6ca0657da4fc703e         0.0              5.0   \n",
       "3  00024acbcdf0a6daa1e931b038114c75         0.0              2.0   \n",
       "4  00042b26cf59d7ce69dfabb4e55b4fd9         0.0              3.0   \n",
       "\n",
       "   int_debit_card  int_not_defined  int_voucher  value_boleto  \\\n",
       "0             0.0              0.0          0.0           0.0   \n",
       "1             0.0              0.0          0.0           0.0   \n",
       "2             0.0              0.0          0.0           0.0   \n",
       "3             0.0              0.0          0.0           0.0   \n",
       "4             0.0              0.0          0.0           0.0   \n",
       "\n",
       "   value_credit_card  value_debit_card  value_not_defined  value_voucher  \n",
       "0              72.19               0.0                0.0            0.0  \n",
       "1             259.83               0.0                0.0            0.0  \n",
       "2             216.87               0.0                0.0            0.0  \n",
       "3              25.78               0.0                0.0            0.0  \n",
       "4             218.04               0.0                0.0            0.0  "
      ]
     },
     "execution_count": 10,
     "metadata": {},
     "output_type": "execute_result"
    }
   ],
   "source": [
    "paymentsT.head()"
   ]
  },
  {
   "cell_type": "code",
   "execution_count": 11,
   "metadata": {},
   "outputs": [
    {
     "data": {
      "text/plain": [
       "(99441, (99441, 23))"
      ]
     },
     "execution_count": 11,
     "metadata": {},
     "output_type": "execute_result"
    }
   ],
   "source": [
    "orders.order_id.nunique(),orders.shape"
   ]
  },
  {
   "cell_type": "code",
   "execution_count": 12,
   "metadata": {},
   "outputs": [
    {
     "data": {
      "text/plain": [
       "(98666, 112650, -775, 113425)"
      ]
     },
     "execution_count": 12,
     "metadata": {},
     "output_type": "execute_result"
    }
   ],
   "source": [
    "items.order_id.nunique(),\\\n",
    "items.shape[0], \\\n",
    "items.order_id.nunique() - orders.shape[0],\\\n",
    "items.shape[0] + orders.shape[0] - items.order_id.nunique()"
   ]
  },
  {
   "cell_type": "code",
   "execution_count": 13,
   "metadata": {},
   "outputs": [
    {
     "data": {
      "text/plain": [
       "(99440, (103886, 5))"
      ]
     },
     "execution_count": 13,
     "metadata": {},
     "output_type": "execute_result"
    }
   ],
   "source": [
    "payments.order_id.nunique(),payments.shape"
   ]
  },
  {
   "cell_type": "code",
   "execution_count": 14,
   "metadata": {},
   "outputs": [
    {
     "data": {
      "text/plain": [
       "(99440, (99440, 11))"
      ]
     },
     "execution_count": 14,
     "metadata": {},
     "output_type": "execute_result"
    }
   ],
   "source": [
    "paymentsT.order_id.nunique(),paymentsT.shape"
   ]
  },
  {
   "cell_type": "code",
   "execution_count": 15,
   "metadata": {},
   "outputs": [],
   "source": [
    "orders_payments = orders.merge(paymentsT,on='order_id',how='left')\n",
    "orders_payments.to_parquet('./ecommerce/orders_payments.parquet',compression='gzip', engine='pyarrow')"
   ]
  },
  {
   "cell_type": "code",
   "execution_count": 16,
   "metadata": {},
   "outputs": [],
   "source": [
    "orders_payments_items = orders_payments.merge(items,on='order_id',how='left')\n",
    "orders_payments_items.to_parquet('./ecommerce/orders_payments_items.parquet',compression='gzip', engine='pyarrow')"
   ]
  },
  {
   "cell_type": "code",
   "execution_count": 17,
   "metadata": {},
   "outputs": [
    {
     "data": {
      "text/plain": [
       "(99441, (113425, 40))"
      ]
     },
     "execution_count": 17,
     "metadata": {},
     "output_type": "execute_result"
    }
   ],
   "source": [
    "orders_payments_items.order_id.nunique(),orders_payments_items.shape"
   ]
  },
  {
   "cell_type": "code",
   "execution_count": 18,
   "metadata": {},
   "outputs": [
    {
     "name": "stdout",
     "output_type": "stream",
     "text": [
      " Le volume dans le lecteur C s’appelle Windows-SSD\n",
      " Le numéro de série du volume est 84DC-AF7F\n",
      "\n",
      " Répertoire de C:\\Users\\etien\\Documents\\CCI\\_HUB\\cours\\2024-2025\\big_data\\_git\\donnees\\ecommerce\n",
      "\n",
      "20/11/2024  16:24    <DIR>          .\n",
      "20/11/2024  15:02    <DIR>          ..\n",
      "21/11/2024  09:22         4 807 544 items.parquet\n",
      "21/11/2024  09:22         9 567 921 orders.parquet\n",
      "21/11/2024  09:23        10 022 487 orders_payments.parquet\n",
      "21/11/2024  09:23        13 281 965 orders_payments_items.parquet\n",
      "21/11/2024  09:22         2 651 184 payments.parquet\n",
      "21/11/2024  09:22         2 470 995 paymentsI.parquet\n",
      "20/11/2024  16:24         7 549 835 reviews.parquet\n",
      "20/11/2024  16:24         2 845 170 reviews_p.parquet\n",
      "               8 fichier(s)       53 197 101 octets\n",
      "               2 Rép(s)  709 471 576 064 octets libres\n"
     ]
    }
   ],
   "source": [
    "!dir ecommerce"
   ]
  }
 ],
 "metadata": {
  "kernelspec": {
   "display_name": "Python 3 (ipykernel)",
   "language": "python",
   "name": "python3"
  },
  "language_info": {
   "codemirror_mode": {
    "name": "ipython",
    "version": 3
   },
   "file_extension": ".py",
   "mimetype": "text/x-python",
   "name": "python",
   "nbconvert_exporter": "python",
   "pygments_lexer": "ipython3",
   "version": "3.10.0"
  },
  "toc": {
   "base_numbering": 1,
   "nav_menu": {
    "height": "192.133px",
    "width": "731.133px"
   },
   "number_sections": true,
   "sideBar": true,
   "skip_h1_title": false,
   "title_cell": "Table of Contents",
   "title_sidebar": "Contents",
   "toc_cell": true,
   "toc_position": {
    "height": "calc(100% - 180px)",
    "left": "10px",
    "top": "150px",
    "width": "165px"
   },
   "toc_section_display": true,
   "toc_window_display": true
  }
 },
 "nbformat": 4,
 "nbformat_minor": 4
}
