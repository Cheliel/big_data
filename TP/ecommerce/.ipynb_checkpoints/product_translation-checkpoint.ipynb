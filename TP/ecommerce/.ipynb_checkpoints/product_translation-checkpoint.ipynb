{
 "cells": [
  {
   "cell_type": "code",
   "execution_count": null,
   "id": "26adefe1-6e4a-41c9-8ad1-cec3a603c057",
   "metadata": {},
   "outputs": [],
   "source": [
    "import pandas as pd\n",
    "import os\n"
   ]
  },
  {
   "cell_type": "code",
   "execution_count": null,
   "id": "aabe1ccc-39bf-40b5-9000-ea332c9a8127",
   "metadata": {},
   "outputs": [],
   "source": [
    "os.chdir(\"C:/Users/etien/Documents/CCI/_HUB/cours/2024-2025/big_data/_git/donnees\")"
   ]
  },
  {
   "cell_type": "code",
   "execution_count": null,
   "id": "b545e99f-50db-4e07-bcd1-430fb7ca4635",
   "metadata": {},
   "outputs": [],
   "source": [
    "## importation des fichiers de donnees"
   ]
  },
  {
   "cell_type": "code",
   "execution_count": null,
   "id": "2803f76d-cdf9-4b73-bf46-890b56aa016b",
   "metadata": {},
   "outputs": [],
   "source": [
    "products = pd.read_csv('ebrasil/olist_products_dataset.csv',\n",
    "                           sep=',',\n",
    "                          # usecols=['numer_sta','date','dd','ff','t','u','vv',\n",
    "                          #         'pres','rr1','rr3','rr6','rr12','rr24'],\n",
    "                           na_values='mq',\n",
    "                           dtype={},\n",
    "                          )\n",
    "\n",
    "categories = pd.read_csv('ebrasil/product_category_name_translation.csv',\n",
    "                           sep=',',\n",
    "                          # usecols=['numer_sta','date','dd','ff','t','u','vv',\n",
    "                          #         'pres','rr1','rr3','rr6','rr12','rr24'],\n",
    "                           na_values='mq',\n",
    "                           dtype={},\n",
    "                          )"
   ]
  }
 ],
 "metadata": {
  "kernelspec": {
   "display_name": "Python 3 (ipykernel)",
   "language": "python",
   "name": "python3"
  },
  "language_info": {
   "codemirror_mode": {
    "name": "ipython",
    "version": 3
   },
   "file_extension": ".py",
   "mimetype": "text/x-python",
   "name": "python",
   "nbconvert_exporter": "python",
   "pygments_lexer": "ipython3",
   "version": "3.10.0"
  }
 },
 "nbformat": 4,
 "nbformat_minor": 5
}
