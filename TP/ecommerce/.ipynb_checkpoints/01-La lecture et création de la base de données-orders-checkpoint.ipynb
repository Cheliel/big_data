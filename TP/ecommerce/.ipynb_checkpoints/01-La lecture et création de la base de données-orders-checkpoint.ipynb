{
 "cells": [
  {
   "cell_type": "markdown",
   "metadata": {
    "ExecuteTime": {
     "end_time": "2020-10-24T12:16:35.438079Z",
     "start_time": "2020-10-24T12:16:35.433094Z"
    }
   },
   "source": [
    "<img src=\"https://raw.githubusercontent.com/rbizoi/PythonFormation/main/images/e-brasil.png\" width=\"850\">\n",
    "\n",
    "https://www.kaggle.com/datasets/olistbr/brazilian-ecommerce"
   ]
  },
  {
   "cell_type": "markdown",
   "metadata": {},
   "source": [
    "# Les imports et initialisations des variables"
   ]
  },
  {
   "cell_type": "code",
   "execution_count": 1,
   "metadata": {
    "ExecuteTime": {
     "end_time": "2020-10-24T18:39:25.948711Z",
     "start_time": "2020-10-24T18:39:24.506560Z"
    }
   },
   "outputs": [
    {
     "ename": "SyntaxError",
     "evalue": "(unicode error) 'unicodeescape' codec can't decode bytes in position 2-3: truncated \\UXXXXXXXX escape (2106471336.py, line 7)",
     "output_type": "error",
     "traceback": [
      "\u001b[1;36m  Cell \u001b[1;32mIn[1], line 7\u001b[1;36m\u001b[0m\n\u001b[1;33m    os.chdir(\"C:\\Users\\etien\\Documents\\CCI\\_HUB\\cours\\2024-2025\\big_data\\_git\")\u001b[0m\n\u001b[1;37m                                                                              ^\u001b[0m\n\u001b[1;31mSyntaxError\u001b[0m\u001b[1;31m:\u001b[0m (unicode error) 'unicodeescape' codec can't decode bytes in position 2-3: truncated \\UXXXXXXXX escape\n"
     ]
    }
   ],
   "source": [
    "from datetime import datetime\n",
    "import pandas as pd, numpy as np, os, warnings, seaborn as sns, pickle, re, unicodedata\n",
    "from datetime import datetime as dt\n",
    "import matplotlib.pyplot as plt\n",
    "import matplotlib.font_manager as fm\n",
    "\n",
    "os.chdir(\"C:/Users/etien/Documents/CCI/_HUB/cours2024-2025/big_data/_git\")\n",
    "\n",
    "font1 = fm.FontProperties(size=20)\n",
    "font2 = fm.FontProperties(size=24)\n",
    "\n",
    "%matplotlib inline\n",
    "\n",
    "if int(str(sns.__version__).split('.')[1]) > 8 : \n",
    "    plt.style.use('seaborn-v0_8-darkgrid')\n",
    "else:\n",
    "    plt.style.use('seaborn-darkgrid')\n",
    "    \n",
    "sns.set(font_scale=2)\n",
    "warnings.filterwarnings(action=\"ignore\")"
   ]
  },
  {
   "cell_type": "markdown",
   "metadata": {},
   "source": [
    "## Liste fichiers de données "
   ]
  },
  {
   "cell_type": "code",
   "execution_count": null,
   "metadata": {},
   "outputs": [],
   "source": [
    "!dir ..\\donnees\\ebrasil"
   ]
  },
  {
   "cell_type": "markdown",
   "metadata": {},
   "source": [
    "## Changement de répertoire"
   ]
  },
  {
   "cell_type": "code",
   "execution_count": null,
   "metadata": {},
   "outputs": [],
   "source": [
    "os.chdir(r\"../donnees\")"
   ]
  },
  {
   "cell_type": "markdown",
   "metadata": {},
   "source": [
    "# Les fichiers de données \n",
    ">> La liste des fichiers de donnée du projet "
   ]
  },
  {
   "cell_type": "raw",
   "metadata": {
    "ExecuteTime": {
     "end_time": "2020-10-24T18:39:28.083903Z",
     "start_time": "2020-10-24T18:39:26.645714Z"
    }
   },
   "source": [
    "fichiers = {}\n",
    "for dirname, _, filenames in os.walk('ebrasil'):\n",
    "    for filename in filenames:\n",
    "        fichiers[filename] = pd.read_csv(os.path.join(dirname, filename),parse_dates=True,infer_datetime_format=True)\n",
    "        print(os.path.join(dirname, filename),fichiers[filename].shape)"
   ]
  },
  {
   "cell_type": "code",
   "execution_count": null,
   "metadata": {},
   "outputs": [],
   "source": [
    "donnees = pd.read_csv(os.path.join('ebrasil', 'olist_orders_dataset.csv'),parse_dates=True,infer_datetime_format=True)"
   ]
  },
  {
   "cell_type": "markdown",
   "metadata": {},
   "source": [
    "# DataFrame $orders$ Commandes"
   ]
  },
  {
   "cell_type": "code",
   "execution_count": null,
   "metadata": {
    "ExecuteTime": {
     "end_time": "2020-10-24T18:39:30.710634Z",
     "start_time": "2020-10-24T18:39:30.698667Z"
    }
   },
   "outputs": [],
   "source": [
    "donnees.head()"
   ]
  },
  {
   "cell_type": "code",
   "execution_count": null,
   "metadata": {
    "ExecuteTime": {
     "end_time": "2020-10-24T18:39:31.137574Z",
     "start_time": "2020-10-24T18:39:31.131590Z"
    }
   },
   "outputs": [],
   "source": [
    "donnees.dtypes"
   ]
  },
  {
   "cell_type": "markdown",
   "metadata": {},
   "source": [
    "## Conversions des dates"
   ]
  },
  {
   "cell_type": "code",
   "execution_count": null,
   "metadata": {
    "ExecuteTime": {
     "end_time": "2020-10-24T18:39:32.756816Z",
     "start_time": "2020-10-24T18:39:32.521468Z"
    }
   },
   "outputs": [],
   "source": [
    "donnees['purchase_timestamp']= pd.to_datetime(donnees.order_purchase_timestamp, format='%Y-%m-%d %H:%M:%S',errors='ignore')\n",
    "donnees['approved_at']=pd.to_datetime(donnees.order_approved_at, format='%Y-%m-%d %H:%M:%S',errors='ignore')\n",
    "donnees['delivered_carrier']= pd.to_datetime(donnees.order_delivered_carrier_date, format='%Y-%m-%d %H:%M:%S',errors='ignore')\n",
    "donnees['delivered_customer']= pd.to_datetime(donnees.order_delivered_customer_date, format='%Y-%m-%d %H:%M:%S',errors='ignore')\n",
    "donnees['estimated_delivery']= pd.to_datetime(donnees.order_estimated_delivery_date, format='%Y-%m-%d %H:%M:%S',errors='ignore')\n",
    "donnees['status']=donnees['order_status']\n",
    "#errors= ignore | coerce => ne process pas la ligne || remplace par NaT (not a time)"
   ]
  },
  {
   "cell_type": "code",
   "execution_count": null,
   "metadata": {},
   "outputs": [],
   "source": [
    "donnees.drop(columns=['order_purchase_timestamp','order_approved_at','order_delivered_carrier_date','order_delivered_customer_date','order_estimated_delivery_date','order_status'],inplace=True)"
   ]
  },
  {
   "cell_type": "code",
   "execution_count": null,
   "metadata": {
    "ExecuteTime": {
     "end_time": "2020-10-24T18:39:33.701615Z",
     "start_time": "2020-10-24T18:39:33.697623Z"
    }
   },
   "outputs": [],
   "source": [
    "donnees.dtypes"
   ]
  },
  {
   "cell_type": "code",
   "execution_count": null,
   "metadata": {
    "ExecuteTime": {
     "end_time": "2020-10-24T11:56:48.038382Z",
     "start_time": "2020-10-24T11:56:48.006465Z"
    }
   },
   "outputs": [],
   "source": [
    "donnees.isna().sum()"
   ]
  },
  {
   "cell_type": "code",
   "execution_count": null,
   "metadata": {},
   "outputs": [],
   "source": [
    "donnees.shape"
   ]
  },
  {
   "cell_type": "code",
   "execution_count": null,
   "metadata": {
    "ExecuteTime": {
     "end_time": "2020-10-24T11:57:15.373123Z",
     "start_time": "2020-10-24T11:57:15.351154Z"
    }
   },
   "outputs": [],
   "source": [
    "donnees.order_id.nunique(),donnees.shape"
   ]
  },
  {
   "cell_type": "code",
   "execution_count": null,
   "metadata": {},
   "outputs": [],
   "source": [
    "len(donnees.status.unique()),donnees.shape"
   ]
  },
  {
   "cell_type": "code",
   "execution_count": null,
   "metadata": {},
   "outputs": [],
   "source": [
    "donnees.status.unique()"
   ]
  },
  {
   "cell_type": "markdown",
   "metadata": {},
   "source": [
    "## Variables supplémentaires"
   ]
  },
  {
   "cell_type": "code",
   "execution_count": null,
   "metadata": {},
   "outputs": [],
   "source": [
    "donnees['annee']           = donnees.purchase_timestamp.dt.year\n",
    "donnees['mois']            = donnees.purchase_timestamp.dt.month\n",
    "donnees['annee_mois']      = donnees.purchase_timestamp.dt.year*100 + donnees.purchase_timestamp.dt.month\n",
    "donnees['jour']            = donnees.purchase_timestamp.dt.day\n",
    "donnees['annee_jour']      = donnees.purchase_timestamp.dt.year*1000 + donnees.purchase_timestamp.dt.day\n",
    "donnees['jour_semaine']    = donnees.purchase_timestamp.dt.day_of_week\n",
    "donnees['trimestre']       = donnees.purchase_timestamp.dt.quarter\n",
    "donnees['annee_trimestre'] = donnees.purchase_timestamp.dt.year*10 + donnees.purchase_timestamp.dt.quarter\n",
    "donnees['semaine']         = donnees.purchase_timestamp.dt.isocalendar().week.astype('int32')\n",
    "donnees['annee_semaine']   = (donnees.purchase_timestamp.dt.year*100 + donnees.purchase_timestamp.dt.isocalendar().week).astype('int32')\n",
    "donnees['heure']           = donnees.purchase_timestamp.dt.hour\n",
    "\n",
    "# Intervalle depuis la commande\n",
    "donnees['approuvee']       = (donnees.approved_at        - donnees.purchase_timestamp).dt.seconds/60/60\n",
    "donnees['envoyee'  ]       = (donnees.delivered_carrier  - donnees.purchase_timestamp).dt.seconds/60/60\n",
    "donnees['livree'   ]       = (donnees.delivered_customer - donnees.purchase_timestamp).dt.seconds/60/60\n",
    "donnees['estimee'  ]       = (donnees.estimated_delivery - donnees.purchase_timestamp).dt.seconds/60/60"
   ]
  },
  {
   "cell_type": "code",
   "execution_count": null,
   "metadata": {},
   "outputs": [],
   "source": [
    "donnees.columns"
   ]
  },
  {
   "cell_type": "code",
   "execution_count": null,
   "metadata": {},
   "outputs": [],
   "source": [
    "donnees[['purchase_timestamp', 'approved_at',\n",
    "       'delivered_carrier', 'delivered_customer', 'estimated_delivery',\n",
    "       'status', 'annee', 'mois', 'annee_mois', 'jour', 'annee_jour',\n",
    "       'jour_semaine', 'trimestre', 'annee_trimestre', 'semaine',\n",
    "       'annee_semaine', 'heure']].head()"
   ]
  },
  {
   "cell_type": "code",
   "execution_count": null,
   "metadata": {},
   "outputs": [],
   "source": [
    "donnees.info()"
   ]
  },
  {
   "cell_type": "code",
   "execution_count": null,
   "metadata": {},
   "outputs": [],
   "source": [
    "donnees.head()"
   ]
  },
  {
   "cell_type": "markdown",
   "metadata": {},
   "source": [
    "## Sauvegarde en parquet"
   ]
  },
  {
   "cell_type": "raw",
   "metadata": {},
   "source": [
    "donnees.to_csv('./ecommerce/orders.csv',index=False)"
   ]
  },
  {
   "cell_type": "raw",
   "metadata": {},
   "source": [
    "pd.read_csv('./ecommerce/orders.csv').info()"
   ]
  },
  {
   "cell_type": "code",
   "execution_count": null,
   "metadata": {},
   "outputs": [],
   "source": [
    "donnees.to_parquet('./ecommerce/orders.parquet',compression='gzip', engine='pyarrow')"
   ]
  },
  {
   "cell_type": "code",
   "execution_count": null,
   "metadata": {},
   "outputs": [],
   "source": [
    "pd.read_parquet('./ecommerce/orders.parquet').info()"
   ]
  },
  {
   "cell_type": "code",
   "execution_count": null,
   "metadata": {},
   "outputs": [],
   "source": [
    "!dir ecommerce"
   ]
  }
 ],
 "metadata": {
  "kernelspec": {
   "display_name": "Python 3 (ipykernel)",
   "language": "python",
   "name": "python3"
  },
  "language_info": {
   "codemirror_mode": {
    "name": "ipython",
    "version": 3
   },
   "file_extension": ".py",
   "mimetype": "text/x-python",
   "name": "python",
   "nbconvert_exporter": "python",
   "pygments_lexer": "ipython3",
   "version": "3.10.0"
  },
  "toc": {
   "base_numbering": 1,
   "nav_menu": {
    "height": "192.133px",
    "width": "731.133px"
   },
   "number_sections": true,
   "sideBar": true,
   "skip_h1_title": false,
   "title_cell": "Table of Contents",
   "title_sidebar": "Contents",
   "toc_cell": true,
   "toc_position": {
    "height": "calc(100% - 180px)",
    "left": "10px",
    "top": "150px",
    "width": "165px"
   },
   "toc_section_display": true,
   "toc_window_display": true
  }
 },
 "nbformat": 4,
 "nbformat_minor": 4
}
