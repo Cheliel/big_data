{
 "cells": [
  {
   "cell_type": "markdown",
   "metadata": {
    "ExecuteTime": {
     "end_time": "2020-10-24T12:16:35.438079Z",
     "start_time": "2020-10-24T12:16:35.433094Z"
    }
   },
   "source": [
    "<img src=\"https://raw.githubusercontent.com/rbizoi/PythonFormation/main/images/e-brasil.png\" width=\"850\">"
   ]
  },
  {
   "cell_type": "markdown",
   "metadata": {},
   "source": [
    "# Les imports et initialisations des variables"
   ]
  },
  {
   "cell_type": "code",
   "execution_count": 1,
   "metadata": {
    "ExecuteTime": {
     "end_time": "2020-10-24T18:39:25.948711Z",
     "start_time": "2020-10-24T18:39:24.506560Z"
    }
   },
   "outputs": [],
   "source": [
    "from datetime import datetime\n",
    "import pandas as pd, numpy as np, os, warnings, seaborn as sns, pickle, re, unicodedata\n",
    "from datetime import datetime as dt\n",
    "import matplotlib.pyplot as plt\n",
    "import matplotlib.font_manager as fm\n",
    "\n",
    "\n",
    "os.chdir(\"C:/Users/etien/Documents/CCI/_HUB/cours/2024-2025/big_data/_git/donnees\")\n",
    "\n",
    "\n",
    "font1 = fm.FontProperties(size=20)\n",
    "font2 = fm.FontProperties(size=24)\n",
    "\n",
    "%matplotlib inline\n",
    "\n",
    "if int(str(sns.__version__).split('.')[1]) > 8 : \n",
    "    plt.style.use('seaborn-v0_8-darkgrid')\n",
    "else:\n",
    "    plt.style.use('seaborn-darkgrid')\n",
    "    \n",
    "sns.set(font_scale=2)\n",
    "warnings.filterwarnings(action=\"ignore\")"
   ]
  },
  {
   "cell_type": "markdown",
   "metadata": {},
   "source": [
    "## Liste fichiers de données "
   ]
  },
  {
   "cell_type": "code",
   "execution_count": 2,
   "metadata": {},
   "outputs": [
    {
     "name": "stdout",
     "output_type": "stream",
     "text": [
      " Le volume dans le lecteur F s'appelle Data\n",
      " Le num‚ro de s‚rie du volume est D4F7-8E12\n",
      "\n",
      " R‚pertoire de F:\\PythonFormation.travail\\donnees\\ebrasil\n",
      "\n",
      "10/01/2024  10:34    <DIR>          .\n",
      "10/01/2024  10:34    <DIR>          ..\n",
      "06/10/2019  20:27         9ÿ033ÿ957 olist_customers_dataset.csv\n",
      "06/10/2019  20:27        61ÿ273ÿ883 olist_geolocation_dataset.csv\n",
      "06/10/2019  20:27        17ÿ654ÿ914 olist_orders_dataset.csv\n",
      "06/10/2019  20:27        15ÿ438ÿ671 olist_order_items_dataset.csv\n",
      "06/10/2019  20:27         5ÿ777ÿ138 olist_order_payments_dataset.csv\n",
      "06/10/2019  20:27        14ÿ409ÿ007 olist_order_reviews_dataset.csv\n",
      "06/10/2019  20:27         2ÿ379ÿ446 olist_products_dataset.csv\n",
      "28/09/2020  07:52           177ÿ799 olist_sellers_dataset.csv\n",
      "10/01/2024  10:19             2ÿ613 product_category_name_translation.csv\n",
      "               9 fichier(s)      126ÿ147ÿ428 octets\n",
      "               2 R‚p(s)  105ÿ395ÿ367ÿ936 octets libres\n"
     ]
    }
   ],
   "source": [
    "!dir ..\\donnees\\ebrasil"
   ]
  },
  {
   "cell_type": "markdown",
   "metadata": {},
   "source": [
    "## Changement de répertoire"
   ]
  },
  {
   "cell_type": "code",
   "execution_count": 3,
   "metadata": {},
   "outputs": [],
   "source": [
    "os.chdir(r\"../donnees\")"
   ]
  },
  {
   "cell_type": "markdown",
   "metadata": {},
   "source": [
    "# DataFrame $payments$"
   ]
  },
  {
   "cell_type": "code",
   "execution_count": 4,
   "metadata": {
    "ExecuteTime": {
     "end_time": "2020-10-24T18:39:30.280754Z",
     "start_time": "2020-10-24T18:39:30.277762Z"
    }
   },
   "outputs": [
    {
     "data": {
      "text/html": [
       "<div>\n",
       "<style scoped>\n",
       "    .dataframe tbody tr th:only-of-type {\n",
       "        vertical-align: middle;\n",
       "    }\n",
       "\n",
       "    .dataframe tbody tr th {\n",
       "        vertical-align: top;\n",
       "    }\n",
       "\n",
       "    .dataframe thead th {\n",
       "        text-align: right;\n",
       "    }\n",
       "</style>\n",
       "<table border=\"1\" class=\"dataframe\">\n",
       "  <thead>\n",
       "    <tr style=\"text-align: right;\">\n",
       "      <th></th>\n",
       "      <th>order_id</th>\n",
       "      <th>sequential</th>\n",
       "      <th>type</th>\n",
       "      <th>installments</th>\n",
       "      <th>value</th>\n",
       "    </tr>\n",
       "  </thead>\n",
       "  <tbody>\n",
       "    <tr>\n",
       "      <th>85283</th>\n",
       "      <td>00010242fe8c5a6d1ba2dd792cb16214</td>\n",
       "      <td>1</td>\n",
       "      <td>credit_card</td>\n",
       "      <td>2</td>\n",
       "      <td>72.19</td>\n",
       "    </tr>\n",
       "    <tr>\n",
       "      <th>2499</th>\n",
       "      <td>00018f77f2f0320c557190d7a144bdd3</td>\n",
       "      <td>1</td>\n",
       "      <td>credit_card</td>\n",
       "      <td>3</td>\n",
       "      <td>259.83</td>\n",
       "    </tr>\n",
       "    <tr>\n",
       "      <th>12393</th>\n",
       "      <td>000229ec398224ef6ca0657da4fc703e</td>\n",
       "      <td>1</td>\n",
       "      <td>credit_card</td>\n",
       "      <td>5</td>\n",
       "      <td>216.87</td>\n",
       "    </tr>\n",
       "    <tr>\n",
       "      <th>32971</th>\n",
       "      <td>00024acbcdf0a6daa1e931b038114c75</td>\n",
       "      <td>1</td>\n",
       "      <td>credit_card</td>\n",
       "      <td>2</td>\n",
       "      <td>25.78</td>\n",
       "    </tr>\n",
       "    <tr>\n",
       "      <th>98711</th>\n",
       "      <td>00042b26cf59d7ce69dfabb4e55b4fd9</td>\n",
       "      <td>1</td>\n",
       "      <td>credit_card</td>\n",
       "      <td>3</td>\n",
       "      <td>218.04</td>\n",
       "    </tr>\n",
       "    <tr>\n",
       "      <th>50570</th>\n",
       "      <td>00048cc3ae777c65dbb7d2a0634bc1ea</td>\n",
       "      <td>1</td>\n",
       "      <td>boleto</td>\n",
       "      <td>1</td>\n",
       "      <td>34.59</td>\n",
       "    </tr>\n",
       "    <tr>\n",
       "      <th>35027</th>\n",
       "      <td>00054e8431b9d7675808bcb819fb4a32</td>\n",
       "      <td>1</td>\n",
       "      <td>credit_card</td>\n",
       "      <td>1</td>\n",
       "      <td>31.75</td>\n",
       "    </tr>\n",
       "    <tr>\n",
       "      <th>22082</th>\n",
       "      <td>000576fe39319847cbb9d288c5617fa6</td>\n",
       "      <td>1</td>\n",
       "      <td>credit_card</td>\n",
       "      <td>10</td>\n",
       "      <td>880.75</td>\n",
       "    </tr>\n",
       "    <tr>\n",
       "      <th>100792</th>\n",
       "      <td>0005a1a1728c9d785b8e2b08b904576c</td>\n",
       "      <td>1</td>\n",
       "      <td>credit_card</td>\n",
       "      <td>3</td>\n",
       "      <td>157.60</td>\n",
       "    </tr>\n",
       "    <tr>\n",
       "      <th>63353</th>\n",
       "      <td>0005f50442cb953dcd1d21e1fb923495</td>\n",
       "      <td>1</td>\n",
       "      <td>credit_card</td>\n",
       "      <td>1</td>\n",
       "      <td>65.39</td>\n",
       "    </tr>\n",
       "  </tbody>\n",
       "</table>\n",
       "</div>"
      ],
      "text/plain": [
       "                                order_id  sequential         type  \\\n",
       "85283   00010242fe8c5a6d1ba2dd792cb16214           1  credit_card   \n",
       "2499    00018f77f2f0320c557190d7a144bdd3           1  credit_card   \n",
       "12393   000229ec398224ef6ca0657da4fc703e           1  credit_card   \n",
       "32971   00024acbcdf0a6daa1e931b038114c75           1  credit_card   \n",
       "98711   00042b26cf59d7ce69dfabb4e55b4fd9           1  credit_card   \n",
       "50570   00048cc3ae777c65dbb7d2a0634bc1ea           1       boleto   \n",
       "35027   00054e8431b9d7675808bcb819fb4a32           1  credit_card   \n",
       "22082   000576fe39319847cbb9d288c5617fa6           1  credit_card   \n",
       "100792  0005a1a1728c9d785b8e2b08b904576c           1  credit_card   \n",
       "63353   0005f50442cb953dcd1d21e1fb923495           1  credit_card   \n",
       "\n",
       "        installments   value  \n",
       "85283              2   72.19  \n",
       "2499               3  259.83  \n",
       "12393              5  216.87  \n",
       "32971              2   25.78  \n",
       "98711              3  218.04  \n",
       "50570              1   34.59  \n",
       "35027              1   31.75  \n",
       "22082             10  880.75  \n",
       "100792             3  157.60  \n",
       "63353              1   65.39  "
      ]
     },
     "execution_count": 4,
     "metadata": {},
     "output_type": "execute_result"
    }
   ],
   "source": [
    "donnees = pd.read_csv(os.path.join('ebrasil', 'olist_order_payments_dataset.csv'))\n",
    "donnees.rename(columns={col:col.replace('payment_','') for col in donnees.columns[1:]},inplace=True)\n",
    "donnees.sort_values(['order_id','sequential']).head(10)"
   ]
  },
  {
   "cell_type": "code",
   "execution_count": 5,
   "metadata": {},
   "outputs": [
    {
     "name": "stdout",
     "output_type": "stream",
     "text": [
      "<class 'pandas.core.frame.DataFrame'>\n",
      "RangeIndex: 103886 entries, 0 to 103885\n",
      "Data columns (total 5 columns):\n",
      " #   Column        Non-Null Count   Dtype  \n",
      "---  ------        --------------   -----  \n",
      " 0   order_id      103886 non-null  object \n",
      " 1   sequential    103886 non-null  int64  \n",
      " 2   type          103886 non-null  object \n",
      " 3   installments  103886 non-null  int64  \n",
      " 4   value         103886 non-null  float64\n",
      "dtypes: float64(1), int64(2), object(2)\n",
      "memory usage: 4.0+ MB\n"
     ]
    }
   ],
   "source": [
    "donnees.info()"
   ]
  },
  {
   "cell_type": "markdown",
   "metadata": {},
   "source": [
    "## Sauvegarde en parquet du dataframe sans transformation"
   ]
  },
  {
   "cell_type": "code",
   "execution_count": 6,
   "metadata": {},
   "outputs": [],
   "source": [
    "donnees.to_parquet('./ecommerce/paymentsI.parquet',compression='gzip', engine='pyarrow')"
   ]
  },
  {
   "cell_type": "code",
   "execution_count": 7,
   "metadata": {},
   "outputs": [
    {
     "data": {
      "text/plain": [
       "(99440, (103886, 5))"
      ]
     },
     "execution_count": 7,
     "metadata": {},
     "output_type": "execute_result"
    }
   ],
   "source": [
    "donnees.order_id.nunique(),donnees.shape"
   ]
  },
  {
   "cell_type": "code",
   "execution_count": 8,
   "metadata": {},
   "outputs": [
    {
     "data": {
      "text/plain": [
       "Index(['order_id', 'sequential', 'type', 'installments', 'value'], dtype='object')"
      ]
     },
     "execution_count": 8,
     "metadata": {},
     "output_type": "execute_result"
    }
   ],
   "source": [
    "donnees.columns"
   ]
  },
  {
   "cell_type": "code",
   "execution_count": 9,
   "metadata": {},
   "outputs": [],
   "source": [
    "payments = donnees.pivot_table( index='order_id',columns='type',\n",
    "                     values=['installments','value'],\n",
    "                     fill_value=0, dropna=False)\n",
    "payments.columns = [col[0].replace('installments','int')+'_'+col[1] for col in payments.columns]\n",
    "payments[['int_boleto',\n",
    "          'int_credit_card',\n",
    "          'int_debit_card',\n",
    "          'int_not_defined',\n",
    "          'int_voucher']]  = payments[['int_boleto',\n",
    "                                       'int_credit_card',\n",
    "                                       'int_debit_card',\n",
    "                                       'int_not_defined',\n",
    "                                       'int_voucher']].astype('int8')"
   ]
  },
  {
   "cell_type": "code",
   "execution_count": null,
   "metadata": {},
   "outputs": [],
   "source": []
  },
  {
   "cell_type": "code",
   "execution_count": 10,
   "metadata": {},
   "outputs": [],
   "source": [
    "payments['value'] = payments.value_boleto+\\\n",
    "                   payments.value_credit_card+\\\n",
    "                   payments.value_debit_card+\\\n",
    "                   payments.value_not_defined+\\\n",
    "                   payments.value_voucher"
   ]
  },
  {
   "cell_type": "code",
   "execution_count": 11,
   "metadata": {},
   "outputs": [
    {
     "data": {
      "text/html": [
       "<div>\n",
       "<style scoped>\n",
       "    .dataframe tbody tr th:only-of-type {\n",
       "        vertical-align: middle;\n",
       "    }\n",
       "\n",
       "    .dataframe tbody tr th {\n",
       "        vertical-align: top;\n",
       "    }\n",
       "\n",
       "    .dataframe thead th {\n",
       "        text-align: right;\n",
       "    }\n",
       "</style>\n",
       "<table border=\"1\" class=\"dataframe\">\n",
       "  <thead>\n",
       "    <tr style=\"text-align: right;\">\n",
       "      <th></th>\n",
       "      <th>int_boleto</th>\n",
       "      <th>int_credit_card</th>\n",
       "      <th>int_debit_card</th>\n",
       "      <th>int_not_defined</th>\n",
       "      <th>int_voucher</th>\n",
       "      <th>value_boleto</th>\n",
       "      <th>value_credit_card</th>\n",
       "      <th>value_debit_card</th>\n",
       "      <th>value_not_defined</th>\n",
       "      <th>value_voucher</th>\n",
       "      <th>value</th>\n",
       "    </tr>\n",
       "    <tr>\n",
       "      <th>order_id</th>\n",
       "      <th></th>\n",
       "      <th></th>\n",
       "      <th></th>\n",
       "      <th></th>\n",
       "      <th></th>\n",
       "      <th></th>\n",
       "      <th></th>\n",
       "      <th></th>\n",
       "      <th></th>\n",
       "      <th></th>\n",
       "      <th></th>\n",
       "    </tr>\n",
       "  </thead>\n",
       "  <tbody>\n",
       "    <tr>\n",
       "      <th>00010242fe8c5a6d1ba2dd792cb16214</th>\n",
       "      <td>0</td>\n",
       "      <td>2</td>\n",
       "      <td>0</td>\n",
       "      <td>0</td>\n",
       "      <td>0</td>\n",
       "      <td>0.0</td>\n",
       "      <td>72.19</td>\n",
       "      <td>0.0</td>\n",
       "      <td>0.0</td>\n",
       "      <td>0.0</td>\n",
       "      <td>72.19</td>\n",
       "    </tr>\n",
       "    <tr>\n",
       "      <th>00018f77f2f0320c557190d7a144bdd3</th>\n",
       "      <td>0</td>\n",
       "      <td>3</td>\n",
       "      <td>0</td>\n",
       "      <td>0</td>\n",
       "      <td>0</td>\n",
       "      <td>0.0</td>\n",
       "      <td>259.83</td>\n",
       "      <td>0.0</td>\n",
       "      <td>0.0</td>\n",
       "      <td>0.0</td>\n",
       "      <td>259.83</td>\n",
       "    </tr>\n",
       "    <tr>\n",
       "      <th>000229ec398224ef6ca0657da4fc703e</th>\n",
       "      <td>0</td>\n",
       "      <td>5</td>\n",
       "      <td>0</td>\n",
       "      <td>0</td>\n",
       "      <td>0</td>\n",
       "      <td>0.0</td>\n",
       "      <td>216.87</td>\n",
       "      <td>0.0</td>\n",
       "      <td>0.0</td>\n",
       "      <td>0.0</td>\n",
       "      <td>216.87</td>\n",
       "    </tr>\n",
       "    <tr>\n",
       "      <th>00024acbcdf0a6daa1e931b038114c75</th>\n",
       "      <td>0</td>\n",
       "      <td>2</td>\n",
       "      <td>0</td>\n",
       "      <td>0</td>\n",
       "      <td>0</td>\n",
       "      <td>0.0</td>\n",
       "      <td>25.78</td>\n",
       "      <td>0.0</td>\n",
       "      <td>0.0</td>\n",
       "      <td>0.0</td>\n",
       "      <td>25.78</td>\n",
       "    </tr>\n",
       "    <tr>\n",
       "      <th>00042b26cf59d7ce69dfabb4e55b4fd9</th>\n",
       "      <td>0</td>\n",
       "      <td>3</td>\n",
       "      <td>0</td>\n",
       "      <td>0</td>\n",
       "      <td>0</td>\n",
       "      <td>0.0</td>\n",
       "      <td>218.04</td>\n",
       "      <td>0.0</td>\n",
       "      <td>0.0</td>\n",
       "      <td>0.0</td>\n",
       "      <td>218.04</td>\n",
       "    </tr>\n",
       "  </tbody>\n",
       "</table>\n",
       "</div>"
      ],
      "text/plain": [
       "                                  int_boleto  int_credit_card  int_debit_card  \\\n",
       "order_id                                                                        \n",
       "00010242fe8c5a6d1ba2dd792cb16214           0                2               0   \n",
       "00018f77f2f0320c557190d7a144bdd3           0                3               0   \n",
       "000229ec398224ef6ca0657da4fc703e           0                5               0   \n",
       "00024acbcdf0a6daa1e931b038114c75           0                2               0   \n",
       "00042b26cf59d7ce69dfabb4e55b4fd9           0                3               0   \n",
       "\n",
       "                                  int_not_defined  int_voucher  value_boleto  \\\n",
       "order_id                                                                       \n",
       "00010242fe8c5a6d1ba2dd792cb16214                0            0           0.0   \n",
       "00018f77f2f0320c557190d7a144bdd3                0            0           0.0   \n",
       "000229ec398224ef6ca0657da4fc703e                0            0           0.0   \n",
       "00024acbcdf0a6daa1e931b038114c75                0            0           0.0   \n",
       "00042b26cf59d7ce69dfabb4e55b4fd9                0            0           0.0   \n",
       "\n",
       "                                  value_credit_card  value_debit_card  \\\n",
       "order_id                                                                \n",
       "00010242fe8c5a6d1ba2dd792cb16214              72.19               0.0   \n",
       "00018f77f2f0320c557190d7a144bdd3             259.83               0.0   \n",
       "000229ec398224ef6ca0657da4fc703e             216.87               0.0   \n",
       "00024acbcdf0a6daa1e931b038114c75              25.78               0.0   \n",
       "00042b26cf59d7ce69dfabb4e55b4fd9             218.04               0.0   \n",
       "\n",
       "                                  value_not_defined  value_voucher   value  \n",
       "order_id                                                                    \n",
       "00010242fe8c5a6d1ba2dd792cb16214                0.0            0.0   72.19  \n",
       "00018f77f2f0320c557190d7a144bdd3                0.0            0.0  259.83  \n",
       "000229ec398224ef6ca0657da4fc703e                0.0            0.0  216.87  \n",
       "00024acbcdf0a6daa1e931b038114c75                0.0            0.0   25.78  \n",
       "00042b26cf59d7ce69dfabb4e55b4fd9                0.0            0.0  218.04  "
      ]
     },
     "execution_count": 11,
     "metadata": {},
     "output_type": "execute_result"
    }
   ],
   "source": [
    "payments.head()"
   ]
  },
  {
   "cell_type": "code",
   "execution_count": 12,
   "metadata": {},
   "outputs": [
    {
     "name": "stdout",
     "output_type": "stream",
     "text": [
      "<class 'pandas.core.frame.DataFrame'>\n",
      "Index: 99440 entries, 00010242fe8c5a6d1ba2dd792cb16214 to fffe41c64501cc87c801fd61db3f6244\n",
      "Data columns (total 11 columns):\n",
      " #   Column             Non-Null Count  Dtype  \n",
      "---  ------             --------------  -----  \n",
      " 0   int_boleto         99440 non-null  int8   \n",
      " 1   int_credit_card    99440 non-null  int8   \n",
      " 2   int_debit_card     99440 non-null  int8   \n",
      " 3   int_not_defined    99440 non-null  int8   \n",
      " 4   int_voucher        99440 non-null  int8   \n",
      " 5   value_boleto       99440 non-null  float64\n",
      " 6   value_credit_card  99440 non-null  float64\n",
      " 7   value_debit_card   99440 non-null  float64\n",
      " 8   value_not_defined  99440 non-null  float64\n",
      " 9   value_voucher      99440 non-null  float64\n",
      " 10  value              99440 non-null  float64\n",
      "dtypes: float64(6), int8(5)\n",
      "memory usage: 5.8+ MB\n"
     ]
    }
   ],
   "source": [
    "payments.info()"
   ]
  },
  {
   "cell_type": "markdown",
   "metadata": {},
   "source": [
    "## Sauvegarde en parquet"
   ]
  },
  {
   "cell_type": "code",
   "execution_count": 13,
   "metadata": {},
   "outputs": [],
   "source": [
    "payments.to_parquet('./ecommerce/payments.parquet',compression='gzip', engine='pyarrow')"
   ]
  },
  {
   "cell_type": "code",
   "execution_count": 14,
   "metadata": {},
   "outputs": [
    {
     "name": "stdout",
     "output_type": "stream",
     "text": [
      "<class 'pandas.core.frame.DataFrame'>\n",
      "Index: 99440 entries, 00010242fe8c5a6d1ba2dd792cb16214 to fffe41c64501cc87c801fd61db3f6244\n",
      "Data columns (total 11 columns):\n",
      " #   Column             Non-Null Count  Dtype  \n",
      "---  ------             --------------  -----  \n",
      " 0   int_boleto         99440 non-null  int8   \n",
      " 1   int_credit_card    99440 non-null  int8   \n",
      " 2   int_debit_card     99440 non-null  int8   \n",
      " 3   int_not_defined    99440 non-null  int8   \n",
      " 4   int_voucher        99440 non-null  int8   \n",
      " 5   value_boleto       99440 non-null  float64\n",
      " 6   value_credit_card  99440 non-null  float64\n",
      " 7   value_debit_card   99440 non-null  float64\n",
      " 8   value_not_defined  99440 non-null  float64\n",
      " 9   value_voucher      99440 non-null  float64\n",
      " 10  value              99440 non-null  float64\n",
      "dtypes: float64(6), int8(5)\n",
      "memory usage: 5.8+ MB\n"
     ]
    }
   ],
   "source": [
    "pd.read_parquet('./ecommerce/payments.parquet').info()"
   ]
  },
  {
   "cell_type": "code",
   "execution_count": 15,
   "metadata": {},
   "outputs": [
    {
     "name": "stdout",
     "output_type": "stream",
     "text": [
      " Le volume dans le lecteur F s'appelle Data\n",
      " Le num‚ro de s‚rie du volume est D4F7-8E12\n",
      "\n",
      " R‚pertoire de F:\\PythonFormation.travail\\donnees\\ecommerce\n",
      "\n",
      "20/11/2024  14:29    <DIR>          .\n",
      "20/11/2024  14:29    <DIR>          ..\n",
      "20/11/2024  14:29         4ÿ726ÿ507 items.parquet\n",
      "20/11/2024  14:29         9ÿ245ÿ000 orders.parquet\n",
      "20/11/2024  14:29         2ÿ652ÿ491 payments.parquet\n",
      "20/11/2024  14:29         2ÿ471ÿ562 paymentsI.parquet\n",
      "               4 fichier(s)       19ÿ095ÿ560 octets\n",
      "               2 R‚p(s)  105ÿ385ÿ312ÿ256 octets libres\n"
     ]
    }
   ],
   "source": [
    "!dir ecommerce"
   ]
  }
 ],
 "metadata": {
  "kernelspec": {
   "display_name": "Python 3 (ipykernel)",
   "language": "python",
   "name": "python3"
  },
  "language_info": {
   "codemirror_mode": {
    "name": "ipython",
    "version": 3
   },
   "file_extension": ".py",
   "mimetype": "text/x-python",
   "name": "python",
   "nbconvert_exporter": "python",
   "pygments_lexer": "ipython3",
   "version": "3.10.0"
  },
  "toc": {
   "base_numbering": 1,
   "nav_menu": {
    "height": "192.133px",
    "width": "731.133px"
   },
   "number_sections": true,
   "sideBar": true,
   "skip_h1_title": false,
   "title_cell": "Table of Contents",
   "title_sidebar": "Contents",
   "toc_cell": true,
   "toc_position": {
    "height": "calc(100% - 180px)",
    "left": "10px",
    "top": "150px",
    "width": "165px"
   },
   "toc_section_display": true,
   "toc_window_display": true
  }
 },
 "nbformat": 4,
 "nbformat_minor": 4
}
