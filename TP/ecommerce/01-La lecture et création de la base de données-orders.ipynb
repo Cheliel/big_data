{
 "cells": [
  {
   "cell_type": "markdown",
   "metadata": {
    "ExecuteTime": {
     "end_time": "2020-10-24T12:16:35.438079Z",
     "start_time": "2020-10-24T12:16:35.433094Z"
    }
   },
   "source": [
    "<img src=\"https://raw.githubusercontent.com/rbizoi/PythonFormation/main/images/e-brasil.png\" width=\"850\">\n",
    "\n",
    "https://www.kaggle.com/datasets/olistbr/brazilian-ecommerce"
   ]
  },
  {
   "cell_type": "markdown",
   "metadata": {},
   "source": [
    "# Les imports et initialisations des variables"
   ]
  },
  {
   "cell_type": "code",
   "execution_count": 1,
   "metadata": {
    "ExecuteTime": {
     "end_time": "2020-10-24T18:39:25.948711Z",
     "start_time": "2020-10-24T18:39:24.506560Z"
    }
   },
   "outputs": [],
   "source": [
    "from datetime import datetime\n",
    "import pandas as pd, numpy as np, os, warnings, seaborn as sns, pickle, re, unicodedata\n",
    "from datetime import datetime as dt\n",
    "import matplotlib.pyplot as plt\n",
    "import matplotlib.font_manager as fm\n",
    "\n",
    "os.chdir(\"C:/Users/etien/Documents/CCI/_HUB/cours/2024-2025/big_data/_git/donnees\")\n",
    "\n",
    "font1 = fm.FontProperties(size=20)\n",
    "font2 = fm.FontProperties(size=24)\n",
    "\n",
    "%matplotlib inline\n",
    "\n",
    "if int(str(sns.__version__).split('.')[1]) > 8 : \n",
    "    plt.style.use('seaborn-v0_8-darkgrid')\n",
    "else:\n",
    "    plt.style.use('seaborn-darkgrid')\n",
    "    \n",
    "sns.set(font_scale=2)\n",
    "warnings.filterwarnings(action=\"ignore\")"
   ]
  },
  {
   "cell_type": "markdown",
   "metadata": {},
   "source": [
    "## Liste fichiers de données "
   ]
  },
  {
   "cell_type": "code",
   "execution_count": 2,
   "metadata": {},
   "outputs": [
    {
     "name": "stdout",
     "output_type": "stream",
     "text": [
      " Le volume dans le lecteur C s’appelle Windows-SSD\n",
      " Le numéro de série du volume est 84DC-AF7F\n",
      "\n",
      " Répertoire de C:\\Users\\etien\\Documents\\CCI\\_HUB\\cours\\2024-2025\\big_data\\_git\\donnees\\ebrasil\n",
      "\n",
      "20/11/2024  16:30    <DIR>          .\n",
      "20/11/2024  15:02    <DIR>          ..\n",
      "06/10/2019  21:27         9 033 957 olist_customers_dataset.csv\n",
      "06/10/2019  21:27        61 273 883 olist_geolocation_dataset.csv\n",
      "06/10/2019  21:27        17 654 914 olist_orders_dataset.csv\n",
      "06/10/2019  21:27        15 438 671 olist_order_items_dataset.csv\n",
      "06/10/2019  21:27         5 777 138 olist_order_payments_dataset.csv\n",
      "06/10/2019  21:27        14 409 007 olist_order_reviews_dataset.csv\n",
      "06/10/2019  21:27         2 379 446 olist_products_dataset.csv\n",
      "28/09/2020  08:52           177 799 olist_sellers_dataset.csv\n",
      "12/11/2024  14:11             2 613 product_category_name_translation.csv\n",
      "               9 fichier(s)      126 147 428 octets\n",
      "               2 Rép(s)  711 675 215 872 octets libres\n"
     ]
    }
   ],
   "source": [
    "!dir ..\\donnees\\ebrasil"
   ]
  },
  {
   "cell_type": "markdown",
   "metadata": {},
   "source": [
    "## Changement de répertoire"
   ]
  },
  {
   "cell_type": "code",
   "execution_count": 3,
   "metadata": {},
   "outputs": [],
   "source": [
    "os.chdir(r\"../donnees\")"
   ]
  },
  {
   "cell_type": "markdown",
   "metadata": {},
   "source": [
    "# Les fichiers de données \n",
    ">> La liste des fichiers de donnée du projet "
   ]
  },
  {
   "cell_type": "raw",
   "metadata": {
    "ExecuteTime": {
     "end_time": "2020-10-24T18:39:28.083903Z",
     "start_time": "2020-10-24T18:39:26.645714Z"
    }
   },
   "source": [
    "fichiers = {}\n",
    "for dirname, _, filenames in os.walk('ebrasil'):\n",
    "    for filename in filenames:\n",
    "        fichiers[filename] = pd.read_csv(os.path.join(dirname, filename),parse_dates=True,infer_datetime_format=True)\n",
    "        print(os.path.join(dirname, filename),fichiers[filename].shape)"
   ]
  },
  {
   "cell_type": "code",
   "execution_count": 4,
   "metadata": {},
   "outputs": [],
   "source": [
    "donnees = pd.read_csv(os.path.join('ebrasil', 'olist_orders_dataset.csv'),parse_dates=True,infer_datetime_format=True)"
   ]
  },
  {
   "cell_type": "markdown",
   "metadata": {},
   "source": [
    "# DataFrame $orders$ Commandes"
   ]
  },
  {
   "cell_type": "code",
   "execution_count": 5,
   "metadata": {
    "ExecuteTime": {
     "end_time": "2020-10-24T18:39:30.710634Z",
     "start_time": "2020-10-24T18:39:30.698667Z"
    }
   },
   "outputs": [
    {
     "data": {
      "text/html": [
       "<div>\n",
       "<style scoped>\n",
       "    .dataframe tbody tr th:only-of-type {\n",
       "        vertical-align: middle;\n",
       "    }\n",
       "\n",
       "    .dataframe tbody tr th {\n",
       "        vertical-align: top;\n",
       "    }\n",
       "\n",
       "    .dataframe thead th {\n",
       "        text-align: right;\n",
       "    }\n",
       "</style>\n",
       "<table border=\"1\" class=\"dataframe\">\n",
       "  <thead>\n",
       "    <tr style=\"text-align: right;\">\n",
       "      <th></th>\n",
       "      <th>order_id</th>\n",
       "      <th>customer_id</th>\n",
       "      <th>order_status</th>\n",
       "      <th>order_purchase_timestamp</th>\n",
       "      <th>order_approved_at</th>\n",
       "      <th>order_delivered_carrier_date</th>\n",
       "      <th>order_delivered_customer_date</th>\n",
       "      <th>order_estimated_delivery_date</th>\n",
       "    </tr>\n",
       "  </thead>\n",
       "  <tbody>\n",
       "    <tr>\n",
       "      <th>0</th>\n",
       "      <td>e481f51cbdc54678b7cc49136f2d6af7</td>\n",
       "      <td>9ef432eb6251297304e76186b10a928d</td>\n",
       "      <td>delivered</td>\n",
       "      <td>2017-10-02 10:56:33</td>\n",
       "      <td>2017-10-02 11:07:15</td>\n",
       "      <td>2017-10-04 19:55:00</td>\n",
       "      <td>2017-10-10 21:25:13</td>\n",
       "      <td>2017-10-18 00:00:00</td>\n",
       "    </tr>\n",
       "    <tr>\n",
       "      <th>1</th>\n",
       "      <td>53cdb2fc8bc7dce0b6741e2150273451</td>\n",
       "      <td>b0830fb4747a6c6d20dea0b8c802d7ef</td>\n",
       "      <td>delivered</td>\n",
       "      <td>2018-07-24 20:41:37</td>\n",
       "      <td>2018-07-26 03:24:27</td>\n",
       "      <td>2018-07-26 14:31:00</td>\n",
       "      <td>2018-08-07 15:27:45</td>\n",
       "      <td>2018-08-13 00:00:00</td>\n",
       "    </tr>\n",
       "    <tr>\n",
       "      <th>2</th>\n",
       "      <td>47770eb9100c2d0c44946d9cf07ec65d</td>\n",
       "      <td>41ce2a54c0b03bf3443c3d931a367089</td>\n",
       "      <td>delivered</td>\n",
       "      <td>2018-08-08 08:38:49</td>\n",
       "      <td>2018-08-08 08:55:23</td>\n",
       "      <td>2018-08-08 13:50:00</td>\n",
       "      <td>2018-08-17 18:06:29</td>\n",
       "      <td>2018-09-04 00:00:00</td>\n",
       "    </tr>\n",
       "    <tr>\n",
       "      <th>3</th>\n",
       "      <td>949d5b44dbf5de918fe9c16f97b45f8a</td>\n",
       "      <td>f88197465ea7920adcdbec7375364d82</td>\n",
       "      <td>delivered</td>\n",
       "      <td>2017-11-18 19:28:06</td>\n",
       "      <td>2017-11-18 19:45:59</td>\n",
       "      <td>2017-11-22 13:39:59</td>\n",
       "      <td>2017-12-02 00:28:42</td>\n",
       "      <td>2017-12-15 00:00:00</td>\n",
       "    </tr>\n",
       "    <tr>\n",
       "      <th>4</th>\n",
       "      <td>ad21c59c0840e6cb83a9ceb5573f8159</td>\n",
       "      <td>8ab97904e6daea8866dbdbc4fb7aad2c</td>\n",
       "      <td>delivered</td>\n",
       "      <td>2018-02-13 21:18:39</td>\n",
       "      <td>2018-02-13 22:20:29</td>\n",
       "      <td>2018-02-14 19:46:34</td>\n",
       "      <td>2018-02-16 18:17:02</td>\n",
       "      <td>2018-02-26 00:00:00</td>\n",
       "    </tr>\n",
       "  </tbody>\n",
       "</table>\n",
       "</div>"
      ],
      "text/plain": [
       "                           order_id                       customer_id  \\\n",
       "0  e481f51cbdc54678b7cc49136f2d6af7  9ef432eb6251297304e76186b10a928d   \n",
       "1  53cdb2fc8bc7dce0b6741e2150273451  b0830fb4747a6c6d20dea0b8c802d7ef   \n",
       "2  47770eb9100c2d0c44946d9cf07ec65d  41ce2a54c0b03bf3443c3d931a367089   \n",
       "3  949d5b44dbf5de918fe9c16f97b45f8a  f88197465ea7920adcdbec7375364d82   \n",
       "4  ad21c59c0840e6cb83a9ceb5573f8159  8ab97904e6daea8866dbdbc4fb7aad2c   \n",
       "\n",
       "  order_status order_purchase_timestamp    order_approved_at  \\\n",
       "0    delivered      2017-10-02 10:56:33  2017-10-02 11:07:15   \n",
       "1    delivered      2018-07-24 20:41:37  2018-07-26 03:24:27   \n",
       "2    delivered      2018-08-08 08:38:49  2018-08-08 08:55:23   \n",
       "3    delivered      2017-11-18 19:28:06  2017-11-18 19:45:59   \n",
       "4    delivered      2018-02-13 21:18:39  2018-02-13 22:20:29   \n",
       "\n",
       "  order_delivered_carrier_date order_delivered_customer_date  \\\n",
       "0          2017-10-04 19:55:00           2017-10-10 21:25:13   \n",
       "1          2018-07-26 14:31:00           2018-08-07 15:27:45   \n",
       "2          2018-08-08 13:50:00           2018-08-17 18:06:29   \n",
       "3          2017-11-22 13:39:59           2017-12-02 00:28:42   \n",
       "4          2018-02-14 19:46:34           2018-02-16 18:17:02   \n",
       "\n",
       "  order_estimated_delivery_date  \n",
       "0           2017-10-18 00:00:00  \n",
       "1           2018-08-13 00:00:00  \n",
       "2           2018-09-04 00:00:00  \n",
       "3           2017-12-15 00:00:00  \n",
       "4           2018-02-26 00:00:00  "
      ]
     },
     "execution_count": 5,
     "metadata": {},
     "output_type": "execute_result"
    }
   ],
   "source": [
    "donnees.head()"
   ]
  },
  {
   "cell_type": "code",
   "execution_count": 6,
   "metadata": {
    "ExecuteTime": {
     "end_time": "2020-10-24T18:39:31.137574Z",
     "start_time": "2020-10-24T18:39:31.131590Z"
    }
   },
   "outputs": [
    {
     "data": {
      "text/plain": [
       "order_id                         object\n",
       "customer_id                      object\n",
       "order_status                     object\n",
       "order_purchase_timestamp         object\n",
       "order_approved_at                object\n",
       "order_delivered_carrier_date     object\n",
       "order_delivered_customer_date    object\n",
       "order_estimated_delivery_date    object\n",
       "dtype: object"
      ]
     },
     "execution_count": 6,
     "metadata": {},
     "output_type": "execute_result"
    }
   ],
   "source": [
    "donnees.dtypes"
   ]
  },
  {
   "cell_type": "markdown",
   "metadata": {},
   "source": [
    "## Conversions des dates"
   ]
  },
  {
   "cell_type": "code",
   "execution_count": 7,
   "metadata": {
    "ExecuteTime": {
     "end_time": "2020-10-24T18:39:32.756816Z",
     "start_time": "2020-10-24T18:39:32.521468Z"
    }
   },
   "outputs": [],
   "source": [
    "donnees['purchase_timestamp']= pd.to_datetime(donnees.order_purchase_timestamp, format='%Y-%m-%d %H:%M:%S',errors='ignore')\n",
    "donnees['approved_at']=pd.to_datetime(donnees.order_approved_at, format='%Y-%m-%d %H:%M:%S',errors='ignore')\n",
    "donnees['delivered_carrier']= pd.to_datetime(donnees.order_delivered_carrier_date, format='%Y-%m-%d %H:%M:%S',errors='ignore')\n",
    "donnees['delivered_customer']= pd.to_datetime(donnees.order_delivered_customer_date, format='%Y-%m-%d %H:%M:%S',errors='ignore')\n",
    "donnees['estimated_delivery']= pd.to_datetime(donnees.order_estimated_delivery_date, format='%Y-%m-%d %H:%M:%S',errors='ignore')\n",
    "donnees['status']=donnees['order_status']\n",
    "#errors= ignore | coerce => ne process pas la ligne || remplace par NaT (not a time)"
   ]
  },
  {
   "cell_type": "code",
   "execution_count": 8,
   "metadata": {},
   "outputs": [],
   "source": [
    "donnees.drop(columns=['order_purchase_timestamp','order_approved_at','order_delivered_carrier_date','order_delivered_customer_date','order_estimated_delivery_date','order_status'],inplace=True)"
   ]
  },
  {
   "cell_type": "code",
   "execution_count": 9,
   "metadata": {
    "ExecuteTime": {
     "end_time": "2020-10-24T18:39:33.701615Z",
     "start_time": "2020-10-24T18:39:33.697623Z"
    }
   },
   "outputs": [
    {
     "data": {
      "text/plain": [
       "order_id                      object\n",
       "customer_id                   object\n",
       "purchase_timestamp    datetime64[ns]\n",
       "approved_at           datetime64[ns]\n",
       "delivered_carrier     datetime64[ns]\n",
       "delivered_customer    datetime64[ns]\n",
       "estimated_delivery    datetime64[ns]\n",
       "status                        object\n",
       "dtype: object"
      ]
     },
     "execution_count": 9,
     "metadata": {},
     "output_type": "execute_result"
    }
   ],
   "source": [
    "donnees.dtypes"
   ]
  },
  {
   "cell_type": "code",
   "execution_count": 10,
   "metadata": {
    "ExecuteTime": {
     "end_time": "2020-10-24T11:56:48.038382Z",
     "start_time": "2020-10-24T11:56:48.006465Z"
    }
   },
   "outputs": [
    {
     "data": {
      "text/plain": [
       "order_id                 0\n",
       "customer_id              0\n",
       "purchase_timestamp       0\n",
       "approved_at            160\n",
       "delivered_carrier     1783\n",
       "delivered_customer    2965\n",
       "estimated_delivery       0\n",
       "status                   0\n",
       "dtype: int64"
      ]
     },
     "execution_count": 10,
     "metadata": {},
     "output_type": "execute_result"
    }
   ],
   "source": [
    "donnees.isna().sum()"
   ]
  },
  {
   "cell_type": "code",
   "execution_count": 11,
   "metadata": {},
   "outputs": [
    {
     "data": {
      "text/plain": [
       "(99441, 8)"
      ]
     },
     "execution_count": 11,
     "metadata": {},
     "output_type": "execute_result"
    }
   ],
   "source": [
    "donnees.shape"
   ]
  },
  {
   "cell_type": "code",
   "execution_count": 12,
   "metadata": {
    "ExecuteTime": {
     "end_time": "2020-10-24T11:57:15.373123Z",
     "start_time": "2020-10-24T11:57:15.351154Z"
    }
   },
   "outputs": [
    {
     "data": {
      "text/plain": [
       "(99441, (99441, 8))"
      ]
     },
     "execution_count": 12,
     "metadata": {},
     "output_type": "execute_result"
    }
   ],
   "source": [
    "donnees.order_id.nunique(),donnees.shape"
   ]
  },
  {
   "cell_type": "code",
   "execution_count": 13,
   "metadata": {},
   "outputs": [
    {
     "data": {
      "text/plain": [
       "(8, (99441, 8))"
      ]
     },
     "execution_count": 13,
     "metadata": {},
     "output_type": "execute_result"
    }
   ],
   "source": [
    "len(donnees.status.unique()),donnees.shape"
   ]
  },
  {
   "cell_type": "code",
   "execution_count": 14,
   "metadata": {},
   "outputs": [
    {
     "data": {
      "text/plain": [
       "array(['delivered', 'invoiced', 'shipped', 'processing', 'unavailable',\n",
       "       'canceled', 'created', 'approved'], dtype=object)"
      ]
     },
     "execution_count": 14,
     "metadata": {},
     "output_type": "execute_result"
    }
   ],
   "source": [
    "donnees.status.unique()"
   ]
  },
  {
   "cell_type": "markdown",
   "metadata": {},
   "source": [
    "## Variables supplémentaires"
   ]
  },
  {
   "cell_type": "code",
   "execution_count": 15,
   "metadata": {},
   "outputs": [],
   "source": [
    "donnees['annee']           = donnees.purchase_timestamp.dt.year\n",
    "donnees['mois']            = donnees.purchase_timestamp.dt.month\n",
    "donnees['annee_mois']      = donnees.purchase_timestamp.dt.year*100 + donnees.purchase_timestamp.dt.month\n",
    "donnees['jour']            = donnees.purchase_timestamp.dt.day\n",
    "donnees['annee_jour']      = donnees.purchase_timestamp.dt.year*1000 + donnees.purchase_timestamp.dt.day\n",
    "donnees['jour_semaine']    = donnees.purchase_timestamp.dt.day_of_week\n",
    "donnees['trimestre']       = donnees.purchase_timestamp.dt.quarter\n",
    "donnees['annee_trimestre'] = donnees.purchase_timestamp.dt.year*10 + donnees.purchase_timestamp.dt.quarter\n",
    "donnees['semaine']         = donnees.purchase_timestamp.dt.isocalendar().week.astype('int32')\n",
    "donnees['annee_semaine']   = (donnees.purchase_timestamp.dt.year*100 + donnees.purchase_timestamp.dt.isocalendar().week).astype('int32')\n",
    "donnees['heure']           = donnees.purchase_timestamp.dt.hour\n",
    "\n",
    "# Intervalle depuis la commande\n",
    "donnees['approuvee']       = (donnees.approved_at        - donnees.purchase_timestamp).dt.seconds/60/60\n",
    "donnees['envoyee'  ]       = (donnees.delivered_carrier  - donnees.purchase_timestamp).dt.seconds/60/60\n",
    "donnees['livree'   ]       = (donnees.delivered_customer - donnees.purchase_timestamp).dt.seconds/60/60\n",
    "donnees['estimee'  ]       = (donnees.estimated_delivery - donnees.purchase_timestamp).dt.seconds/60/60"
   ]
  },
  {
   "cell_type": "code",
   "execution_count": 16,
   "metadata": {},
   "outputs": [
    {
     "data": {
      "text/plain": [
       "Index(['order_id', 'customer_id', 'purchase_timestamp', 'approved_at',\n",
       "       'delivered_carrier', 'delivered_customer', 'estimated_delivery',\n",
       "       'status', 'annee', 'mois', 'annee_mois', 'jour', 'annee_jour',\n",
       "       'jour_semaine', 'trimestre', 'annee_trimestre', 'semaine',\n",
       "       'annee_semaine', 'heure', 'approuvee', 'envoyee', 'livree', 'estimee'],\n",
       "      dtype='object')"
      ]
     },
     "execution_count": 16,
     "metadata": {},
     "output_type": "execute_result"
    }
   ],
   "source": [
    "donnees.columns"
   ]
  },
  {
   "cell_type": "code",
   "execution_count": 17,
   "metadata": {},
   "outputs": [
    {
     "data": {
      "text/html": [
       "<div>\n",
       "<style scoped>\n",
       "    .dataframe tbody tr th:only-of-type {\n",
       "        vertical-align: middle;\n",
       "    }\n",
       "\n",
       "    .dataframe tbody tr th {\n",
       "        vertical-align: top;\n",
       "    }\n",
       "\n",
       "    .dataframe thead th {\n",
       "        text-align: right;\n",
       "    }\n",
       "</style>\n",
       "<table border=\"1\" class=\"dataframe\">\n",
       "  <thead>\n",
       "    <tr style=\"text-align: right;\">\n",
       "      <th></th>\n",
       "      <th>purchase_timestamp</th>\n",
       "      <th>approved_at</th>\n",
       "      <th>delivered_carrier</th>\n",
       "      <th>delivered_customer</th>\n",
       "      <th>estimated_delivery</th>\n",
       "      <th>status</th>\n",
       "      <th>annee</th>\n",
       "      <th>mois</th>\n",
       "      <th>annee_mois</th>\n",
       "      <th>jour</th>\n",
       "      <th>annee_jour</th>\n",
       "      <th>jour_semaine</th>\n",
       "      <th>trimestre</th>\n",
       "      <th>annee_trimestre</th>\n",
       "      <th>semaine</th>\n",
       "      <th>annee_semaine</th>\n",
       "      <th>heure</th>\n",
       "    </tr>\n",
       "  </thead>\n",
       "  <tbody>\n",
       "    <tr>\n",
       "      <th>0</th>\n",
       "      <td>2017-10-02 10:56:33</td>\n",
       "      <td>2017-10-02 11:07:15</td>\n",
       "      <td>2017-10-04 19:55:00</td>\n",
       "      <td>2017-10-10 21:25:13</td>\n",
       "      <td>2017-10-18</td>\n",
       "      <td>delivered</td>\n",
       "      <td>2017</td>\n",
       "      <td>10</td>\n",
       "      <td>201710</td>\n",
       "      <td>2</td>\n",
       "      <td>2017002</td>\n",
       "      <td>0</td>\n",
       "      <td>4</td>\n",
       "      <td>20174</td>\n",
       "      <td>40</td>\n",
       "      <td>201740</td>\n",
       "      <td>10</td>\n",
       "    </tr>\n",
       "    <tr>\n",
       "      <th>1</th>\n",
       "      <td>2018-07-24 20:41:37</td>\n",
       "      <td>2018-07-26 03:24:27</td>\n",
       "      <td>2018-07-26 14:31:00</td>\n",
       "      <td>2018-08-07 15:27:45</td>\n",
       "      <td>2018-08-13</td>\n",
       "      <td>delivered</td>\n",
       "      <td>2018</td>\n",
       "      <td>7</td>\n",
       "      <td>201807</td>\n",
       "      <td>24</td>\n",
       "      <td>2018024</td>\n",
       "      <td>1</td>\n",
       "      <td>3</td>\n",
       "      <td>20183</td>\n",
       "      <td>30</td>\n",
       "      <td>201830</td>\n",
       "      <td>20</td>\n",
       "    </tr>\n",
       "    <tr>\n",
       "      <th>2</th>\n",
       "      <td>2018-08-08 08:38:49</td>\n",
       "      <td>2018-08-08 08:55:23</td>\n",
       "      <td>2018-08-08 13:50:00</td>\n",
       "      <td>2018-08-17 18:06:29</td>\n",
       "      <td>2018-09-04</td>\n",
       "      <td>delivered</td>\n",
       "      <td>2018</td>\n",
       "      <td>8</td>\n",
       "      <td>201808</td>\n",
       "      <td>8</td>\n",
       "      <td>2018008</td>\n",
       "      <td>2</td>\n",
       "      <td>3</td>\n",
       "      <td>20183</td>\n",
       "      <td>32</td>\n",
       "      <td>201832</td>\n",
       "      <td>8</td>\n",
       "    </tr>\n",
       "    <tr>\n",
       "      <th>3</th>\n",
       "      <td>2017-11-18 19:28:06</td>\n",
       "      <td>2017-11-18 19:45:59</td>\n",
       "      <td>2017-11-22 13:39:59</td>\n",
       "      <td>2017-12-02 00:28:42</td>\n",
       "      <td>2017-12-15</td>\n",
       "      <td>delivered</td>\n",
       "      <td>2017</td>\n",
       "      <td>11</td>\n",
       "      <td>201711</td>\n",
       "      <td>18</td>\n",
       "      <td>2017018</td>\n",
       "      <td>5</td>\n",
       "      <td>4</td>\n",
       "      <td>20174</td>\n",
       "      <td>46</td>\n",
       "      <td>201746</td>\n",
       "      <td>19</td>\n",
       "    </tr>\n",
       "    <tr>\n",
       "      <th>4</th>\n",
       "      <td>2018-02-13 21:18:39</td>\n",
       "      <td>2018-02-13 22:20:29</td>\n",
       "      <td>2018-02-14 19:46:34</td>\n",
       "      <td>2018-02-16 18:17:02</td>\n",
       "      <td>2018-02-26</td>\n",
       "      <td>delivered</td>\n",
       "      <td>2018</td>\n",
       "      <td>2</td>\n",
       "      <td>201802</td>\n",
       "      <td>13</td>\n",
       "      <td>2018013</td>\n",
       "      <td>1</td>\n",
       "      <td>1</td>\n",
       "      <td>20181</td>\n",
       "      <td>7</td>\n",
       "      <td>201807</td>\n",
       "      <td>21</td>\n",
       "    </tr>\n",
       "  </tbody>\n",
       "</table>\n",
       "</div>"
      ],
      "text/plain": [
       "   purchase_timestamp         approved_at   delivered_carrier  \\\n",
       "0 2017-10-02 10:56:33 2017-10-02 11:07:15 2017-10-04 19:55:00   \n",
       "1 2018-07-24 20:41:37 2018-07-26 03:24:27 2018-07-26 14:31:00   \n",
       "2 2018-08-08 08:38:49 2018-08-08 08:55:23 2018-08-08 13:50:00   \n",
       "3 2017-11-18 19:28:06 2017-11-18 19:45:59 2017-11-22 13:39:59   \n",
       "4 2018-02-13 21:18:39 2018-02-13 22:20:29 2018-02-14 19:46:34   \n",
       "\n",
       "   delivered_customer estimated_delivery     status  annee  mois  annee_mois  \\\n",
       "0 2017-10-10 21:25:13         2017-10-18  delivered   2017    10      201710   \n",
       "1 2018-08-07 15:27:45         2018-08-13  delivered   2018     7      201807   \n",
       "2 2018-08-17 18:06:29         2018-09-04  delivered   2018     8      201808   \n",
       "3 2017-12-02 00:28:42         2017-12-15  delivered   2017    11      201711   \n",
       "4 2018-02-16 18:17:02         2018-02-26  delivered   2018     2      201802   \n",
       "\n",
       "   jour  annee_jour  jour_semaine  trimestre  annee_trimestre  semaine  \\\n",
       "0     2     2017002             0          4            20174       40   \n",
       "1    24     2018024             1          3            20183       30   \n",
       "2     8     2018008             2          3            20183       32   \n",
       "3    18     2017018             5          4            20174       46   \n",
       "4    13     2018013             1          1            20181        7   \n",
       "\n",
       "   annee_semaine  heure  \n",
       "0         201740     10  \n",
       "1         201830     20  \n",
       "2         201832      8  \n",
       "3         201746     19  \n",
       "4         201807     21  "
      ]
     },
     "execution_count": 17,
     "metadata": {},
     "output_type": "execute_result"
    }
   ],
   "source": [
    "donnees[['purchase_timestamp', 'approved_at',\n",
    "       'delivered_carrier', 'delivered_customer', 'estimated_delivery',\n",
    "       'status', 'annee', 'mois', 'annee_mois', 'jour', 'annee_jour',\n",
    "       'jour_semaine', 'trimestre', 'annee_trimestre', 'semaine',\n",
    "       'annee_semaine', 'heure']].head()"
   ]
  },
  {
   "cell_type": "code",
   "execution_count": 18,
   "metadata": {},
   "outputs": [
    {
     "name": "stdout",
     "output_type": "stream",
     "text": [
      "<class 'pandas.core.frame.DataFrame'>\n",
      "RangeIndex: 99441 entries, 0 to 99440\n",
      "Data columns (total 23 columns):\n",
      " #   Column              Non-Null Count  Dtype         \n",
      "---  ------              --------------  -----         \n",
      " 0   order_id            99441 non-null  object        \n",
      " 1   customer_id         99441 non-null  object        \n",
      " 2   purchase_timestamp  99441 non-null  datetime64[ns]\n",
      " 3   approved_at         99281 non-null  datetime64[ns]\n",
      " 4   delivered_carrier   97658 non-null  datetime64[ns]\n",
      " 5   delivered_customer  96476 non-null  datetime64[ns]\n",
      " 6   estimated_delivery  99441 non-null  datetime64[ns]\n",
      " 7   status              99441 non-null  object        \n",
      " 8   annee               99441 non-null  int32         \n",
      " 9   mois                99441 non-null  int32         \n",
      " 10  annee_mois          99441 non-null  int32         \n",
      " 11  jour                99441 non-null  int32         \n",
      " 12  annee_jour          99441 non-null  int32         \n",
      " 13  jour_semaine        99441 non-null  int32         \n",
      " 14  trimestre           99441 non-null  int32         \n",
      " 15  annee_trimestre     99441 non-null  int32         \n",
      " 16  semaine             99441 non-null  int32         \n",
      " 17  annee_semaine       99441 non-null  int32         \n",
      " 18  heure               99441 non-null  int32         \n",
      " 19  approuvee           99281 non-null  float64       \n",
      " 20  envoyee             97658 non-null  float64       \n",
      " 21  livree              96476 non-null  float64       \n",
      " 22  estimee             99441 non-null  float64       \n",
      "dtypes: datetime64[ns](5), float64(4), int32(11), object(3)\n",
      "memory usage: 13.3+ MB\n"
     ]
    }
   ],
   "source": [
    "donnees.info()"
   ]
  },
  {
   "cell_type": "code",
   "execution_count": 19,
   "metadata": {},
   "outputs": [
    {
     "data": {
      "text/html": [
       "<div>\n",
       "<style scoped>\n",
       "    .dataframe tbody tr th:only-of-type {\n",
       "        vertical-align: middle;\n",
       "    }\n",
       "\n",
       "    .dataframe tbody tr th {\n",
       "        vertical-align: top;\n",
       "    }\n",
       "\n",
       "    .dataframe thead th {\n",
       "        text-align: right;\n",
       "    }\n",
       "</style>\n",
       "<table border=\"1\" class=\"dataframe\">\n",
       "  <thead>\n",
       "    <tr style=\"text-align: right;\">\n",
       "      <th></th>\n",
       "      <th>order_id</th>\n",
       "      <th>customer_id</th>\n",
       "      <th>purchase_timestamp</th>\n",
       "      <th>approved_at</th>\n",
       "      <th>delivered_carrier</th>\n",
       "      <th>delivered_customer</th>\n",
       "      <th>estimated_delivery</th>\n",
       "      <th>status</th>\n",
       "      <th>annee</th>\n",
       "      <th>mois</th>\n",
       "      <th>...</th>\n",
       "      <th>jour_semaine</th>\n",
       "      <th>trimestre</th>\n",
       "      <th>annee_trimestre</th>\n",
       "      <th>semaine</th>\n",
       "      <th>annee_semaine</th>\n",
       "      <th>heure</th>\n",
       "      <th>approuvee</th>\n",
       "      <th>envoyee</th>\n",
       "      <th>livree</th>\n",
       "      <th>estimee</th>\n",
       "    </tr>\n",
       "  </thead>\n",
       "  <tbody>\n",
       "    <tr>\n",
       "      <th>0</th>\n",
       "      <td>e481f51cbdc54678b7cc49136f2d6af7</td>\n",
       "      <td>9ef432eb6251297304e76186b10a928d</td>\n",
       "      <td>2017-10-02 10:56:33</td>\n",
       "      <td>2017-10-02 11:07:15</td>\n",
       "      <td>2017-10-04 19:55:00</td>\n",
       "      <td>2017-10-10 21:25:13</td>\n",
       "      <td>2017-10-18</td>\n",
       "      <td>delivered</td>\n",
       "      <td>2017</td>\n",
       "      <td>10</td>\n",
       "      <td>...</td>\n",
       "      <td>0</td>\n",
       "      <td>4</td>\n",
       "      <td>20174</td>\n",
       "      <td>40</td>\n",
       "      <td>201740</td>\n",
       "      <td>10</td>\n",
       "      <td>0.178333</td>\n",
       "      <td>8.974167</td>\n",
       "      <td>10.477778</td>\n",
       "      <td>13.057500</td>\n",
       "    </tr>\n",
       "    <tr>\n",
       "      <th>1</th>\n",
       "      <td>53cdb2fc8bc7dce0b6741e2150273451</td>\n",
       "      <td>b0830fb4747a6c6d20dea0b8c802d7ef</td>\n",
       "      <td>2018-07-24 20:41:37</td>\n",
       "      <td>2018-07-26 03:24:27</td>\n",
       "      <td>2018-07-26 14:31:00</td>\n",
       "      <td>2018-08-07 15:27:45</td>\n",
       "      <td>2018-08-13</td>\n",
       "      <td>delivered</td>\n",
       "      <td>2018</td>\n",
       "      <td>7</td>\n",
       "      <td>...</td>\n",
       "      <td>1</td>\n",
       "      <td>3</td>\n",
       "      <td>20183</td>\n",
       "      <td>30</td>\n",
       "      <td>201830</td>\n",
       "      <td>20</td>\n",
       "      <td>6.713889</td>\n",
       "      <td>17.823056</td>\n",
       "      <td>18.768889</td>\n",
       "      <td>3.306389</td>\n",
       "    </tr>\n",
       "    <tr>\n",
       "      <th>2</th>\n",
       "      <td>47770eb9100c2d0c44946d9cf07ec65d</td>\n",
       "      <td>41ce2a54c0b03bf3443c3d931a367089</td>\n",
       "      <td>2018-08-08 08:38:49</td>\n",
       "      <td>2018-08-08 08:55:23</td>\n",
       "      <td>2018-08-08 13:50:00</td>\n",
       "      <td>2018-08-17 18:06:29</td>\n",
       "      <td>2018-09-04</td>\n",
       "      <td>delivered</td>\n",
       "      <td>2018</td>\n",
       "      <td>8</td>\n",
       "      <td>...</td>\n",
       "      <td>2</td>\n",
       "      <td>3</td>\n",
       "      <td>20183</td>\n",
       "      <td>32</td>\n",
       "      <td>201832</td>\n",
       "      <td>8</td>\n",
       "      <td>0.276111</td>\n",
       "      <td>5.186389</td>\n",
       "      <td>9.461111</td>\n",
       "      <td>15.353056</td>\n",
       "    </tr>\n",
       "    <tr>\n",
       "      <th>3</th>\n",
       "      <td>949d5b44dbf5de918fe9c16f97b45f8a</td>\n",
       "      <td>f88197465ea7920adcdbec7375364d82</td>\n",
       "      <td>2017-11-18 19:28:06</td>\n",
       "      <td>2017-11-18 19:45:59</td>\n",
       "      <td>2017-11-22 13:39:59</td>\n",
       "      <td>2017-12-02 00:28:42</td>\n",
       "      <td>2017-12-15</td>\n",
       "      <td>delivered</td>\n",
       "      <td>2017</td>\n",
       "      <td>11</td>\n",
       "      <td>...</td>\n",
       "      <td>5</td>\n",
       "      <td>4</td>\n",
       "      <td>20174</td>\n",
       "      <td>46</td>\n",
       "      <td>201746</td>\n",
       "      <td>19</td>\n",
       "      <td>0.298056</td>\n",
       "      <td>18.198056</td>\n",
       "      <td>5.010000</td>\n",
       "      <td>4.531667</td>\n",
       "    </tr>\n",
       "    <tr>\n",
       "      <th>4</th>\n",
       "      <td>ad21c59c0840e6cb83a9ceb5573f8159</td>\n",
       "      <td>8ab97904e6daea8866dbdbc4fb7aad2c</td>\n",
       "      <td>2018-02-13 21:18:39</td>\n",
       "      <td>2018-02-13 22:20:29</td>\n",
       "      <td>2018-02-14 19:46:34</td>\n",
       "      <td>2018-02-16 18:17:02</td>\n",
       "      <td>2018-02-26</td>\n",
       "      <td>delivered</td>\n",
       "      <td>2018</td>\n",
       "      <td>2</td>\n",
       "      <td>...</td>\n",
       "      <td>1</td>\n",
       "      <td>1</td>\n",
       "      <td>20181</td>\n",
       "      <td>7</td>\n",
       "      <td>201807</td>\n",
       "      <td>21</td>\n",
       "      <td>1.030556</td>\n",
       "      <td>22.465278</td>\n",
       "      <td>20.973056</td>\n",
       "      <td>2.689167</td>\n",
       "    </tr>\n",
       "  </tbody>\n",
       "</table>\n",
       "<p>5 rows × 23 columns</p>\n",
       "</div>"
      ],
      "text/plain": [
       "                           order_id                       customer_id  \\\n",
       "0  e481f51cbdc54678b7cc49136f2d6af7  9ef432eb6251297304e76186b10a928d   \n",
       "1  53cdb2fc8bc7dce0b6741e2150273451  b0830fb4747a6c6d20dea0b8c802d7ef   \n",
       "2  47770eb9100c2d0c44946d9cf07ec65d  41ce2a54c0b03bf3443c3d931a367089   \n",
       "3  949d5b44dbf5de918fe9c16f97b45f8a  f88197465ea7920adcdbec7375364d82   \n",
       "4  ad21c59c0840e6cb83a9ceb5573f8159  8ab97904e6daea8866dbdbc4fb7aad2c   \n",
       "\n",
       "   purchase_timestamp         approved_at   delivered_carrier  \\\n",
       "0 2017-10-02 10:56:33 2017-10-02 11:07:15 2017-10-04 19:55:00   \n",
       "1 2018-07-24 20:41:37 2018-07-26 03:24:27 2018-07-26 14:31:00   \n",
       "2 2018-08-08 08:38:49 2018-08-08 08:55:23 2018-08-08 13:50:00   \n",
       "3 2017-11-18 19:28:06 2017-11-18 19:45:59 2017-11-22 13:39:59   \n",
       "4 2018-02-13 21:18:39 2018-02-13 22:20:29 2018-02-14 19:46:34   \n",
       "\n",
       "   delivered_customer estimated_delivery     status  annee  mois  ...  \\\n",
       "0 2017-10-10 21:25:13         2017-10-18  delivered   2017    10  ...   \n",
       "1 2018-08-07 15:27:45         2018-08-13  delivered   2018     7  ...   \n",
       "2 2018-08-17 18:06:29         2018-09-04  delivered   2018     8  ...   \n",
       "3 2017-12-02 00:28:42         2017-12-15  delivered   2017    11  ...   \n",
       "4 2018-02-16 18:17:02         2018-02-26  delivered   2018     2  ...   \n",
       "\n",
       "   jour_semaine  trimestre  annee_trimestre  semaine  annee_semaine  heure  \\\n",
       "0             0          4            20174       40         201740     10   \n",
       "1             1          3            20183       30         201830     20   \n",
       "2             2          3            20183       32         201832      8   \n",
       "3             5          4            20174       46         201746     19   \n",
       "4             1          1            20181        7         201807     21   \n",
       "\n",
       "   approuvee    envoyee     livree    estimee  \n",
       "0   0.178333   8.974167  10.477778  13.057500  \n",
       "1   6.713889  17.823056  18.768889   3.306389  \n",
       "2   0.276111   5.186389   9.461111  15.353056  \n",
       "3   0.298056  18.198056   5.010000   4.531667  \n",
       "4   1.030556  22.465278  20.973056   2.689167  \n",
       "\n",
       "[5 rows x 23 columns]"
      ]
     },
     "execution_count": 19,
     "metadata": {},
     "output_type": "execute_result"
    }
   ],
   "source": [
    "donnees.head()"
   ]
  },
  {
   "cell_type": "markdown",
   "metadata": {},
   "source": [
    "## Sauvegarde en parquet"
   ]
  },
  {
   "cell_type": "raw",
   "metadata": {},
   "source": [
    "donnees.to_csv('./ecommerce/orders.csv',index=False)"
   ]
  },
  {
   "cell_type": "raw",
   "metadata": {},
   "source": [
    "pd.read_csv('./ecommerce/orders.csv').info()"
   ]
  },
  {
   "cell_type": "code",
   "execution_count": 20,
   "metadata": {},
   "outputs": [],
   "source": [
    "donnees.to_parquet('./ecommerce/orders.parquet',compression='gzip', engine='pyarrow')"
   ]
  },
  {
   "cell_type": "code",
   "execution_count": 21,
   "metadata": {},
   "outputs": [
    {
     "name": "stdout",
     "output_type": "stream",
     "text": [
      "<class 'pandas.core.frame.DataFrame'>\n",
      "RangeIndex: 99441 entries, 0 to 99440\n",
      "Data columns (total 23 columns):\n",
      " #   Column              Non-Null Count  Dtype         \n",
      "---  ------              --------------  -----         \n",
      " 0   order_id            99441 non-null  object        \n",
      " 1   customer_id         99441 non-null  object        \n",
      " 2   purchase_timestamp  99441 non-null  datetime64[ns]\n",
      " 3   approved_at         99281 non-null  datetime64[ns]\n",
      " 4   delivered_carrier   97658 non-null  datetime64[ns]\n",
      " 5   delivered_customer  96476 non-null  datetime64[ns]\n",
      " 6   estimated_delivery  99441 non-null  datetime64[ns]\n",
      " 7   status              99441 non-null  object        \n",
      " 8   annee               99441 non-null  int32         \n",
      " 9   mois                99441 non-null  int32         \n",
      " 10  annee_mois          99441 non-null  int32         \n",
      " 11  jour                99441 non-null  int32         \n",
      " 12  annee_jour          99441 non-null  int32         \n",
      " 13  jour_semaine        99441 non-null  int32         \n",
      " 14  trimestre           99441 non-null  int32         \n",
      " 15  annee_trimestre     99441 non-null  int32         \n",
      " 16  semaine             99441 non-null  int32         \n",
      " 17  annee_semaine       99441 non-null  int32         \n",
      " 18  heure               99441 non-null  int32         \n",
      " 19  approuvee           99281 non-null  float64       \n",
      " 20  envoyee             97658 non-null  float64       \n",
      " 21  livree              96476 non-null  float64       \n",
      " 22  estimee             99441 non-null  float64       \n",
      "dtypes: datetime64[ns](5), float64(4), int32(11), object(3)\n",
      "memory usage: 13.3+ MB\n"
     ]
    }
   ],
   "source": [
    "pd.read_parquet('./ecommerce/orders.parquet').info()"
   ]
  },
  {
   "cell_type": "code",
   "execution_count": 22,
   "metadata": {},
   "outputs": [
    {
     "name": "stdout",
     "output_type": "stream",
     "text": [
      " Le volume dans le lecteur C s’appelle Windows-SSD\n",
      " Le numéro de série du volume est 84DC-AF7F\n",
      "\n",
      " Répertoire de C:\\Users\\etien\\Documents\\CCI\\_HUB\\cours\\2024-2025\\big_data\\_git\\donnees\\ecommerce\n",
      "\n",
      "20/11/2024  16:24    <DIR>          .\n",
      "20/11/2024  15:02    <DIR>          ..\n",
      "20/11/2024  15:05         4 807 544 items.parquet\n",
      "21/11/2024  09:22         9 567 921 orders.parquet\n",
      "20/11/2024  15:06        10 022 487 orders_payments.parquet\n",
      "20/11/2024  15:06        13 281 965 orders_payments_items.parquet\n",
      "20/11/2024  15:06         2 651 184 payments.parquet\n",
      "20/11/2024  15:06         2 470 995 paymentsI.parquet\n",
      "20/11/2024  16:24         7 549 835 reviews.parquet\n",
      "20/11/2024  16:24         2 845 170 reviews_p.parquet\n",
      "               8 fichier(s)       53 197 101 octets\n",
      "               2 Rép(s)  710 576 136 192 octets libres\n"
     ]
    }
   ],
   "source": [
    "!dir ecommerce"
   ]
  }
 ],
 "metadata": {
  "kernelspec": {
   "display_name": "Python 3 (ipykernel)",
   "language": "python",
   "name": "python3"
  },
  "language_info": {
   "codemirror_mode": {
    "name": "ipython",
    "version": 3
   },
   "file_extension": ".py",
   "mimetype": "text/x-python",
   "name": "python",
   "nbconvert_exporter": "python",
   "pygments_lexer": "ipython3",
   "version": "3.10.0"
  },
  "toc": {
   "base_numbering": 1,
   "nav_menu": {
    "height": "192.133px",
    "width": "731.133px"
   },
   "number_sections": true,
   "sideBar": true,
   "skip_h1_title": false,
   "title_cell": "Table of Contents",
   "title_sidebar": "Contents",
   "toc_cell": true,
   "toc_position": {
    "height": "calc(100% - 180px)",
    "left": "10px",
    "top": "150px",
    "width": "165px"
   },
   "toc_section_display": true,
   "toc_window_display": true
  }
 },
 "nbformat": 4,
 "nbformat_minor": 4
}
