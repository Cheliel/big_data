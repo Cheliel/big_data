{
 "cells": [
  {
   "cell_type": "markdown",
   "metadata": {
    "ExecuteTime": {
     "end_time": "2020-10-24T12:16:35.438079Z",
     "start_time": "2020-10-24T12:16:35.433094Z"
    }
   },
   "source": [
    "<img src=\"https://raw.githubusercontent.com/rbizoi/PythonFormation/main/images/e-brasil.png\" width=\"850\">"
   ]
  },
  {
   "cell_type": "markdown",
   "metadata": {
    "jupyter": {
     "source_hidden": true
    }
   },
   "source": [
    "# Les imports et initialisations des variables"
   ]
  },
  {
   "cell_type": "code",
   "execution_count": 1,
   "metadata": {
    "ExecuteTime": {
     "end_time": "2020-10-24T18:39:25.948711Z",
     "start_time": "2020-10-24T18:39:24.506560Z"
    }
   },
   "outputs": [],
   "source": [
    "from datetime import datetime\n",
    "import pandas as pd, numpy as np, os, warnings, seaborn as sns, pickle, re, unicodedata\n",
    "from datetime import datetime as dt\n",
    "import matplotlib.pyplot as plt\n",
    "import matplotlib.font_manager as fm\n",
    "\n",
    "font1 = fm.FontProperties(size=20)\n",
    "font2 = fm.FontProperties(size=24)\n",
    "\n",
    "%matplotlib inline\n",
    "\n",
    "if int(str(sns.__version__).split('.')[1]) > 8 : \n",
    "    plt.style.use('seaborn-v0_8-darkgrid')\n",
    "else:\n",
    "    plt.style.use('seaborn-darkgrid')\n",
    "    \n",
    "sns.set(font_scale=2)\n",
    "warnings.filterwarnings(action=\"ignore\")"
   ]
  },
  {
   "cell_type": "markdown",
   "metadata": {},
   "source": [
    "## Liste fichiers de données "
   ]
  },
  {
   "cell_type": "code",
   "execution_count": 2,
   "metadata": {},
   "outputs": [
    {
     "name": "stderr",
     "output_type": "stream",
     "text": [
      "Le fichier spécifié est introuvable.\n"
     ]
    }
   ],
   "source": [
    "!dir ..\\donnees\\ebrasil"
   ]
  },
  {
   "cell_type": "markdown",
   "metadata": {},
   "source": [
    "## Changement de répertoire"
   ]
  },
  {
   "cell_type": "code",
   "execution_count": 3,
   "metadata": {},
   "outputs": [],
   "source": [
    "os.chdir(\"C:/Users/etien/Documents/CCI/_HUB/cours/2024-2025/big_data/_git/donnees\")"
   ]
  },
  {
   "cell_type": "markdown",
   "metadata": {},
   "source": [
    "# DataFrame $sellers$"
   ]
  },
  {
   "cell_type": "code",
   "execution_count": 4,
   "metadata": {
    "ExecuteTime": {
     "end_time": "2020-10-24T18:39:30.280754Z",
     "start_time": "2020-10-24T18:39:30.277762Z"
    }
   },
   "outputs": [],
   "source": [
    "donnees = pd.read_csv(os.path.join('ebrasil', 'olist_sellers_dataset.csv'))\n",
    "donnees.rename(columns={col:col.replace('seller_','').replace('_prefix','') for col in donnees.columns[1:]},inplace=True)"
   ]
  },
  {
   "cell_type": "code",
   "execution_count": 5,
   "metadata": {},
   "outputs": [
    {
     "data": {
      "text/plain": [
       "Index(['seller_id', 'zip_code', 'city', 'state'], dtype='object')"
      ]
     },
     "execution_count": 5,
     "metadata": {},
     "output_type": "execute_result"
    }
   ],
   "source": [
    "donnees.columns"
   ]
  },
  {
   "cell_type": "code",
   "execution_count": 6,
   "metadata": {},
   "outputs": [],
   "source": [
    "dictEtats = {'AC':'Acre',              \n",
    "             'AL':'Alagoas',\n",
    "             'AP':'Amapá',\n",
    "             'AM':'Amazonas',\n",
    "             'BA':'Bahia',\n",
    "             'CE':'Ceará',\n",
    "             'ES':'Espírito Santo',\n",
    "             'GO':'Goiás',\n",
    "             'MA':'Maranhão',\n",
    "             'MT':'Mato Grosso',\n",
    "             'MS':'Mato Grosso do Sul', \n",
    "             'MG':'Minas Gerais',\n",
    "             'PA':'Pará',\n",
    "             'PB':'Paraïba',\n",
    "             'PR':'Paraná',\n",
    "             'PE':'Pernambouc',\n",
    "             'PI':'Piauí',\n",
    "             'RJ':'Rio de Janeiro',\n",
    "             'RN':'Rio Grande do Norte',  \n",
    "             'RS':'Rio Grande do Sul',\n",
    "             'RO':'Rondônia',\n",
    "             'RR':'Roraima',\n",
    "             'SC':'Santa Catarina',\n",
    "             'SP':'São Paulo',\n",
    "             'SE':'Sergipe',\n",
    "             'TO':'Tocantins',\n",
    "             'DF':'District fédéral'} \n",
    "donnees['name_state'] = donnees['state'].apply(lambda x : dictEtats[x])\n",
    "donnees['zip_code'] = donnees['zip_code'].astype('int32')"
   ]
  },
  {
   "cell_type": "code",
   "execution_count": 7,
   "metadata": {
    "ExecuteTime": {
     "end_time": "2020-10-24T18:39:30.710634Z",
     "start_time": "2020-10-24T18:39:30.698667Z"
    }
   },
   "outputs": [
    {
     "data": {
      "text/html": [
       "<div>\n",
       "<style scoped>\n",
       "    .dataframe tbody tr th:only-of-type {\n",
       "        vertical-align: middle;\n",
       "    }\n",
       "\n",
       "    .dataframe tbody tr th {\n",
       "        vertical-align: top;\n",
       "    }\n",
       "\n",
       "    .dataframe thead th {\n",
       "        text-align: right;\n",
       "    }\n",
       "</style>\n",
       "<table border=\"1\" class=\"dataframe\">\n",
       "  <thead>\n",
       "    <tr style=\"text-align: right;\">\n",
       "      <th></th>\n",
       "      <th>seller_id</th>\n",
       "      <th>zip_code</th>\n",
       "      <th>city</th>\n",
       "      <th>state</th>\n",
       "      <th>name_state</th>\n",
       "    </tr>\n",
       "  </thead>\n",
       "  <tbody>\n",
       "    <tr>\n",
       "      <th>0</th>\n",
       "      <td>3442f8959a84dea7ee197c632cb2df15</td>\n",
       "      <td>13023</td>\n",
       "      <td>campinas</td>\n",
       "      <td>SP</td>\n",
       "      <td>São Paulo</td>\n",
       "    </tr>\n",
       "    <tr>\n",
       "      <th>1</th>\n",
       "      <td>d1b65fc7debc3361ea86b5f14c68d2e2</td>\n",
       "      <td>13844</td>\n",
       "      <td>mogi guacu</td>\n",
       "      <td>SP</td>\n",
       "      <td>São Paulo</td>\n",
       "    </tr>\n",
       "    <tr>\n",
       "      <th>2</th>\n",
       "      <td>ce3ad9de960102d0677a81f5d0bb7b2d</td>\n",
       "      <td>20031</td>\n",
       "      <td>rio de janeiro</td>\n",
       "      <td>RJ</td>\n",
       "      <td>Rio de Janeiro</td>\n",
       "    </tr>\n",
       "    <tr>\n",
       "      <th>3</th>\n",
       "      <td>c0f3eea2e14555b6faeea3dd58c1b1c3</td>\n",
       "      <td>4195</td>\n",
       "      <td>sao paulo</td>\n",
       "      <td>SP</td>\n",
       "      <td>São Paulo</td>\n",
       "    </tr>\n",
       "    <tr>\n",
       "      <th>4</th>\n",
       "      <td>51a04a8a6bdcb23deccc82b0b80742cf</td>\n",
       "      <td>12914</td>\n",
       "      <td>braganca paulista</td>\n",
       "      <td>SP</td>\n",
       "      <td>São Paulo</td>\n",
       "    </tr>\n",
       "  </tbody>\n",
       "</table>\n",
       "</div>"
      ],
      "text/plain": [
       "                          seller_id  zip_code               city state  \\\n",
       "0  3442f8959a84dea7ee197c632cb2df15     13023           campinas    SP   \n",
       "1  d1b65fc7debc3361ea86b5f14c68d2e2     13844         mogi guacu    SP   \n",
       "2  ce3ad9de960102d0677a81f5d0bb7b2d     20031     rio de janeiro    RJ   \n",
       "3  c0f3eea2e14555b6faeea3dd58c1b1c3      4195          sao paulo    SP   \n",
       "4  51a04a8a6bdcb23deccc82b0b80742cf     12914  braganca paulista    SP   \n",
       "\n",
       "       name_state  \n",
       "0       São Paulo  \n",
       "1       São Paulo  \n",
       "2  Rio de Janeiro  \n",
       "3       São Paulo  \n",
       "4       São Paulo  "
      ]
     },
     "execution_count": 7,
     "metadata": {},
     "output_type": "execute_result"
    }
   ],
   "source": [
    "donnees.head()"
   ]
  },
  {
   "cell_type": "code",
   "execution_count": 8,
   "metadata": {
    "ExecuteTime": {
     "end_time": "2020-10-24T18:39:31.137574Z",
     "start_time": "2020-10-24T18:39:31.131590Z"
    }
   },
   "outputs": [
    {
     "data": {
      "text/plain": [
       "seller_id     object\n",
       "zip_code       int32\n",
       "city          object\n",
       "state         object\n",
       "name_state    object\n",
       "dtype: object"
      ]
     },
     "execution_count": 8,
     "metadata": {},
     "output_type": "execute_result"
    }
   ],
   "source": [
    "donnees.dtypes"
   ]
  },
  {
   "cell_type": "code",
   "execution_count": 9,
   "metadata": {
    "ExecuteTime": {
     "end_time": "2020-10-24T11:56:48.038382Z",
     "start_time": "2020-10-24T11:56:48.006465Z"
    }
   },
   "outputs": [
    {
     "data": {
      "text/plain": [
       "seller_id     0\n",
       "zip_code      0\n",
       "city          0\n",
       "state         0\n",
       "name_state    0\n",
       "dtype: int64"
      ]
     },
     "execution_count": 9,
     "metadata": {},
     "output_type": "execute_result"
    }
   ],
   "source": [
    "donnees.isna().sum()"
   ]
  },
  {
   "cell_type": "code",
   "execution_count": 10,
   "metadata": {},
   "outputs": [
    {
     "data": {
      "text/plain": [
       "(3095, 3095)"
      ]
     },
     "execution_count": 10,
     "metadata": {},
     "output_type": "execute_result"
    }
   ],
   "source": [
    "donnees.shape[0],donnees.seller_id.nunique()"
   ]
  },
  {
   "cell_type": "markdown",
   "metadata": {},
   "source": [
    "## Sauvegarde en parquet"
   ]
  },
  {
   "cell_type": "code",
   "execution_count": 11,
   "metadata": {},
   "outputs": [],
   "source": [
    "donnees.to_parquet('./ecommerce/sellers.parquet',compression='gzip', engine='pyarrow')"
   ]
  },
  {
   "cell_type": "code",
   "execution_count": 12,
   "metadata": {},
   "outputs": [
    {
     "data": {
      "text/html": [
       "<div>\n",
       "<style scoped>\n",
       "    .dataframe tbody tr th:only-of-type {\n",
       "        vertical-align: middle;\n",
       "    }\n",
       "\n",
       "    .dataframe tbody tr th {\n",
       "        vertical-align: top;\n",
       "    }\n",
       "\n",
       "    .dataframe thead th {\n",
       "        text-align: right;\n",
       "    }\n",
       "</style>\n",
       "<table border=\"1\" class=\"dataframe\">\n",
       "  <thead>\n",
       "    <tr style=\"text-align: right;\">\n",
       "      <th></th>\n",
       "      <th>seller_id</th>\n",
       "      <th>zip_code</th>\n",
       "      <th>city</th>\n",
       "      <th>state</th>\n",
       "      <th>name_state</th>\n",
       "    </tr>\n",
       "  </thead>\n",
       "  <tbody>\n",
       "    <tr>\n",
       "      <th>0</th>\n",
       "      <td>3442f8959a84dea7ee197c632cb2df15</td>\n",
       "      <td>13023</td>\n",
       "      <td>campinas</td>\n",
       "      <td>SP</td>\n",
       "      <td>São Paulo</td>\n",
       "    </tr>\n",
       "    <tr>\n",
       "      <th>1</th>\n",
       "      <td>d1b65fc7debc3361ea86b5f14c68d2e2</td>\n",
       "      <td>13844</td>\n",
       "      <td>mogi guacu</td>\n",
       "      <td>SP</td>\n",
       "      <td>São Paulo</td>\n",
       "    </tr>\n",
       "    <tr>\n",
       "      <th>2</th>\n",
       "      <td>ce3ad9de960102d0677a81f5d0bb7b2d</td>\n",
       "      <td>20031</td>\n",
       "      <td>rio de janeiro</td>\n",
       "      <td>RJ</td>\n",
       "      <td>Rio de Janeiro</td>\n",
       "    </tr>\n",
       "    <tr>\n",
       "      <th>3</th>\n",
       "      <td>c0f3eea2e14555b6faeea3dd58c1b1c3</td>\n",
       "      <td>4195</td>\n",
       "      <td>sao paulo</td>\n",
       "      <td>SP</td>\n",
       "      <td>São Paulo</td>\n",
       "    </tr>\n",
       "    <tr>\n",
       "      <th>4</th>\n",
       "      <td>51a04a8a6bdcb23deccc82b0b80742cf</td>\n",
       "      <td>12914</td>\n",
       "      <td>braganca paulista</td>\n",
       "      <td>SP</td>\n",
       "      <td>São Paulo</td>\n",
       "    </tr>\n",
       "    <tr>\n",
       "      <th>...</th>\n",
       "      <td>...</td>\n",
       "      <td>...</td>\n",
       "      <td>...</td>\n",
       "      <td>...</td>\n",
       "      <td>...</td>\n",
       "    </tr>\n",
       "    <tr>\n",
       "      <th>3090</th>\n",
       "      <td>98dddbc4601dd4443ca174359b237166</td>\n",
       "      <td>87111</td>\n",
       "      <td>sarandi</td>\n",
       "      <td>PR</td>\n",
       "      <td>Paraná</td>\n",
       "    </tr>\n",
       "    <tr>\n",
       "      <th>3091</th>\n",
       "      <td>f8201cab383e484733266d1906e2fdfa</td>\n",
       "      <td>88137</td>\n",
       "      <td>palhoca</td>\n",
       "      <td>SC</td>\n",
       "      <td>Santa Catarina</td>\n",
       "    </tr>\n",
       "    <tr>\n",
       "      <th>3092</th>\n",
       "      <td>74871d19219c7d518d0090283e03c137</td>\n",
       "      <td>4650</td>\n",
       "      <td>sao paulo</td>\n",
       "      <td>SP</td>\n",
       "      <td>São Paulo</td>\n",
       "    </tr>\n",
       "    <tr>\n",
       "      <th>3093</th>\n",
       "      <td>e603cf3fec55f8697c9059638d6c8eb5</td>\n",
       "      <td>96080</td>\n",
       "      <td>pelotas</td>\n",
       "      <td>RS</td>\n",
       "      <td>Rio Grande do Sul</td>\n",
       "    </tr>\n",
       "    <tr>\n",
       "      <th>3094</th>\n",
       "      <td>9e25199f6ef7e7c347120ff175652c3b</td>\n",
       "      <td>12051</td>\n",
       "      <td>taubate</td>\n",
       "      <td>SP</td>\n",
       "      <td>São Paulo</td>\n",
       "    </tr>\n",
       "  </tbody>\n",
       "</table>\n",
       "<p>3095 rows × 5 columns</p>\n",
       "</div>"
      ],
      "text/plain": [
       "                             seller_id  zip_code               city state  \\\n",
       "0     3442f8959a84dea7ee197c632cb2df15     13023           campinas    SP   \n",
       "1     d1b65fc7debc3361ea86b5f14c68d2e2     13844         mogi guacu    SP   \n",
       "2     ce3ad9de960102d0677a81f5d0bb7b2d     20031     rio de janeiro    RJ   \n",
       "3     c0f3eea2e14555b6faeea3dd58c1b1c3      4195          sao paulo    SP   \n",
       "4     51a04a8a6bdcb23deccc82b0b80742cf     12914  braganca paulista    SP   \n",
       "...                                ...       ...                ...   ...   \n",
       "3090  98dddbc4601dd4443ca174359b237166     87111            sarandi    PR   \n",
       "3091  f8201cab383e484733266d1906e2fdfa     88137            palhoca    SC   \n",
       "3092  74871d19219c7d518d0090283e03c137      4650          sao paulo    SP   \n",
       "3093  e603cf3fec55f8697c9059638d6c8eb5     96080            pelotas    RS   \n",
       "3094  9e25199f6ef7e7c347120ff175652c3b     12051            taubate    SP   \n",
       "\n",
       "             name_state  \n",
       "0             São Paulo  \n",
       "1             São Paulo  \n",
       "2        Rio de Janeiro  \n",
       "3             São Paulo  \n",
       "4             São Paulo  \n",
       "...                 ...  \n",
       "3090             Paraná  \n",
       "3091     Santa Catarina  \n",
       "3092          São Paulo  \n",
       "3093  Rio Grande do Sul  \n",
       "3094          São Paulo  \n",
       "\n",
       "[3095 rows x 5 columns]"
      ]
     },
     "execution_count": 12,
     "metadata": {},
     "output_type": "execute_result"
    }
   ],
   "source": [
    "sellers = pd.read_parquet('./ecommerce/sellers.parquet')\n",
    "sellers"
   ]
  },
  {
   "cell_type": "code",
   "execution_count": 13,
   "metadata": {},
   "outputs": [
    {
     "name": "stdout",
     "output_type": "stream",
     "text": [
      " Le volume dans le lecteur C s’appelle Windows-SSD\n",
      " Le numéro de série du volume est 84DC-AF7F\n",
      "\n",
      " Répertoire de C:\\Users\\etien\\Documents\\CCI\\_HUB\\cours\\2024-2025\\big_data\\_git\\donnees\\ecommerce\n",
      "\n",
      "21/11/2024  09:26    <DIR>          .\n",
      "20/11/2024  15:02    <DIR>          ..\n",
      "21/11/2024  09:25         4 525 214 customers.parquet\n",
      "21/11/2024  09:22         4 807 544 items.parquet\n",
      "21/11/2024  09:22         9 567 921 orders.parquet\n",
      "21/11/2024  09:23        10 022 487 orders_payments.parquet\n",
      "21/11/2024  09:23        13 281 965 orders_payments_items.parquet\n",
      "21/11/2024  09:22         2 651 184 payments.parquet\n",
      "21/11/2024  09:22         2 470 995 paymentsI.parquet\n",
      "21/11/2024  09:25           961 962 products.parquet\n",
      "21/11/2024  09:23         7 549 835 reviews.parquet\n",
      "21/11/2024  09:23         2 845 170 reviews_p.parquet\n",
      "21/11/2024  10:00            91 353 sellers.parquet\n",
      "              11 fichier(s)       58 775 630 octets\n",
      "               2 Rép(s)  707 299 885 056 octets libres\n"
     ]
    }
   ],
   "source": [
    "!dir ecommerce"
   ]
  },
  {
   "cell_type": "code",
   "execution_count": 14,
   "metadata": {},
   "outputs": [
    {
     "data": {
      "text/html": [
       "<div>\n",
       "<style scoped>\n",
       "    .dataframe tbody tr th:only-of-type {\n",
       "        vertical-align: middle;\n",
       "    }\n",
       "\n",
       "    .dataframe tbody tr th {\n",
       "        vertical-align: top;\n",
       "    }\n",
       "\n",
       "    .dataframe thead th {\n",
       "        text-align: right;\n",
       "    }\n",
       "</style>\n",
       "<table border=\"1\" class=\"dataframe\">\n",
       "  <thead>\n",
       "    <tr style=\"text-align: right;\">\n",
       "      <th></th>\n",
       "      <th>geolocation_zip_code_prefix</th>\n",
       "      <th>geolocation_lat</th>\n",
       "      <th>geolocation_lng</th>\n",
       "      <th>geolocation_city</th>\n",
       "      <th>geolocation_state</th>\n",
       "    </tr>\n",
       "  </thead>\n",
       "  <tbody>\n",
       "    <tr>\n",
       "      <th>0</th>\n",
       "      <td>1037</td>\n",
       "      <td>-23.545621</td>\n",
       "      <td>-46.639292</td>\n",
       "      <td>sao paulo</td>\n",
       "      <td>SP</td>\n",
       "    </tr>\n",
       "    <tr>\n",
       "      <th>1</th>\n",
       "      <td>1046</td>\n",
       "      <td>-23.546081</td>\n",
       "      <td>-46.644820</td>\n",
       "      <td>sao paulo</td>\n",
       "      <td>SP</td>\n",
       "    </tr>\n",
       "    <tr>\n",
       "      <th>2</th>\n",
       "      <td>1046</td>\n",
       "      <td>-23.546129</td>\n",
       "      <td>-46.642951</td>\n",
       "      <td>sao paulo</td>\n",
       "      <td>SP</td>\n",
       "    </tr>\n",
       "    <tr>\n",
       "      <th>3</th>\n",
       "      <td>1041</td>\n",
       "      <td>-23.544392</td>\n",
       "      <td>-46.639499</td>\n",
       "      <td>sao paulo</td>\n",
       "      <td>SP</td>\n",
       "    </tr>\n",
       "    <tr>\n",
       "      <th>4</th>\n",
       "      <td>1035</td>\n",
       "      <td>-23.541578</td>\n",
       "      <td>-46.641607</td>\n",
       "      <td>sao paulo</td>\n",
       "      <td>SP</td>\n",
       "    </tr>\n",
       "    <tr>\n",
       "      <th>...</th>\n",
       "      <td>...</td>\n",
       "      <td>...</td>\n",
       "      <td>...</td>\n",
       "      <td>...</td>\n",
       "      <td>...</td>\n",
       "    </tr>\n",
       "    <tr>\n",
       "      <th>1000158</th>\n",
       "      <td>99950</td>\n",
       "      <td>-28.068639</td>\n",
       "      <td>-52.010705</td>\n",
       "      <td>tapejara</td>\n",
       "      <td>RS</td>\n",
       "    </tr>\n",
       "    <tr>\n",
       "      <th>1000159</th>\n",
       "      <td>99900</td>\n",
       "      <td>-27.877125</td>\n",
       "      <td>-52.224882</td>\n",
       "      <td>getulio vargas</td>\n",
       "      <td>RS</td>\n",
       "    </tr>\n",
       "    <tr>\n",
       "      <th>1000160</th>\n",
       "      <td>99950</td>\n",
       "      <td>-28.071855</td>\n",
       "      <td>-52.014716</td>\n",
       "      <td>tapejara</td>\n",
       "      <td>RS</td>\n",
       "    </tr>\n",
       "    <tr>\n",
       "      <th>1000161</th>\n",
       "      <td>99980</td>\n",
       "      <td>-28.388932</td>\n",
       "      <td>-51.846871</td>\n",
       "      <td>david canabarro</td>\n",
       "      <td>RS</td>\n",
       "    </tr>\n",
       "    <tr>\n",
       "      <th>1000162</th>\n",
       "      <td>99950</td>\n",
       "      <td>-28.070104</td>\n",
       "      <td>-52.018658</td>\n",
       "      <td>tapejara</td>\n",
       "      <td>RS</td>\n",
       "    </tr>\n",
       "  </tbody>\n",
       "</table>\n",
       "<p>1000163 rows × 5 columns</p>\n",
       "</div>"
      ],
      "text/plain": [
       "         geolocation_zip_code_prefix  geolocation_lat  geolocation_lng  \\\n",
       "0                               1037       -23.545621       -46.639292   \n",
       "1                               1046       -23.546081       -46.644820   \n",
       "2                               1046       -23.546129       -46.642951   \n",
       "3                               1041       -23.544392       -46.639499   \n",
       "4                               1035       -23.541578       -46.641607   \n",
       "...                              ...              ...              ...   \n",
       "1000158                        99950       -28.068639       -52.010705   \n",
       "1000159                        99900       -27.877125       -52.224882   \n",
       "1000160                        99950       -28.071855       -52.014716   \n",
       "1000161                        99980       -28.388932       -51.846871   \n",
       "1000162                        99950       -28.070104       -52.018658   \n",
       "\n",
       "        geolocation_city geolocation_state  \n",
       "0              sao paulo                SP  \n",
       "1              sao paulo                SP  \n",
       "2              sao paulo                SP  \n",
       "3              sao paulo                SP  \n",
       "4              sao paulo                SP  \n",
       "...                  ...               ...  \n",
       "1000158         tapejara                RS  \n",
       "1000159   getulio vargas                RS  \n",
       "1000160         tapejara                RS  \n",
       "1000161  david canabarro                RS  \n",
       "1000162         tapejara                RS  \n",
       "\n",
       "[1000163 rows x 5 columns]"
      ]
     },
     "execution_count": 14,
     "metadata": {},
     "output_type": "execute_result"
    }
   ],
   "source": [
    "geoloc = pd.read_csv('ebrasil/olist_geolocation_dataset.csv',\n",
    "                           sep=',',\n",
    "                          # usecols=['numer_sta','date','dd','ff','t','u','vv',\n",
    "                          #         'pres','rr1','rr3','rr6','rr12','rr24'],\n",
    "                           na_values='mq',\n",
    "                           dtype={'numer_sta':str,'date':str},\n",
    "                          )\n",
    "geoloc"
   ]
  },
  {
   "cell_type": "code",
   "execution_count": 15,
   "metadata": {},
   "outputs": [],
   "source": [
    "# ATTRIBUER UNE GEOLOCALISATION DES VENTE => vendor & customer\n",
    "\n",
    "sellers_loc = sellers.merge(geoloc, left_on=\"zip_code\", right_on=\"geolocation_zip_code_prefix\")\n",
    "#sellers_loc.drop('geolocation_zip_code_prefix',inplace=True)\n"
   ]
  },
  {
   "cell_type": "code",
   "execution_count": 16,
   "metadata": {},
   "outputs": [],
   "source": [
    "sellers_loc_agg = sellers_loc.groupby('zip_code').agg({'geolocation_lat': ['min', 'max', 'mean'], 'geolocation_lng': ['min', 'max', 'mean']}).reset_index()"
   ]
  },
  {
   "cell_type": "code",
   "execution_count": 17,
   "metadata": {},
   "outputs": [
    {
     "data": {
      "text/html": [
       "<div>\n",
       "<style scoped>\n",
       "    .dataframe tbody tr th:only-of-type {\n",
       "        vertical-align: middle;\n",
       "    }\n",
       "\n",
       "    .dataframe tbody tr th {\n",
       "        vertical-align: top;\n",
       "    }\n",
       "\n",
       "    .dataframe thead tr th {\n",
       "        text-align: left;\n",
       "    }\n",
       "</style>\n",
       "<table border=\"1\" class=\"dataframe\">\n",
       "  <thead>\n",
       "    <tr>\n",
       "      <th></th>\n",
       "      <th>zip_code</th>\n",
       "      <th colspan=\"3\" halign=\"left\">geolocation_lat</th>\n",
       "      <th colspan=\"3\" halign=\"left\">geolocation_lng</th>\n",
       "    </tr>\n",
       "    <tr>\n",
       "      <th></th>\n",
       "      <th></th>\n",
       "      <th>min</th>\n",
       "      <th>max</th>\n",
       "      <th>mean</th>\n",
       "      <th>min</th>\n",
       "      <th>max</th>\n",
       "      <th>mean</th>\n",
       "    </tr>\n",
       "  </thead>\n",
       "  <tbody>\n",
       "    <tr>\n",
       "      <th>0</th>\n",
       "      <td>1001</td>\n",
       "      <td>-23.551427</td>\n",
       "      <td>-23.549292</td>\n",
       "      <td>-23.550190</td>\n",
       "      <td>-46.634410</td>\n",
       "      <td>-46.633559</td>\n",
       "      <td>-46.634024</td>\n",
       "    </tr>\n",
       "    <tr>\n",
       "      <th>1</th>\n",
       "      <td>1021</td>\n",
       "      <td>-23.548328</td>\n",
       "      <td>-23.538825</td>\n",
       "      <td>-23.543000</td>\n",
       "      <td>-46.632644</td>\n",
       "      <td>-46.630646</td>\n",
       "      <td>-46.632143</td>\n",
       "    </tr>\n",
       "    <tr>\n",
       "      <th>2</th>\n",
       "      <td>1022</td>\n",
       "      <td>-23.547795</td>\n",
       "      <td>-23.544280</td>\n",
       "      <td>-23.544922</td>\n",
       "      <td>-46.633454</td>\n",
       "      <td>-46.630238</td>\n",
       "      <td>-46.631931</td>\n",
       "    </tr>\n",
       "    <tr>\n",
       "      <th>3</th>\n",
       "      <td>1023</td>\n",
       "      <td>-23.544176</td>\n",
       "      <td>-23.539021</td>\n",
       "      <td>-23.542331</td>\n",
       "      <td>-46.632173</td>\n",
       "      <td>-46.630653</td>\n",
       "      <td>-46.631373</td>\n",
       "    </tr>\n",
       "    <tr>\n",
       "      <th>4</th>\n",
       "      <td>1026</td>\n",
       "      <td>-23.541312</td>\n",
       "      <td>-23.538895</td>\n",
       "      <td>-23.539657</td>\n",
       "      <td>-46.635455</td>\n",
       "      <td>-46.628490</td>\n",
       "      <td>-46.631884</td>\n",
       "    </tr>\n",
       "    <tr>\n",
       "      <th>...</th>\n",
       "      <td>...</td>\n",
       "      <td>...</td>\n",
       "      <td>...</td>\n",
       "      <td>...</td>\n",
       "      <td>...</td>\n",
       "      <td>...</td>\n",
       "      <td>...</td>\n",
       "    </tr>\n",
       "    <tr>\n",
       "      <th>2234</th>\n",
       "      <td>99300</td>\n",
       "      <td>-28.840684</td>\n",
       "      <td>-28.808723</td>\n",
       "      <td>-28.827450</td>\n",
       "      <td>-52.518400</td>\n",
       "      <td>-52.485107</td>\n",
       "      <td>-52.509255</td>\n",
       "    </tr>\n",
       "    <tr>\n",
       "      <th>2235</th>\n",
       "      <td>99500</td>\n",
       "      <td>-28.324235</td>\n",
       "      <td>-28.274561</td>\n",
       "      <td>-28.291245</td>\n",
       "      <td>-52.867893</td>\n",
       "      <td>-52.741366</td>\n",
       "      <td>-52.790256</td>\n",
       "    </tr>\n",
       "    <tr>\n",
       "      <th>2236</th>\n",
       "      <td>99670</td>\n",
       "      <td>-27.789657</td>\n",
       "      <td>-27.771223</td>\n",
       "      <td>-27.782222</td>\n",
       "      <td>-52.815008</td>\n",
       "      <td>-52.791041</td>\n",
       "      <td>-52.806500</td>\n",
       "    </tr>\n",
       "    <tr>\n",
       "      <th>2237</th>\n",
       "      <td>99700</td>\n",
       "      <td>-27.660321</td>\n",
       "      <td>-27.619420</td>\n",
       "      <td>-27.636046</td>\n",
       "      <td>-52.312855</td>\n",
       "      <td>-52.238804</td>\n",
       "      <td>-52.273049</td>\n",
       "    </tr>\n",
       "    <tr>\n",
       "      <th>2238</th>\n",
       "      <td>99730</td>\n",
       "      <td>-27.731102</td>\n",
       "      <td>-27.726741</td>\n",
       "      <td>-27.728956</td>\n",
       "      <td>-52.539263</td>\n",
       "      <td>-52.531537</td>\n",
       "      <td>-52.536535</td>\n",
       "    </tr>\n",
       "  </tbody>\n",
       "</table>\n",
       "<p>2239 rows × 7 columns</p>\n",
       "</div>"
      ],
      "text/plain": [
       "     zip_code geolocation_lat                       geolocation_lng  \\\n",
       "                          min        max       mean             min   \n",
       "0        1001      -23.551427 -23.549292 -23.550190      -46.634410   \n",
       "1        1021      -23.548328 -23.538825 -23.543000      -46.632644   \n",
       "2        1022      -23.547795 -23.544280 -23.544922      -46.633454   \n",
       "3        1023      -23.544176 -23.539021 -23.542331      -46.632173   \n",
       "4        1026      -23.541312 -23.538895 -23.539657      -46.635455   \n",
       "...       ...             ...        ...        ...             ...   \n",
       "2234    99300      -28.840684 -28.808723 -28.827450      -52.518400   \n",
       "2235    99500      -28.324235 -28.274561 -28.291245      -52.867893   \n",
       "2236    99670      -27.789657 -27.771223 -27.782222      -52.815008   \n",
       "2237    99700      -27.660321 -27.619420 -27.636046      -52.312855   \n",
       "2238    99730      -27.731102 -27.726741 -27.728956      -52.539263   \n",
       "\n",
       "                            \n",
       "            max       mean  \n",
       "0    -46.633559 -46.634024  \n",
       "1    -46.630646 -46.632143  \n",
       "2    -46.630238 -46.631931  \n",
       "3    -46.630653 -46.631373  \n",
       "4    -46.628490 -46.631884  \n",
       "...         ...        ...  \n",
       "2234 -52.485107 -52.509255  \n",
       "2235 -52.741366 -52.790256  \n",
       "2236 -52.791041 -52.806500  \n",
       "2237 -52.238804 -52.273049  \n",
       "2238 -52.531537 -52.536535  \n",
       "\n",
       "[2239 rows x 7 columns]"
      ]
     },
     "execution_count": 17,
     "metadata": {},
     "output_type": "execute_result"
    }
   ],
   "source": [
    "sellers_loc_agg"
   ]
  },
  {
   "cell_type": "code",
   "execution_count": null,
   "metadata": {},
   "outputs": [],
   "source": []
  }
 ],
 "metadata": {
  "kernelspec": {
   "display_name": "Python 3 (ipykernel)",
   "language": "python",
   "name": "python3"
  },
  "language_info": {
   "codemirror_mode": {
    "name": "ipython",
    "version": 3
   },
   "file_extension": ".py",
   "mimetype": "text/x-python",
   "name": "python",
   "nbconvert_exporter": "python",
   "pygments_lexer": "ipython3",
   "version": "3.10.0"
  },
  "toc": {
   "base_numbering": 1,
   "nav_menu": {
    "height": "192.133px",
    "width": "731.133px"
   },
   "number_sections": true,
   "sideBar": true,
   "skip_h1_title": false,
   "title_cell": "Table of Contents",
   "title_sidebar": "Contents",
   "toc_cell": true,
   "toc_position": {
    "height": "calc(100% - 180px)",
    "left": "10px",
    "top": "150px",
    "width": "165px"
   },
   "toc_section_display": true,
   "toc_window_display": true
  }
 },
 "nbformat": 4,
 "nbformat_minor": 4
}
