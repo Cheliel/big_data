{
 "cells": [
  {
   "cell_type": "markdown",
   "id": "403d38b5-41bf-43ea-b39c-397a7eda9a40",
   "metadata": {},
   "source": [
    "# Reconstitué un Dataframe à partir d'un métier et toutes ses différentes dimenssion \n",
    "\n",
    "- Donner les Dimensions & métrics\n",
    "\n",
    "- Donner les hérarchies des dimensions\n"
   ]
  },
  {
   "cell_type": "markdown",
   "id": "8f21528d-e556-4a48-a7a8-4a5a0508fece",
   "metadata": {},
   "source": [
    "## Schéma de la BDD \n",
    "\n",
    "<img src=\"https://raw.githubusercontent.com/rbizoi/PythonFormation/main/images/e-brasil.png\" width=\"850\">"
   ]
  },
  {
   "cell_type": "markdown",
   "id": "a7e41d74-3666-4a4e-83e7-9066aeb89a12",
   "metadata": {},
   "source": [
    "## Importation"
   ]
  },
  {
   "cell_type": "code",
   "execution_count": 1,
   "id": "dfbe9496-2553-4c83-85ef-55109bd739b7",
   "metadata": {},
   "outputs": [],
   "source": [
    "import os \n",
    "import pandas as pd"
   ]
  },
  {
   "cell_type": "code",
   "execution_count": 2,
   "id": "4a0b7fbd-eccb-49bc-b51c-2ba1c4bf6374",
   "metadata": {},
   "outputs": [],
   "source": [
    "### Changement de répertoire courant"
   ]
  },
  {
   "cell_type": "code",
   "execution_count": 3,
   "id": "cf4771a7-2648-44cb-ac85-99bb536698f0",
   "metadata": {},
   "outputs": [],
   "source": [
    "os.chdir(\"C:/Users/etien/Documents/CCI/_HUB/cours/2024-2025/big_data/_git/donnees\")"
   ]
  },
  {
   "cell_type": "markdown",
   "id": "095326f4-377f-4d97-94e8-96457042dd96",
   "metadata": {},
   "source": [
    "## Métier de la vente "
   ]
  },
  {
   "cell_type": "markdown",
   "id": "2096873a-2da1-4c46-a85d-1be34e0499b5",
   "metadata": {},
   "source": [
    "### Récupération des fichiers parquet"
   ]
  },
  {
   "cell_type": "code",
   "execution_count": 4,
   "id": "7aa1285a-f05a-46e3-81b0-f5df37c4a8fb",
   "metadata": {},
   "outputs": [],
   "source": [
    "orders = pd.read_parquet('./ecommerce/orders.parquet')"
   ]
  },
  {
   "cell_type": "code",
   "execution_count": 5,
   "id": "177409c2-32d9-48ef-b17f-793ded987dfb",
   "metadata": {},
   "outputs": [],
   "source": [
    "geoloc  = pd.read_parquet('./ecommerce/geolocation.parquet')"
   ]
  },
  {
   "cell_type": "code",
   "execution_count": 6,
   "id": "3c3cc322-ae5f-4d75-9f28-b794675f1216",
   "metadata": {},
   "outputs": [],
   "source": [
    "customers = pd.read_parquet('./ecommerce/customers.parquet')"
   ]
  },
  {
   "cell_type": "code",
   "execution_count": 7,
   "id": "f9cd0094-93ab-43c4-8423-53567172e763",
   "metadata": {},
   "outputs": [],
   "source": [
    "orders_payments = pd.read_parquet('./ecommerce/orders_payments.parquet')"
   ]
  },
  {
   "cell_type": "code",
   "execution_count": 8,
   "id": "4e0b7024-af06-409a-a891-a86207341cd4",
   "metadata": {},
   "outputs": [],
   "source": [
    "reviews = pd.read_parquet('./ecommerce/reviews.parquet')"
   ]
  },
  {
   "cell_type": "markdown",
   "id": "cd6c07af-ca06-4904-8e6c-2a375d459df4",
   "metadata": {},
   "source": [
    "Faire un merge ?  \n",
    "\n",
    "faire une jointure externe lorsque le nomdre de ligne ne correspond pas pour :\n",
    "\n",
    "- ne pas effacer les lignes manquante\n",
    "- ne pas remplir inutilement les ligne supplémentaire\n",
    "\n",
    "Il faut toujours s'assurer qu'on est pas entrain de perdre des lignes"
   ]
  },
  {
   "cell_type": "markdown",
   "id": "dce64acf-843b-4fe4-b0a7-050b43f8e5fb",
   "metadata": {},
   "source": [
    "## table Order"
   ]
  },
  {
   "cell_type": "code",
   "execution_count": 9,
   "id": "dbbe20d0-dddf-40a4-abec-0b53368c8310",
   "metadata": {},
   "outputs": [
    {
     "name": "stdout",
     "output_type": "stream",
     "text": [
      "<class 'pandas.core.frame.DataFrame'>\n",
      "RangeIndex: 99441 entries, 0 to 99440\n",
      "Data columns (total 23 columns):\n",
      " #   Column              Non-Null Count  Dtype         \n",
      "---  ------              --------------  -----         \n",
      " 0   order_id            99441 non-null  object        \n",
      " 1   customer_id         99441 non-null  object        \n",
      " 2   purchase_timestamp  99441 non-null  datetime64[ns]\n",
      " 3   approved_at         99281 non-null  datetime64[ns]\n",
      " 4   delivered_carrier   97658 non-null  datetime64[ns]\n",
      " 5   delivered_customer  96476 non-null  datetime64[ns]\n",
      " 6   estimated_delivery  99441 non-null  datetime64[ns]\n",
      " 7   status              99441 non-null  object        \n",
      " 8   annee               99441 non-null  int32         \n",
      " 9   mois                99441 non-null  int32         \n",
      " 10  annee_mois          99441 non-null  int32         \n",
      " 11  jour                99441 non-null  int32         \n",
      " 12  annee_jour          99441 non-null  int32         \n",
      " 13  jour_semaine        99441 non-null  int32         \n",
      " 14  trimestre           99441 non-null  int32         \n",
      " 15  annee_trimestre     99441 non-null  int32         \n",
      " 16  semaine             99441 non-null  int32         \n",
      " 17  annee_semaine       99441 non-null  int32         \n",
      " 18  heure               99441 non-null  int32         \n",
      " 19  approuvee           99281 non-null  float64       \n",
      " 20  envoyee             97658 non-null  float64       \n",
      " 21  livree              96476 non-null  float64       \n",
      " 22  estimee             99441 non-null  float64       \n",
      "dtypes: datetime64[ns](5), float64(4), int32(11), object(3)\n",
      "memory usage: 13.3+ MB\n"
     ]
    }
   ],
   "source": [
    "orders.info()"
   ]
  },
  {
   "cell_type": "markdown",
   "id": "fa7e0f66-10fc-462c-ad09-90d42149dadc",
   "metadata": {},
   "source": [
    "### List des Dimensions \n",
    "\n",
    "- order_status\n",
    "- order_purchase_timestamp\n",
    "- order_approved_at\n",
    "- order_delivered_carrier_date\n",
    "- order_delivered_customer_date\n",
    "- order_estimated_delivery_date\n",
    "\n",
    "### List Metrics \n",
    "\n"
   ]
  },
  {
   "cell_type": "markdown",
   "id": "2cf83ee5-c366-4baf-a04c-24dd2459161f",
   "metadata": {},
   "source": [
    "## Table geoloc"
   ]
  },
  {
   "cell_type": "code",
   "execution_count": 10,
   "id": "8a5569bb-ed2b-4a36-9f20-81e79e552e84",
   "metadata": {},
   "outputs": [
    {
     "name": "stdout",
     "output_type": "stream",
     "text": [
      "<class 'pandas.core.frame.DataFrame'>\n",
      "RangeIndex: 19015 entries, 0 to 19014\n",
      "Data columns (total 9 columns):\n",
      " #   Column    Non-Null Count  Dtype  \n",
      "---  ------    --------------  -----  \n",
      " 0   zip_code  19015 non-null  int32  \n",
      " 1   city      19015 non-null  object \n",
      " 2   state     19015 non-null  object \n",
      " 3   lat_min   19015 non-null  float64\n",
      " 4   lat_max   19015 non-null  float64\n",
      " 5   lat       19015 non-null  float64\n",
      " 6   lng_min   19015 non-null  float64\n",
      " 7   lng_max   19015 non-null  float64\n",
      " 8   lng       19015 non-null  float64\n",
      "dtypes: float64(6), int32(1), object(2)\n",
      "memory usage: 1.2+ MB\n"
     ]
    }
   ],
   "source": [
    "geoloc.info()"
   ]
  },
  {
   "cell_type": "markdown",
   "id": "859bedb5-5cb5-4ef9-9095-90d88a5fada9",
   "metadata": {},
   "source": [
    "### List des Dimensions \n",
    "\n",
    "- geolocation_city\n",
    "- geolocation_state\n",
    "\n",
    "### List Metrics \n",
    "\n",
    "- geolocation_zip_code_prefix\n",
    "- geolocation_lat\n",
    "- geolocation_lng\n"
   ]
  },
  {
   "cell_type": "markdown",
   "id": "94688d08-6720-4d30-87fe-aa0ec0fe1e84",
   "metadata": {},
   "source": [
    "## Table Customers"
   ]
  },
  {
   "cell_type": "code",
   "execution_count": 11,
   "id": "384e63f5-92dc-4094-83c6-8336bb189574",
   "metadata": {},
   "outputs": [
    {
     "name": "stdout",
     "output_type": "stream",
     "text": [
      "<class 'pandas.core.frame.DataFrame'>\n",
      "RangeIndex: 99441 entries, 0 to 99440\n",
      "Data columns (total 6 columns):\n",
      " #   Column              Non-Null Count  Dtype \n",
      "---  ------              --------------  ----- \n",
      " 0   customer_id         99441 non-null  object\n",
      " 1   customer_unique_id  99441 non-null  object\n",
      " 2   zip_code            99441 non-null  int32 \n",
      " 3   city                99441 non-null  object\n",
      " 4   state               99441 non-null  object\n",
      " 5   name_state          99441 non-null  object\n",
      "dtypes: int32(1), object(5)\n",
      "memory usage: 4.2+ MB\n"
     ]
    }
   ],
   "source": [
    "customers.info()"
   ]
  },
  {
   "cell_type": "markdown",
   "id": "076560e8-5b80-4995-abcc-1d789ec954c6",
   "metadata": {},
   "source": [
    "### List des Dimensions \n",
    "\n",
    "- customer_city\n",
    "- customer_state\n",
    "\n",
    "### List Metrics \n",
    "\n",
    "- customer_zip_code_prefix"
   ]
  },
  {
   "cell_type": "markdown",
   "id": "1c0ef799-e8e6-4987-88a5-e3b731b08e83",
   "metadata": {},
   "source": [
    "## Table Order Payments"
   ]
  },
  {
   "cell_type": "code",
   "execution_count": 12,
   "id": "b96ceae7-82fc-4e5c-a45e-3e1c7f7cb925",
   "metadata": {},
   "outputs": [
    {
     "name": "stdout",
     "output_type": "stream",
     "text": [
      "<class 'pandas.core.frame.DataFrame'>\n",
      "RangeIndex: 99441 entries, 0 to 99440\n",
      "Data columns (total 33 columns):\n",
      " #   Column              Non-Null Count  Dtype         \n",
      "---  ------              --------------  -----         \n",
      " 0   order_id            99441 non-null  object        \n",
      " 1   customer_id         99441 non-null  object        \n",
      " 2   purchase_timestamp  99441 non-null  datetime64[ns]\n",
      " 3   approved_at         99281 non-null  datetime64[ns]\n",
      " 4   delivered_carrier   97658 non-null  datetime64[ns]\n",
      " 5   delivered_customer  96476 non-null  datetime64[ns]\n",
      " 6   estimated_delivery  99441 non-null  datetime64[ns]\n",
      " 7   status              99441 non-null  object        \n",
      " 8   annee               99441 non-null  int32         \n",
      " 9   mois                99441 non-null  int32         \n",
      " 10  annee_mois          99441 non-null  int32         \n",
      " 11  jour                99441 non-null  int32         \n",
      " 12  annee_jour          99441 non-null  int32         \n",
      " 13  jour_semaine        99441 non-null  int32         \n",
      " 14  trimestre           99441 non-null  int32         \n",
      " 15  annee_trimestre     99441 non-null  int32         \n",
      " 16  semaine             99441 non-null  int32         \n",
      " 17  annee_semaine       99441 non-null  int32         \n",
      " 18  heure               99441 non-null  int32         \n",
      " 19  approuvee           99281 non-null  float64       \n",
      " 20  envoyee             97658 non-null  float64       \n",
      " 21  livree              96476 non-null  float64       \n",
      " 22  estimee             99441 non-null  float64       \n",
      " 23  int_boleto          99440 non-null  float64       \n",
      " 24  int_credit_card     99440 non-null  float64       \n",
      " 25  int_debit_card      99440 non-null  float64       \n",
      " 26  int_not_defined     99440 non-null  float64       \n",
      " 27  int_voucher         99440 non-null  float64       \n",
      " 28  value_boleto        99440 non-null  float64       \n",
      " 29  value_credit_card   99440 non-null  float64       \n",
      " 30  value_debit_card    99440 non-null  float64       \n",
      " 31  value_not_defined   99440 non-null  float64       \n",
      " 32  value_voucher       99440 non-null  float64       \n",
      "dtypes: datetime64[ns](5), float64(14), int32(11), object(3)\n",
      "memory usage: 20.9+ MB\n"
     ]
    }
   ],
   "source": [
    "orders_payments.info()"
   ]
  },
  {
   "cell_type": "markdown",
   "id": "2f7731c2-fee0-4167-af66-da8f32401a2a",
   "metadata": {},
   "source": [
    "### List des Dimensions \n",
    "\n",
    "- payment_type\n",
    "\n",
    "### List Metrics \n",
    "\n",
    "- payment_sequential\n",
    "- payment_installments\n",
    "- payment_value\n"
   ]
  },
  {
   "cell_type": "markdown",
   "id": "4ca4bd96-e44a-434c-a15e-fd8f036266ea",
   "metadata": {},
   "source": [
    "## Table reviews"
   ]
  },
  {
   "cell_type": "code",
   "execution_count": 13,
   "id": "aaae4a28-a1f2-44d6-95c2-2f1b591e7c57",
   "metadata": {},
   "outputs": [
    {
     "name": "stdout",
     "output_type": "stream",
     "text": [
      "<class 'pandas.core.frame.DataFrame'>\n",
      "RangeIndex: 100000 entries, 0 to 99999\n",
      "Data columns (total 11 columns):\n",
      " #   Column              Non-Null Count   Dtype         \n",
      "---  ------              --------------   -----         \n",
      " 0   review_id           100000 non-null  object        \n",
      " 1   order_id            100000 non-null  object        \n",
      " 2   score               100000 non-null  int16         \n",
      " 3   comment_title       11715 non-null   object        \n",
      " 4   comment_message     41753 non-null   object        \n",
      " 5   creation_date       100000 non-null  datetime64[ns]\n",
      " 6   answer_timestamp    100000 non-null  datetime64[ns]\n",
      " 7   purchase_timestamp  100000 non-null  datetime64[ns]\n",
      " 8   creation            100000 non-null  int32         \n",
      " 9   answer              100000 non-null  int32         \n",
      " 10  comment             100000 non-null  int16         \n",
      "dtypes: datetime64[ns](3), int16(2), int32(2), object(4)\n",
      "memory usage: 6.5+ MB\n"
     ]
    }
   ],
   "source": [
    "reviews.info()"
   ]
  },
  {
   "cell_type": "markdown",
   "id": "03ed5224-6dfa-48cc-8c1c-92acf8e32a17",
   "metadata": {
    "jp-MarkdownHeadingCollapsed": true
   },
   "source": [
    "### List des Dimensions \n",
    "\n",
    "- review_creation_date\n",
    "- review_answer_timestamp\n",
    "\n",
    "### List Metrics \n",
    "\n",
    "- review_score"
   ]
  },
  {
   "cell_type": "markdown",
   "id": "674111f1-e349-4a2e-82e2-03b591c7ffff",
   "metadata": {},
   "source": [
    "## Métier de l'achat  "
   ]
  },
  {
   "cell_type": "markdown",
   "id": "2946940e-8504-4500-84e5-c444761ae6ce",
   "metadata": {},
   "source": [
    "### Récupération des fichiers parquet & CSV"
   ]
  },
  {
   "cell_type": "code",
   "execution_count": 14,
   "id": "ef35301d-a601-418b-82fb-70e751de2e21",
   "metadata": {},
   "outputs": [],
   "source": [
    "sellers = pd.read_parquet('./ecommerce/sellers.parquet')"
   ]
  },
  {
   "cell_type": "code",
   "execution_count": 15,
   "id": "89fd5b22-030d-401c-b91b-9b7607f25c2e",
   "metadata": {},
   "outputs": [],
   "source": [
    "products = pd.read_parquet('./ecommerce/products.parquet')"
   ]
  },
  {
   "cell_type": "markdown",
   "id": "e7a7a771-30f7-4ee5-89e4-924efc5a0e64",
   "metadata": {},
   "source": [
    "## Table sellers"
   ]
  },
  {
   "cell_type": "code",
   "execution_count": 16,
   "id": "4029897f-0193-49fe-b1f6-578f553403e3",
   "metadata": {},
   "outputs": [
    {
     "name": "stdout",
     "output_type": "stream",
     "text": [
      "<class 'pandas.core.frame.DataFrame'>\n",
      "RangeIndex: 3095 entries, 0 to 3094\n",
      "Data columns (total 5 columns):\n",
      " #   Column      Non-Null Count  Dtype \n",
      "---  ------      --------------  ----- \n",
      " 0   seller_id   3095 non-null   object\n",
      " 1   zip_code    3095 non-null   int32 \n",
      " 2   city        3095 non-null   object\n",
      " 3   state       3095 non-null   object\n",
      " 4   name_state  3095 non-null   object\n",
      "dtypes: int32(1), object(4)\n",
      "memory usage: 108.9+ KB\n"
     ]
    }
   ],
   "source": [
    "sellers.info()"
   ]
  },
  {
   "cell_type": "markdown",
   "id": "bec400e7-2938-4a19-a3f3-352579b9f930",
   "metadata": {},
   "source": [
    "### List des Dimensions \n",
    "\n",
    "- seller_city\n",
    "- seller_state\n",
    "\n",
    "\n",
    "### List Metrics \n",
    "\n",
    "- seller_zip_code_prefix"
   ]
  },
  {
   "cell_type": "markdown",
   "id": "ce1a99d7-8c9b-43a5-ab2d-e8e8f242dd6f",
   "metadata": {},
   "source": [
    "## Table Product "
   ]
  },
  {
   "cell_type": "code",
   "execution_count": 17,
   "id": "95753ce8-343e-4c02-b3ba-0acc386799f5",
   "metadata": {},
   "outputs": [
    {
     "name": "stdout",
     "output_type": "stream",
     "text": [
      "<class 'pandas.core.frame.DataFrame'>\n",
      "RangeIndex: 32951 entries, 0 to 32950\n",
      "Data columns (total 9 columns):\n",
      " #   Column              Non-Null Count  Dtype  \n",
      "---  ------              --------------  -----  \n",
      " 0   product_id          32951 non-null  object \n",
      " 1   name_lenght         32341 non-null  float64\n",
      " 2   description_lenght  32341 non-null  float64\n",
      " 3   photos_qty          32341 non-null  float64\n",
      " 4   weight_g            32949 non-null  float64\n",
      " 5   length_cm           32949 non-null  float64\n",
      " 6   height_cm           32949 non-null  float64\n",
      " 7   width_cm            32949 non-null  float64\n",
      " 8   category_name       32951 non-null  object \n",
      "dtypes: float64(7), object(2)\n",
      "memory usage: 2.3+ MB\n"
     ]
    }
   ],
   "source": [
    "products.info()"
   ]
  },
  {
   "cell_type": "markdown",
   "id": "25953909-6b2e-44cd-bee6-655d3a1f5134",
   "metadata": {},
   "source": [
    "### List des Dimensions \n",
    "\n",
    "- product_category_name\n",
    "\n",
    "\n",
    "### List Metrics \n",
    "\n",
    "- product_name_lenght\n",
    "- product_description_lenght\n",
    "- product_photos_qty\n",
    "- product_weight_g\n",
    "- product_length_cm\n",
    "- product_height_cm\n"
   ]
  },
  {
   "cell_type": "markdown",
   "id": "0333e325-beca-4165-aa0f-3ae06579e5bd",
   "metadata": {},
   "source": [
    "## Hérarchie des Dimensions "
   ]
  },
  {
   "cell_type": "markdown",
   "id": "2d615f66-b868-47b2-86be-cf68588745cf",
   "metadata": {},
   "source": [
    "Localisation => geolocation_state => geolocation_city\n",
    "\n",
    "Product => product_category_name\n",
    "\n",
    "Payment => payment_type\n",
    "\n",
    "Review => review_creation_date\n",
    "\n",
    "       => review_answer_timestamp\n"
   ]
  },
  {
   "cell_type": "markdown",
   "id": "9bb4fb27-9fdc-4247-887e-3656c5e46dcd",
   "metadata": {},
   "source": [
    "### Notes\n",
    "\n",
    "Je présente mes données par (Dimension) : \n",
    "    - Je veux représenter mon prix par pays \n",
    "    - je veux représenter les review d'un produit par leurs date de création\n",
    "\n",
    "Dès que tu as du text imprévisible ce n\\'est jamais une dimension  "
   ]
  }
 ],
 "metadata": {
  "kernelspec": {
   "display_name": "Python 3 (ipykernel)",
   "language": "python",
   "name": "python3"
  },
  "language_info": {
   "codemirror_mode": {
    "name": "ipython",
    "version": 3
   },
   "file_extension": ".py",
   "mimetype": "text/x-python",
   "name": "python",
   "nbconvert_exporter": "python",
   "pygments_lexer": "ipython3",
   "version": "3.10.0"
  }
 },
 "nbformat": 4,
 "nbformat_minor": 5
}
