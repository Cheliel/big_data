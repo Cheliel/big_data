{
 "cells": [
  {
   "cell_type": "markdown",
   "metadata": {},
   "source": [
    "https://seaborn.pydata.org/#"
   ]
  },
  {
   "cell_type": "code",
   "execution_count": null,
   "metadata": {
    "ExecuteTime": {
     "end_time": "2020-05-29T09:46:09.791233Z",
     "start_time": "2020-05-29T09:46:09.007675Z"
    }
   },
   "outputs": [],
   "source": [
    "import numpy as np               \n",
    "import pandas as pd              \n",
    "import seaborn as sns            \n",
    "import os\n",
    "import warnings\n",
    "os.chdir(r\"C:\\Solutions\")\n",
    "\n",
    "%pylab inline\n",
    "\n",
    "plt.style.use('seaborn-darkgrid')\n",
    "warnings.filterwarnings(action=\"ignore\")\n",
    "sns.set(font_scale=2)"
   ]
  },
  {
   "cell_type": "code",
   "execution_count": null,
   "metadata": {
    "ExecuteTime": {
     "end_time": "2020-05-29T09:46:11.135673Z",
     "start_time": "2020-05-29T09:46:11.097745Z"
    }
   },
   "outputs": [],
   "source": [
    "house = pd.read_csv('donnees/housing.csv')\n",
    "house.head()"
   ]
  },
  {
   "cell_type": "code",
   "execution_count": null,
   "metadata": {
    "ExecuteTime": {
     "end_time": "2020-05-29T09:41:13.941137Z",
     "start_time": "2020-05-29T09:41:13.936150Z"
    }
   },
   "outputs": [],
   "source": [
    "house.shape"
   ]
  },
  {
   "cell_type": "code",
   "execution_count": null,
   "metadata": {
    "ExecuteTime": {
     "end_time": "2020-05-29T09:41:13.965607Z",
     "start_time": "2020-05-29T09:41:13.943132Z"
    }
   },
   "outputs": [],
   "source": [
    "house.isnull().sum()"
   ]
  },
  {
   "cell_type": "code",
   "execution_count": null,
   "metadata": {
    "ExecuteTime": {
     "end_time": "2020-05-29T09:41:13.994503Z",
     "start_time": "2020-05-29T09:41:13.966579Z"
    }
   },
   "outputs": [],
   "source": [
    "pd.crosstab(house.ocean_proximity,1)"
   ]
  },
  {
   "cell_type": "code",
   "execution_count": null,
   "metadata": {
    "ExecuteTime": {
     "end_time": "2020-05-29T09:41:14.006471Z",
     "start_time": "2020-05-29T09:41:13.995501Z"
    }
   },
   "outputs": [],
   "source": [
    "house.total_bedrooms[np.isnan(house['total_bedrooms'])] =  0\n",
    "print(house['total_bedrooms'].shape)    \n",
    "np.isnan( house['total_bedrooms']).sum()"
   ]
  },
  {
   "cell_type": "code",
   "execution_count": null,
   "metadata": {
    "ExecuteTime": {
     "end_time": "2020-05-29T09:46:24.366008Z",
     "start_time": "2020-05-29T09:46:24.335090Z"
    }
   },
   "outputs": [],
   "source": [
    "breastCancer = pd.read_csv('donnees/breastCancer.csv').iloc[:,2:]\n",
    "breastCancer.head()"
   ]
  },
  {
   "cell_type": "code",
   "execution_count": null,
   "metadata": {
    "ExecuteTime": {
     "end_time": "2020-05-29T09:41:14.062856Z",
     "start_time": "2020-05-29T09:41:14.047894Z"
    }
   },
   "outputs": [],
   "source": [
    "glass = pd.read_csv('donnees/glass.csv')\n",
    "glass = glass.iloc[:,1:]\n",
    "glass.head()"
   ]
  },
  {
   "cell_type": "markdown",
   "metadata": {},
   "source": [
    "# Palette "
   ]
  },
  {
   "cell_type": "code",
   "execution_count": null,
   "metadata": {
    "ExecuteTime": {
     "end_time": "2020-05-29T09:41:14.085793Z",
     "start_time": "2020-05-29T09:41:14.064849Z"
    }
   },
   "outputs": [],
   "source": [
    "print(plt.style.available)"
   ]
  },
  {
   "cell_type": "code",
   "execution_count": null,
   "metadata": {
    "ExecuteTime": {
     "end_time": "2020-05-29T09:41:22.245584Z",
     "start_time": "2020-05-29T09:41:14.086791Z"
    },
    "scrolled": true
   },
   "outputs": [],
   "source": [
    "for i in plt.style.available:\n",
    "    plt.style.use(i)\n",
    "    plt.figure(figsize=(14,12))\n",
    "    plt.title('plt.style = %s' % i)\n",
    "    sns.distplot(house['total_rooms'])\n",
    "    plt.show()"
   ]
  },
  {
   "cell_type": "code",
   "execution_count": null,
   "metadata": {
    "ExecuteTime": {
     "end_time": "2020-05-29T09:41:22.250571Z",
     "start_time": "2020-05-29T09:41:22.246582Z"
    }
   },
   "outputs": [],
   "source": [
    "plt.style.use('ggplot')"
   ]
  },
  {
   "cell_type": "code",
   "execution_count": null,
   "metadata": {},
   "outputs": [],
   "source": []
  },
  {
   "cell_type": "code",
   "execution_count": null,
   "metadata": {
    "ExecuteTime": {
     "end_time": "2020-05-29T09:41:22.551695Z",
     "start_time": "2020-05-29T09:41:22.251570Z"
    }
   },
   "outputs": [],
   "source": [
    "current_palette = sns.color_palette()\n",
    "sns.palplot(current_palette)\n",
    "sns.palplot(sns.color_palette(\"hls\", 8))\n",
    "sns.palplot(sns.hls_palette(8, l=.3, s=.8))\n",
    "sns.palplot(sns.color_palette(\"husl\", 8))\n",
    "sns.palplot(sns.color_palette(\"Paired\"))\n",
    "sns.palplot(sns.color_palette(\"Set2\"))"
   ]
  },
  {
   "cell_type": "code",
   "execution_count": null,
   "metadata": {
    "ExecuteTime": {
     "end_time": "2020-05-29T09:41:22.634475Z",
     "start_time": "2020-05-29T09:41:22.552692Z"
    }
   },
   "outputs": [],
   "source": [
    "flatui = [\"#9b59b6\", \"#3498db\", \"#95a5a6\", \"#e74c3c\", \"#34495e\", \"#2ecc71\"]\n",
    "sns.palplot(sns.color_palette(flatui))\n",
    "colors = [\"windows blue\", \"amber\", \"greyish\", \"faded green\", \"dusty purple\"]\n",
    "sns.palplot(sns.xkcd_palette(colors))"
   ]
  },
  {
   "cell_type": "code",
   "execution_count": null,
   "metadata": {
    "ExecuteTime": {
     "end_time": "2020-05-29T09:41:22.928240Z",
     "start_time": "2020-05-29T09:41:22.636468Z"
    }
   },
   "outputs": [],
   "source": [
    "sns.palplot(sns.color_palette(\"Blues\"))\n",
    "sns.palplot(sns.color_palette(\"BuGn_r\"))\n",
    "sns.palplot(sns.color_palette(\"GnBu_d\"))\n",
    "sns.palplot(sns.light_palette(\"green\"))\n",
    "sns.palplot(sns.dark_palette(\"purple\"))\n",
    "sns.palplot(sns.light_palette(\"navy\", reverse=True))"
   ]
  },
  {
   "cell_type": "code",
   "execution_count": null,
   "metadata": {
    "ExecuteTime": {
     "end_time": "2020-05-29T09:41:23.158134Z",
     "start_time": "2020-05-29T09:41:22.929237Z"
    }
   },
   "outputs": [],
   "source": [
    "sns.palplot(sns.color_palette(\"cubehelix\", 8))\n",
    "sns.palplot(sns.cubehelix_palette(8))\n",
    "sns.palplot(sns.cubehelix_palette(8, start=.5, rot=-.75))\n",
    "sns.palplot(sns.cubehelix_palette(8, start=2, rot=0, dark=0, light=.95, reverse=True))\n",
    "sns.palplot(sns.color_palette(\"coolwarm\", 7))"
   ]
  },
  {
   "cell_type": "markdown",
   "metadata": {},
   "source": [
    "# Graphes de distribution -- *distplot*"
   ]
  },
  {
   "cell_type": "code",
   "execution_count": null,
   "metadata": {
    "ExecuteTime": {
     "end_time": "2020-05-29T09:41:23.475284Z",
     "start_time": "2020-05-29T09:41:23.159131Z"
    }
   },
   "outputs": [],
   "source": [
    "plt.figure(figsize=(14,12))\n",
    "sns.distplot(house['total_rooms'])"
   ]
  },
  {
   "cell_type": "code",
   "execution_count": null,
   "metadata": {
    "ExecuteTime": {
     "end_time": "2020-05-29T09:41:26.029779Z",
     "start_time": "2020-05-29T09:41:23.476282Z"
    }
   },
   "outputs": [],
   "source": [
    "for i in house.columns[:9]:\n",
    "    plt.figure(figsize=(14,12))\n",
    "    plt.title(i)\n",
    "    sns.distplot(house[i], color=\"steelblue\")\n",
    "    plt.show()"
   ]
  },
  {
   "cell_type": "code",
   "execution_count": null,
   "metadata": {
    "ExecuteTime": {
     "end_time": "2020-05-29T09:41:26.034766Z",
     "start_time": "2020-05-29T09:41:26.030776Z"
    }
   },
   "outputs": [],
   "source": [
    "plt.style.use('seaborn-darkgrid')\n",
    "sns.set(font_scale=2)"
   ]
  },
  {
   "cell_type": "code",
   "execution_count": null,
   "metadata": {
    "ExecuteTime": {
     "end_time": "2020-05-29T09:41:33.383064Z",
     "start_time": "2020-05-29T09:41:26.035764Z"
    },
    "scrolled": true
   },
   "outputs": [],
   "source": [
    "for col in breastCancer.columns[1:]:\n",
    "    plt.figure(figsize=(14,12))\n",
    "    sns.distplot(breastCancer[col][breastCancer.diagnosis == 'M'],color=\"steelblue\", label='diagnosis=M', hist_kws=dict(alpha=0.4))\n",
    "    sns.distplot(breastCancer[col][breastCancer.diagnosis == 'B'],color=\"red\"      , label='diagnosis=B', hist_kws=dict(alpha=0.1))\n",
    "    plt.legend();"
   ]
  },
  {
   "cell_type": "code",
   "execution_count": null,
   "metadata": {
    "ExecuteTime": {
     "end_time": "2020-05-29T09:41:33.688248Z",
     "start_time": "2020-05-29T09:41:33.384062Z"
    }
   },
   "outputs": [],
   "source": [
    "plt.figure(figsize=(14,12))\n",
    "sns.distplot(house['total_rooms'],kde=False,bins=100)"
   ]
  },
  {
   "cell_type": "markdown",
   "metadata": {},
   "source": [
    "# Graphes assemblés   -- *jointplot*"
   ]
  },
  {
   "cell_type": "code",
   "execution_count": null,
   "metadata": {
    "ExecuteTime": {
     "end_time": "2020-05-29T09:41:34.472826Z",
     "start_time": "2020-05-29T09:41:33.689244Z"
    }
   },
   "outputs": [],
   "source": [
    "sns.set(font_scale=3)\n",
    "sns.jointplot(x='total_rooms',y='population', data=house, size=25)"
   ]
  },
  {
   "cell_type": "code",
   "execution_count": null,
   "metadata": {
    "ExecuteTime": {
     "end_time": "2020-05-29T09:41:35.266729Z",
     "start_time": "2020-05-29T09:41:34.473824Z"
    }
   },
   "outputs": [],
   "source": [
    "sns.jointplot(x='total_rooms',y='population', data=house, kind='hex', size=25)"
   ]
  },
  {
   "cell_type": "code",
   "execution_count": null,
   "metadata": {
    "ExecuteTime": {
     "end_time": "2020-05-29T09:41:36.196491Z",
     "start_time": "2020-05-29T09:41:35.268696Z"
    }
   },
   "outputs": [],
   "source": [
    "sns.jointplot(x='housing_median_age',y='median_income', data=house, size=25)"
   ]
  },
  {
   "cell_type": "code",
   "execution_count": null,
   "metadata": {
    "ExecuteTime": {
     "end_time": "2020-05-29T09:41:37.685096Z",
     "start_time": "2020-05-29T09:41:36.197461Z"
    }
   },
   "outputs": [],
   "source": [
    "sns.jointplot(x='housing_median_age',y='median_income', data=house, kind='reg', size=25)"
   ]
  },
  {
   "cell_type": "code",
   "execution_count": null,
   "metadata": {
    "ExecuteTime": {
     "end_time": "2020-05-29T09:41:38.488945Z",
     "start_time": "2020-05-29T09:41:37.686093Z"
    }
   },
   "outputs": [],
   "source": [
    "sns.jointplot(x='housing_median_age',y='median_income', data=house, kind='hex', size=25)"
   ]
  },
  {
   "cell_type": "code",
   "execution_count": null,
   "metadata": {
    "ExecuteTime": {
     "end_time": "2020-05-29T09:41:39.307299Z",
     "start_time": "2020-05-29T09:41:38.489942Z"
    }
   },
   "outputs": [],
   "source": [
    "sns.jointplot(x='housing_median_age',y='median_income', data=house, kind='hex', size=25, color=\"red\")"
   ]
  },
  {
   "cell_type": "code",
   "execution_count": null,
   "metadata": {
    "ExecuteTime": {
     "end_time": "2020-05-29T09:41:40.103204Z",
     "start_time": "2020-05-29T09:41:39.308297Z"
    }
   },
   "outputs": [],
   "source": [
    "sns.jointplot(x='housing_median_age',y='median_income', data=house, kind='hex', size=25, color=\"navy\")"
   ]
  },
  {
   "cell_type": "code",
   "execution_count": null,
   "metadata": {
    "ExecuteTime": {
     "end_time": "2020-05-29T09:41:40.919045Z",
     "start_time": "2020-05-29T09:41:40.104201Z"
    }
   },
   "outputs": [],
   "source": [
    "sns.jointplot(x='housing_median_age',y='median_income', data=house, kind='hex', size=25, color=\"purple\")"
   ]
  },
  {
   "cell_type": "code",
   "execution_count": null,
   "metadata": {
    "ExecuteTime": {
     "end_time": "2020-05-29T09:41:41.736494Z",
     "start_time": "2020-05-29T09:41:40.920016Z"
    }
   },
   "outputs": [],
   "source": [
    "sns.jointplot(x='total_rooms',y='population', data=house, size=25)"
   ]
  },
  {
   "cell_type": "code",
   "execution_count": null,
   "metadata": {
    "ExecuteTime": {
     "end_time": "2020-05-29T09:41:42.528200Z",
     "start_time": "2020-05-29T09:41:41.737466Z"
    }
   },
   "outputs": [],
   "source": [
    "sns.jointplot(x='total_rooms',y='total_bedrooms', data=house, size=25)"
   ]
  },
  {
   "cell_type": "code",
   "execution_count": null,
   "metadata": {
    "ExecuteTime": {
     "end_time": "2020-05-29T09:41:44.089642Z",
     "start_time": "2020-05-29T09:41:42.529197Z"
    }
   },
   "outputs": [],
   "source": [
    "sns.jointplot(x='total_rooms',y='total_bedrooms', data=house, kind ='reg', size=25)"
   ]
  },
  {
   "cell_type": "code",
   "execution_count": null,
   "metadata": {
    "ExecuteTime": {
     "end_time": "2020-05-29T09:41:51.960299Z",
     "start_time": "2020-05-29T09:41:44.090640Z"
    }
   },
   "outputs": [],
   "source": [
    "sns.jointplot(x='total_rooms',y='total_bedrooms', data=house, kind ='kde', size=25)"
   ]
  },
  {
   "cell_type": "code",
   "execution_count": null,
   "metadata": {
    "ExecuteTime": {
     "end_time": "2020-05-29T09:41:54.776747Z",
     "start_time": "2020-05-29T09:41:51.961270Z"
    }
   },
   "outputs": [],
   "source": [
    "sns.jointplot(x='housing_median_age',y='median_income', data=house, kind='kde', size=25)"
   ]
  },
  {
   "cell_type": "code",
   "execution_count": null,
   "metadata": {
    "ExecuteTime": {
     "end_time": "2020-05-29T09:41:56.398976Z",
     "start_time": "2020-05-29T09:41:54.777718Z"
    }
   },
   "outputs": [],
   "source": [
    "sns.jointplot(x='total_rooms',y='population', data=house, kind=\"reg\", color=\"m\", size=25)"
   ]
  },
  {
   "cell_type": "code",
   "execution_count": null,
   "metadata": {
    "ExecuteTime": {
     "end_time": "2020-05-29T09:41:57.960835Z",
     "start_time": "2020-05-29T09:41:56.399949Z"
    }
   },
   "outputs": [],
   "source": [
    "sns.jointplot(x='total_rooms',y='population',data=house, kind=\"reg\", color=\"steelblue\", size=25)"
   ]
  },
  {
   "cell_type": "markdown",
   "metadata": {},
   "source": [
    "# Graphes des paires  -- *pairplots*"
   ]
  },
  {
   "cell_type": "code",
   "execution_count": null,
   "metadata": {
    "ExecuteTime": {
     "end_time": "2020-05-29T09:41:57.966818Z",
     "start_time": "2020-05-29T09:41:57.961832Z"
    }
   },
   "outputs": [],
   "source": [
    "sns.reset_defaults()"
   ]
  },
  {
   "cell_type": "code",
   "execution_count": null,
   "metadata": {
    "ExecuteTime": {
     "end_time": "2020-05-29T09:42:19.218908Z",
     "start_time": "2020-05-29T09:41:57.967815Z"
    }
   },
   "outputs": [],
   "source": [
    "sns.pairplot(data=house);"
   ]
  },
  {
   "cell_type": "code",
   "execution_count": null,
   "metadata": {
    "ExecuteTime": {
     "end_time": "2020-05-29T09:42:19.224865Z",
     "start_time": "2020-05-29T09:42:19.220876Z"
    }
   },
   "outputs": [],
   "source": [
    "plt.style.use('ggplot')\n",
    "sns.set(font_scale=5)"
   ]
  },
  {
   "cell_type": "code",
   "execution_count": null,
   "metadata": {
    "ExecuteTime": {
     "end_time": "2020-05-29T09:42:49.113236Z",
     "start_time": "2020-05-29T09:42:19.225862Z"
    },
    "scrolled": true
   },
   "outputs": [],
   "source": [
    "sns.pairplot(data=house,size=10);"
   ]
  },
  {
   "cell_type": "code",
   "execution_count": null,
   "metadata": {
    "ExecuteTime": {
     "end_time": "2020-05-29T09:43:34.435564Z",
     "start_time": "2020-05-29T09:42:49.114204Z"
    },
    "scrolled": true
   },
   "outputs": [],
   "source": [
    "sns.pairplot(data=house,hue='ocean_proximity',size=10);"
   ]
  },
  {
   "cell_type": "code",
   "execution_count": null,
   "metadata": {
    "ExecuteTime": {
     "end_time": "2020-05-29T09:44:22.367870Z",
     "start_time": "2020-05-29T09:43:34.437561Z"
    }
   },
   "outputs": [],
   "source": [
    "sns.pairplot(data=house,hue='ocean_proximity',palette='coolwarm',size=12);"
   ]
  },
  {
   "cell_type": "code",
   "execution_count": null,
   "metadata": {
    "ExecuteTime": {
     "end_time": "2020-05-29T09:45:03.109924Z",
     "start_time": "2020-05-29T09:44:22.368868Z"
    }
   },
   "outputs": [],
   "source": [
    "sns.pairplot(data=house,hue='ocean_proximity',palette='coolwarm',size=8);"
   ]
  },
  {
   "cell_type": "code",
   "execution_count": null,
   "metadata": {
    "ExecuteTime": {
     "end_time": "2020-05-29T09:45:33.301238Z",
     "start_time": "2020-05-29T09:45:03.110922Z"
    }
   },
   "outputs": [],
   "source": [
    "sns.pairplot(glass, hue='Type', size=12);"
   ]
  },
  {
   "cell_type": "code",
   "execution_count": null,
   "metadata": {
    "ExecuteTime": {
     "end_time": "2020-05-29T09:50:24.448160Z",
     "start_time": "2020-05-29T09:46:29.358931Z"
    }
   },
   "outputs": [],
   "source": [
    "plt.style.use('seaborn-darkgrid')\n",
    "sns.set(font_scale=5)\n",
    "sns.pairplot(data=breastCancer,hue='diagnosis',palette='coolwarm',size=12);"
   ]
  },
  {
   "cell_type": "code",
   "execution_count": null,
   "metadata": {},
   "outputs": [],
   "source": []
  },
  {
   "cell_type": "code",
   "execution_count": null,
   "metadata": {},
   "outputs": [],
   "source": []
  },
  {
   "cell_type": "code",
   "execution_count": null,
   "metadata": {},
   "outputs": [],
   "source": []
  },
  {
   "cell_type": "code",
   "execution_count": null,
   "metadata": {},
   "outputs": [],
   "source": []
  },
  {
   "cell_type": "code",
   "execution_count": null,
   "metadata": {},
   "outputs": [],
   "source": []
  },
  {
   "cell_type": "code",
   "execution_count": null,
   "metadata": {},
   "outputs": [],
   "source": []
  },
  {
   "cell_type": "code",
   "execution_count": null,
   "metadata": {},
   "outputs": [],
   "source": []
  },
  {
   "cell_type": "code",
   "execution_count": null,
   "metadata": {},
   "outputs": [],
   "source": []
  },
  {
   "cell_type": "code",
   "execution_count": null,
   "metadata": {},
   "outputs": [],
   "source": []
  },
  {
   "cell_type": "code",
   "execution_count": null,
   "metadata": {},
   "outputs": [],
   "source": []
  },
  {
   "cell_type": "code",
   "execution_count": null,
   "metadata": {},
   "outputs": [],
   "source": []
  },
  {
   "cell_type": "code",
   "execution_count": null,
   "metadata": {},
   "outputs": [],
   "source": []
  },
  {
   "cell_type": "code",
   "execution_count": null,
   "metadata": {},
   "outputs": [],
   "source": []
  },
  {
   "cell_type": "code",
   "execution_count": null,
   "metadata": {},
   "outputs": [],
   "source": []
  },
  {
   "cell_type": "code",
   "execution_count": null,
   "metadata": {},
   "outputs": [],
   "source": []
  },
  {
   "cell_type": "code",
   "execution_count": null,
   "metadata": {},
   "outputs": [],
   "source": []
  },
  {
   "cell_type": "code",
   "execution_count": null,
   "metadata": {},
   "outputs": [],
   "source": []
  },
  {
   "cell_type": "code",
   "execution_count": null,
   "metadata": {},
   "outputs": [],
   "source": []
  },
  {
   "cell_type": "code",
   "execution_count": null,
   "metadata": {},
   "outputs": [],
   "source": []
  },
  {
   "cell_type": "code",
   "execution_count": null,
   "metadata": {},
   "outputs": [],
   "source": []
  },
  {
   "cell_type": "code",
   "execution_count": null,
   "metadata": {},
   "outputs": [],
   "source": []
  },
  {
   "cell_type": "code",
   "execution_count": null,
   "metadata": {},
   "outputs": [],
   "source": []
  },
  {
   "cell_type": "code",
   "execution_count": null,
   "metadata": {},
   "outputs": [],
   "source": []
  },
  {
   "cell_type": "code",
   "execution_count": null,
   "metadata": {},
   "outputs": [],
   "source": []
  },
  {
   "cell_type": "code",
   "execution_count": null,
   "metadata": {},
   "outputs": [],
   "source": []
  },
  {
   "cell_type": "code",
   "execution_count": null,
   "metadata": {},
   "outputs": [],
   "source": []
  },
  {
   "cell_type": "code",
   "execution_count": null,
   "metadata": {},
   "outputs": [],
   "source": []
  },
  {
   "cell_type": "code",
   "execution_count": null,
   "metadata": {},
   "outputs": [],
   "source": []
  },
  {
   "cell_type": "code",
   "execution_count": null,
   "metadata": {},
   "outputs": [],
   "source": []
  },
  {
   "cell_type": "code",
   "execution_count": null,
   "metadata": {},
   "outputs": [],
   "source": []
  },
  {
   "cell_type": "code",
   "execution_count": null,
   "metadata": {},
   "outputs": [],
   "source": []
  },
  {
   "cell_type": "code",
   "execution_count": null,
   "metadata": {},
   "outputs": [],
   "source": []
  },
  {
   "cell_type": "code",
   "execution_count": null,
   "metadata": {},
   "outputs": [],
   "source": []
  },
  {
   "cell_type": "code",
   "execution_count": null,
   "metadata": {},
   "outputs": [],
   "source": []
  },
  {
   "cell_type": "code",
   "execution_count": null,
   "metadata": {},
   "outputs": [],
   "source": []
  },
  {
   "cell_type": "code",
   "execution_count": null,
   "metadata": {},
   "outputs": [],
   "source": []
  },
  {
   "cell_type": "code",
   "execution_count": null,
   "metadata": {},
   "outputs": [],
   "source": []
  }
 ],
 "metadata": {
  "kernelspec": {
   "display_name": "cours",
   "language": "python",
   "name": "python3"
  },
  "language_info": {
   "codemirror_mode": {
    "name": "ipython",
    "version": 3
   },
   "file_extension": ".py",
   "mimetype": "text/x-python",
   "name": "python",
   "nbconvert_exporter": "python",
   "pygments_lexer": "ipython3",
   "version": "3.10.0"
  }
 },
 "nbformat": 4,
 "nbformat_minor": 4
}
