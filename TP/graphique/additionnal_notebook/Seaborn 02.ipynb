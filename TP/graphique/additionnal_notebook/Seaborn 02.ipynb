{
 "cells": [
  {
   "cell_type": "markdown",
   "metadata": {},
   "source": [
    "https://seaborn.pydata.org/#"
   ]
  },
  {
   "cell_type": "code",
   "execution_count": null,
   "metadata": {
    "ExecuteTime": {
     "end_time": "2020-05-29T09:48:19.646854Z",
     "start_time": "2020-05-29T09:48:18.884987Z"
    }
   },
   "outputs": [],
   "source": [
    "import numpy as np               \n",
    "import pandas as pd              \n",
    "import seaborn as sns            \n",
    "import os\n",
    "import warnings\n",
    "os.chdir(r\"C:\\Solutions\")\n",
    "\n",
    "%pylab inline\n",
    "\n",
    "plt.style.use('seaborn-darkgrid')\n",
    "sns.set(font_scale=2)\n",
    "warnings.filterwarnings(action=\"ignore\")"
   ]
  },
  {
   "cell_type": "code",
   "execution_count": null,
   "metadata": {
    "ExecuteTime": {
     "end_time": "2020-05-29T09:48:22.604363Z",
     "start_time": "2020-05-29T09:48:22.566467Z"
    }
   },
   "outputs": [],
   "source": [
    "house = pd.read_csv('donnees/housing.csv')\n",
    "house.head()"
   ]
  },
  {
   "cell_type": "code",
   "execution_count": null,
   "metadata": {
    "ExecuteTime": {
     "end_time": "2020-05-29T09:48:23.659416Z",
     "start_time": "2020-05-29T09:48:23.654431Z"
    }
   },
   "outputs": [],
   "source": [
    "house.shape"
   ]
  },
  {
   "cell_type": "code",
   "execution_count": null,
   "metadata": {
    "ExecuteTime": {
     "end_time": "2020-05-29T09:48:30.719824Z",
     "start_time": "2020-05-29T09:48:30.703864Z"
    }
   },
   "outputs": [],
   "source": [
    "pd.crosstab(house.ocean_proximity,1)"
   ]
  },
  {
   "cell_type": "code",
   "execution_count": null,
   "metadata": {
    "ExecuteTime": {
     "end_time": "2020-05-29T09:48:30.731820Z",
     "start_time": "2020-05-29T09:48:30.720821Z"
    }
   },
   "outputs": [],
   "source": [
    "house.total_bedrooms[np.isnan(house['total_bedrooms'])] =  0\n",
    "print(house['total_bedrooms'].shape)    \n",
    "np.isnan( house['total_bedrooms']).sum()"
   ]
  },
  {
   "cell_type": "code",
   "execution_count": null,
   "metadata": {
    "ExecuteTime": {
     "end_time": "2020-05-29T09:48:30.760740Z",
     "start_time": "2020-05-29T09:48:30.732788Z"
    }
   },
   "outputs": [],
   "source": [
    "glass = pd.read_csv('donnees/glass.csv')\n",
    "glass = glass.iloc[:,1:]\n",
    "glass.head()"
   ]
  },
  {
   "cell_type": "code",
   "execution_count": null,
   "metadata": {
    "ExecuteTime": {
     "end_time": "2020-05-29T09:55:08.668292Z",
     "start_time": "2020-05-29T09:55:08.646353Z"
    }
   },
   "outputs": [],
   "source": [
    "titanic = pd.read_csv('donnees/titanic.format.csv')\n",
    "titanic.Sex = titanic.Sex.astype('int8')\n",
    "titanic.TailleFamille = titanic.TailleFamille.astype('int8')\n",
    "titanic.Title = titanic.Title.astype('int8')\n",
    "titanic.Classe = titanic.Classe.astype('int8')\n",
    "titanic.Cabine = titanic.Cabine.astype('int8')\n",
    "titanic.Port = titanic.Port.astype('int8')\n",
    "titanic.Conjoints = titanic.Conjoints.astype('int8')\n",
    "titanic.Enfants = titanic.Enfants.astype('int8')\n",
    "titanic.Mere = titanic.Mere.astype('int8')\n",
    "titanic.Pont = titanic.Pont.astype('int8')\n",
    "titanic.Age = titanic.Age.astype('int8')\n",
    "titanic.Ticket = titanic.Ticket.astype('int8')\n",
    "\n",
    "titanic.head()"
   ]
  },
  {
   "cell_type": "code",
   "execution_count": null,
   "metadata": {
    "ExecuteTime": {
     "end_time": "2020-05-29T09:48:30.818558Z",
     "start_time": "2020-05-29T09:48:30.793626Z"
    }
   },
   "outputs": [],
   "source": [
    "mushrooms = pd.read_csv('donnees/mushroomsD.csv')\n",
    "mushrooms.head()"
   ]
  },
  {
   "cell_type": "code",
   "execution_count": null,
   "metadata": {
    "ExecuteTime": {
     "end_time": "2020-05-29T09:48:30.843492Z",
     "start_time": "2020-05-29T09:48:30.819555Z"
    }
   },
   "outputs": [],
   "source": [
    "breastCancer = pd.read_csv('donnees/breastCancer.csv')\n",
    "breastCancer = breastCancer.iloc[:,2:]\n",
    "breastCancer.head()"
   ]
  },
  {
   "cell_type": "code",
   "execution_count": null,
   "metadata": {
    "ExecuteTime": {
     "end_time": "2020-05-29T09:48:30.887374Z",
     "start_time": "2020-05-29T09:48:30.844489Z"
    }
   },
   "outputs": [],
   "source": [
    "housePrice = pd.read_csv('donnees/House Prices.csv')\n",
    "housePrice = housePrice.iloc[:,1:]\n",
    "housePrice.head()"
   ]
  },
  {
   "cell_type": "markdown",
   "metadata": {},
   "source": [
    "# *barplot*"
   ]
  },
  {
   "cell_type": "code",
   "execution_count": null,
   "metadata": {
    "ExecuteTime": {
     "end_time": "2020-05-29T09:48:31.279326Z",
     "start_time": "2020-05-29T09:48:30.889369Z"
    }
   },
   "outputs": [],
   "source": [
    "plt.figure(figsize=(14,12))\n",
    "sns.barplot(x='ocean_proximity',y='total_rooms',data=house)"
   ]
  },
  {
   "cell_type": "code",
   "execution_count": null,
   "metadata": {
    "ExecuteTime": {
     "end_time": "2020-05-29T09:48:31.718192Z",
     "start_time": "2020-05-29T09:48:31.280323Z"
    }
   },
   "outputs": [],
   "source": [
    "plt.figure(figsize=(14,12))\n",
    "sns.barplot(x='ocean_proximity',y='total_rooms',data=house, estimator=np.std)"
   ]
  },
  {
   "cell_type": "code",
   "execution_count": null,
   "metadata": {
    "ExecuteTime": {
     "end_time": "2020-05-29T09:48:32.217558Z",
     "start_time": "2020-05-29T09:48:31.719161Z"
    }
   },
   "outputs": [],
   "source": [
    "plt.figure(figsize=(14,12))\n",
    "gbarplot = sns.barplot(x='ocean_proximity',y='total_rooms',data=house, estimator=np.std)\n",
    "xloc, xlabels = plt.xticks()\n",
    "gbarplot.set_xticklabels(xlabels, rotation=45);"
   ]
  },
  {
   "cell_type": "markdown",
   "metadata": {},
   "source": [
    "# *countplot*"
   ]
  },
  {
   "cell_type": "code",
   "execution_count": null,
   "metadata": {
    "ExecuteTime": {
     "end_time": "2020-05-29T09:48:32.377108Z",
     "start_time": "2020-05-29T09:48:32.218528Z"
    }
   },
   "outputs": [],
   "source": [
    "plt.figure(figsize=(14,12))\n",
    "sns.countplot(x='ocean_proximity',data=house)"
   ]
  },
  {
   "cell_type": "markdown",
   "metadata": {},
   "source": [
    "# catplot"
   ]
  },
  {
   "cell_type": "code",
   "execution_count": null,
   "metadata": {
    "ExecuteTime": {
     "end_time": "2020-05-29T09:48:32.785608Z",
     "start_time": "2020-05-29T09:48:32.378106Z"
    }
   },
   "outputs": [],
   "source": [
    "planets = sns.load_dataset(\"planets\")\n",
    "g = sns.catplot(\"year\", data=planets, aspect=1.5, kind=\"count\", color=\"b\", size=10)\n",
    "g.set_xticklabels(rotation=30);"
   ]
  },
  {
   "cell_type": "code",
   "execution_count": null,
   "metadata": {
    "ExecuteTime": {
     "end_time": "2020-05-29T09:48:33.173571Z",
     "start_time": "2020-05-29T09:48:32.786607Z"
    }
   },
   "outputs": [],
   "source": [
    "g = sns.catplot(\"year\", data=planets, aspect=1.5, kind=\"count\",  size=10)\n",
    "g.set_xticklabels(rotation=30);"
   ]
  },
  {
   "cell_type": "code",
   "execution_count": null,
   "metadata": {
    "ExecuteTime": {
     "end_time": "2020-05-29T09:48:33.431907Z",
     "start_time": "2020-05-29T09:48:33.174568Z"
    }
   },
   "outputs": [],
   "source": [
    "g = sns.catplot(\"year\", data=planets, aspect=1.5, kind=\"violin\",  size=10)\n",
    "g.set_xticklabels(rotation=30);    "
   ]
  },
  {
   "cell_type": "code",
   "execution_count": null,
   "metadata": {
    "ExecuteTime": {
     "end_time": "2020-05-29T09:48:35.544395Z",
     "start_time": "2020-05-29T09:48:33.432878Z"
    }
   },
   "outputs": [],
   "source": [
    "g = sns.catplot(\"year\", data=planets, aspect=1.5, kind=\"swarm\",  size=10)\n",
    "g.set_xticklabels(rotation=30);    "
   ]
  },
  {
   "cell_type": "code",
   "execution_count": null,
   "metadata": {
    "ExecuteTime": {
     "end_time": "2020-05-29T09:48:35.836301Z",
     "start_time": "2020-05-29T09:48:35.545371Z"
    }
   },
   "outputs": [],
   "source": [
    "#\"point\", \"bar\", \"strip\", \"swarm\",    \"box\", \"violin\", or \"boxen\".\n",
    "g = sns.catplot(\"year\", data=planets, aspect=1.5, kind=\"point\",  size=10)\n",
    "g.set_xticklabels(rotation=30);    "
   ]
  },
  {
   "cell_type": "markdown",
   "metadata": {},
   "source": [
    "# *boxplot*"
   ]
  },
  {
   "cell_type": "code",
   "execution_count": null,
   "metadata": {
    "ExecuteTime": {
     "end_time": "2020-05-29T09:48:36.088773Z",
     "start_time": "2020-05-29T09:48:35.837297Z"
    }
   },
   "outputs": [],
   "source": [
    "plt.figure(figsize=(14,12))\n",
    "sns.boxplot(x='ocean_proximity',y='total_rooms',data=house)"
   ]
  },
  {
   "cell_type": "code",
   "execution_count": null,
   "metadata": {
    "ExecuteTime": {
     "end_time": "2020-05-29T09:48:37.961238Z",
     "start_time": "2020-05-29T09:48:36.089746Z"
    },
    "scrolled": true
   },
   "outputs": [],
   "source": [
    "for i in house.columns[:9]:\n",
    "    plt.figure(figsize=(14,12))\n",
    "    plt.title(i)\n",
    "    sns.boxplot(x='ocean_proximity',y=i,data=house)\n",
    "    plt.show()"
   ]
  },
  {
   "cell_type": "code",
   "execution_count": null,
   "metadata": {
    "ExecuteTime": {
     "end_time": "2020-05-29T09:54:42.838775Z",
     "start_time": "2020-05-29T09:54:42.829798Z"
    }
   },
   "outputs": [],
   "source": [
    "\n"
   ]
  },
  {
   "cell_type": "code",
   "execution_count": null,
   "metadata": {
    "ExecuteTime": {
     "end_time": "2020-05-29T09:54:43.705250Z",
     "start_time": "2020-05-29T09:54:43.693310Z"
    }
   },
   "outputs": [],
   "source": [
    "titanic.head()"
   ]
  },
  {
   "cell_type": "code",
   "execution_count": null,
   "metadata": {
    "ExecuteTime": {
     "end_time": "2020-05-29T09:54:47.129340Z",
     "start_time": "2020-05-29T09:54:46.908894Z"
    }
   },
   "outputs": [],
   "source": [
    "plt.figure(figsize=(14,12))\n",
    "sns.boxplot(x='Port',y='TailleFamille',data=titanic,hue='Sex');"
   ]
  },
  {
   "cell_type": "code",
   "execution_count": null,
   "metadata": {
    "ExecuteTime": {
     "end_time": "2020-05-29T09:56:02.947854Z",
     "start_time": "2020-05-29T09:56:02.685694Z"
    }
   },
   "outputs": [],
   "source": [
    "plt.figure(figsize=(14,12))\n",
    "sns.boxplot(x='Classe',y='TailleFamille',data=titanic,hue='Port');"
   ]
  },
  {
   "cell_type": "code",
   "execution_count": null,
   "metadata": {
    "ExecuteTime": {
     "end_time": "2020-05-29T09:56:16.738213Z",
     "start_time": "2020-05-29T09:56:16.381768Z"
    }
   },
   "outputs": [],
   "source": [
    "plt.figure(figsize=(14,12))\n",
    "sns.boxplot(x='Title',y='Age',data=titanic,hue='Port');"
   ]
  },
  {
   "cell_type": "markdown",
   "metadata": {},
   "source": [
    "# *violinplot*"
   ]
  },
  {
   "cell_type": "code",
   "execution_count": null,
   "metadata": {
    "ExecuteTime": {
     "end_time": "2020-05-29T09:56:23.527040Z",
     "start_time": "2020-05-29T09:56:23.229835Z"
    }
   },
   "outputs": [],
   "source": [
    "plt.figure(figsize=(14,12))\n",
    "sns.violinplot(x='ocean_proximity',y='total_rooms',data=house)"
   ]
  },
  {
   "cell_type": "code",
   "execution_count": null,
   "metadata": {
    "ExecuteTime": {
     "end_time": "2020-05-29T09:56:30.442849Z",
     "start_time": "2020-05-29T09:56:30.226446Z"
    }
   },
   "outputs": [],
   "source": [
    "plt.figure(figsize=(14,12))\n",
    "sns.violinplot(x='YrSold',y='SalePrice',data=housePrice)"
   ]
  },
  {
   "cell_type": "code",
   "execution_count": null,
   "metadata": {
    "ExecuteTime": {
     "end_time": "2020-05-29T09:56:30.887170Z",
     "start_time": "2020-05-29T09:56:30.443847Z"
    }
   },
   "outputs": [],
   "source": [
    "plt.figure(figsize=(14,12))\n",
    "sns.violinplot(x='MoSold',y='SalePrice',data=housePrice[housePrice.YrSold < 2008],hue='YrSold')"
   ]
  },
  {
   "cell_type": "code",
   "execution_count": null,
   "metadata": {
    "ExecuteTime": {
     "end_time": "2020-05-29T09:56:31.277632Z",
     "start_time": "2020-05-29T09:56:30.888169Z"
    }
   },
   "outputs": [],
   "source": [
    "plt.figure(figsize=(14,12))\n",
    "sns.violinplot(x='MoSold',y='SalePrice',data=housePrice[housePrice.YrSold < 2008],hue='YrSold',split=True)"
   ]
  },
  {
   "cell_type": "markdown",
   "metadata": {},
   "source": [
    "# *stripplot*"
   ]
  },
  {
   "cell_type": "code",
   "execution_count": null,
   "metadata": {
    "ExecuteTime": {
     "end_time": "2020-05-29T09:56:31.476132Z",
     "start_time": "2020-05-29T09:56:31.278628Z"
    }
   },
   "outputs": [],
   "source": [
    "plt.figure(figsize=(14,12))\n",
    "sns.stripplot(x='YrSold',y='SalePrice',data=housePrice)"
   ]
  },
  {
   "cell_type": "code",
   "execution_count": null,
   "metadata": {
    "ExecuteTime": {
     "end_time": "2020-05-29T09:56:31.675570Z",
     "start_time": "2020-05-29T09:56:31.477098Z"
    }
   },
   "outputs": [],
   "source": [
    "plt.figure(figsize=(14,12))\n",
    "sns.stripplot(x='YrSold',y='SalePrice',data=housePrice, jitter=True)"
   ]
  },
  {
   "cell_type": "code",
   "execution_count": null,
   "metadata": {
    "ExecuteTime": {
     "end_time": "2020-05-29T09:56:32.635828Z",
     "start_time": "2020-05-29T09:56:31.676567Z"
    }
   },
   "outputs": [],
   "source": [
    "plt.figure(figsize=(14,12))\n",
    "sns.stripplot(x='MoSold',y='SalePrice',data=housePrice[housePrice.YrSold < 2008],hue='YrSold',split=True)"
   ]
  },
  {
   "cell_type": "markdown",
   "metadata": {},
   "source": [
    "# *swarmplot*"
   ]
  },
  {
   "cell_type": "code",
   "execution_count": null,
   "metadata": {
    "ExecuteTime": {
     "end_time": "2020-05-29T09:56:33.169521Z",
     "start_time": "2020-05-29T09:56:32.636825Z"
    }
   },
   "outputs": [],
   "source": [
    "plt.figure(figsize=(14,12))\n",
    "sns.swarmplot(x='YrSold',y='SalePrice',data=housePrice)"
   ]
  },
  {
   "cell_type": "code",
   "execution_count": null,
   "metadata": {
    "ExecuteTime": {
     "end_time": "2020-05-29T09:56:33.760516Z",
     "start_time": "2020-05-29T09:56:33.170519Z"
    }
   },
   "outputs": [],
   "source": [
    "plt.figure(figsize=(14,12))\n",
    "sns.violinplot(x='YrSold',y='SalePrice',data=housePrice)\n",
    "sns.swarmplot(x='YrSold',y='SalePrice',data=housePrice,color='black')"
   ]
  },
  {
   "cell_type": "markdown",
   "metadata": {},
   "source": [
    "# *factorplot*"
   ]
  },
  {
   "cell_type": "code",
   "execution_count": null,
   "metadata": {
    "ExecuteTime": {
     "end_time": "2020-05-29T09:56:34.114055Z",
     "start_time": "2020-05-29T09:56:33.761487Z"
    }
   },
   "outputs": [],
   "source": [
    "sns.factorplot(x='YrSold',y='SalePrice',data=housePrice, kind='bar', size=12)"
   ]
  },
  {
   "cell_type": "code",
   "execution_count": null,
   "metadata": {
    "ExecuteTime": {
     "end_time": "2020-05-29T09:56:34.381308Z",
     "start_time": "2020-05-29T09:56:34.115020Z"
    }
   },
   "outputs": [],
   "source": [
    "sns.factorplot(x='YrSold',y='SalePrice',data=housePrice, kind='violin', size=12)"
   ]
  },
  {
   "cell_type": "code",
   "execution_count": null,
   "metadata": {
    "ExecuteTime": {
     "end_time": "2020-05-29T09:56:34.626652Z",
     "start_time": "2020-05-29T09:56:34.382307Z"
    }
   },
   "outputs": [],
   "source": [
    "sns.factorplot(x='YrSold',y='SalePrice',data=housePrice, kind='strip', size=12)"
   ]
  },
  {
   "cell_type": "code",
   "execution_count": null,
   "metadata": {
    "ExecuteTime": {
     "end_time": "2020-05-29T09:56:35.264681Z",
     "start_time": "2020-05-29T09:56:34.627651Z"
    }
   },
   "outputs": [],
   "source": [
    "sns.factorplot(x='YrSold',y='SalePrice',data=housePrice, kind='swarm', size=12)"
   ]
  },
  {
   "cell_type": "code",
   "execution_count": null,
   "metadata": {},
   "outputs": [],
   "source": []
  },
  {
   "cell_type": "code",
   "execution_count": null,
   "metadata": {},
   "outputs": [],
   "source": []
  },
  {
   "cell_type": "code",
   "execution_count": null,
   "metadata": {},
   "outputs": [],
   "source": []
  },
  {
   "cell_type": "code",
   "execution_count": null,
   "metadata": {},
   "outputs": [],
   "source": []
  },
  {
   "cell_type": "code",
   "execution_count": null,
   "metadata": {},
   "outputs": [],
   "source": []
  },
  {
   "cell_type": "code",
   "execution_count": null,
   "metadata": {},
   "outputs": [],
   "source": []
  },
  {
   "cell_type": "code",
   "execution_count": null,
   "metadata": {},
   "outputs": [],
   "source": []
  },
  {
   "cell_type": "code",
   "execution_count": null,
   "metadata": {},
   "outputs": [],
   "source": []
  },
  {
   "cell_type": "code",
   "execution_count": null,
   "metadata": {},
   "outputs": [],
   "source": []
  },
  {
   "cell_type": "code",
   "execution_count": null,
   "metadata": {},
   "outputs": [],
   "source": []
  },
  {
   "cell_type": "code",
   "execution_count": null,
   "metadata": {},
   "outputs": [],
   "source": []
  },
  {
   "cell_type": "code",
   "execution_count": null,
   "metadata": {},
   "outputs": [],
   "source": []
  },
  {
   "cell_type": "code",
   "execution_count": null,
   "metadata": {},
   "outputs": [],
   "source": []
  },
  {
   "cell_type": "code",
   "execution_count": null,
   "metadata": {},
   "outputs": [],
   "source": []
  },
  {
   "cell_type": "code",
   "execution_count": null,
   "metadata": {},
   "outputs": [],
   "source": []
  },
  {
   "cell_type": "code",
   "execution_count": null,
   "metadata": {},
   "outputs": [],
   "source": []
  },
  {
   "cell_type": "code",
   "execution_count": null,
   "metadata": {},
   "outputs": [],
   "source": []
  },
  {
   "cell_type": "code",
   "execution_count": null,
   "metadata": {},
   "outputs": [],
   "source": []
  },
  {
   "cell_type": "code",
   "execution_count": null,
   "metadata": {},
   "outputs": [],
   "source": []
  },
  {
   "cell_type": "code",
   "execution_count": null,
   "metadata": {},
   "outputs": [],
   "source": []
  },
  {
   "cell_type": "code",
   "execution_count": null,
   "metadata": {},
   "outputs": [],
   "source": []
  },
  {
   "cell_type": "code",
   "execution_count": null,
   "metadata": {},
   "outputs": [],
   "source": []
  },
  {
   "cell_type": "code",
   "execution_count": null,
   "metadata": {},
   "outputs": [],
   "source": []
  },
  {
   "cell_type": "code",
   "execution_count": null,
   "metadata": {},
   "outputs": [],
   "source": []
  },
  {
   "cell_type": "code",
   "execution_count": null,
   "metadata": {},
   "outputs": [],
   "source": []
  },
  {
   "cell_type": "code",
   "execution_count": null,
   "metadata": {},
   "outputs": [],
   "source": []
  },
  {
   "cell_type": "code",
   "execution_count": null,
   "metadata": {},
   "outputs": [],
   "source": []
  },
  {
   "cell_type": "code",
   "execution_count": null,
   "metadata": {},
   "outputs": [],
   "source": []
  },
  {
   "cell_type": "code",
   "execution_count": null,
   "metadata": {},
   "outputs": [],
   "source": []
  }
 ],
 "metadata": {
  "kernelspec": {
   "display_name": "Python 3 (ipykernel)",
   "language": "python",
   "name": "python3"
  },
  "language_info": {
   "codemirror_mode": {
    "name": "ipython",
    "version": 3
   },
   "file_extension": ".py",
   "mimetype": "text/x-python",
   "name": "python",
   "nbconvert_exporter": "python",
   "pygments_lexer": "ipython3",
   "version": "3.10.15"
  }
 },
 "nbformat": 4,
 "nbformat_minor": 4
}
