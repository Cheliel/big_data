{
 "cells": [
  {
   "cell_type": "markdown",
   "metadata": {},
   "source": [
    "https://seaborn.pydata.org/#"
   ]
  },
  {
   "cell_type": "code",
   "execution_count": null,
   "metadata": {
    "ExecuteTime": {
     "end_time": "2020-04-12T10:51:51.181165Z",
     "start_time": "2020-04-12T10:51:50.320958Z"
    }
   },
   "outputs": [],
   "source": [
    "import numpy as np               \n",
    "import pandas as pd              \n",
    "import seaborn as sns            \n",
    "import os\n",
    "import warnings\n",
    "os.chdir(r\"C:\\Solutions\")\n",
    "\n",
    "%pylab inline\n",
    "\n",
    "plt.style.use('seaborn-darkgrid')\n",
    "sns.set(font_scale=2)\n",
    "warnings.filterwarnings(action=\"ignore\")"
   ]
  },
  {
   "cell_type": "code",
   "execution_count": null,
   "metadata": {
    "ExecuteTime": {
     "end_time": "2019-08-13T14:09:49.370243Z",
     "start_time": "2019-08-13T14:09:49.290457Z"
    }
   },
   "outputs": [],
   "source": [
    "house = pd.read_csv('donnees/housing.csv')\n",
    "house.head()"
   ]
  },
  {
   "cell_type": "code",
   "execution_count": null,
   "metadata": {
    "ExecuteTime": {
     "end_time": "2019-08-13T14:09:49.377225Z",
     "start_time": "2019-08-13T14:09:49.372238Z"
    }
   },
   "outputs": [],
   "source": [
    "house.shape"
   ]
  },
  {
   "cell_type": "code",
   "execution_count": null,
   "metadata": {
    "ExecuteTime": {
     "end_time": "2019-08-13T14:09:49.400165Z",
     "start_time": "2019-08-13T14:09:49.379220Z"
    }
   },
   "outputs": [],
   "source": [
    "house.ocean_proximity.unique()"
   ]
  },
  {
   "cell_type": "code",
   "execution_count": null,
   "metadata": {
    "ExecuteTime": {
     "end_time": "2019-08-13T14:09:49.435070Z",
     "start_time": "2019-08-13T14:09:49.402159Z"
    }
   },
   "outputs": [],
   "source": [
    "pd.crosstab(house.ocean_proximity,'Fréquence')"
   ]
  },
  {
   "cell_type": "code",
   "execution_count": null,
   "metadata": {
    "ExecuteTime": {
     "end_time": "2019-08-13T14:09:49.448037Z",
     "start_time": "2019-08-13T14:09:49.436068Z"
    }
   },
   "outputs": [],
   "source": [
    "house.total_bedrooms[np.isnan(house['total_bedrooms'])] =  0\n",
    "print(house['total_bedrooms'].shape)    \n",
    "np.isnan( house['total_bedrooms']).sum()"
   ]
  },
  {
   "cell_type": "code",
   "execution_count": null,
   "metadata": {
    "ExecuteTime": {
     "end_time": "2019-08-13T14:09:49.474963Z",
     "start_time": "2019-08-13T14:09:49.449034Z"
    }
   },
   "outputs": [],
   "source": [
    "glass = pd.read_csv('donnees/glass.csv')\n",
    "glass = glass.iloc[:,1:]\n",
    "glass.head()"
   ]
  },
  {
   "cell_type": "code",
   "execution_count": null,
   "metadata": {
    "ExecuteTime": {
     "end_time": "2019-08-13T14:09:49.509870Z",
     "start_time": "2019-08-13T14:09:49.477956Z"
    }
   },
   "outputs": [],
   "source": [
    "titanic = pd.read_csv('donnees/titanic.format.csv')\n",
    "titanic.head()"
   ]
  },
  {
   "cell_type": "code",
   "execution_count": null,
   "metadata": {
    "ExecuteTime": {
     "end_time": "2019-08-13T14:09:49.540788Z",
     "start_time": "2019-08-13T14:09:49.511866Z"
    }
   },
   "outputs": [],
   "source": [
    "mushrooms = pd.read_csv('donnees/mushroomsD.csv')\n",
    "mushrooms.head()"
   ]
  },
  {
   "cell_type": "code",
   "execution_count": null,
   "metadata": {
    "ExecuteTime": {
     "end_time": "2019-08-13T14:09:49.566719Z",
     "start_time": "2019-08-13T14:09:49.541785Z"
    }
   },
   "outputs": [],
   "source": [
    "breastCancer = pd.read_csv('donnees/breastCancer.csv')\n",
    "breastCancer = breastCancer.iloc[:,2:]\n",
    "breastCancer.head()"
   ]
  },
  {
   "cell_type": "code",
   "execution_count": null,
   "metadata": {
    "ExecuteTime": {
     "end_time": "2019-08-13T14:09:49.605615Z",
     "start_time": "2019-08-13T14:09:49.567716Z"
    }
   },
   "outputs": [],
   "source": [
    "housePrice = pd.read_csv('donnees/House Prices.csv')\n",
    "housePrice = housePrice.iloc[:,1:]\n",
    "housePrice.head()"
   ]
  },
  {
   "cell_type": "code",
   "execution_count": null,
   "metadata": {
    "ExecuteTime": {
     "end_time": "2019-08-13T14:09:49.621572Z",
     "start_time": "2019-08-13T14:09:49.606612Z"
    }
   },
   "outputs": [],
   "source": [
    "iris = pd.read_csv('donnees/Iris.csv',skiprows=1,usecols=[1,2,3,4,5],\n",
    "            names=['longueur du sépale en cm','largeur du sépale en cm',\n",
    "                   'longueur de pétale en cm','largeur de pétale en cm','espèce'])\n",
    "iris[\"espèce\"] = iris[\"espèce\"].map(lambda x: x[5:])\n",
    "iris.head()"
   ]
  },
  {
   "cell_type": "code",
   "execution_count": null,
   "metadata": {
    "ExecuteTime": {
     "end_time": "2019-08-13T14:09:49.721305Z",
     "start_time": "2019-08-13T14:09:49.623566Z"
    }
   },
   "outputs": [],
   "source": [
    "creditCard=pd.read_csv(\"donnees/creditCard.csv\",usecols=list(range(2,32)),nrows=10000)\n",
    "creditCard.head()"
   ]
  },
  {
   "cell_type": "code",
   "execution_count": null,
   "metadata": {
    "ExecuteTime": {
     "end_time": "2019-08-13T14:09:49.746239Z",
     "start_time": "2019-08-13T14:09:49.722303Z"
    }
   },
   "outputs": [],
   "source": [
    "temperatures=pd.read_csv('donnees/temperatures.csv')\n",
    "temperatures.head()"
   ]
  },
  {
   "cell_type": "code",
   "execution_count": null,
   "metadata": {
    "ExecuteTime": {
     "end_time": "2019-08-13T14:09:52.389508Z",
     "start_time": "2019-08-13T14:09:49.748234Z"
    }
   },
   "outputs": [],
   "source": [
    "meteo = pd.read_csv('C:\\\\Solutions\\\\donnees\\\\meteo\\\\meteoCompleteFinal.csv')\n",
    "meteoAM = meteo[[\"Année\",\"Mois\",\"Température\",\"Humidité\",\"Pression\"]].groupby([\"Année\",\"Mois\"])\n",
    "meteoAM.agg([\"mean\"])\n",
    "meteoAM = meteoAM.apply(lambda x: x) \n",
    "meteoAM.head()"
   ]
  },
  {
   "cell_type": "code",
   "execution_count": null,
   "metadata": {
    "ExecuteTime": {
     "end_time": "2019-08-13T14:09:52.691728Z",
     "start_time": "2019-08-13T14:09:52.392501Z"
    }
   },
   "outputs": [],
   "source": [
    "tabCAM = meteoAM[meteoAM.Année != 2018].pivot_table(index='Mois',columns='Année',\n",
    "                                                  values=[\"Température\",\"Humidité\",\"Pression\"])\n",
    "tabCAM"
   ]
  },
  {
   "cell_type": "code",
   "execution_count": null,
   "metadata": {
    "ExecuteTime": {
     "end_time": "2019-08-13T14:09:53.577415Z",
     "start_time": "2019-08-13T14:09:52.692698Z"
    }
   },
   "outputs": [],
   "source": [
    "meteoVM = meteo[[\"Ville\",\"Mois\",\"Température\"]].groupby([\"Ville\",\"Mois\"])\n",
    "meteoVM.agg([\"mean\"])\n",
    "meteoVM = meteoVM.apply(lambda x: x) \n",
    "meteoVM.head()"
   ]
  },
  {
   "cell_type": "code",
   "execution_count": null,
   "metadata": {
    "ExecuteTime": {
     "end_time": "2019-08-13T14:09:53.829143Z",
     "start_time": "2019-08-13T14:09:53.578407Z"
    }
   },
   "outputs": [],
   "source": [
    "tabCVM = meteoVM.pivot_table(index='Ville',columns='Mois',values=\"Température\")\n",
    "tabCVM"
   ]
  },
  {
   "cell_type": "code",
   "execution_count": null,
   "metadata": {
    "ExecuteTime": {
     "end_time": "2019-08-13T14:09:59.661570Z",
     "start_time": "2019-08-13T14:09:53.830141Z"
    }
   },
   "outputs": [],
   "source": [
    "meteo['Jour365'] = meteo.Mois.apply(lambda x : '%0*d' % (2, x))+meteo.Jour.apply(lambda x : '%0*d' % (2, x))\n",
    "meteoVJ = meteo[[\"Ville\",\"Jour365\",\"Température\"]].groupby([\"Ville\",\"Jour365\"])\n",
    "meteoVJ.agg([\"mean\"])\n",
    "meteoVJ = meteoVJ.apply(lambda x: x) \n",
    "meteoVJ.head()"
   ]
  },
  {
   "cell_type": "code",
   "execution_count": null,
   "metadata": {
    "ExecuteTime": {
     "end_time": "2019-08-13T14:10:00.236034Z",
     "start_time": "2019-08-13T14:09:59.662568Z"
    }
   },
   "outputs": [],
   "source": [
    "tabCVJ = meteoVJ[meteoVJ.Jour365 != '0229'].pivot_table(index='Ville',columns='Jour365',values=\"Température\")\n",
    "tabCVJ"
   ]
  },
  {
   "cell_type": "code",
   "execution_count": null,
   "metadata": {},
   "outputs": [],
   "source": []
  },
  {
   "cell_type": "code",
   "execution_count": null,
   "metadata": {
    "ExecuteTime": {
     "end_time": "2019-08-13T14:10:00.261965Z",
     "start_time": "2019-08-13T14:10:00.237031Z"
    }
   },
   "outputs": [],
   "source": [
    "fifa2018 = pd.read_csv('C:\\\\Solutions\\\\donnees\\\\FIFA 2018 Statistics.csv')\n",
    "fifa2018.head()"
   ]
  },
  {
   "cell_type": "markdown",
   "metadata": {},
   "source": [
    "# lineplot"
   ]
  },
  {
   "cell_type": "code",
   "execution_count": null,
   "metadata": {
    "ExecuteTime": {
     "end_time": "2020-04-12T10:51:58.930788Z",
     "start_time": "2020-04-12T10:51:58.919843Z"
    }
   },
   "outputs": [],
   "source": [
    "cmaps = [('Perceptually Uniform Sequential', [\n",
    "            'viridis', 'plasma', 'inferno', 'magma', 'cividis']),\n",
    "         ('Sequential', [\n",
    "            'Greys', 'Purples', 'Blues', 'Greens', 'Oranges', 'Reds',\n",
    "            'YlOrBr', 'YlOrRd', 'OrRd', 'PuRd', 'RdPu', 'BuPu',\n",
    "            'GnBu', 'PuBu', 'YlGnBu', 'PuBuGn', 'BuGn', 'YlGn']),\n",
    "         ('Sequential (2)', [\n",
    "            'binary', 'gist_yarg', 'gist_gray', 'gray', 'bone', 'pink',\n",
    "            'spring', 'summer', 'autumn', 'winter', 'cool', 'Wistia',\n",
    "            'hot', 'afmhot', 'gist_heat', 'copper']),\n",
    "         ('Diverging', [\n",
    "            'PiYG', 'PRGn', 'BrBG', 'PuOr', 'RdGy', 'RdBu',\n",
    "            'RdYlBu', 'RdYlGn', 'Spectral', 'coolwarm', 'bwr', 'seismic']),\n",
    "         ('Cyclic', ['twilight', 'twilight_shifted', 'hsv']),\n",
    "         ('Qualitative', [\n",
    "            'Pastel1', 'Pastel2', 'Paired', 'Accent',\n",
    "            'Dark2', 'Set1', 'Set2', 'Set3',\n",
    "            'tab10', 'tab20', 'tab20b', 'tab20c']),\n",
    "         ('Miscellaneous', [\n",
    "            'flag', 'prism', 'ocean', 'gist_earth', 'terrain', 'gist_stern',\n",
    "            'gnuplot', 'gnuplot2', 'CMRmap', 'cubehelix', 'brg',\n",
    "            'gist_rainbow', 'rainbow', 'jet', 'nipy_spectral', 'gist_ncar'])]\n",
    "gradient = np.linspace(0, 1, 256)\n",
    "gradient = np.vstack((gradient, gradient))\n",
    "\n",
    "\n",
    "def plot_color_gradients(cmap_category, cmap_list):\n",
    "    # Create figure and adjust figure height to number of colormaps\n",
    "    nrows = len(cmap_list)\n",
    "    figh = 0.35 + 0.15 + (nrows + (nrows-1)*0.1)*0.22\n",
    "    fig, axes = plt.subplots(nrows=nrows, figsize=(6.4, figh))\n",
    "    fig.subplots_adjust(top=1-.35/figh, bottom=.15/figh, left=0.2, right=0.99)\n",
    "\n",
    "    axes[0].set_title(cmap_category + ' colormaps', fontsize=14)\n",
    "\n",
    "    for ax, name in zip(axes, cmap_list):\n",
    "        ax.imshow(gradient, aspect='auto', cmap=plt.get_cmap(name))\n",
    "        ax.text(-.01, .5, name, va='center', ha='right', fontsize=10,\n",
    "                transform=ax.transAxes)\n",
    "\n",
    "    # Turn off *all* ticks & spines, not just the ones with colormaps.\n",
    "    for ax in axes:\n",
    "        ax.set_axis_off()"
   ]
  },
  {
   "cell_type": "code",
   "execution_count": null,
   "metadata": {
    "ExecuteTime": {
     "end_time": "2019-08-13T14:10:07.096098Z",
     "start_time": "2019-08-13T14:10:00.275927Z"
    }
   },
   "outputs": [],
   "source": [
    "for cmap_category, cmap_list in cmaps:\n",
    "    plot_color_gradients(cmap_category, cmap_list)"
   ]
  },
  {
   "cell_type": "code",
   "execution_count": null,
   "metadata": {
    "ExecuteTime": {
     "end_time": "2019-08-13T14:10:07.101086Z",
     "start_time": "2019-08-13T14:10:07.097096Z"
    }
   },
   "outputs": [],
   "source": [
    "cmap = cm.get_cmap(\"Spectral\")\n",
    "colors = cmap(12 / 3)"
   ]
  },
  {
   "cell_type": "code",
   "execution_count": null,
   "metadata": {},
   "outputs": [],
   "source": [
    "#FC766AFF\n",
    "#5B84B1FF\n",
    "#5F4B8BFF\n",
    "#00203FFF\n",
    "#ADEFD1FF"
   ]
  },
  {
   "cell_type": "code",
   "execution_count": null,
   "metadata": {
    "ExecuteTime": {
     "end_time": "2020-04-02T14:33:02.294471Z",
     "start_time": "2020-04-02T14:33:02.219676Z"
    }
   },
   "outputs": [],
   "source": [
    "color_scale = np.array(['#053061','#2166ac','#4393c3','#92c5de','#d1e5f0','#fddbc7','#f4a582','#d6604d','#b2182b','#67001f'])\n",
    "sns.palplot(sns.color_palette(color_scale))"
   ]
  },
  {
   "cell_type": "code",
   "execution_count": null,
   "metadata": {
    "ExecuteTime": {
     "end_time": "2019-08-03T13:16:22.083106Z",
     "start_time": "2019-08-03T13:16:22.019979Z"
    }
   },
   "outputs": [],
   "source": [
    "flatui = [\"#34495e\", \"#e74c3c\", \"#2ecc71\", \"#9b59b6\", \"#3498db\", \"#95a5a6\"]\n",
    "sns.palplot(sns.color_palette(flatui))"
   ]
  },
  {
   "cell_type": "code",
   "execution_count": null,
   "metadata": {
    "ExecuteTime": {
     "end_time": "2020-04-12T10:54:42.751270Z",
     "start_time": "2020-04-12T10:54:42.705392Z"
    }
   },
   "outputs": [],
   "source": [
    "flatui = [\"#BA0005\",\"#2100B1\",\"#FFAA12\",\"#008827\"]\n",
    "sns.palplot(sns.color_palette(flatui))"
   ]
  },
  {
   "cell_type": "code",
   "execution_count": null,
   "metadata": {
    "ExecuteTime": {
     "end_time": "2020-04-12T11:46:09.047308Z",
     "start_time": "2020-04-12T11:46:09.003399Z"
    }
   },
   "outputs": [],
   "source": [
    "flatui = ['#b2182b','#008827','#053061','#ffa500']\n",
    "sns.palplot(sns.color_palette(flatui))"
   ]
  },
  {
   "cell_type": "code",
   "execution_count": null,
   "metadata": {
    "ExecuteTime": {
     "end_time": "2020-04-12T11:21:01.831037Z",
     "start_time": "2020-04-12T11:21:01.827047Z"
    }
   },
   "outputs": [],
   "source": [
    "import matplotlib as mpl \n",
    "mpl.colors.to_hex(sns.color_palette(['Green'])[0], keep_alpha=False)"
   ]
  },
  {
   "cell_type": "code",
   "execution_count": null,
   "metadata": {
    "ExecuteTime": {
     "end_time": "2020-04-12T11:14:30.758616Z",
     "start_time": "2020-04-12T11:14:30.754599Z"
    }
   },
   "outputs": [],
   "source": [
    ".to_hex(c, keep_alpha=False)"
   ]
  },
  {
   "cell_type": "code",
   "execution_count": null,
   "metadata": {
    "ExecuteTime": {
     "end_time": "2020-04-12T11:19:10.502667Z",
     "start_time": "2020-04-12T11:19:10.497680Z"
    }
   },
   "outputs": [],
   "source": [
    "\n",
    "\n",
    "\n"
   ]
  },
  {
   "cell_type": "code",
   "execution_count": null,
   "metadata": {
    "ExecuteTime": {
     "end_time": "2020-04-12T11:13:46.625590Z",
     "start_time": "2020-04-12T11:13:46.610599Z"
    }
   },
   "outputs": [],
   "source": [
    "cm.get_cmap(sns.color_palette(['Orange']))"
   ]
  },
  {
   "cell_type": "code",
   "execution_count": null,
   "metadata": {},
   "outputs": [],
   "source": []
  },
  {
   "cell_type": "code",
   "execution_count": null,
   "metadata": {
    "ExecuteTime": {
     "end_time": "2019-08-03T13:16:56.018150Z",
     "start_time": "2019-08-03T13:16:56.003190Z"
    }
   },
   "outputs": [],
   "source": [
    "temperatures.head()"
   ]
  },
  {
   "cell_type": "code",
   "execution_count": null,
   "metadata": {
    "ExecuteTime": {
     "end_time": "2019-08-03T13:33:49.593120Z",
     "start_time": "2019-08-03T13:33:48.963318Z"
    }
   },
   "outputs": [],
   "source": [
    "plt.figure(figsize=(24,24))\n",
    "flatui = [\"#34495e\", \"#e74c3c\", \"#2ecc71\", \"#9b59b6\"]\n",
    "ax = sns.lineplot(x=\"Ville\", \n",
    "             y=\"Amp\", \n",
    "             hue=\"Zone\",             \n",
    "             data=temperatures, \n",
    "             estimator=None, \n",
    "             lw=1, \n",
    "             ci=None, \n",
    "             palette= flatui);\n",
    "\n",
    "ax.set_xticklabels(temperatures.Ville,rotation=90);"
   ]
  },
  {
   "cell_type": "code",
   "execution_count": null,
   "metadata": {
    "ExecuteTime": {
     "end_time": "2019-08-03T13:37:02.628119Z",
     "start_time": "2019-08-03T13:37:01.965730Z"
    }
   },
   "outputs": [],
   "source": [
    "\n",
    "plt.figure(figsize=(24,24))\n",
    "flatui = [\"#34495e\", \"#e74c3c\", \"#2ecc71\", \"#9b59b6\"]\n",
    "ax = sns.lineplot(x=\"Ville\", \n",
    "             y=\"Amp\", \n",
    "             hue=\"Zone\",             \n",
    "             data=temperatures, \n",
    "             estimator=None, \n",
    "             lw=1, \n",
    "             ci=None, \n",
    "             palette= sns.hls_palette(4, l=.4, s=.9));\n",
    "\n",
    "ax.set_xticklabels(temperatures.Ville,rotation=90);"
   ]
  },
  {
   "cell_type": "code",
   "execution_count": null,
   "metadata": {
    "ExecuteTime": {
     "end_time": "2019-08-13T14:13:48.039296Z",
     "start_time": "2019-08-13T14:13:48.019349Z"
    }
   },
   "outputs": [],
   "source": [
    "tabCVJ.reset_index().head()"
   ]
  },
  {
   "cell_type": "code",
   "execution_count": null,
   "metadata": {
    "ExecuteTime": {
     "end_time": "2019-08-13T14:17:28.662618Z",
     "start_time": "2019-08-13T14:17:28.658629Z"
    }
   },
   "outputs": [],
   "source": []
  },
  {
   "cell_type": "code",
   "execution_count": null,
   "metadata": {
    "ExecuteTime": {
     "end_time": "2019-08-13T14:28:18.838266Z",
     "start_time": "2019-08-13T14:28:18.834249Z"
    }
   },
   "outputs": [],
   "source": [
    "tabCAM.columns = [str(x[0])[0] + str(x[1]) for x in tabCAM.columns]"
   ]
  },
  {
   "cell_type": "code",
   "execution_count": null,
   "metadata": {
    "ExecuteTime": {
     "end_time": "2019-08-13T14:34:07.078093Z",
     "start_time": "2019-08-13T14:34:07.074102Z"
    }
   },
   "outputs": [],
   "source": [
    "tabCAM.reset_index(inplace=True)\n",
    "tabCAM.rename(columns={'index':'Mois'},inplace=True)"
   ]
  },
  {
   "cell_type": "code",
   "execution_count": null,
   "metadata": {
    "ExecuteTime": {
     "end_time": "2019-08-13T14:34:00.734059Z",
     "start_time": "2019-08-13T14:34:00.729074Z"
    }
   },
   "outputs": [],
   "source": [
    "#tabCAM.drop(columns='Mois',inplace=True)"
   ]
  },
  {
   "cell_type": "code",
   "execution_count": null,
   "metadata": {
    "ExecuteTime": {
     "end_time": "2019-08-13T14:40:30.125739Z",
     "start_time": "2019-08-13T14:40:30.121749Z"
    }
   },
   "outputs": [],
   "source": [
    "tabCAM.columns"
   ]
  },
  {
   "cell_type": "code",
   "execution_count": null,
   "metadata": {
    "ExecuteTime": {
     "end_time": "2019-08-13T14:40:08.614824Z",
     "start_time": "2019-08-13T14:40:08.594877Z"
    }
   },
   "outputs": [],
   "source": [
    "tabCAM.filter(regex='(Mois|T)')"
   ]
  },
  {
   "cell_type": "markdown",
   "metadata": {
    "ExecuteTime": {
     "end_time": "2019-08-13T14:38:30.013327Z",
     "start_time": "2019-08-13T14:38:30.009309Z"
    }
   },
   "source": [
    "# Hygrométrie"
   ]
  },
  {
   "cell_type": "code",
   "execution_count": null,
   "metadata": {
    "ExecuteTime": {
     "end_time": "2019-08-13T14:37:50.329045Z",
     "start_time": "2019-08-13T14:37:49.768545Z"
    }
   },
   "outputs": [],
   "source": [
    "plt.figure(figsize=(24,12))\n",
    "ax = sns.lineplot(x=\"Mois\", \n",
    "             y='H1996', \n",
    "             data=tabCAM,\n",
    "             lw=2, \n",
    "             #palette= sns.husl_palette(calc_df['NouveauGroupe'].unique().size, h=0.3, l=.5, s=.9)\n",
    "            );\n",
    "for col in tabCAM.filter(regex='(H)').columns[1:]:\n",
    "    sns.lineplot(x=\"Mois\", \n",
    "                 y=col, \n",
    "                 data=tabCAM,\n",
    "                 lw=2,  \n",
    "                 ax=ax,     \n",
    "                 #palette= sns.husl_palette(calc_df['NouveauGroupe'].unique().size, h=0.3, l=.5, s=.9)\n",
    "                );\n",
    "#ax.set_xticklabels(tabCAM.Mois,rotation=0);\n",
    "plt.show()"
   ]
  },
  {
   "cell_type": "markdown",
   "metadata": {
    "ExecuteTime": {
     "end_time": "2019-08-13T14:38:30.013327Z",
     "start_time": "2019-08-13T14:38:30.009309Z"
    }
   },
   "source": [
    "# Pression"
   ]
  },
  {
   "cell_type": "code",
   "execution_count": null,
   "metadata": {
    "ExecuteTime": {
     "end_time": "2019-08-13T14:39:34.781882Z",
     "start_time": "2019-08-13T14:39:34.217393Z"
    }
   },
   "outputs": [],
   "source": [
    "plt.figure(figsize=(24,12))\n",
    "ax = sns.lineplot(x=\"Mois\", \n",
    "             y='P1996', \n",
    "             data=tabCAM,\n",
    "             lw=2, \n",
    "             #palette= sns.husl_palette(calc_df['NouveauGroupe'].unique().size, h=0.3, l=.5, s=.9)\n",
    "            );\n",
    "for col in tabCAM.filter(regex='(P)').columns[1:]:\n",
    "    sns.lineplot(x=\"Mois\", \n",
    "                 y=col, \n",
    "                 data=tabCAM,\n",
    "                 lw=2,  \n",
    "                 ax=ax,     \n",
    "                 #palette= sns.husl_palette(calc_df['NouveauGroupe'].unique().size, h=0.3, l=.5, s=.9)\n",
    "                );\n",
    "#ax.set_xticklabels(tabCAM.Mois,rotation=0);\n",
    "plt.show()"
   ]
  },
  {
   "cell_type": "markdown",
   "metadata": {
    "ExecuteTime": {
     "end_time": "2019-08-13T14:38:30.013327Z",
     "start_time": "2019-08-13T14:38:30.009309Z"
    }
   },
   "source": [
    "# Temperature"
   ]
  },
  {
   "cell_type": "code",
   "execution_count": null,
   "metadata": {
    "ExecuteTime": {
     "end_time": "2019-08-13T14:40:52.475511Z",
     "start_time": "2019-08-13T14:40:51.928854Z"
    }
   },
   "outputs": [],
   "source": [
    "plt.figure(figsize=(24,12))\n",
    "ax = sns.lineplot(x=\"Mois\", \n",
    "             y='T1996', \n",
    "             data=tabCAM,\n",
    "             lw=2, \n",
    "             #palette= sns.husl_palette(calc_df['NouveauGroupe'].unique().size, h=0.3, l=.5, s=.9)\n",
    "            );\n",
    "for col in tabCAM.filter(regex='(T)').columns[1:]:\n",
    "    sns.lineplot(x=\"Mois\", \n",
    "                 y=col, \n",
    "                 data=tabCAM,\n",
    "                 lw=2,  \n",
    "                 ax=ax,     \n",
    "                 #palette= sns.husl_palette(calc_df['NouveauGroupe'].unique().size, h=0.3, l=.5, s=.9)\n",
    "                );\n",
    "#ax.set_xticklabels(tabCAM.Mois,rotation=0);\n",
    "plt.show()"
   ]
  },
  {
   "cell_type": "code",
   "execution_count": null,
   "metadata": {
    "ExecuteTime": {
     "end_time": "2019-08-13T14:18:46.721992Z",
     "start_time": "2019-08-13T14:18:40.938873Z"
    }
   },
   "outputs": [],
   "source": [
    "plt.figure(figsize=(60,16))\n",
    "ax = sns.lineplot(x=\"Ville\", \n",
    "             y='0101', \n",
    "             data=tabCVJ.reset_index(),\n",
    "             estimator=None, \n",
    "             lw=2, \n",
    "             ci=None, \n",
    "             #palette= sns.husl_palette(calc_df['NouveauGroupe'].unique().size, h=0.3, l=.5, s=.9)\n",
    "            );\n",
    "for col in tabCVJ.columns[1:]:\n",
    "    sns.lineplot(x=\"Ville\", \n",
    "                 y=col, \n",
    "                 data=tabCVJ.reset_index(),\n",
    "                 estimator=None, \n",
    "                 lw=2, \n",
    "                 ci=None, \n",
    "                 ax=ax,     \n",
    "                 #palette= sns.husl_palette(calc_df['NouveauGroupe'].unique().size, h=0.3, l=.5, s=.9)\n",
    "                );\n",
    "    \n",
    "ax.set_xticklabels(tabCVJ.reset_index().Ville,rotation=90);\n",
    "ax.\n",
    "plt.show()"
   ]
  },
  {
   "cell_type": "code",
   "execution_count": null,
   "metadata": {
    "ExecuteTime": {
     "end_time": "2019-08-13T14:43:24.123758Z",
     "start_time": "2019-08-13T14:43:24.110793Z"
    }
   },
   "outputs": [],
   "source": [
    "iris.head()"
   ]
  },
  {
   "cell_type": "code",
   "execution_count": null,
   "metadata": {
    "ExecuteTime": {
     "end_time": "2019-08-13T14:44:08.606025Z",
     "start_time": "2019-08-13T14:44:08.601038Z"
    }
   },
   "outputs": [],
   "source": [
    "iris.columns"
   ]
  },
  {
   "cell_type": "code",
   "execution_count": null,
   "metadata": {
    "ExecuteTime": {
     "end_time": "2019-08-13T14:56:07.361092Z",
     "start_time": "2019-08-13T14:56:06.633067Z"
    }
   },
   "outputs": [],
   "source": [
    "plt.figure(figsize=(24,16))\n",
    "ax = sns.lineplot(x='longueur du sépale en cm', \n",
    "             y='largeur du sépale en cm',\n",
    "             hue='espèce',\n",
    "             data=iris,             \n",
    "             lw=2, \n",
    "             palette= sns.husl_palette(iris['espèce'].unique().size, h=0.01, l=.5, s=.9)\n",
    "            );\n",
    "\n",
    "plt.show()"
   ]
  },
  {
   "cell_type": "code",
   "execution_count": null,
   "metadata": {
    "ExecuteTime": {
     "end_time": "2019-08-13T14:58:51.698332Z",
     "start_time": "2019-08-13T14:58:50.669084Z"
    }
   },
   "outputs": [],
   "source": [
    "plt.figure(figsize=(24,8))\n",
    "sns.barplot(x='longueur du sépale en cm', \n",
    "               y='largeur du sépale en cm',\n",
    "               hue='espèce',\n",
    "               data=iris,\n",
    "               palette=sns.hls_palette(iris['espèce'].unique().size, l=.4, s=.9)\n",
    "              );\n",
    "plt.show() "
   ]
  },
  {
   "cell_type": "code",
   "execution_count": null,
   "metadata": {
    "ExecuteTime": {
     "end_time": "2019-08-13T14:58:27.933033Z",
     "start_time": "2019-08-13T14:58:26.873865Z"
    }
   },
   "outputs": [],
   "source": [
    "plt.figure(figsize=(24,8))\n",
    "sns.barplot(x='longueur du sépale en cm', \n",
    "               y='largeur du sépale en cm',\n",
    "               hue='espèce',\n",
    "               data=iris,\n",
    "               palette=sns.husl_palette(iris['espèce'].unique().size, h=0.01, l=.6, s=.9)#sns.hls_palette(calc_df['grpTest'].unique().size, l=.4, s=.9)\n",
    "              );\n",
    "plt.show()  "
   ]
  },
  {
   "cell_type": "code",
   "execution_count": null,
   "metadata": {},
   "outputs": [],
   "source": []
  },
  {
   "cell_type": "code",
   "execution_count": null,
   "metadata": {},
   "outputs": [],
   "source": []
  },
  {
   "cell_type": "code",
   "execution_count": null,
   "metadata": {
    "ExecuteTime": {
     "end_time": "2019-08-03T13:27:44.320377Z",
     "start_time": "2019-08-03T13:27:44.307411Z"
    }
   },
   "outputs": [],
   "source": [
    "glass.head()"
   ]
  },
  {
   "cell_type": "code",
   "execution_count": null,
   "metadata": {
    "ExecuteTime": {
     "end_time": "2019-08-03T13:28:06.263774Z",
     "start_time": "2019-08-03T13:28:06.258788Z"
    }
   },
   "outputs": [],
   "source": [
    "glass.Type.unique()"
   ]
  },
  {
   "cell_type": "code",
   "execution_count": null,
   "metadata": {
    "ExecuteTime": {
     "end_time": "2019-08-03T13:29:23.317297Z",
     "start_time": "2019-08-03T13:29:22.939546Z"
    }
   },
   "outputs": [],
   "source": [
    "plt.figure(figsize=(24,12))\n",
    "flatui = [\"#34495e\", \"#e74c3c\", \"#2ecc71\", \"#9b59b6\", \"#3498db\", \"#95a5a6\"]\n",
    "ax = sns.lineplot(x=\"RI\", \n",
    "             y=\"Al\", \n",
    "             hue=\"Type\",             \n",
    "             data=glass, \n",
    "             estimator=None, \n",
    "             lw=1, \n",
    "             ci=None, \n",
    "             palette= flatui);"
   ]
  },
  {
   "cell_type": "code",
   "execution_count": null,
   "metadata": {},
   "outputs": [],
   "source": []
  },
  {
   "cell_type": "markdown",
   "metadata": {},
   "source": [
    "# *lmplot*"
   ]
  },
  {
   "cell_type": "code",
   "execution_count": null,
   "metadata": {
    "ExecuteTime": {
     "end_time": "2019-08-03T13:24:41.038748Z",
     "start_time": "2019-08-03T13:24:40.076851Z"
    }
   },
   "outputs": [],
   "source": [
    "import matplotlib.font_manager as fm\n",
    "font1 = fm.FontProperties(size=20)\n",
    "font2 = fm.FontProperties(size=24)\n",
    "sns.set(font_scale=3)\n",
    "ax = sns.lmplot(x='Janv',y='Juil', hue='Zone', \n",
    "                data=temperatures, \n",
    "                fit_reg=False, \n",
    "                size = 24, \n",
    "                aspect =2, \n",
    "                palette= flatui,\n",
    "                scatter_kws={'s':600}) ;\n",
    "\n",
    "ax.set_xticklabels(rotation=30);\n",
    "\n",
    "font1 = fm.FontProperties(size=40)\n",
    "font2 = fm.FontProperties(size=60)\n",
    "\n",
    "plt.title('Example ACP', fontproperties=font2)\n",
    "plt.xlabel('Janvier', fontproperties=font1)\n",
    "plt.ylabel('Juillet', fontproperties=font1)\n",
    "\n",
    "\n",
    "def label_point(x, y, val, ax):\n",
    "    a = pd.concat({'x': x, 'y': y, 'val': val}, axis=1)\n",
    "    for i, point in a.iterrows():\n",
    "        ax.text(point['x']+.02, point['y']+.02, str(point['val']), fontproperties=font1, rotation=0);\n",
    "\n",
    "label_point(temperatures.Janv, temperatures.Juil, temperatures.Ville, plt.gca());\n",
    "sns.set(font_scale=2)"
   ]
  },
  {
   "cell_type": "code",
   "execution_count": null,
   "metadata": {},
   "outputs": [],
   "source": []
  },
  {
   "cell_type": "code",
   "execution_count": null,
   "metadata": {},
   "outputs": [],
   "source": []
  },
  {
   "cell_type": "code",
   "execution_count": null,
   "metadata": {},
   "outputs": [],
   "source": [
    "house.head()"
   ]
  },
  {
   "cell_type": "code",
   "execution_count": null,
   "metadata": {},
   "outputs": [],
   "source": [
    "sns.lmplot(x='total_rooms',y='population',data=house,size=18)"
   ]
  },
  {
   "cell_type": "code",
   "execution_count": null,
   "metadata": {},
   "outputs": [],
   "source": [
    "sns.lmplot(x='total_rooms',y='population',data=house,size=18, hue='ocean_proximity')"
   ]
  },
  {
   "cell_type": "markdown",
   "metadata": {},
   "source": [
    "https://matplotlib.org/api/markers_api.html"
   ]
  },
  {
   "cell_type": "code",
   "execution_count": null,
   "metadata": {},
   "outputs": [],
   "source": [
    "sns.lmplot(x='total_rooms',y='population',data=house,size=18, \n",
    "           hue='ocean_proximity', markers=[\"o\",\"v\",\"s\",\"p\",\"*\"])"
   ]
  },
  {
   "cell_type": "code",
   "execution_count": null,
   "metadata": {},
   "outputs": [],
   "source": [
    "sns.lmplot(x='total_rooms',y='population',data=house,size=18, \n",
    "           hue='ocean_proximity', markers=[\"o\",\"v\",\"s\",\"p\",\"*\"], \n",
    "           scatter_kws={'s':200})"
   ]
  },
  {
   "cell_type": "code",
   "execution_count": null,
   "metadata": {},
   "outputs": [],
   "source": [
    "sns.lmplot(x='total_rooms',y='population',data=house,size=18, \n",
    "           col='ocean_proximity')"
   ]
  },
  {
   "cell_type": "code",
   "execution_count": null,
   "metadata": {},
   "outputs": [],
   "source": [
    "sns.lmplot(x='total_rooms',y='population',data=house,size=18, \n",
    "           row='ocean_proximity')"
   ]
  },
  {
   "cell_type": "code",
   "execution_count": null,
   "metadata": {},
   "outputs": [],
   "source": [
    "sns.lmplot(x='total_rooms',y='population',data=house,size=18, \n",
    "           hue='ocean_proximity', aspect=1)"
   ]
  },
  {
   "cell_type": "code",
   "execution_count": null,
   "metadata": {},
   "outputs": [],
   "source": [
    "housePrice.head()"
   ]
  },
  {
   "cell_type": "code",
   "execution_count": null,
   "metadata": {},
   "outputs": [],
   "source": [
    "sns.lmplot(x='LotArea',y='SalePrice',data=housePrice,size=18, \n",
    "           hue='SaleCondition', aspect=1)"
   ]
  },
  {
   "cell_type": "code",
   "execution_count": null,
   "metadata": {},
   "outputs": [],
   "source": []
  },
  {
   "cell_type": "code",
   "execution_count": null,
   "metadata": {},
   "outputs": [],
   "source": [
    "fifa2018.head()"
   ]
  },
  {
   "cell_type": "code",
   "execution_count": null,
   "metadata": {},
   "outputs": [],
   "source": [
    "sns.lmplot(x='Ball Possession %',y='Attempts',data=fifa2018,size=18)"
   ]
  },
  {
   "cell_type": "markdown",
   "metadata": {},
   "source": [
    "matplotlib.markers\n",
    "\n",
    "       - \".\"                 point\n",
    "       - \",\"                 pixel\n",
    "       - \"o\"                 circle\n",
    "       - \"v\"                 triangle_down\n",
    "       - \"^\"                 triangle_up\n",
    "       - \"<\"                 triangle_left\n",
    "       - \">\"                 triangle_right\n",
    "       - \"1\"                 tri_down\n",
    "       - \"2\"                 tri_up\n",
    "       - \"3\"                 tri_left\n",
    "       - \"4\"                 tri_right\n",
    "       - \"8\"                 octagon\n",
    "       - \"s\"                 square\n",
    "       - \"p\"                 pentagon\n",
    "       - \"P\"                 plus (filled)\n",
    "       - \"*\"                 star\n",
    "       - \"h\"                 hexagon1\n",
    "       - \"H\"                 hexagon2\n",
    "       - \"+\"                 plus\n",
    "       - \"x\"                 x\n",
    "       - \"X\"                 x (filled)\n",
    "       - \"D\"                 diamond\n",
    "       - \"d\"                 thin_diamond\n",
    "       - \"|\"                 vline\n",
    "       - \"_\"                 hline\n",
    "       - 0 (TICKLEFT)        tickleft\n",
    "       - 1 (TICKRIGHT)       tickright\n",
    "       - 2 (TICKUP)          tickup\n",
    "       - 3 (TICKDOWN)        tickdown\n",
    "       - 4 (CARETLEFT)       caretleft\n",
    "       - 5 (CARETRIGHT)      caretright\n",
    "       - 6 (CARETUP)         caretup\n",
    "       - 7 (CARETDOWN)       caretdown\n",
    "       - 8 (CARETLEFTBASE)   caretleft (centered at base)\n",
    "       - 9 (CARETRIGHTBASE)  caretright (centered at base)\n",
    "       - 1 (CARETUPBASE)     caretup (centered at base)\n",
    "       - 1 (CARETDOWNBASE)   caretdown (centered at base)"
   ]
  },
  {
   "cell_type": "code",
   "execution_count": null,
   "metadata": {},
   "outputs": [],
   "source": [
    "sns.lmplot(x='Ball Possession %',y='Attempts',data=fifa2018,size=18,hue='PSO', markers=[\"o\",\"s\"], \n",
    "           scatter_kws={'s':200})"
   ]
  },
  {
   "cell_type": "code",
   "execution_count": null,
   "metadata": {},
   "outputs": [],
   "source": [
    "sns.lmplot(x='Ball Possession %',y='Attempts',data=fifa2018,\n",
    "           hue='Round',size=18,markers=[\"o\",\"v\",\"s\",\"p\",\"*\",\"^\"], \n",
    "           scatter_kws={'s':200})"
   ]
  },
  {
   "cell_type": "code",
   "execution_count": null,
   "metadata": {},
   "outputs": [],
   "source": [
    "sns.lmplot(x='Ball Possession %',y='Attempts',data=fifa2018,\n",
    "           row='Round',hue='PSO',size=18,scatter_kws={'s':200})"
   ]
  },
  {
   "cell_type": "markdown",
   "metadata": {},
   "source": [
    "# *grids*"
   ]
  },
  {
   "cell_type": "code",
   "execution_count": null,
   "metadata": {},
   "outputs": [],
   "source": [
    "iris.head()"
   ]
  },
  {
   "cell_type": "code",
   "execution_count": null,
   "metadata": {},
   "outputs": [],
   "source": [
    "iris.espèce.unique()"
   ]
  },
  {
   "cell_type": "code",
   "execution_count": null,
   "metadata": {},
   "outputs": [],
   "source": [
    "sns.set(font_scale=1.5)\n",
    "sns.pairplot(iris, hue='espèce', size=5);"
   ]
  },
  {
   "cell_type": "code",
   "execution_count": null,
   "metadata": {},
   "outputs": [],
   "source": [
    "sns.pairplot(iris, hue='espèce', size=5,palette='coolwarm');"
   ]
  },
  {
   "cell_type": "code",
   "execution_count": null,
   "metadata": {},
   "outputs": [],
   "source": [
    "g = sns.PairGrid(iris,hue='espèce',size=5,aspect=1)\n",
    "g.map(plt.scatter)\n",
    "g.add_legend();"
   ]
  },
  {
   "cell_type": "code",
   "execution_count": null,
   "metadata": {},
   "outputs": [],
   "source": [
    "g = sns.PairGrid(iris, hue='espèce',size=5,aspect=1);\n",
    "g.map_diag(sns.distplot)\n",
    "g.map_upper(plt.scatter)\n",
    "g.map_lower(sns.kdeplot)\n",
    "g.add_legend();"
   ]
  },
  {
   "cell_type": "code",
   "execution_count": null,
   "metadata": {},
   "outputs": [],
   "source": [
    "def plotM(x, y, **kwargs):\n",
    "    plt.plot(x, y,marker='o',markersize=14,linestyle='None', **kwargs)\n",
    "\n",
    "g = sns.PairGrid(iris, hue='espèce',size=5,aspect=1);\n",
    "g.map_diag(sns.distplot)\n",
    "g.map_upper(plt.scatter)\n",
    "g.map_lower(plotM)\n",
    "g.add_legend();"
   ]
  },
  {
   "cell_type": "code",
   "execution_count": null,
   "metadata": {},
   "outputs": [],
   "source": [
    "def plotM(x, y, **kwargs):\n",
    "    plt.plot(x, y,marker='o',markersize=14, **kwargs)\n",
    "\n",
    "g = sns.PairGrid(iris, hue='espèce',size=5,aspect=1);\n",
    "g.map_diag(sns.distplot)\n",
    "g.map_upper(plt.scatter)\n",
    "g.map_lower(plotM)\n",
    "g.add_legend();"
   ]
  },
  {
   "cell_type": "code",
   "execution_count": null,
   "metadata": {},
   "outputs": [],
   "source": [
    "tips = pd.read_csv('donnees/seaborn-data/tips.csv')\n",
    "tips.head()"
   ]
  },
  {
   "cell_type": "code",
   "execution_count": null,
   "metadata": {},
   "outputs": [],
   "source": [
    "pd.crosstab(tips.time,tips.smoker)"
   ]
  },
  {
   "cell_type": "code",
   "execution_count": null,
   "metadata": {},
   "outputs": [],
   "source": [
    "g = sns.FacetGrid(data=tips,col='time',row='smoker',size=5,aspect=1)\n",
    "g.map(sns.distplot,'total_bill')"
   ]
  },
  {
   "cell_type": "code",
   "execution_count": null,
   "metadata": {},
   "outputs": [],
   "source": [
    "fifa2018.head()"
   ]
  },
  {
   "cell_type": "code",
   "execution_count": null,
   "metadata": {},
   "outputs": [],
   "source": [
    "pd.crosstab(fifa2018.Round,fifa2018.PSO)"
   ]
  },
  {
   "cell_type": "code",
   "execution_count": null,
   "metadata": {},
   "outputs": [],
   "source": [
    "g = sns.FacetGrid(data=fifa2018,col='Round',row='PSO',size=5,aspect=1)\n",
    "g.map(sns.distplot,'Ball Possession %')"
   ]
  },
  {
   "cell_type": "code",
   "execution_count": null,
   "metadata": {},
   "outputs": [],
   "source": [
    "g = sns.FacetGrid(data=fifa2018,col='Round',row='PSO',size=5,aspect=1)\n",
    "g.map(sns.distplot,'Pass Accuracy %')"
   ]
  },
  {
   "cell_type": "code",
   "execution_count": null,
   "metadata": {},
   "outputs": [],
   "source": [
    "snsTitanic = pd.read_csv('donnees/seaborn-data/titanic.csv')\n",
    "snsTitanic.head()"
   ]
  },
  {
   "cell_type": "code",
   "execution_count": null,
   "metadata": {},
   "outputs": [],
   "source": [
    "pd.crosstab(snsTitanic.sex,snsTitanic.embark_town)"
   ]
  },
  {
   "cell_type": "code",
   "execution_count": null,
   "metadata": {},
   "outputs": [],
   "source": [
    "g = sns.FacetGrid(data=snsTitanic,col='sex',row='alive', hue='class',size=5,aspect=1)\n",
    "g.map(sns.distplot,'age')\n",
    "g.add_legend();"
   ]
  },
  {
   "cell_type": "code",
   "execution_count": null,
   "metadata": {},
   "outputs": [],
   "source": [
    "g = sns.FacetGrid(data=snsTitanic,col='sex',row='alive',size=5,aspect=1)\n",
    "g.map(sns.boxplot,'age')"
   ]
  },
  {
   "cell_type": "code",
   "execution_count": null,
   "metadata": {},
   "outputs": [],
   "source": [
    "g = sns.FacetGrid(data=snsTitanic,col='sex',row='class',size=5,aspect=1)\n",
    "g.map(sns.boxplot,'age')"
   ]
  },
  {
   "cell_type": "code",
   "execution_count": null,
   "metadata": {},
   "outputs": [],
   "source": [
    "g = sns.FacetGrid(data=snsTitanic,col='sex',row='embark_town', hue='class',size=5,aspect=1)\n",
    "g.map(sns.distplot,'age')\n",
    "g.add_legend();"
   ]
  },
  {
   "cell_type": "code",
   "execution_count": null,
   "metadata": {
    "scrolled": true
   },
   "outputs": [],
   "source": [
    "ordered_days = tips.day.value_counts().index\n",
    "g = sns.FacetGrid(tips, row=\"day\", row_order=ordered_days,  size=18)\n",
    "g.map(sns.distplot, \"total_bill\", hist=False, rug=True);"
   ]
  },
  {
   "cell_type": "code",
   "execution_count": null,
   "metadata": {},
   "outputs": [],
   "source": [
    "pal = dict(Lunch=\"seagreen\", Dinner=\"gray\")\n",
    "g = sns.FacetGrid(tips, hue=\"time\", size=18)\n",
    "g.map(plt.scatter, \"total_bill\", \"tip\", s=120, alpha=.8, linewidth=.5, edgecolor=\"white\")\n",
    "g.add_legend();"
   ]
  },
  {
   "cell_type": "code",
   "execution_count": null,
   "metadata": {},
   "outputs": [],
   "source": [
    "g = sns.FacetGrid(tips, col=\"smoker\", margin_titles=True, size=16)\n",
    "g.map(plt.scatter, \"total_bill\", \"tip\", color=\"#338844\", edgecolor=\"white\", s=150, lw=1)\n",
    "for ax in g.axes.flat:\n",
    "    ax.plot((0, 50), (0, .2 * 50), c=\".2\", ls=\"--\")\n",
    "g.set(xlim=(0, 60), ylim=(0, 14));"
   ]
  },
  {
   "cell_type": "code",
   "execution_count": null,
   "metadata": {},
   "outputs": [],
   "source": []
  },
  {
   "cell_type": "code",
   "execution_count": null,
   "metadata": {},
   "outputs": [],
   "source": [
    "anscombe = pd.read_csv('donnees/seaborn-data/anscombe.csv')\n",
    "anscombe.head()"
   ]
  },
  {
   "cell_type": "code",
   "execution_count": null,
   "metadata": {},
   "outputs": [],
   "source": [
    "sns.lmplot(x=\"x\", y=\"y\", data=anscombe.query(\"dataset == 'I'\"),\n",
    "           ci=None, size=18,markers=[\"o\"],scatter_kws={\"s\": 150});"
   ]
  },
  {
   "cell_type": "code",
   "execution_count": null,
   "metadata": {},
   "outputs": [],
   "source": [
    "sns.lmplot(x=\"x\", y=\"y\", data=anscombe.query(\"dataset == 'II'\"),\n",
    "           ci=None, size=18,markers=[\"o\"],scatter_kws={\"s\": 150});"
   ]
  },
  {
   "cell_type": "code",
   "execution_count": null,
   "metadata": {},
   "outputs": [],
   "source": [
    "sns.lmplot(x=\"x\", y=\"y\", data=anscombe.query(\"dataset == 'II'\"),\n",
    "           ci=None, size=18,markers=[\"o\"],scatter_kws={\"s\": 150});"
   ]
  },
  {
   "cell_type": "code",
   "execution_count": null,
   "metadata": {},
   "outputs": [],
   "source": [
    "sns.lmplot(x=\"x\", y=\"y\", data=anscombe.query(\"dataset == 'II'\"),order=2,\n",
    "           ci=None, size=18,markers=[\"o\"],scatter_kws={\"s\": 150});"
   ]
  },
  {
   "cell_type": "code",
   "execution_count": null,
   "metadata": {},
   "outputs": [],
   "source": [
    "sns.lmplot(x=\"x\", y=\"y\", data=anscombe.query(\"dataset == 'III'\"),\n",
    "           ci=None, size=18,markers=[\"o\"],scatter_kws={\"s\": 150});"
   ]
  },
  {
   "cell_type": "code",
   "execution_count": null,
   "metadata": {},
   "outputs": [],
   "source": [
    "sns.lmplot(x=\"x\", y=\"y\", data=anscombe.query(\"dataset == 'III'\"),robust=True,\n",
    "           ci=None, size=18,markers=[\"o\"],scatter_kws={\"s\": 150});"
   ]
  },
  {
   "cell_type": "code",
   "execution_count": null,
   "metadata": {},
   "outputs": [],
   "source": [
    "f, ax = plt.subplots(figsize=(18, 9))\n",
    "sns.countplot(y=\"deck\", data=snsTitanic, color=\"c\");"
   ]
  },
  {
   "cell_type": "code",
   "execution_count": null,
   "metadata": {},
   "outputs": [],
   "source": []
  },
  {
   "cell_type": "code",
   "execution_count": null,
   "metadata": {},
   "outputs": [],
   "source": [
    "sns.set(style=\"white\", color_codes=True)\n",
    "\n",
    "# Generate a random bivariate dataset\n",
    "rs = np.random.RandomState(9)\n",
    "mean = [0, 0]\n",
    "cov = [(1, 0), (0, 2)]\n",
    "x, y = rs.multivariate_normal(mean, cov, 100).T\n",
    "\n",
    "# Use JointGrid directly to draw a custom plot\n",
    "grid = sns.JointGrid(x, y, space=0, size=10, ratio=50)\n",
    "grid.plot_joint(plt.scatter, color=\"g\")\n",
    "grid.plot_marginals(sns.rugplot, height=1, color=\"g\")"
   ]
  },
  {
   "cell_type": "code",
   "execution_count": null,
   "metadata": {},
   "outputs": [],
   "source": []
  },
  {
   "cell_type": "code",
   "execution_count": null,
   "metadata": {},
   "outputs": [],
   "source": []
  },
  {
   "cell_type": "code",
   "execution_count": null,
   "metadata": {},
   "outputs": [],
   "source": []
  },
  {
   "cell_type": "code",
   "execution_count": null,
   "metadata": {},
   "outputs": [],
   "source": []
  },
  {
   "cell_type": "code",
   "execution_count": null,
   "metadata": {},
   "outputs": [],
   "source": []
  },
  {
   "cell_type": "code",
   "execution_count": null,
   "metadata": {},
   "outputs": [],
   "source": []
  },
  {
   "cell_type": "code",
   "execution_count": null,
   "metadata": {},
   "outputs": [],
   "source": []
  },
  {
   "cell_type": "code",
   "execution_count": null,
   "metadata": {},
   "outputs": [],
   "source": []
  },
  {
   "cell_type": "code",
   "execution_count": null,
   "metadata": {},
   "outputs": [],
   "source": []
  },
  {
   "cell_type": "code",
   "execution_count": null,
   "metadata": {},
   "outputs": [],
   "source": []
  },
  {
   "cell_type": "code",
   "execution_count": null,
   "metadata": {},
   "outputs": [],
   "source": []
  },
  {
   "cell_type": "code",
   "execution_count": null,
   "metadata": {},
   "outputs": [],
   "source": []
  },
  {
   "cell_type": "code",
   "execution_count": null,
   "metadata": {},
   "outputs": [],
   "source": []
  },
  {
   "cell_type": "code",
   "execution_count": null,
   "metadata": {},
   "outputs": [],
   "source": []
  },
  {
   "cell_type": "code",
   "execution_count": null,
   "metadata": {},
   "outputs": [],
   "source": []
  },
  {
   "cell_type": "code",
   "execution_count": null,
   "metadata": {},
   "outputs": [],
   "source": []
  },
  {
   "cell_type": "code",
   "execution_count": null,
   "metadata": {},
   "outputs": [],
   "source": []
  }
 ],
 "metadata": {
  "kernelspec": {
   "display_name": "Python 3 (ipykernel)",
   "language": "python",
   "name": "python3"
  },
  "language_info": {
   "codemirror_mode": {
    "name": "ipython",
    "version": 3
   },
   "file_extension": ".py",
   "mimetype": "text/x-python",
   "name": "python",
   "nbconvert_exporter": "python",
   "pygments_lexer": "ipython3",
   "version": "3.10.15"
  }
 },
 "nbformat": 4,
 "nbformat_minor": 4
}
