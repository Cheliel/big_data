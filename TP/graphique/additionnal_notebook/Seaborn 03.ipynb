{
 "cells": [
  {
   "cell_type": "markdown",
   "metadata": {},
   "source": [
    "https://seaborn.pydata.org/#"
   ]
  },
  {
   "cell_type": "code",
   "execution_count": null,
   "metadata": {
    "ExecuteTime": {
     "end_time": "2020-05-29T10:04:52.076608Z",
     "start_time": "2020-05-29T10:04:52.068629Z"
    }
   },
   "outputs": [],
   "source": [
    "import numpy as np               \n",
    "import pandas as pd              \n",
    "import seaborn as sns            \n",
    "import os\n",
    "import warnings\n",
    "os.chdir(r\"C:\\Solutions\")\n",
    "\n",
    "%pylab inline\n",
    "\n",
    "plt.style.use('seaborn-darkgrid')\n",
    "warnings.filterwarnings(action=\"ignore\")\n",
    "sns.set(font_scale=2)"
   ]
  },
  {
   "cell_type": "code",
   "execution_count": null,
   "metadata": {
    "ExecuteTime": {
     "end_time": "2020-05-29T09:57:23.070922Z",
     "start_time": "2020-05-29T09:57:23.030030Z"
    }
   },
   "outputs": [],
   "source": [
    "house = pd.read_csv('donnees/housing.csv')\n",
    "house.head()"
   ]
  },
  {
   "cell_type": "code",
   "execution_count": null,
   "metadata": {
    "ExecuteTime": {
     "end_time": "2020-05-29T09:57:23.835849Z",
     "start_time": "2020-05-29T09:57:23.821913Z"
    }
   },
   "outputs": [],
   "source": [
    "house.corr()"
   ]
  },
  {
   "cell_type": "code",
   "execution_count": null,
   "metadata": {
    "ExecuteTime": {
     "end_time": "2020-05-29T10:13:31.112642Z",
     "start_time": "2020-05-29T10:13:30.542109Z"
    }
   },
   "outputs": [],
   "source": [
    "plt.figure(figsize=(24,24))\n",
    "plt.title('Correlation Pearson des variables', y=1.05, size=32)\n",
    "sns.heatmap(house.corr(),linewidths=0.3,vmax=1.0, fmt= '.2f', \n",
    "            square=True, cmap='coolwarm', linecolor='white', annot=True);"
   ]
  },
  {
   "cell_type": "code",
   "execution_count": null,
   "metadata": {
    "ExecuteTime": {
     "end_time": "2020-05-29T09:57:46.057480Z",
     "start_time": "2020-05-29T09:57:46.053461Z"
    }
   },
   "outputs": [],
   "source": [
    "house.shape"
   ]
  },
  {
   "cell_type": "code",
   "execution_count": null,
   "metadata": {
    "ExecuteTime": {
     "end_time": "2020-05-29T09:57:46.804089Z",
     "start_time": "2020-05-29T09:57:46.789129Z"
    }
   },
   "outputs": [],
   "source": [
    "pd.crosstab(house.ocean_proximity,1)"
   ]
  },
  {
   "cell_type": "code",
   "execution_count": null,
   "metadata": {
    "ExecuteTime": {
     "end_time": "2020-05-29T09:57:47.517222Z",
     "start_time": "2020-05-29T09:57:47.509243Z"
    }
   },
   "outputs": [],
   "source": [
    "house.total_bedrooms[np.isnan(house['total_bedrooms'])] =  0\n",
    "print(house['total_bedrooms'].shape)    \n",
    "np.isnan( house['total_bedrooms']).sum()"
   ]
  },
  {
   "cell_type": "code",
   "execution_count": null,
   "metadata": {
    "ExecuteTime": {
     "end_time": "2020-05-29T09:57:48.385911Z",
     "start_time": "2020-05-29T09:57:48.372918Z"
    }
   },
   "outputs": [],
   "source": [
    "glass = pd.read_csv('donnees/glass.csv')\n",
    "glass = glass.iloc[:,1:]\n",
    "glass.head()"
   ]
  },
  {
   "cell_type": "code",
   "execution_count": null,
   "metadata": {
    "ExecuteTime": {
     "end_time": "2020-05-29T09:57:51.253719Z",
     "start_time": "2020-05-29T09:57:51.236764Z"
    }
   },
   "outputs": [],
   "source": [
    "titanic = pd.read_csv('donnees/titanic.format.csv')\n",
    "titanic.head()"
   ]
  },
  {
   "cell_type": "code",
   "execution_count": null,
   "metadata": {
    "ExecuteTime": {
     "end_time": "2020-05-29T09:57:51.877053Z",
     "start_time": "2020-05-29T09:57:51.853116Z"
    }
   },
   "outputs": [],
   "source": [
    "mushrooms = pd.read_csv('donnees/mushroomsD.csv')\n",
    "mushrooms.head()"
   ]
  },
  {
   "cell_type": "code",
   "execution_count": null,
   "metadata": {
    "ExecuteTime": {
     "end_time": "2020-05-29T09:57:52.653516Z",
     "start_time": "2020-05-29T09:57:52.629040Z"
    }
   },
   "outputs": [],
   "source": [
    "breastCancer = pd.read_csv('donnees/breastCancer.csv')\n",
    "breastCancer = breastCancer.iloc[:,2:]\n",
    "breastCancer.head()"
   ]
  },
  {
   "cell_type": "code",
   "execution_count": null,
   "metadata": {
    "ExecuteTime": {
     "end_time": "2020-05-29T09:57:55.481853Z",
     "start_time": "2020-05-29T09:57:55.445396Z"
    }
   },
   "outputs": [],
   "source": [
    "housePrice = pd.read_csv('donnees/House Prices.csv')\n",
    "housePrice = housePrice.iloc[:,1:]\n",
    "housePrice.head()"
   ]
  },
  {
   "cell_type": "code",
   "execution_count": null,
   "metadata": {
    "ExecuteTime": {
     "end_time": "2020-05-29T09:57:56.126617Z",
     "start_time": "2020-05-29T09:57:56.109681Z"
    }
   },
   "outputs": [],
   "source": [
    "temperatures=pd.read_csv('donnees/temperatures.csv')\n",
    "temperatures.head()"
   ]
  },
  {
   "cell_type": "markdown",
   "metadata": {},
   "source": [
    "# *heatmap*"
   ]
  },
  {
   "cell_type": "code",
   "execution_count": null,
   "metadata": {
    "ExecuteTime": {
     "end_time": "2020-05-29T09:57:58.586336Z",
     "start_time": "2020-05-29T09:57:58.573371Z"
    }
   },
   "outputs": [],
   "source": [
    "tc = glass.corr()\n",
    "tc"
   ]
  },
  {
   "cell_type": "code",
   "execution_count": null,
   "metadata": {
    "ExecuteTime": {
     "end_time": "2020-05-29T10:13:49.734451Z",
     "start_time": "2020-05-29T10:13:49.252768Z"
    }
   },
   "outputs": [],
   "source": [
    "plt.figure(figsize=(18,18))\n",
    "plt.title('Correlation Pearson des variables', y=1.05, size=18)\n",
    "sns.heatmap(tc,linewidths=0.3,vmax=1.0, fmt= '.2f', \n",
    "            square=True, cmap='coolwarm', linecolor='white', annot=True)"
   ]
  },
  {
   "cell_type": "code",
   "execution_count": null,
   "metadata": {
    "ExecuteTime": {
     "end_time": "2020-05-29T10:15:25.764451Z",
     "start_time": "2020-05-29T10:15:22.228225Z"
    }
   },
   "outputs": [],
   "source": [
    "colormap = plt.cm.RdBu\n",
    "plt.figure(figsize=(56,56))\n",
    "sns.set(font_scale=3)\n",
    "plt.title('Correlation Pearson des variables', y=1.05, size=36)\n",
    "sns.heatmap(breastCancer.iloc[:,1:].astype(float).corr(),linewidths=0.3,vmax=1.0, fmt= '.2f', \n",
    "            square=True, cmap=colormap, linecolor='white', annot=True);\n",
    "sns.set(font_scale=2)"
   ]
  },
  {
   "cell_type": "code",
   "execution_count": null,
   "metadata": {
    "ExecuteTime": {
     "end_time": "2020-05-29T09:58:36.400615Z",
     "start_time": "2020-05-29T09:58:36.381636Z"
    }
   },
   "outputs": [],
   "source": [
    "housePrice.head()"
   ]
  },
  {
   "cell_type": "code",
   "execution_count": null,
   "metadata": {
    "ExecuteTime": {
     "end_time": "2020-05-29T10:15:41.520463Z",
     "start_time": "2020-05-29T10:15:41.508495Z"
    }
   },
   "outputs": [],
   "source": [
    "fp = housePrice.pivot_table(index='MoSold',columns='YrSold',values='SalePrice')"
   ]
  },
  {
   "cell_type": "code",
   "execution_count": null,
   "metadata": {
    "ExecuteTime": {
     "end_time": "2020-05-29T10:15:42.541199Z",
     "start_time": "2020-05-29T10:15:42.284884Z"
    }
   },
   "outputs": [],
   "source": [
    "plt.figure(figsize=(18,18))\n",
    "sns.heatmap(fp)"
   ]
  },
  {
   "cell_type": "code",
   "execution_count": null,
   "metadata": {
    "ExecuteTime": {
     "end_time": "2020-05-29T10:16:33.287063Z",
     "start_time": "2020-05-29T10:16:32.780799Z"
    }
   },
   "outputs": [],
   "source": [
    "plt.figure(figsize=(18,18))\n",
    "sns.heatmap(fp,cmap='magma',linewidths=2,linecolor='white', annot=True, fmt= '.0f');"
   ]
  },
  {
   "cell_type": "code",
   "execution_count": null,
   "metadata": {
    "ExecuteTime": {
     "end_time": "2020-05-29T09:58:48.178841Z",
     "start_time": "2020-05-29T09:58:48.164878Z"
    }
   },
   "outputs": [],
   "source": [
    "temp = temperatures.iloc[:,1:13]\n",
    "temp.index = temperatures.iloc[:,0]\n",
    "temp.head()"
   ]
  },
  {
   "cell_type": "code",
   "execution_count": null,
   "metadata": {
    "ExecuteTime": {
     "end_time": "2020-05-29T10:17:11.506154Z",
     "start_time": "2020-05-29T10:17:09.860650Z"
    }
   },
   "outputs": [],
   "source": [
    "plt.figure(figsize=(36,36))\n",
    "sns.heatmap(temp,cmap='magma',linewidths=2,linecolor='white', annot=True, fmt= '.0f');"
   ]
  },
  {
   "cell_type": "markdown",
   "metadata": {},
   "source": [
    "# *clustermap*"
   ]
  },
  {
   "cell_type": "code",
   "execution_count": null,
   "metadata": {
    "ExecuteTime": {
     "end_time": "2020-05-29T09:59:03.915801Z",
     "start_time": "2020-05-29T09:59:01.220961Z"
    }
   },
   "outputs": [],
   "source": [
    "meteo = pd.read_csv('C:\\\\Solutions\\\\donnees\\\\meteo\\\\meteoCompleteFinal.csv')\n",
    "meteoAM = meteo[[\"Année\",\"Mois\",\"Température\",\"Humidité\",\"Pression\"]].groupby([\"Année\",\"Mois\"])\n",
    "meteoAM.agg([\"mean\"])\n",
    "meteo = meteoAM.apply(lambda x: x) \n",
    "meteo.head()"
   ]
  },
  {
   "cell_type": "code",
   "execution_count": null,
   "metadata": {
    "ExecuteTime": {
     "end_time": "2020-05-29T09:59:13.333978Z",
     "start_time": "2020-05-29T09:59:13.022713Z"
    }
   },
   "outputs": [],
   "source": [
    "tabC = meteo[meteo.Année < 2020].pivot_table(index='Mois',columns='Année',\n",
    "                                                  values=[\"Température\",\"Humidité\",\"Pression\"])\n",
    "tabC"
   ]
  },
  {
   "cell_type": "code",
   "execution_count": null,
   "metadata": {
    "ExecuteTime": {
     "end_time": "2020-05-29T10:21:45.083499Z",
     "start_time": "2020-05-29T10:21:37.740369Z"
    }
   },
   "outputs": [],
   "source": [
    "plt.figure(figsize=(120,120))\n",
    "sns.set(font_scale=4)\n",
    "sns.heatmap(tabC,cmap='coolwarm',linewidths=2,linecolor='white', annot=False);\n",
    "sns.set(font_scale=2)"
   ]
  },
  {
   "cell_type": "code",
   "execution_count": null,
   "metadata": {
    "ExecuteTime": {
     "end_time": "2020-05-29T09:59:43.061477Z",
     "start_time": "2020-05-29T09:59:41.917217Z"
    }
   },
   "outputs": [],
   "source": [
    "sns.clustermap(tabC,cmap='coolwarm',figsize=(18,18));"
   ]
  },
  {
   "cell_type": "code",
   "execution_count": null,
   "metadata": {
    "ExecuteTime": {
     "end_time": "2020-05-29T09:59:56.537451Z",
     "start_time": "2020-05-29T09:59:55.364881Z"
    }
   },
   "outputs": [],
   "source": [
    "sns.clustermap(tabC,cmap='coolwarm', standard_scale= 1,figsize=(18,18));"
   ]
  },
  {
   "cell_type": "code",
   "execution_count": null,
   "metadata": {
    "ExecuteTime": {
     "end_time": "2020-05-29T10:00:31.072106Z",
     "start_time": "2020-05-29T10:00:30.757855Z"
    }
   },
   "outputs": [],
   "source": [
    "tabC = meteo[meteo.Année < 2020].pivot_table(index='Mois',columns='Année',\n",
    "                                                  values=\"Température\")\n",
    "tabC"
   ]
  },
  {
   "cell_type": "code",
   "execution_count": null,
   "metadata": {
    "ExecuteTime": {
     "end_time": "2020-05-29T10:00:32.551350Z",
     "start_time": "2020-05-29T10:00:31.749296Z"
    }
   },
   "outputs": [],
   "source": [
    "plt.figure(figsize=(18,18))\n",
    "sns.heatmap(tabC,cmap='coolwarm',linewidths=2,linecolor='white', annot=True);"
   ]
  },
  {
   "cell_type": "code",
   "execution_count": null,
   "metadata": {
    "ExecuteTime": {
     "end_time": "2020-05-29T10:00:33.272376Z",
     "start_time": "2020-05-29T10:00:32.845385Z"
    }
   },
   "outputs": [],
   "source": [
    "sns.clustermap(tabC,cmap='coolwarm',figsize=(18,18));"
   ]
  },
  {
   "cell_type": "code",
   "execution_count": null,
   "metadata": {},
   "outputs": [],
   "source": []
  },
  {
   "cell_type": "code",
   "execution_count": null,
   "metadata": {
    "ExecuteTime": {
     "end_time": "2020-05-29T10:00:41.961463Z",
     "start_time": "2020-05-29T10:00:39.045371Z"
    }
   },
   "outputs": [],
   "source": [
    "meteo = pd.read_csv('C:\\\\Solutions\\\\donnees\\\\meteo\\\\meteoCompleteFinal.csv')\n",
    "meteoAM = meteo[[\"Ville\",\"Mois\",\"Température\"]].groupby([\"Ville\",\"Mois\"])\n",
    "meteoAM.agg([\"mean\"])\n",
    "meteo = meteoAM.apply(lambda x: x) \n",
    "meteo.head()"
   ]
  },
  {
   "cell_type": "code",
   "execution_count": null,
   "metadata": {
    "ExecuteTime": {
     "end_time": "2020-05-29T10:00:44.348702Z",
     "start_time": "2020-05-29T10:00:44.094383Z"
    }
   },
   "outputs": [],
   "source": [
    "tabC = meteo.pivot_table(index='Ville',columns='Mois',values=\"Température\")\n",
    "tabC"
   ]
  },
  {
   "cell_type": "code",
   "execution_count": null,
   "metadata": {
    "ExecuteTime": {
     "end_time": "2020-05-29T10:00:56.231071Z",
     "start_time": "2020-05-29T10:00:54.868876Z"
    }
   },
   "outputs": [],
   "source": [
    "plt.figure(figsize=(18,18))\n",
    "sns.heatmap(tabC,cmap='coolwarm',linewidths=2,linecolor='white', annot=True);"
   ]
  },
  {
   "cell_type": "code",
   "execution_count": null,
   "metadata": {
    "ExecuteTime": {
     "end_time": "2020-05-29T10:01:02.743482Z",
     "start_time": "2020-05-29T10:01:02.181231Z"
    }
   },
   "outputs": [],
   "source": [
    "sns.clustermap(tabC,cmap='coolwarm',figsize=(18,18));"
   ]
  },
  {
   "cell_type": "code",
   "execution_count": null,
   "metadata": {
    "ExecuteTime": {
     "end_time": "2020-05-29T10:01:20.321371Z",
     "start_time": "2020-05-29T10:01:12.269096Z"
    }
   },
   "outputs": [],
   "source": [
    "meteo = pd.read_csv('C:\\\\Solutions\\\\donnees\\\\meteo\\\\meteoCompleteFinal.csv')\n",
    "meteo['Jour365'] = meteo.Mois.apply(lambda x : '%0*d' % (2, x))+meteo.Jour.apply(lambda x : '%0*d' % (2, x))\n",
    "meteoAM = meteo[[\"Ville\",\"Jour365\",\"Température\"]].groupby([\"Ville\",\"Jour365\"])\n",
    "meteoAM.agg([\"mean\"])\n",
    "meteo = meteoAM.apply(lambda x: x) \n",
    "meteo.head()"
   ]
  },
  {
   "cell_type": "code",
   "execution_count": null,
   "metadata": {
    "ExecuteTime": {
     "end_time": "2020-05-29T10:01:20.917326Z",
     "start_time": "2020-05-29T10:01:20.322369Z"
    },
    "scrolled": true
   },
   "outputs": [],
   "source": [
    "tabC = meteo[meteo.Jour365 != '0229'].pivot_table(index='Ville',columns='Jour365',values=\"Température\")\n",
    "tabC"
   ]
  },
  {
   "cell_type": "code",
   "execution_count": null,
   "metadata": {
    "ExecuteTime": {
     "end_time": "2020-05-29T10:03:57.979257Z",
     "start_time": "2020-05-29T10:03:55.989325Z"
    }
   },
   "outputs": [],
   "source": [
    "plt.figure(figsize=(52,52))\n",
    "sns.set(font_scale=4)\n",
    "sns.heatmap(tabC,cmap='coolwarm',linewidths=2,linecolor='white');\n",
    "sns.set(font_scale=2)"
   ]
  },
  {
   "cell_type": "code",
   "execution_count": null,
   "metadata": {
    "ExecuteTime": {
     "end_time": "2020-05-29T10:04:20.164204Z",
     "start_time": "2020-05-29T10:04:19.238550Z"
    }
   },
   "outputs": [],
   "source": [
    "sns.clustermap(tabC,cmap='coolwarm',figsize=(18,18));"
   ]
  },
  {
   "cell_type": "code",
   "execution_count": null,
   "metadata": {},
   "outputs": [],
   "source": []
  },
  {
   "cell_type": "code",
   "execution_count": null,
   "metadata": {},
   "outputs": [],
   "source": []
  },
  {
   "cell_type": "code",
   "execution_count": null,
   "metadata": {},
   "outputs": [],
   "source": []
  },
  {
   "cell_type": "code",
   "execution_count": null,
   "metadata": {},
   "outputs": [],
   "source": []
  },
  {
   "cell_type": "code",
   "execution_count": null,
   "metadata": {},
   "outputs": [],
   "source": []
  },
  {
   "cell_type": "code",
   "execution_count": null,
   "metadata": {},
   "outputs": [],
   "source": []
  },
  {
   "cell_type": "code",
   "execution_count": null,
   "metadata": {},
   "outputs": [],
   "source": []
  }
 ],
 "metadata": {
  "kernelspec": {
   "display_name": "Python 3 (ipykernel)",
   "language": "python",
   "name": "python3"
  },
  "language_info": {
   "codemirror_mode": {
    "name": "ipython",
    "version": 3
   },
   "file_extension": ".py",
   "mimetype": "text/x-python",
   "name": "python",
   "nbconvert_exporter": "python",
   "pygments_lexer": "ipython3",
   "version": "3.10.15"
  }
 },
 "nbformat": 4,
 "nbformat_minor": 4
}
